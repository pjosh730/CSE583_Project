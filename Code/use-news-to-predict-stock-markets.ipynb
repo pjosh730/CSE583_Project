{
 "cells": [
  {
   "cell_type": "markdown",
   "metadata": {
    "_cell_guid": "63de4277-c079-1630-2e47-44d138f3e7bf"
   },
   "source": [
    "# Library Import #"
   ]
  },
  {
   "cell_type": "code",
   "execution_count": 1,
   "metadata": {
    "_cell_guid": "193a91a4-7404-a01b-2c78-6b7385979b9c"
   },
   "outputs": [
    {
     "name": "stderr",
     "output_type": "stream",
     "text": [
      "Using TensorFlow backend.\n"
     ]
    }
   ],
   "source": [
    "import re\n",
    "import nltk\n",
    "import pandas as pd\n",
    "import numpy as np\n",
    "\n",
    "from bs4 import BeautifulSoup\n",
    "from nltk.corpus import stopwords\n",
    "from nltk.stem.porter import PorterStemmer\n",
    "english_stemmer=nltk.stem.SnowballStemmer('english')\n",
    "\n",
    "from sklearn.feature_selection.univariate_selection import SelectKBest, chi2, f_classif\n",
    "from sklearn.model_selection import train_test_split\n",
    "from sklearn.feature_extraction.text import TfidfVectorizer,CountVectorizer\n",
    "from sklearn.linear_model import SGDClassifier, SGDRegressor,LogisticRegression\n",
    "from sklearn.ensemble import RandomForestClassifier, GradientBoostingClassifier\n",
    "from sklearn.naive_bayes import MultinomialNB\n",
    "from sklearn.metrics import accuracy_score, classification_report, confusion_matrix\n",
    "import random\n",
    "import itertools\n",
    "\n",
    "import sys\n",
    "import os\n",
    "import argparse\n",
    "from sklearn.pipeline import Pipeline\n",
    "from scipy.sparse import csr_matrix\n",
    "from sklearn.feature_extraction.text import CountVectorizer\n",
    "import six\n",
    "from abc import ABCMeta\n",
    "from scipy import sparse\n",
    "from scipy.sparse import issparse\n",
    "from sklearn.base import BaseEstimator, ClassifierMixin\n",
    "from sklearn.utils import check_X_y, check_array\n",
    "from sklearn.utils.extmath import safe_sparse_dot\n",
    "from sklearn.preprocessing import normalize, binarize, LabelBinarizer\n",
    "from sklearn.svm import LinearSVC\n",
    "\n",
    "# from keras.preprocessing import sequence\n",
    "# from keras.utils import np_utils\n",
    "# from keras.models import Sequential\n",
    "# from keras.layers.core import Dense, Dropout, Activation, Lambda\n",
    "# from keras.layers.embeddings import Embedding\n",
    "# from keras.layers.recurrent import LSTM, SimpleRNN, GRU\n",
    "# from keras.preprocessing.text import Tokenizer\n",
    "# from collections import defaultdict\n",
    "# from keras.layers.convolutional import Convolution1D\n",
    "# from keras import backend as K\n",
    "# import seaborn as sns\n",
    "# import matplotlib.pyplot as plt\n",
    "# from matplotlib import cm\n",
    "# %matplotlib inline\n",
    "# plt.style.use('ggplot')"
   ]
  },
  {
   "cell_type": "markdown",
   "metadata": {
    "_cell_guid": "f98318d0-c122-24a1-a9a6-62ab93985428"
   },
   "source": [
    "# Data Import"
   ]
  },
  {
   "cell_type": "markdown",
   "metadata": {
    "_cell_guid": "c39b53ac-2080-bfb4-124d-5e775af2cec2"
   },
   "source": [
    "we'll use all of the dates up to the end of 2014 as our training data and everything after as testing data."
   ]
  },
  {
   "cell_type": "code",
   "execution_count": 3,
   "metadata": {
    "_cell_guid": "28217d5a-e580-fa92-fdc2-45a4842812e0"
   },
   "outputs": [],
   "source": [
    "data = pd.read_csv('../Data/Combined_News_DJIA.csv')\n",
    "train = data[data['Date'] < '2015-01-01']\n",
    "test = data[data['Date'] > '2014-12-31']"
   ]
  },
  {
   "cell_type": "markdown",
   "metadata": {
    "_cell_guid": "3d372c26-3c4c-7890-3089-c8ddb17ca81a"
   },
   "source": [
    "# Data Preprocess"
   ]
  },
  {
   "cell_type": "markdown",
   "metadata": {
    "_cell_guid": "b43212e0-9344-a216-b86b-37cfbfb37752"
   },
   "source": [
    "First, we transform the string of news into the  number of words as input."
   ]
  },
  {
   "cell_type": "markdown",
   "metadata": {},
   "source": [
    "## Text cleaning (this code didn't do much, I will add something this week)"
   ]
  },
  {
   "cell_type": "markdown",
   "metadata": {},
   "source": [
    "### Training set"
   ]
  },
  {
   "cell_type": "code",
   "execution_count": 22,
   "metadata": {
    "_cell_guid": "a87f0d3d-80f3-af90-9368-dedde8c1154f"
   },
   "outputs": [],
   "source": [
    "trainheadlines = []\n",
    "for row in range(0,len(train.index)):\n",
    "    trainheadlines.append(' '.join(str(x) for x in train.iloc[row,2:27]))"
   ]
  },
  {
   "cell_type": "markdown",
   "metadata": {},
   "source": [
    "### Test set"
   ]
  },
  {
   "cell_type": "code",
   "execution_count": null,
   "metadata": {},
   "outputs": [],
   "source": [
    "testheadlines = []\n",
    "for row in range(0,len(test.index)):\n",
    "    testheadlines.append(' '.join(str(x) for x in test.iloc[row,2:27]))"
   ]
  },
  {
   "cell_type": "markdown",
   "metadata": {},
   "source": [
    "## Word Embedding (basic count, there are example for TFIDF in the following code)"
   ]
  },
  {
   "cell_type": "markdown",
   "metadata": {},
   "source": [
    "### Training Set"
   ]
  },
  {
   "cell_type": "code",
   "execution_count": 17,
   "metadata": {
    "_cell_guid": "66913298-12f3-da89-030a-90ba38b1e11b"
   },
   "outputs": [
    {
     "name": "stdout",
     "output_type": "stream",
     "text": [
      "(1611, 31675)\n"
     ]
    }
   ],
   "source": [
    "basicvectorizer = CountVectorizer()\n",
    "basictrain = basicvectorizer.fit_transform(trainheadlines)\n",
    "print(basictrain.shape)"
   ]
  },
  {
   "cell_type": "markdown",
   "metadata": {},
   "source": [
    "### Test set"
   ]
  },
  {
   "cell_type": "code",
   "execution_count": 23,
   "metadata": {
    "scrolled": true
   },
   "outputs": [
    {
     "name": "stdout",
     "output_type": "stream",
     "text": [
      "(378, 31675)\n"
     ]
    }
   ],
   "source": [
    "basictest = basicvectorizer.transform(testheadlines)\n",
    "print(basictest.shape)"
   ]
  },
  {
   "cell_type": "markdown",
   "metadata": {},
   "source": [
    "### Visualize the bag of word dictionary"
   ]
  },
  {
   "cell_type": "code",
   "execution_count": 20,
   "metadata": {
    "scrolled": true
   },
   "outputs": [
    {
     "name": "stdout",
     "output_type": "stream",
     "text": [
      "['00', '000', '000bpd', '000ft', '000new', '000s', '000sq', '001', '004', '00am', '00pm', '011', '018', '02', '020', '0220', '0221', '03', '035', '037', '04', '045', '04am', '05', '053', '06', '060', '07', '07baku1268', '08', '080', '083', '08baku671', '09', '0900', '0930', '0935', '094', '0m', '10', '100', '1000', '10000', '1000s', '100bn', '100ds', '100ft', '100k', '100km', '100m', '100mil', '100s', '100th', '100x', '101', '101st', '102', '103', '1038', '104', '1044', '104m', '105', '105k', '106', '107', '107d', '108', '109', '10bars', '10bn', '10cm', '10gw', '10in', '10k', '10kg', '10km', '10m', '10million', '10s', '10th', '10x', '10yr', '10yrs', '11', '110', '110bn', '111', '112', '114', '1142', '115', '116', '116bn', '117', '119', '119th', '11b', '11bn', '11m', '11th', '11year', '11yo', '12', '120', '1200', '120bn', '121', '122', '122f', '123', '124', '125', '1255', '125mph', '126', '127', '1270', '128', '129', '12b', '12bn', '12k', '12m', '12th', '13', '130', '1300gmt', '130mph', '131', '133', '134', '135', '1351', '135b', '137', '138', '138bn', '139', '13bn', '13km', '13th', '13yo', '14', '140', '1400', '1400s', '140bn', '140m', '141', '142', '1420', '143', '144', '145', '146', '1466a', '147', '148', '1485', '148th', '149', '14a', '14c', '14m', '14th', '14x', '14yo', '15', '150', '1500', '150ft', '150m', '150th', '1516', '153', '153bn', '154', '155', '156', '1562', '157', '158', '15940', '15bn', '15gbp', '15m', '15mar2011', '15s', '15th', '16', '160', '1600', '16000', '161', '162', '1623', '163', '163m', '164', '1642', '165', '166', '1677', '168', '16m', '16s', '16th', '17', '170', '1700', '17000', '1707', '172', '172b', '175', '176', '177', '1773', '1776', '178', '1780', '1782', '1788', '179', '17bn', '17m', '17th', '18', '180', '1800kg', '180m', '180mb', '181', '182', '183', '1830', '184', '1840s', '1842', '185', '1850', '186', '186mph', '1873', '188', '1880', '1885', '1889', '189', '1896', '1897', '18981944', '18bn', '18th', '18yr', '19', '190', '1900', '191', '1911', '1915', '1917', '1919', '192', '1920', '1920s', '1922', '1924', '1927', '1929', '193', '1930s', '1931', '1932', '1933', '1934', '1935', '1936', '1937', '1938', '1939', '193rd', '194', '1940', '1940s', '1941', '1942', '1943', '1944', '1945', '1946', '1947', '1948', '1949', '195', '1950', '1950s', '1950saccording', '1952', '1953', '1954', '1955', '1956', '1957', '1959', '195m', '196', '1960', '1960s', '1961', '1962', '1963', '1964', '1965', '1966', '1967', '1968', '1969', '197', '1970', '1970s', '1971', '1972', '1973', '1974', '1975', '1976', '1977', '1978', '1979', '198', '1980', '1980s', '1981', '1982', '1983', '1984', '1985', '1986', '1987', '1988', '1989', '199', '1990', '1990s', '1991', '1992', '1993', '1994', '1995', '1996', '1997', '1998', '1999', '19km', '19th', '19yo', '1ab', '1am', '1b', '1billion', '1bn', '1h', '1km', '1m', '1million', '1pm', '1st', '1tn', '20', '200', '2000', '2001', '2002', '2003', '2004', '2005', '2006', '2007', '2008', '2009', '2009s', '200k', '200kg', '200km', '200lb', '200m', '200mln', '201', '2010', '2011', '2012', '2013', '2014', '2015', '2016', '2017', '2018', '2019', '202', '2020', '2021', '2022', '2023', '2024', '2025', '2028', '203', '2030', '2033', '2035', '2040', '2041', '2042', '2045', '2049', '204k', '204th', '2050', '2060', '2066', '207', '209th', '20bn', '20c', '20k', '20km', '20m', '20s', '20th', '21', '210', '2100', '211', '2112', '212', '213', '214', '215', '217', '219', '21bn', '21m', '21st', '21tn', '22', '220', '220m', '221', '2214', '224', '225', '225m', '226', '227', '228', '2288', '22ft', '22k', '22nd', '23', '230', '2304gmt', '230m', '231', '233', '233m', '234', '235', '236', '236mph', '237', '238', '239', '23m', '23rd', '24', '240', '2400', '242', '243', '244', '245', '246', '247', '248', '249', '24bn', '24c', '24h', '24hrs', '24th', '24yo', '25', '250', '2500', '250m', '251', '252', '252m', '253', '254', '255th', '256', '257', '258', '259', '25ft', '25m', '25million', '25s', '25th', '25x', '26', '260', '261', '263', '264', '267', '268', '26cm', '26m', '26th', '26yo', '27', '270', '2700', '271', '272', '273', '274', '275', '276', '277', '279', '27b', '27m', '28', '280', '2800', '280bn', '281', '283', '284', '285m', '286', '286m', '287', '288', '289', '28am', '28th', '29', '290', '290m', '293km', '294', '296', '298', '29m', '29p', '2a', '2b', '2bil', '2bn', '2c', '2d', '2g', '2m', '2million', '2nd', '2x', '30', '300', '3000', '3000th', '300b', '300bn', '300ft', '300k', '300km', '300kph', '300m', '300million', '300s', '301', '307', '308', '309', '30am', '30b', '30c', '30m', '30million', '30mph', '30pm', '30s', '30th', '31', '310', '3100', '310mph', '312kph', '313', '315', '31k', '31s', '31st', '32', '320', '3200', '321', '322', '324', '326', '327mln', '32bn', '32k', '32m', '33', '330', '3300', '330m', '332nd', '336', '339', '33k', '33m', '33rd', '34', '340', '3407', '340th', '341', '344', '345', '347', '348', '349', '35', '350', '3500', '350kg', '351m', '354', '355', '358', '35bn', '35km', '35m', '35s', '35th', '36', '360', '361', '365', '367', '368', '36bn', '36m', '37', '370', '370m', '371', '372', '375', '376m', '377k', '378', '37b', '37bn', '38', '380', '380m', '382', '382k', '385', '386', '388', '38m', '39', '390', '393', '394', '395', '3am', '3billion', '3bn', '3d', '3f', '3g', '3k', '3m', '3military', '3rd', '3rds', '3s', '3tn', '3x', '3x7', '40', '400', '4000', '4000mph', '400k', '400km', '400m', '400ppm', '401ks', '402', '404', '40am', '40bn', '40c', '40ft', '40kg', '40km', '40m', '40s', '40th', '41', '410', '412', '416', '417', '418', '419', '41yo', '42', '420', '421', '422bn', '423', '425', '4268', '429m', '42bn', '42m', '42million', '43', '430', '4300', '432', '433', '434', '436', '437', '437k', '439', '43b', '43million', '44', '440', '440pts', '443', '444', '445', '446', '447', '447m', '448', '44kg', '45', '450', '4500', '451', '454', '455', '458', '45x', '46', '460', '462', '467', '46th', '47', '470', '472m', '475', '476', '479', '47b', '47s', '48', '480', '4850', '486', '488', '49', '492', '496', '4bn', '4chan', '4channer', '4gb', '4gw', '4km', '4m', '4real', '4th', '4x', '4x100m', '4x4', '50', '500', '5000', '50000', '500000', '500b', '500bn', '500k', '500l', '500m', '500million', '500th', '505', '506', '507', '507lbs', '508', '50b', '50bn', '50c', '50ft', '50m', '50s', '50th', '51', '510k', '511', '517', '51bil', '51bn', '51c', '51pm', '51st', '52', '525', '529', '52bn', '52s', '53', '530k', '538', '54', '540', '5400', '544', '545', '548m', '55', '550', '550m', '557', '56', '560', '5600', '563', '564', '565', '566', '569', '57', '570', '570kg', '574', '575', '577', '57m', '58', '580', '581', '585', '586', '588m', '59', '590', '5am', '5b', '5billion', '5bn', '5c', '5eur', '5gb', '5kg', '5km', '5kms', '5m', '5million', '5mln', '5th', '5x', '5yr', '60', '600', '6000', '60000', '600k', '600m', '600x', '60bn', '60ft', '60km', '60m', '60million', '60mph', '60s', '60th', '61', '612', '617bn', '618', '62', '620', '626', '62k', '63', '630', '635', '637', '638', '639', '63cm', '63m', '64', '640', '644', '645', '646m', '64s', '65', '650', '655', '65bn', '65m', '65th', '66', '660', '665', '666', '667', '668', '669', '66th', '67', '670k', '67361', '679m', '67p', '67yo', '68', '680', '681', '683', '684', '684kg', '687', '689', '68th', '69', '690', '696', '69th', '6am', '6b', '6bn', '6c', '6m', '6music', '6pm', '6th', '6x2ft', '70', '700', '7000', '70000', '700k', '700m', '703', '706', '709', '70ad', '70m', '70mph', '70s', '70th', '71', '711', '712', '715', '72', '720', '721', '724', '725', '729', '72bn', '73', '730', '731', '733', '737', '74', '743', '745', '747', '75', '750', '7500', '753bc', '755', '757', '759', '75b', '75bn', '75m', '76', '760', '762', '763', '767th', '76m', '77', '770', '772', '777', '77th', '78', '780', '785', '787', '789', '79', '793', '796', '799', '7b', '7bn', '7m', '7million', '7pc', '7pm', '7th', '7x', '7yrs', '80', '800', '8000', '800km', '800m', '800s', '800th', '802', '806', '80beats', '80bn', '80k', '80m', '80s', '80th', '81', '813', '82', '825', '827', '829', '82k', '82m', '83', '831', '832', '835', '837', '838', '83tn', '84', '840m', '85', '850', '850m', '855', '857', '85mill', '85th', '85tn', '86', '862', '87', '870', '871', '872', '88', '882m', '885', '886k', '887', '888', '88bn', '88th', '89', '890', '8900', '893', '894', '895', '89m', '8bn', '8f', '8gb', '8k', '8kg', '8m', '8th', '8yo', '90', '900', '900k', '900m', '902', '908', '90k', '90kg', '90m', '90mph', '90s', '90th', '90x', '91', '910', '91000', '911', '91m', '92', '920', '922', '93', '930', '93k', '94', '940', '94th', '95', '950', '9500', '95th', '96', '960', '97', '979', '98', '980', '99', '999', '99x', '9b', '9bn', '9f', '9m', '9th', '9yo', '__', 'a30', 'a320', 'a330', 'a340s', 'a350s', 'a380', 'a380s', 'a447', 'aa1', 'aaa', 'aaaw', 'aabo', 'aadmi', 'aafia', 'aali', 'aam', 'aamer', 'aamir', 'aap', 'aaron', 'aarp', 'ababa', 'aback', 'abadan', 'aban', 'abandon', 'abandoned', 'abandoning', 'abandonment', 'abandons', 'abattoir', 'abay', 'abaya', 'abba', 'abbas', 'abbasi', 'abbe', 'abbey', 'abbot', 'abbott', 'abbottabad', 'abbotts', 'abbreviation', 'abby', 'abc', 'abdel', 'abdelbaset', 'abdelrahman', 'abdicate', 'abdicated', 'abdicates', 'abdicating', 'abdication', 'abdishakur', 'abdolfattah', 'abdolmalek', 'abdomen', 'abdomens', 'abdominal', 'abduct', 'abducted', 'abducting', 'abduction', 'abductions', 'abductor', 'abductors', 'abdul', 'abdulateef', 'abdulaziz', 'abdullah', 'abdullahi', 'abe', 'abed', 'abercrombie', 'aberdeen', 'aberdeenshire', 'abergil', 'aberrant', 'aberration', 'abhinav', 'abhor', 'abhorrent', 'abia', 'abide', 'abidine', 'abiding', 'ability', 'abim', 'abir', 'abject', 'abkhazia', 'abkhazian', 'ablaze', 'able', 'abnormal', 'abnormalities', 'aboard', 'abolish', 'abolished', 'abolishes', 'abolishing', 'abolition', 'aboriginal', 'aboriginals', 'aborigine', 'aborigines', 'abort', 'aborted', 'aborting', 'abortion', 'abortionists', 'abortions', 'abosolve', 'aboul', 'abound', 'abounds', 'about', 'above', 'abraham', 'abrahamian', 'abramoff', 'abramovay', 'abrams', 'abroad', 'abrogating', 'abrupt', 'abruptly', 'abscond', 'absence', 'absent', 'absenteeism', 'absentees', 'absentia', 'absinthe', 'absolute', 'absolutely', 'absorb', 'absorbed', 'absorbing', 'abstain', 'abstained', 'abstaining', 'abstains', 'abstentions', 'abstinence', 'absurd', 'absurdity', 'abu', 'abubakar', 'abuja', 'abundance', 'abundant', 'abuse', 'abused', 'abuser', 'abusers', 'abuses', 'abusing', 'abusive', 'abydos', 'abysmal', 'abyss', 'ac', 'academic', 'academically', 'academics', 'academies', 'academy', 'acadian', 'acapulco', 'acapulcoin', 'accelerate', 'accelerated', 'accelerates', 'accelerating', 'accelerator', 'accent', 'accept', 'acceptable', 'acceptably', 'acceptance', 'accepted', 'accepting', 'accepts', 'access', 'accessed', 'accesses', 'accessible', 'accessing', 'accession', 'accessories', 'accessory', 'accident', 'accidental', 'accidentally', 'accidently', 'accidents', 'acclaim', 'acclaimed', 'acclamation', 'accolade', 'accommodating', 'accommodation', 'accommodations', 'accompanied', 'accompanying', 'accomplice', 'accomplices', 'accomplish', 'accomplished', 'accomplishments', 'accord', 'accordance', 'according', 'accordingly', 'accords', 'accosted', 'account', 'accountability', 'accountable', 'accountant', 'accounted', 'accounting', 'accounts', 'accreditation', 'accredited', 'accumulated', 'accumulating', 'accumulation', 'accuracy', 'accurate', 'accurately', 'accusation', 'accusations', 'accuse', 'accused', 'accuser', 'accusers', 'accuses', 'accusing', 'accustomed', 'aceh', 'acess', 'achebe', 'acheives', 'aches', 'achieve', 'achieved', 'achievement', 'achieves', 'achieving', 'achilles', 'achtung', 'acid', 'acidic', 'acidifying', 'acidity', 'ackbar', 'ackermann', 'acknowledge', 'acknowledged', 'acknowledgement', 'acknowledges', 'acknowledging', 'acknowledgment', 'ackroyd', 'aclu', 'acoount', 'acoustic', 'acquire', 'acquired', 'acquires', 'acquiring', 'acquisition', 'acquits', 'acquittal', 'acquitted', 'acre', 'acres', 'acrid', 'acrimony', 'acrobatic', 'acronym', 'acropolis', 'across', 'acs', 'act', 'acta', 'acted', 'acting', 'action', 'actionaid', 'actions', 'activate', 'activates', 'activation', 'active', 'actively', 'activision', 'activism', 'activist', 'activists', 'activities', 'activity', 'actor', 'actors', 'actress', 'actresses', 'acts', 'actu', 'actual', 'actually', 'acupuncture', 'acupuncturist', 'acute', 'ad', 'adam', 'adamantly', 'adamawa', 'adams', 'adaptation', 'adaption', 'adbusters', 'add', 'addax', 'added', 'addict', 'addicted', 'addiction', 'addictions', 'addictive', 'addicts', 'adding', 'addis', 'addition', 'additional', 'additive', 'additives', 'address', 'addressed', 'addressee', 'addresses', 'addressing', 'adds', 'adebolajo', 'adebowale', 'adecco', 'adela', 'adelaide', 'aden', 'adenhart', 'adequate', 'adequately', 'adha', 'adhd', 'adhere', 'adhering', 'adidas', 'adieu', 'adivasi', 'adivasis', 'adjacent', 'adjectives', 'adjust', 'adjusted', 'adjustment', 'adl', 'adler', 'adly', 'adm', 'admin', 'administer', 'administered', 'administration', 'administrations', 'administrative', 'administrator', 'admins', 'adminstration', 'admirable', 'admiral', 'admirals', 'admiration', 'admire', 'admired', 'admires', 'admissible', 'admission', 'admissions', 'admit', 'admits', 'admitted', 'admittedly', 'admitting', 'admonished', 'admonishing', 'adobe', 'adolescents', 'adolf', 'adongo', 'adopt', 'adopted', 'adopting', 'adoption', 'adoptions', 'adoptive', 'adopts', 'adorable', 'adorning', 'adrar', 'adrenaline', 'adressess', 'adreyevka', 'adrian', 'adrift', 'ads', 'adult', 'adulterer', 'adulterers', 'adulterous', 'adultery', 'adulthood', 'adults', 'advance', 'advanced', 'advances', 'advancing', 'advantage', 'advantageous', 'advantages', 'adventure', 'adventures', 'adversaries', 'adversary', 'adversely', 'adversity', 'advert', 'advertised', 'advertisement', 'advertisements', 'advertiser', 'advertisers', 'advertising', 'adverts', 'advice', 'advise', 'advised', 'adviser', 'advisers', 'advises', 'advising', 'advisor', 'advisors', 'advisory', 'advocacy', 'advocate', 'advocated', 'advocates', 'advocating', 'ady', 'aeg', 'aegis', 'aer', 'aerial', 'aerobics', 'aeroflot', 'aeromexico', 'aeroplane', 'aerospace', 'aesha', 'af', 'af447', 'afact', 'afandi', 'afandis', 'afar', 'affair', 'affairs', 'affect', 'affected', 'affecting', 'affection', 'affects', 'affiair', 'affidavit', 'affiliate', 'affiliated', 'affiliation', 'affirm', 'affirmative', 'affirms', 'affixed', 'afflict', 'afflicts', 'affluence', 'affluent', 'afford', 'affordability', 'affordable', 'afforded', 'afforestation', 'affront', 'afgan', 'afgani', 'afghan', 'afghani', 'afghanis', 'afghaniscam', 'afghanistan', 'afghanistani', 'afghanistans', 'afghans', 'afican', 'afield', 'afifi', 'afiuni', 'afk', 'afloat', 'afoe', 'afoot', 'afoul', 'afp', 'afraid', 'africa', 'africaincluding', 'african', 'africanglobe', 'africans', 'africas', 'africom', 'afridi', 'afriforum', 'afriqiyah', 'aftenposten', 'after', 'afterlife', 'aftermath', 'afternoon', 'aftershock', 'aftershocks', 'afterthought', 'afterwards', 'aftonbladet', 'aftr', 'ag', 'again', 'against', 'agarwal', 'agassi', 'agatha', 'age', 'aged', 'ageing', 'agencies', 'agency', 'agenda', 'agent', 'agents', 'ages', 'aggravate', 'aggravated', 'aggravating', 'aggregate', 'aggregator', 'aggressed', 'aggression', 'aggressive', 'aggressively', 'aggressor', 'aggressors', 'agha', 'aghast', 'aging', 'agitated', 'agitating', 'aglow', 'agm', 'agnostics', 'ago', 'agonising', 'agonizing', 'agony', 'agora', 'agra', 'agree', 'agreeable', 'agreed', 'agreeing', 'agreement', 'agreements', 'agrees', 'agribusiness', 'agricole', 'agricultural', 'agriculture', 'agrobusiness', 'agrochemical', 'aground', 'ags', 'aguila', 'aguilar', 'agw', 'ah', 'ahab', 'ahava', 'ahdaf', 'ahead', 'ahern', 'ahh', 'ahimsha', 'ahmad', 'ahmadenijad', 'ahmadi', 'ahmadinejad', 'ahmadinejads', 'ahmadinijad', 'ahmed', 'ahmedabad', 'ahmedinejad', 'ahmet', 'aho', 'ahold', 'ahoy', 'ahram', 'ahrc', 'ahtisaari', 'ai', 'aid', 'aide', 'aided', 'aides', 'aiding', 'aidpod', 'aids', 'aifares', 'aig', 'aiko', 'ailes', 'ailing', 'aim', 'aimed', 'aiming', 'aims', 'ain', 'ainsworth', 'aint', 'aipac', 'air', 'airasia', 'airbag', 'airbags', 'airbase', 'airbases', 'airborne', 'airbourne', 'airbrushed', 'airbrushing', 'airbus', 'aircraft', 'aircrafts', 'airdrop', 'airdrops', 'aired', 'aires', 'airfares', 'airfield', 'airforce', 'airfrance', 'airing', 'airlift', 'airline', 'airliner', 'airliners', 'airlines', 'airmageddon', 'airmail', 'airman', 'airmen', 'airplane', 'airplanes', 'airpocalypse', 'airport', 'airports', 'airs', 'airships', 'airshow', 'airspace', 'airstrike', 'airstrikes', 'airstrip', 'airtel', 'airtime', 'airwars', 'airwaves', 'airways', 'airworthiness', 'aish', 'aisle', 'aite', 'aitzaz', 'aje', 'ajijic', 'ajmal', 'ak', 'ak47', 'ak47s', 'aka', 'akaiwa', 'akbar', 'ake', 'akhbar', 'akhmed', 'akhtakhanov', 'aki', 'akin', 'akko', 'akp', 'aksenov', 'akwesasne', 'al', 'alaa', 'alaak', 'alabama', 'alam', 'alan', 'aland', 'alarm', 'alarmed', 'alarming', 'alarms', 'alaska', 'alaskan', 'alawite', 'alawites', 'alayban', 'alaykum', 'albania', 'albanian', 'albanians', 'albany', 'albatross', 'albert', 'alberta', 'alberto', 'albino', 'albinos', 'albright', 'album', 'alcohol', 'alcoholic', 'alcoholics', 'alcoholism', 'alde', 'aldrich', 'aldrin', 'alejandra', 'alekhina', 'aleksander', 'aleksei', 'aleppo', 'aleppos', 'alert', 'alerted', 'alerting', 'alertnet', 'alerts', 'aleutian', 'alex', 'alexander', 'alexandria', 'alexandros', 'alexei', 'alexey', 'alexis', 'alexy', 'alfred', 'algae', 'alger', 'algere', 'algeria', 'algerian', 'algerians', 'algerie', 'algiers', 'ali', 'alias', 'alibaba', 'alibi', 'alice', 'alicia', 'alien', 'alienates', 'alienating', 'alienation', 'aliens', 'alight', 'align', 'aligned', 'alignment', 'alike', 'alireza', 'alison', 'alitalia', 'alive', 'aliyah', 'aliyev', 'aljazeera', 'alken', 'all', 'allagui', 'allah', 'allahu', 'allan', 'allawi', 'allegation', 'allegations', 'allege', 'alleged', 'allegedly', 'alleges', 'allegiance', 'allegiances', 'alleging', 'allen', 'allende', 'allergens', 'allergic', 'allergy', 'alleviate', 'alley', 'alleys', 'allhu', 'alliance', 'alliances', 'allied', 'allies', 'alliot', 'allison', 'allocated', 'allow', 'allowance', 'allowances', 'allowed', 'allowing', 'allows', 'alloy', 'alloys', 'alluvial', 'ally', 'allying', 'almighty', 'almond', 'almost', 'alon', 'alone', 'along', 'alongside', 'aloud', 'alpha', 'alphabet', 'alpine', 'alps', 'alqsa', 'already', 'alright', 'also', 'altar', 'alter', 'alteration', 'altercation', 'altered', 'altering', 'alternate', 'alternative', 'alternatives', 'alternativesin', 'alters', 'although', 'altitude', 'alto', 'altogether', 'aluetian', 'aluminium', 'aluminum', 'alvaro', 'alvear', 'alwaleed', 'always', 'aly', 'alyokhina', 'alzheimer', 'alzheimers', 'am', 'aman', 'amanda', 'amandement', 'amanpour', 'amanullah', 'amanzi', 'amass', 'amassed', 'amassing', 'amateur', 'amaze', 'amazed', 'amazigh', 'amazing', 'amazingly', 'amazon', 'amazonia', 'amazonian', 'amazons', 'ambani', 'ambar', 'ambassador', 'ambassadors', 'ambiguity', 'ambiguous', 'ambition', 'ambitions', 'ambitious', 'ambulance', 'ambulanceman', 'ambulances', 'amburn', 'ambush', 'ambushed', 'ambushes', 'amd', 'amelia', 'amend', 'amended', 'amending', 'amendment', 'amendments', 'amenemhat', 'amer', 'amerasians', 'america', 'american', 'americanized', 'americans', 'americas', 'amerium', 'ames', 'amia', 'amicably', 'amid', 'amidst', 'amin', 'amir', 'amira', 'amiri', 'amitai', 'amman', 'ammiano', 'ammo', 'ammonia', 'ammonium', 'ammunition', 'amnesia', 'amnesty', 'amniyr', 'amoc', 'amoeba', 'amok', 'amon', 'amona', 'among', 'amongst', 'amoral', 'amos', 'amount', 'amounted', 'amounting', 'amounts', 'amp', 'ampatuan', 'amphetamine', 'amphibians', 'amphibious', 'amphipolis', 'amplifies', 'amplify', 'amplitude', 'amps', 'amputate', 'amputated', 'amputating', 'amputation', 'amputations', 'amputee', 'amputees', 'amr', 'amref', 'amri', 'amritsar', 'amsa', 'amsterdam', 'amulet', 'amulets', 'amundsen', 'amur', 'amused', 'amusement', 'amvrosiyivka', 'amway', 'amy', 'an', 'anadan', 'anaesthetic', 'anakra', 'anal', 'anally', 'analogue', 'analyse', 'analysed', 'analysis', 'analysisafter', 'analyst', 'analysts', 'analyzed', 'analyzes', 'analyzing', 'anand', 'anarchic', 'anarchist', 'anarchists', 'anarchy', 'anastasia', 'anatoly', 'anatomical', 'anatomist', 'anc', 'ancestor', 'ancestors', 'ancestral', 'ancestry', 'anchor', 'anchored', 'anchoring', 'anchorman', 'anchors', 'anchorwoman', 'ancient', 'ancyl', 'and', 'andaman', 'andamanese', 'andamans', 'andean', 'anders', 'andersen', 'anderson', 'andes', 'andhra', 'andrea', 'andreas', 'andrei', 'andres', 'andrew', 'andrianov', 'android', 'andthen', 'andy', 'anene', 'anesthetic', 'anfal', 'angel', 'angela', 'angeles', 'angels', 'anger', 'angered', 'angering', 'angers', 'anghiari', 'angkang', 'angle', 'angles', 'anglian', 'anglicans', 'anglicised', 'anglo', 'angola', 'angolan', 'angrier', 'angrily', 'angry', 'angryand', 'angst', 'anguish', 'angus', 'anil', 'animal', 'animals', 'animated', 'animation', 'animosity', 'anis', 'anjem', 'ankara', 'ankle', 'ankles', 'ann', 'anna', 'annals', 'annan', 'annapolis', 'anne', 'annette', 'annex', 'annexation', 'annexed', 'annexes', 'annexing', 'annie', 'annihilation', 'anniversary', 'announce', 'announced', 'announcement', 'announces', 'announcing', 'annoy', 'annoyance', 'annoyed', 'annoying', 'annual', 'annually', 'annulled', 'annuls', 'anointed', 'anon', 'anons', 'anonymity', 'anonymize', 'anonymizes', 'anonymous', 'anonymously', 'anorexia', 'another', 'anp', 'anping', 'anpr', 'ansar', 'answer', 'answered', 'answering', 'answers', 'ant', 'antagonist', 'antagonize', 'antagonizing', 'antakya', 'antarctic', 'antarctica', 'antares', 'antartic', 'antartica', 'ante', 'anteaters', 'antelope', 'anthem', 'anthony', 'anthrax', 'anthropocene', 'anthropologist', 'anthropologists', 'anti', 'antiaircraft', 'antibiotic', 'antibiotics', 'antibodies', 'antibody', 'antichrist', 'anticipate', 'anticipated', 'anticipating', 'anticipation', 'anticorruption', 'anticounterfeiting', 'antics', 'antidote', 'antidotes', 'antidrug', 'antifascist', 'antifreeze', 'antigay', 'antigovernment', 'antigravity', 'antigua', 'antiguan', 'antilles', 'antimatter', 'antinuclear', 'antipiracy', 'antiquated', 'antiques', 'antiquities', 'antiquity', 'antiretroviral', 'antisec', 'antisemitic', 'antisemitism', 'antiterror', 'antithetical', 'antitrust', 'antivax', 'antivirals', 'antivirus', 'antiwar', 'antoinette', 'antonio', 'antonis', 'ants', 'anullment', 'anulment', 'anus', 'anuses', 'anushka', 'anwar', 'anxieties', 'anxiety', 'anxious', 'anxiously', 'any', 'anybody', 'anymore', 'anyone', 'anything', 'anythingpeople', 'anytime', 'anyway', 'anyways', 'anywhere', 'anzac', 'ao', 'aosdna', 'ap', 'apace', 'apache', 'apart', 'apartheid', 'apartment', 'apartments', 'apathetic', 'apathy', 'apcs', 'apec', 'apes', 'apf', 'aphids', 'aphrodisiac', 'api', 'apnewsalert', 'apocalypse', 'apocalyptic', 'apolitical', 'apollo', 'apologies', 'apologise', 'apologised', 'apologises', 'apologising', 'apologize', 'apologized', 'apologizes', 'apology', 'apophis', 'aporkalypse', 'apostasy', 'apostate', 'apostates', 'app', 'appall', 'appalled', 'appalling', 'appallingly', 'appalls', 'apparantley', 'apparatus', 'apparel', 'apparent', 'apparently', 'appeal', 'appealed', 'appealing', 'appeals', 'appear', 'appearance', 'appearances', 'appeared', 'appearing', 'appears', 'appease', 'appeasement', 'appeasers', 'appeasing', 'appelbaum', 'appetite', 'applaud', 'applauded', 'applauds', 'applause', 'apple', 'applebaum', 'applemay', 'appliances', 'applicable', 'applicant', 'applicants', 'application', 'applications', 'applied', 'applies', 'apply', 'applying', 'appoint', 'appointed', 'appointee', 'appointees', 'appointing', 'appointment', 'appointments', 'appoints', 'appraisal', 'appreciate', 'appreciated', 'appreciates', 'apprehend', 'apprehended', 'apprehends', 'apprentice', 'apprently', 'approach', 'approached', 'approaches', 'approaching', 'appropriate', 'approval', 'approvals', 'approve', 'approved', 'approves', 'approving', 'approx', 'approximately', 'apps', 'appuleius', 'april', 'aps', 'apt', 'aqaba', 'aqsa', 'aqua', 'aquaflow', 'aquarium', 'aquatic', 'aqueduct', 'aquifer', 'aquifers', 'aquila', 'ar', 'ara', 'arab', 'arabia', 'arabian', 'arabias', 'arabic', 'arabiya', 'arable', 'arabs', 'arafat', 'aral', 'aramin', 'arash', 'arbeit', 'arbenz', 'arbiters', 'arbitrary', 'arbitration', 'arc', 'arch', 'archaeological', 'archaeologist', 'archaeologists', 'archaeology', 'archaic', 'archbishop', 'archdiocese', 'archduke', 'archeological', 'archeologist', 'archeologists', 'archery', 'arches', 'archicebus', 'archipelago', 'architect', 'architects', 'architectural', 'architecture', 'archival', 'archive', 'archived', 'archives', 'archpriest', 'arctic', 'arden', 'ardoyne', 'are', 'area', 'areas', 'aren', 'arena', 'arent', 'areva', 'argeement', 'argentina', 'argentinas', 'argentine', 'argentines', 'argentinian', 'argentinians', 'argleton', 'argo', 'arguably', 'argue', 'argued', 'arguements', 'argues', 'argueta', 'arguing', 'argument', 'arguments', 'ariane', 'arianto', 'arid', 'arieh', 'ariel', 'arif', 'arifi', 'arises', 'arish', 'aristocracy', 'aristocratic', 'arizona', 'arjen', 'ark', 'arkady', 'arkansas', 'arlacchi', 'arm', 'armada', 'armadillo', 'armageddon', 'armaments', 'armand', 'armband', 'armbands', 'armed', 'armendariz', 'armenia', 'armenian', 'armenians', 'armies', 'armin', 'arming', 'armistice', 'armless', 'armor', 'armored', 'armour', 'armoured', 'armpit', 'arms', 'armstrong', 'army', 'armys', 'arnault', 'arnestad', 'arnold', 'aromatic', 'around', 'arouses', 'arr', 'arraignment', 'arrange', 'arranged', 'arrangement', 'arrangements', 'arranging', 'array', 'arrays', 'arrears', 'arrest', 'arrestable', 'arrested', 'arresting', 'arrests', 'arrigoni', 'arrival', 'arrive', 'arrived', 'arrives', 'arriving', 'arrogance', 'arrogant', 'arrow', 'arrows', 'arse', 'arsen', 'arsenal', 'arsenals', 'arsenic', 'arseniy', 'arson', 'arsonists', 'art', 'artefacts', 'artesunate', 'artez', 'arthur', 'artic', 'article', 'articles', 'articulate', 'artifact', 'artifacts', 'artificial', 'artificially', 'artillery', 'artist', 'artists', 'artois', 'arts', 'arturo', 'artwork', 'arunachal', 'arundhati', 'arvs', 'aryan', 'as', 'asa', 'asaad', 'asahi', 'asako', 'asap', 'asbestos', 'asbos', 'ascending', 'ascension', 'ascent', 'ascribed', 'asda', 'asghari', 'ash', 'asha', 'ashame', 'ashamed', 'ashcan', 'ashdod', 'ashdown', 'ashes', 'ashish', 'ashkelon', 'ashkenazi', 'ashok', 'ashore', 'ashout', 'ashraf', 'ashtiani', 'ashton', 'ashtrays', 'asia', 'asian', 'asiana', 'asians', 'asias', 'asiatic', 'aside', 'asif', 'asio', 'asios', 'ask', 'asked', 'askenazi', 'asking', 'askreddit', 'asks', 'aslam', 'asleep', 'asmaa', 'asmal', 'aspect', 'aspects', 'aspen', 'asperger', 'asphyxiated', 'aspiration', 'aspirational', 'aspirations', 'aspirin', 'aspiring', 'ass', 'assad', 'assads', 'assail', 'assailant', 'assailants', 'assailed', 'assails', 'assal', 'assalaamu', 'assam', 'assange', 'assanges', 'assasination', 'assasinations', 'assassin', 'assassinate', 'assassinated', 'assassinating', 'assassination', 'assassinations', 'assassins', 'assault', 'assaulted', 'assaulting', 'assaults', 'assef', 'assemble', 'assembled', 'assembling', 'assembly', 'assent', 'assert', 'asserted', 'asserting', 'assertion', 'assertions', 'assertive', 'assertiveness', 'asserts', 'asses', 'assess', 'assessed', 'assessing', 'assessment', 'assessments', 'asset', 'assets', 'asshole', 'assholes', 'assign', 'assigned', 'assigning', 'assignment', 'assignments', 'assimilate', 'assist', 'assistance', 'assistant', 'assisted', 'assisting', 'assiya', 'assoc', 'associate', 'associated', 'associates', 'association', 'associations', 'assocpress', 'assuage', 'assualt', 'assume', 'assumed', 'assumes', 'assuming', 'assumption', 'assurance', 'assurances', 'assure', 'assured', 'assures', 'assylum', 'assyrian', 'asteroid', 'asthma', 'asthmatics', 'aston', 'astonished', 'astonishing', 'astounded', 'astounding', 'astrazeneca', 'astronaut', 'astronauts', 'astronomers', 'astronomical', 'astronomy', 'astrophysicist', 'astroturf', 'astute', 'aswer', 'asylum', 'asylums', 'asymmetrical', 'asyraf', 'at', 'ate', 'atf', 'athabasca', 'atheism', 'atheist', 'atheistic', 'atheists', 'athenian', 'athenians', 'athens', 'athlete', 'athletes', 'athletic', 'athletics', 'atkinson', 'atlantic', 'atlantis', 'atlas', 'atm', 'atmosphere', 'atmospheres', 'atms', 'atolls', 'atom', 'atomic', 'atoms', 'atone', 'atop', 'atrocities', 'atrocity', 'att', 'attach', 'attached', 'attaching', 'attack', 'attacked', 'attacker', 'attackers', 'attacking', 'attacks', 'attemp', 'attempt', 'attempted', 'attempting', 'attempts', 'attenborough', 'attend', 'attendance', 'attendant', 'attendants', 'attended', 'attendees', 'attending', 'attends', 'attention', 'attentive', 'attests', 'attire', 'attitude', 'attitudes', 'attn', 'attorney', 'attorneys', 'attract', 'attracted', 'attracting', 'attraction', 'attractions', 'attractive', 'attracts', 'attributable', 'attribute', 'attributed', 'attributes', 'attributing', 'atwan', 'au', 'auckland', 'auction', 'auctioned', 'auctions', 'audacious', 'audacity', 'audi', 'audience', 'audiences', 'audiencia', 'audio', 'audit', 'auditable', 'audited', 'audition', 'auditions', 'auditor', 'auditors', 'auf', 'aug', 'augury', 'august', 'augusto', 'aung', 'aunt', 'aura', 'auroracoin', 'aus', 'auschwitz', 'aushwitz', 'aussie', 'aussies', 'aust', 'austalian', 'austerity', 'austin', 'austrailian', 'australia', 'australia21', 'australian', 'australians', 'australias', 'australopithecus', 'austria', 'austrian', 'austrians', 'austurvollur', 'authentic', 'authentication', 'authenticity', 'author', 'authored', 'authorisation', 'authorise', 'authorised', 'authorises', 'authorising', 'authoritarian', 'authoritarianism', 'authoritative', 'authorities', 'authority', 'authoritys', 'authorization', 'authorize', 'authorized', 'authorizes', 'authorizing', 'authors', 'autism', 'autistic', 'auto', 'autobahn', 'autobiographical', 'autobiography', 'autocracy', 'autocratic', 'autocrats', 'autodefensas', 'autographs', 'automaidan', 'automaker', 'automakers', 'automated', 'automatic', 'automatically', 'automobile', 'automobiles', 'automotive', 'autonomous', 'autonomy', 'autopsies', 'autopsy', 'autoworker', 'autumn', 'aux', 'auxiliary', 'av', 'avaaz', 'available', 'avails', 'avalanche', 'avalanches', 'avant', 'avatar', 'avenge', 'avenged', 'avenger', 'avenges', 'avenging', 'avenue', 'avenues', 'average', 'averaged', 'averages', 'averaging', 'averse', 'avert', 'averted', 'averting', 'averts', 'avey', 'avi', 'avian', 'aviation', 'aviator', 'avigdor', 'aviv', 'avnery', 'avocados', 'avoid', 'avoidance', 'avoided', 'avoiders', 'avoiding', 'avoids', 'aw', 'await', 'awaited', 'awaiting', 'awaits', 'awaken', 'awakened', 'awakening', 'awakenings', 'awakens', 'award', 'awarded', 'awarding', 'awards', 'aware', 'awareness', 'awash', 'away', 'awe', 'awesome', 'awful', 'awhile', 'awkward', 'awl', 'awlaki', 'awn', 'awning', 'awoke', 'awol', 'awols', 'awry', 'aws', 'aww', 'awww', 'awwww', 'ax', 'axe', 'axed', 'axel', 'axes', 'axing', 'axis', 'ayaan', 'ayacucho', 'ayahuasca', 'ayalon', 'ayatollah', 'ayers', 'aylesham', 'ayman', 'aynak', 'ayoreo', 'ayrault', 'ayyad', 'az', 'azaria', 'azerbaijan', 'azerbaijani', 'azerbaijanis', 'azeri', 'azher', 'aziz', 'aziziyah', 'azmi', 'azores', 'azra', 'aztec', 'azure', 'b52', 'ba', 'baab', 'baad', 'baader', 'baath', 'bab', 'baba', 'babies', 'baboon', 'baboons', 'babri', 'baby', 'babylon', 'babylonian', 'bacha', 'bachelet', 'bachelor', 'bachelorhood', 'bachelors', 'bacile', 'back', 'backbone', 'backbreaking', 'backcountry', 'backdated', 'backdoor', 'backdoored', 'backdooring', 'backdoors', 'backdrop', 'backed', 'backers', 'backfire', 'backfired', 'backfires', 'background', 'backgrounder', 'backgrounds', 'backhoe', 'backhoes', 'backing', 'backlands', 'backlash', 'backlund', 'backpack', 'backroom', 'backs', 'backstage', 'backstop', 'backtrack', 'backtracked', 'backtracking', 'backtracks', 'backup', 'backups', 'backward', 'backwards', 'backyard', 'bacon', 'bacteria', 'bad', 'badar', 'badass', 'baddie', 'baden', 'badge', 'badie', 'badly', 'badri', 'bae', 'baekryong', 'baer', 'baffled', 'bafflement', 'baffles', 'baffling', 'bafin', 'bag', 'bagdad', 'baggage', 'baghdad', 'baghdadi', 'bagpuss', 'bagram', 'bags', 'bah', 'baha', 'bahai', 'bahamas', 'baharestan', 'bahari', 'baharin', 'baharstan', 'baher', 'bahir', 'bahn', 'bahrain', 'bahraini', 'bahrainis', 'bahrains', 'bahranini', 'baida', 'baidu', 'baiji', 'baikal', 'bail', 'bailed', 'bailiff', 'bailiffs', 'bailing', 'bailout', 'bailouts', 'bails', 'baird', 'bait', 'baited', 'baitullah', 'baja', 'bak', 'bakassi', 'baker', 'bakery', 'bakhit', 'bakiyev', 'bakr', 'baku', 'bala', 'balaclavas', 'balance', 'balanced', 'balances', 'balcony', 'bald', 'baldies', 'baldness', 'balearic', 'bales', 'balfour', 'bali', 'balibo', 'balkan', 'balkanleaks', 'balkans', 'balked', 'ball', 'ballard', 'ballerina', 'ballerinas', 'ballet', 'ballistic', 'balloon', 'ballooned', 'balloons', 'ballot', 'ballots', 'ballroom', 'balls', 'ballyhoo', 'balochistan', 'balotelli', 'baltasar', 'baltic', 'baltics', 'bamako', 'bambang', 'bambi', 'bamu', 'ban', 'banamex', 'banana', 'bananas', 'band', 'banda', 'bandaged', 'bandannas', 'bandar', 'banditry', 'bandits', 'bandmates', 'bands', 'bandsmen', 'bandwidth', 'bang', 'bangalore', 'banging', 'bangkok', 'bangladesh', 'bangladeshi', 'bangladeshis', 'bangladeshwith', 'bangledeshi', 'bangs', 'bangui', 'bani', 'banished', 'bank', 'banked', 'banker', 'bankers', 'bankia', 'banking', 'banknotes', 'bankroll', 'bankrolled', 'bankrolling', 'bankrolls', 'bankrupt', 'bankruptcies', 'bankruptcy', 'bankrupted', 'banks', 'banksters', 'banksy', 'banned', 'banner', 'banners', 'banning', 'banquets', 'bans', 'bantu', 'baptism', 'baptisms', 'baptist', 'baptize', 'bar', 'bara', 'barack', 'baradei', 'baragwanath', 'barak', 'barakzai', 'barb', 'barbaric', 'barbarism', 'barbarity', 'barbecue', 'barbed', 'barber', 'barbie', 'barbra', 'barbs', 'barcelona', 'barclay', 'barclays', 'barcodes', 'bardarbunga', 'bardot', 'bare', 'bared', 'barefoot', 'barely', 'barenboim', 'barents', 'bargain', 'bargaining', 'bargains', 'bargam', 'barge', 'barges', 'bari', 'bark', 'barkat', 'barley', 'barmaid', 'barmy', 'barn', 'barnaby', 'barnet', 'barney', 'baroin', 'baron', 'barons', 'barracaded', 'barracks', 'barragan', 'barrage', 'barrages', 'barred', 'barrel', 'barreling', 'barrelled', 'barrelling', 'barrels', 'barren', 'barrett', 'barricade', 'barricaded', 'barricades', 'barrier', 'barriers', 'barring', 'barrio', 'barrios', 'barrister', 'barry', 'bars', 'barter', 'bartered', 'bartering', 'barton', 'baruch', 'base', 'baseball', 'baseballer', 'based', 'basel', 'baseless', 'basement', 'basements', 'bases', 'baset', 'basf', 'bashar', 'bashed', 'bashes', 'bashi', 'bashing', 'bashir', 'bashirgrowth', 'bashiruddin', 'basic', 'basically', 'basics', 'basij', 'basiji', 'basile', 'basilica', 'basin', 'basing', 'basis', 'basket', 'basketball', 'basque', 'basra', 'bass', 'bassam', 'basseley', 'bassem', 'basset', 'bastard', 'bastards', 'bastion', 'bat', 'batallion', 'batch', 'bated', 'bath', 'bathhouse', 'bathing', 'bathrobes', 'bathroom', 'bathrooms', 'bathtub', 'batlic', 'batman', 'baton', 'batons', 'bator', 'bats', 'batshit', 'battalion', 'battalions', 'batteling', 'batter', 'battered', 'batteries', 'battering', 'batters', 'battery', 'batting', 'battle', 'battled', 'battlefield', 'battleground', 'battlegrounds', 'battles', 'battleships', 'battling', 'baumgartner', 'bauxite', 'bavaria', 'bavarian', 'bawaria', 'bawdy', 'baxter', 'bay', 'bayer', 'bayeux', 'bayoneting', 'bayreuth', 'bays', 'baz', 'bazar', 'bazi', 'bazookas', 'bb', 'bba', 'bbc', 'bbcnews', 'bbcs', 'bbq', 'bbqs', 'bc', 'bce', 'bcg', 'bds', 'be', 'bea', 'beach', 'beachball', 'beachcombers', 'beached', 'beaches', 'beachgoers', 'beachside', 'beacon', 'beacuse', 'beading', 'beagle', 'beam', 'beamed', 'beaming', 'beams', 'bean', 'beans', 'bear', 'beard', 'bearded', 'beards', 'bearers', 'bearing', 'bears', 'beast', 'beasts', 'beat', 'beate', 'beaten', 'beating', 'beatings', 'beatingschinese', 'beatles', 'beatrice', 'beatrix', 'beats', 'beatty', 'beautiful', 'beautugly', 'beauty', 'beaver', 'beavers', 'beblawi', 'became', 'because', 'beck', 'become', 'becomes', 'becoming', 'becouse', 'becquerels', 'bed', 'bedbug', 'bedeviled', 'bedfellows', 'bedfordshire', 'bedlam', 'bedouin', 'bedouins', 'bedroom', 'bedrooms', 'beds', 'bedsheets', 'bedtime', 'bee', 'beef', 'beefing', 'beehive', 'beehives', 'beeing', 'beekeepers', 'been', 'beer', 'beers', 'beersheba', 'bees', 'beeswax', 'beethoven', 'beetle', 'beets', 'before', 'beforehand', 'befuddled', 'beg', 'began', 'beggar', 'beggars', 'begging', 'begin', 'beginning', 'begins', 'begley', 'begs', 'begum', 'begun', 'begunchina', 'behalf', 'behave', 'behaves', 'behaving', 'behavior', 'behavioral', 'behaviors', 'behaviour', 'behavioural', 'behead', 'beheaded', 'beheading', 'beheadings', 'beheads', 'behemoth', 'beheshti', 'behest', 'behind', 'behold', 'beholden', 'behring', 'beia', 'beijing', 'beijings', 'being', 'beings', 'beirut', 'beitar', 'beitz', 'bejesus', 'bejing', 'bekaa', 'belaid', 'belarus', 'belarusian', 'belarussian', 'beleaguered', 'beleives', 'belfast', 'belfasttelegraph', 'belfat', 'belgacom', 'belgian', 'belgians', 'belgium', 'belgorod', 'belgrade', 'belhaj', 'belief', 'beliefs', 'believe', 'believed', 'believers', 'believes', 'believewe', 'believing', 'belittling', 'belize', 'bell', 'bellicose', 'bellied', 'belligerence', 'belligerent', 'bellowing', 'bells', 'belly', 'belo', 'belong', 'belonged', 'belonging', 'belongings', 'belongs', 'beloved', 'below', 'belt', 'beltran', 'belts', 'beluga', 'bemoan', 'bemoans', 'bemused', 'ben', 'benazir', 'bench', 'benched', 'benchmark', 'benchmarks', 'bend', 'bender', 'bending', 'bends', 'beneath', 'benedict', 'beneficial', 'beneficiary', 'benefit', 'benefited', 'benefiting', 'benefits', 'benevolent', 'bengal', 'bengals', 'benghazi', 'benign', 'benin', 'benito', 'benjamin', 'benn', 'benny', 'benson', 'bent', 'bentiu', 'bentleys', 'benzene', 'benzodiazepine', 'beowulf', 'beppe', 'bequeath', 'ber', 'berate', 'berated', 'berbers', 'bereaved', 'bereft', 'beret', 'berezovsky', 'berger', 'bergoglio', 'berkeley', 'berkin', 'berkshire', 'berlin', 'berliners', 'berlinlet', 'berlins', 'berlusconi', 'berlusconis', 'bermuda', 'bern', 'bernanke', 'bernard', 'berners', 'bernie', 'berry', 'bersani', 'bert', 'berthold', 'beseeching', 'beset', 'beside', 'besides', 'besiege', 'besieged', 'besieging', 'beslan', 'bespoke', 'best', 'bestial', 'bestiality', 'bestowed', 'bestseller', 'bet', 'beta', 'beth', 'bethal', 'bethesda', 'bethlehem', 'bethune', 'betrayal', 'betrayed', 'betrayer', 'betraying', 'betrays', 'bets', 'bettencourt', 'better', 'betting', 'bettyconfidential', 'between', 'beutler', 'bev', 'beverage', 'beverly', 'beware', 'bewildered', 'bewitch', 'bewitched', 'beyar', 'beyond', 'bharatiya', 'bhatti', 'bhl', 'bhopal', 'bhp', 'bhuria', 'bhutan', 'bhutto', 'bhuwan', 'bi', 'biafra', 'bian', 'biao', 'bias', 'biased', 'bibi', 'bible', 'bibles', 'biblical', 'bicakcic', 'bicentennial', 'biceps', 'bickering', 'bicycle', 'bicycles', 'bicyclists', 'bid', 'bidder', 'bidding', 'bide', 'biden', 'bidens', 'bids', 'bieber', 'big', 'bigger', 'biggest', 'bigot', 'bigoted', 'bigotry', 'bigots', 'bihar', 'bike', 'biker', 'bikers', 'bikes', 'bikini', 'bikinis', 'bikram', 'bil', 'bilal', 'bilateral', 'bild', 'bilderberg', 'bile', 'bilin', 'bilingual', 'bilked', 'bill', 'billboard', 'billboards', 'billed', 'billing', 'billion', 'billionaire', 'billionaires', 'billioniare', 'billionin', 'billions', 'billionth', 'billiton', 'billlionaire', 'billowing', 'bills', 'billy', 'bin', 'binational', 'binayak', 'binders', 'bindi', 'binding', 'bindra', 'bing', 'binge', 'bingu', 'binks', 'binney', 'binoculars', 'bins', 'binxing', 'binyam', 'binyamin', 'bio', 'biochemical', 'biochemistry', 'biodegradable', 'biodiesel', 'biodiverse', 'biodiversity', 'biofuel', 'biofuels', 'biography', 'biological', 'biologist', 'biologists', 'biomass', 'biomedical', 'biometric', 'biometrically', 'bionic', 'biopic', 'bioshock', 'biosphere', 'biotech', 'bioterror', 'bioweapon', 'bioweaponeers', 'bipartisan', 'bipolar', 'bir', 'bird', 'birds', 'birgitta', 'birmingham', 'birth', 'birth1st', 'birthday', 'birthplace', 'birthrate', 'birthrates', 'birthright', 'birthrights', 'births', 'biryukov', 'bis', 'biscuits', 'bisect', 'bisexual', 'bishara', 'bishkek', 'bishop', 'bishops', 'bison', 'bisons', 'bissau', 'bistros', 'bit', 'bitange', 'bitch', 'bitching', 'bitcoin', 'bitcoiners', 'bitcoins', 'bite', 'bites', 'biting', 'bits', 'bitte', 'bitten', 'bitter', 'bitterest', 'bitterness', 'bittorrent', 'bitumen', 'bizarre', 'bjork', 'bjp', 'bjrk', 'bkc', 'blab', 'blabbering', 'black', 'blackballed', 'blackberries', 'blackberry', 'blacked', 'blackface', 'blacklist', 'blacklisted', 'blacklisting', 'blacklists', 'blackmail', 'blackmailed', 'blackmails', 'blackout', 'blackoutjo', 'blackouts', 'blackpool', 'blackrock', 'blacks', 'blackshades', 'blackwater', 'blackwaters', 'blade', 'bladerunner', 'blades', 'blaer', 'blagojevich', 'blair', 'blairs', 'blake', 'blame', 'blamed', 'blames', 'blaming', 'blanc', 'blanche', 'blank', 'blanket', 'blankets', 'blankfein', 'blaring', 'blasphemed', 'blasphemer', 'blasphemers', 'blaspheming', 'blasphemous', 'blasphemy', 'blast', 'blasted', 'blasting', 'blasts', 'blatant', 'blatantly', 'blather', 'blatter', 'blaze', 'blazed', 'blazes', 'blazing', 'bleach', 'bleak', 'bleaker', 'blears', 'bled', 'bleed', 'bleeding', 'bleeds', 'bleeken', 'blend', 'blessed', 'blesses', 'blessing', 'blessings', 'bletchley', 'blew', 'bligh', 'blight', 'blighted', 'blights', 'blimey', 'blimp', 'blind', 'blinded', 'blindfold', 'blindfolded', 'blinding', 'blindness', 'blinds', 'bling', 'blink', 'blinking', 'blinks', 'blissflul', 'blissful', 'blistering', 'blisteringly', 'blisters', 'blitzkrieg', 'blix', 'blizzard', 'blizzards', 'bln', 'bloated', 'bloc', 'block', 'blockade', 'blockaded', 'blockades', 'blockading', 'blocked', 'blocker', 'blocking', 'blocks', 'blockupy', 'blog', 'blogger', 'bloggers', 'blogging', 'blogpost', 'blogs', 'blogspot', 'blond', 'blonde', 'blood', 'bloodbath', 'blooded', 'bloodhound', 'bloodied', 'bloodiest', 'bloodless', 'bloodletting', 'bloodshed', 'bloodstream', 'bloody', 'bloom', 'bloomberg', 'bloomed', 'blooms', 'bloopers', 'blossomed', 'blotter', 'blotting', 'blow', 'blowback', 'blower', 'blowers', 'blowing', 'blowjob', 'blown', 'blowout', 'blowpipes', 'blows', 'bludgeoned', 'bludgeoning', 'blue', 'bluebra', 'bluefin', 'blueprint', 'blueprints', 'blues', 'bluff', 'blunder', 'blundered', 'blunders', 'blunt', 'blunted', 'blur', 'blurred', 'blurrier', 'blurring', 'blurs', 'blusters', 'bmi', 'bmw', 'bmws', 'bn', 'bna', 'bnef', 'bnp', 'bo', 'boa', 'boar', 'board', 'boarded', 'boardgame', 'boarding', 'boardroom', 'boardrooms', 'boards', 'boars', 'boast', 'boasted', 'boasting', 'boasts', 'boat', 'boatloads', 'boatmen', 'boats', 'bob', 'bobby', 'boboc', 'bobsled', 'bobsleigh', 'bode', 'bodies', 'bodily', 'body', 'bodybuilding', 'bodyguard', 'bodyguards', 'bodyremains', 'bodyscanners', 'boe', 'boehner', 'boeing', 'boer', 'boers', 'bofa', 'bog', 'boggar', 'boggles', 'boggling', 'bogot', 'bogota', 'bogus', 'bohai', 'bohemia', 'bohemian', 'boil', 'boiled', 'boiler', 'boiling', 'boing', 'bojnord', 'bokml', 'boko', 'bold', 'boldly', 'boliva', 'bolivia', 'bolivian', 'boliviana', 'bolivians', 'bolivias', 'bollocks', 'bollywood', 'bologna', 'bolsheviks', 'bolshoi', 'bolster', 'bolstering', 'bolsters', 'bolt', 'bomb', 'bombard', 'bombarded', 'bombarding', 'bombardment', 'bombay', 'bombed', 'bomber', 'bombers', 'bombing', 'bombings', 'bombs', 'bombscare', 'bombshell', 'bombshells', 'bon', 'bonanza', 'bond', 'bondage', 'bonded', 'bondi', 'bonds', 'bondswap', 'bone', 'bones', 'bonfire', 'bonfires', 'bonga', 'bongo', 'bonkers', 'bonn', 'bono', 'bonus', 'bonuses', 'boo', 'boobquake', 'boobs', 'booby', 'booed', 'book', 'booked', 'bookend', 'bookie', 'bookings', 'bookmakers', 'books', 'bookstore', 'bookstores', 'boom', 'booming', 'booms', 'boomtowns', 'boon', 'boondoggle', 'boorish', 'boost', 'boosting', 'boosts', 'boot', 'booted', 'booth', 'bootleg', 'boots', 'booyakasha', 'booysen', 'booze', 'boozy', 'bopha', 'borat', 'bordeaux', 'bordello', 'border', 'bordering', 'borderline', 'borders', 'bordes', 'bore', 'bored', 'boredom', 'borg', 'borghezio', 'borghi', 'boring', 'boris', 'born', 'borne', 'borneo', 'borno', 'borrow', 'borrowed', 'borrowers', 'borrowing', 'borrowings', 'bors', 'borscht', 'borsellino', 'bosch', 'bosco', 'bosnia', 'bosnian', 'bosnians', 'boson', 'bosphorus', 'boss', 'bosses', 'boston', 'bosworth', 'botanical', 'botanist', 'botched', 'botches', 'both', 'bother', 'bothered', 'bothering', 'botnet', 'botswana', 'bottle', 'bottled', 'bottlenose', 'bottler', 'bottles', 'bottling', 'bottom', 'bottomless', 'bouba', 'bought', 'boulder', 'boulders', 'boulevards', 'bounced', 'bouncer', 'bouncers', 'bounces', 'bouncing', 'bound', 'boundaries', 'boundary', 'bounded', 'boundless', 'bounds', 'bounties', 'bounty', 'bouquets', 'bourgeoisie', 'bourne', 'bournville', 'bout', 'bouy', 'bouza', 'bov', 'bovine', 'bow', 'bowden', 'bowed', 'bowels', 'bowie', 'bowing', 'bowl', 'bowling', 'bowls', 'bows', 'box', 'boxall', 'boxed', 'boxer', 'boxes', 'boy', 'boycot', 'boycott', 'boycotted', 'boycotting', 'boycotts', 'boyfriend', 'boyfriends', 'boyhood', 'boyle', 'boys', 'bozo', 'bp', 'bpd', 'bpi', 'bps', 'br', 'bra', 'brabham', 'brace', 'braced', 'bracelet', 'bracelets', 'braces', 'bracing', 'bracket', 'brad', 'bradass87', 'bradbury', 'bradford', 'bradistan', 'bradley', 'bradly', 'brady', 'brag', 'bragg', 'bragged', 'bragging', 'brahma', 'brahmaputra', 'brahmi', 'brain', 'brains', 'brainwash', 'brainwashed', 'brainwashing', 'braised', 'brake', 'brakes', 'branch', 'branched', 'branches', 'brand', 'branded', 'branding', 'brandis', 'brandish', 'brandishes', 'brandishing', 'brands', 'brandy', 'branson', 'bransons', 'brarbunga', 'bras', 'brasil', 'brasileiro', 'brasilia', 'braslia', 'brass', 'brasse', 'bratislava', 'bratwurst', 'brave', 'braved', 'braveheart', 'braver', 'bravery', 'bravest', 'bravo', 'brawl', 'brazda', 'brazen', 'brazil', 'brazilian', 'brazilians', 'brazillian', 'brazils', 'breach', 'breached', 'breaches', 'breaching', 'bread', 'breadbaskets', 'breadth', 'breadwinners', 'break', 'breakaway', 'breakbulk', 'breakdown', 'breaker', 'breakers', 'breakfast', 'breaking', 'breakneck', 'breakouts', 'breaks', 'breakthrough', 'breakup', 'breast', 'breasted', 'breastfed', 'breastfeed', 'breastfeeding', 'breasts', 'breath', 'breathalyzer', 'breathe', 'breathed', 'breather', 'breathes', 'breathing', 'breathnig', 'breathtaking', 'brebesh', 'brecher', 'bred', 'breed', 'breeding', 'breeds', 'breen', 'breeze', 'brega', 'brein', 'breivik', 'breiviks', 'bremen', 'brendan', 'brenden', 'brent', 'brethren', 'brevik', 'brew', 'brewer', 'breweries', 'brewers', 'brewing', 'brewpub', 'brews', 'brian', 'bribe', 'bribed', 'bribery', 'bribes', 'bribing', 'bric', 'brick', 'bricked', 'bricks', 'brickworks', 'brics', 'bride', 'brides', 'bridge', 'bridges', 'brief', 'briefed', 'briefing', 'briefings', 'briefly', 'briefs', 'brien', 'brierley', 'brig', 'brigade', 'brigades', 'brigadier', 'brigate', 'brigette', 'bright', 'brighter', 'brighton', 'brigitte', 'brilliance', 'brilliant', 'brilliantly', 'brimming', 'brinda', 'bring', 'bringing', 'brings', 'brinjal', 'brink', 'brisbane', 'brisk', 'brisker', 'bristol', 'brit', 'britain', 'britains', 'britannia', 'britannica', 'brith', 'britian', 'british', 'britney', 'brito', 'briton', 'britons', 'brits', 'britt', 'brittan', 'brittany', 'broad', 'broadband', 'broadcast', 'broadcasted', 'broadcaster', 'broadcasters', 'broadcasting', 'broadcasts', 'broaden', 'broadened', 'broadening', 'broadens', 'broader', 'broadly', 'broadsheets', 'broadside', 'brochures', 'broke', 'broken', 'brokep', 'broker', 'brokered', 'brokering', 'brokers', 'bronze', 'bronzematerials', 'brook', 'brooke', 'brooker', 'brookings', 'brooklyn', 'brooks', 'broomstick', 'brothel', 'brothels', 'brother', 'brotherhood', 'brotherhoods', 'brotherly', 'brothers', 'brought', 'brown', 'brownie', 'browse', 'browser', 'browsing', 'brs', 'brse', 'bruce', 'bruegel', 'bruised', 'bruises', 'bruising', 'brunei', 'bruni', 'bruniare', 'bruno', 'brunswick', 'brunt', 'brushed', 'brushes', 'brussels', 'brusselsleaks', 'brutal', 'brutalise', 'brutalised', 'brutality', 'brutalization', 'brutalized', 'brutally', 'brute', 'bryant', 'brzezinski', 'bsa', 'bsafe', 'bskyb', 'bt', 'btc', 'bttzauw', 'btw', 'bubal', 'bubble', 'bubbles', 'bubbling', 'bubonic', 'bucca', 'bucharest', 'buck', 'bucket', 'buckets', 'bucking', 'buckingham', 'bucknell', 'bucks', 'budapest', 'buddha', 'buddhas', 'buddhism', 'buddhist', 'buddhists', 'buddies', 'budding', 'buddy', 'budge', 'budget', 'budgets', 'budging', 'budweiser', 'buenos', 'buffalo', 'buffer', 'buffett', 'buffoon', 'buffs', 'buffy', 'bug', 'bugged', 'buggies', 'bugging', 'bugingo', 'buglers', 'bugs', 'buids', 'build', 'builder', 'builders', 'building', 'buildings', 'builds', 'buildup', 'built', 'buk', 'bulatov', 'bulava', 'bulb', 'bulbs', 'bulgaria', 'bulgarian', 'bulgarians', 'bulgarias', 'bulge', 'bulger', 'bulk', 'bulked', 'bulks', 'bulky', 'bull', 'bulldoze', 'bulldozed', 'bulldozer', 'bulldozers', 'bulldozes', 'bulldozing', 'bullet', 'bulletin', 'bulletproof', 'bullets', 'bullfight', 'bullfighting', 'bullhunter', 'bullied', 'bullies', 'bullion', 'bullock', 'bulls', 'bullshit', 'bully', 'bullying', 'bumblebee', 'bumblebees', 'bumbling', 'bump', 'bumped', 'bumper', 'bums', 'bunch', 'bundaberg', 'bundesbank', 'bundestag', 'bundles', 'bunga', 'bungalow', 'bungled', 'bungling', 'bunker', 'bunkerization', 'bunkers', 'bunkum', 'bunnies', 'bunny', 'buns', 'buran', 'burden', 'bureau', 'bureaucracies', 'bureaucracy', 'bureaucrat', 'bureaucratic', 'bureaucrats', 'burgeoning', 'burger', 'burgers', 'burgess', 'burglar', 'burglars', 'burgos', 'burial', 'burials', 'buried', 'buries', 'burisma', 'burj', 'burka', 'burkas', 'burke', 'burkina', 'burma', 'burmas', 'burmese', 'burn', 'burnaby', 'burned', 'burning', 'burnings', 'burns', 'burnt', 'burqa', 'burqas', 'burqini', 'burqua', 'burried', 'burros', 'burrow', 'burrows', 'bursa', 'burson', 'burst', 'bursting', 'bursts', 'buru', 'burundi', 'bury', 'burying', 'bus', 'bus__', 'busan', 'buses', 'bush', 'bushed', 'bushehr', 'bushes', 'bushfire', 'bushfires', 'bushland', 'bushmen', 'bushs', 'bushvilles', 'bushwhacking', 'busiest', 'business', 'businesses', 'businessman', 'businessmen', 'businessweek', 'busload', 'busloads', 'bussing', 'bust', 'bustan', 'bustani', 'bustards', 'busted', 'buster', 'busting', 'bustle', 'bustling', 'busts', 'busy', 'but', 'butcher', 'butchered', 'butchering', 'butchers', 'butchery', 'butler', 'butter', 'butterflies', 'butterfly', 'butting', 'buttocks', 'button', 'butts', 'buy', 'buyer', 'buyers', 'buying', 'buys', 'buzz', 'buzzed', 'buzzing', 'buzzwords', 'bwv', 'by', 'bye', 'byers', 'bygone', 'bylaw', 'bylaws', 'bypass', 'bypasses', 'bypassing', 'byproducts', 'byron', 'bys', 'bystander', 'bystanders', 'byte', 'byung', 'byzantine', 'byzantium', 'c16', 'c_133871006', 'ca', 'cab', 'cabal', 'cabbage', 'cabbies', 'cabin', 'cabinet', 'cabinets', 'cabins', 'cable', 'cablegate', 'cables', 'cabot', 'cabs', 'cache', 'cached', 'cactus', 'cadbury', 'cadburys', 'cadet', 'cadets', 'cadmium', 'cadre', 'cadres', 'caesar', 'caesars', 'caesium', 'caf', 'cafe', 'cafes', 'caffeine', 'cafferty', 'cage', 'caged', 'cages', 'cahoots', 'caicos', 'cair', 'cairn', 'cairo', 'cairos', 'caitlan', 'cake', 'caked', 'cakes', 'calabrian', 'calais', 'calamitous', 'calamity', 'calculated', 'calculates', 'calculations', 'calcutta', 'calder', 'caldern', 'calderon', 'calderons', 'calendar', 'calera', 'caley', 'calf', 'calgary', 'caliber', 'calibrated', 'calibration', 'calibre', 'calif', 'california', 'californian', 'caliphate', 'call', 'callander', 'called', 'callers', 'calling', 'callous', 'calls', 'calluses', 'calm', 'calmed', 'calmy', 'calorie', 'calories', 'calves', 'cam', 'camara', 'cambodia', 'cambodian', 'cambodians', 'cambridge', 'camden', 'came', 'camel', 'camels', 'camembert', 'camera', 'cameraman', 'cameramen', 'cameras', 'cameron', 'camerons', 'cameroon', 'cameroons', 'camorra', 'camouflage', 'camouflaged', 'camp', 'campaign', 'campaigned', 'campaigner', 'campaigners', 'campaigning', 'campaigns', 'campbell', 'camped', 'campeign', 'campers', 'camping', 'campolongo', 'campos', 'camps', 'campus', 'campuses', 'cams', 'camus', 'can', 'canabis', 'canada', 'canadas', 'canadian', 'canadians', 'canal', 'canals', 'canary', 'canberra', 'cancel', 'cancelation', 'canceled', 'canceling', 'cancellation', 'cancellations', 'cancelled', 'cancelling', 'cancels', 'cancer', 'cancerous', 'cancers', 'cancun', 'candid', 'candidacys', 'candidate', 'candidates', 'candidly', 'candle', 'candlelight', 'candles', 'candor', 'candy', 'cane', 'caned', 'canine', 'caning', 'canipre', 'canister', 'canisters', 'cannabinoids', 'cannabis', 'canned', 'cannes', 'cannibal', 'cannibalism', 'cannibalized', 'cannibals', 'canning', 'cannon', 'cannonballs', 'cannons', 'cannot', 'canoe', 'canoes', 'canola', 'canon', 'canonical', 'canons', 'canopy', 'cans', 'cant', 'canteen', 'canteens', 'canterbury', 'canton', 'cantonment', 'cantons', 'cantor', 'canuck', 'canuckcutie', 'canvas', 'canwest', 'canyon', 'canyoneering', 'canyons', 'cap', 'capabilities', 'capability', 'capable', 'capacity', 'cape', 'capita', 'capital', 'capitalisation', 'capitalism', 'capitalist', 'capitalists', 'capitalization', 'capitalize', 'capitalizes', 'capitals', 'capitol', 'capped', 'caps', 'capsicum', 'capsized', 'capsizes', 'capsule', 'capsules', 'capt', 'captain', 'captained', 'captains', 'captioned', 'captive', 'captives', 'captivity', 'captors', 'capture', 'captured', 'captures', 'capturing', 'car', 'caracas', 'carat', 'carats', 'carbide', 'carbine', 'carbolic', 'carbon', 'carcass', 'carcasses', 'carcassonne', 'carcinogen', 'carcinogenic', 'carcinogens', 'carcrash', 'card', 'cardboard', 'cardenas', 'cardiac', 'cardiff', 'cardinal', 'cardinals', 'cardiovascular', 'cardoso', 'cards', 'care', 'cared', 'career', 'careers', 'careful', 'carefully', 'careless', 'cares', 'caretaker', 'cargo', 'caribbean', 'caribou', 'caricature', 'caricatured', 'caricatures', 'caricaturing', 'caring', 'carjacking', 'carl', 'carla', 'carlo', 'carlos', 'carloss', 'carlsen', 'carly', 'carlyle', 'carmaker', 'carmakers', 'carmelo', 'carnage', 'carnival', 'carnivores', 'caroline', 'carotene', 'carpenter', 'carpet', 'carpets', 'carr', 'carradine', 'carrasco', 'carriage', 'carriages', 'carrie', 'carried', 'carrier', 'carriers', 'carries', 'carriyng', 'carrot', 'carry', 'carrying', 'cars', 'carson', 'carswell', 'cart', 'carta', 'carte', 'carted', 'cartel', 'cartels', 'carter', 'cartographer', 'cartography', 'cartons', 'cartoon', 'cartoonist', 'cartoons', 'carts', 'cartwheeling', 'carve', 'carved', 'carves', 'carving', 'carvings', 'caryatid', 'caryle', 'cas', 'casanova', 'case', 'cases', 'cash', 'cash4gold', 'cashed', 'cashes', 'cashiers', 'casing', 'casino', 'caspar', 'caspian', 'cassava', 'cassini', 'cassock', 'cast', 'caste', 'caster', 'castes', 'casting', 'castle', 'castles', 'castrate', 'castrated', 'castrating', 'castration', 'castrations', 'castro', 'castrol', 'castros', 'casts', 'casual', 'casually', 'casualtieies', 'casualties', 'casualty', 'casulties', 'cat', 'catacomb', 'catacombs', 'catalan', 'catalans', 'catalog', 'catalogue', 'catalogued', 'cataloguing', 'catalonia', 'catalonian', 'catalunya', 'catalyst', 'catalyzed', 'catamaran', 'catapulted', 'catastrophe', 'catastrophes', 'catastrophic', 'catastrophically', 'catch', 'catches', 'catching', 'categorically', 'categories', 'category', 'cater', 'catering', 'caterpillar', 'caterpillars', 'caters', 'cathedral', 'cathedrals', 'catholic', 'catholicism', 'catholics', 'cats', 'cattenom', 'cattle', 'cattleman', 'catuvellauni', 'caucasian', 'caucasus', 'caucus', 'caught', 'caughtflying', 'cauldron', 'cause', 'caused', 'causes', 'causeway', 'causing', 'caution', 'cautionary', 'cautions', 'cautious', 'cautiously', 'cavalry', 'cave', 'caved', 'cavemen', 'cavern', 'cavernous', 'caves', 'caviar', 'caving', 'cavity', 'cavorting', 'caylee', 'cayman', 'cbc', 'cbp', 'cbs', 'cc', 'ccarried', 'ccb', 'cci', 'ccile', 'ccp', 'cctv', 'cctvs', 'cd', 'cdc', 'cdpc', 'cds', 'cdu', 'cease', 'ceased', 'ceasefire', 'ceasefires', 'ceaselessly', 'ceases', 'ceasescu', 'ceasing', 'ceausescu', 'ceausescus', 'cebu', 'cecilia', 'cedar', 'cede', 'ceded', 'cedeo', 'ceiling', 'ceilings', 'celebrate', 'celebrated', 'celebrates', 'celebrating', 'celebration', 'celebrations', 'celebratory', 'celebrities', 'celebrity', 'celebs', 'celiac', 'celibacy', 'cell', 'cellar', 'cellars', 'cellmate', 'cello', 'cellphone', 'cellphones', 'cells', 'cellular', 'celsius', 'celtic', 'cement', 'cementing', 'cements', 'cemeteries', 'cemetery', 'censor', 'censordyne', 'censored', 'censoring', 'censors', 'censorship', 'censoship', 'censure', 'censures', 'censuring', 'census', 'cent', 'centenarian', 'center', 'centered', 'centeredness', 'centers', 'centimetres', 'centipedes', 'central', 'centralized', 'centre', 'centred', 'centres', 'centric', 'centrifugal', 'centrifuges', 'cents', 'centuries', 'century', 'ceo', 'ceos', 'ceramic', 'cereal', 'cerebral', 'ceremonial', 'ceremonies', 'ceremony', 'cerf', 'cern', 'cerns', 'cerrado', 'certain', 'certainly', 'certificate', 'certificates', 'certification', 'certified', 'cervical', 'cesar', 'cesg', 'cesium', 'cessation', 'ceta', 'cetaceans', 'ceti', 'cfls', 'cfo', 'cfr', 'cg', 'ch', 'chacaltaya', 'chad', 'chadians', 'chaebol', 'chafe', 'chaff', 'chafing', 'chagos', 'chaim', 'chain', 'chained', 'chains', 'chainsaw', 'chainsaws', 'chair', 'chairman', 'chairmanship', 'chairs', 'chaldean', 'chalks', 'challenge', 'challenged', 'challenger', 'challenges', 'challenging', 'chamber', 'chamberlain', 'chambers', 'chamish', 'champagne', 'champion', 'championing', 'champions', 'championship', 'championships', 'chan', 'chance', 'chancellor', 'chances', 'chanchal', 'chandrayaan', 'change', 'changed', 'changer', 'changerthe', 'changes', 'changing', 'changyuraptor', 'channel', 'channeled', 'channeling', 'channels', 'chant', 'chanting', 'chants', 'chaos', 'chaotic', 'chapel', 'chaperone', 'chaplaincy', 'chaplains', 'chapman', 'chapo', 'chaps', 'chapter', 'character', 'characterised', 'characteristic', 'characterized', 'characters', 'charade', 'charge', 'charged', 'charger', 'chargers', 'charges', 'charging', 'chariot', 'chariots', 'charismatic', 'charitable', 'charities', 'charity', 'charlemagne', 'charles', 'charlie', 'charlotte', 'charm', 'charmed', 'charmer', 'charmian', 'charming', 'charms', 'charny', 'charred', 'chart', 'charter', 'charting', 'charts', 'chas', 'chase', 'chased', 'chases', 'chasing', 'chaste', 'chastened', 'chasteness', 'chastening', 'chastised', 'chastises', 'chastity', 'chat', 'chateau', 'chatroom', 'chats', 'chatter', 'chatting', 'chauffeur', 'chauvanistic', 'chavez', 'chavs', 'chazan', 'che', 'cheap', 'cheaper', 'cheapest', 'cheaply', 'cheat', 'cheated', 'cheaters', 'cheating', 'cheats', 'chebarkul', 'chechen', 'chechnya', 'chechnyas', 'check', 'checkbooks', 'checked', 'checking', 'checkmate', 'checkout', 'checkpoint', 'checkpoints', 'checks', 'cheddar', 'cheek', 'cheeky', 'cheer', 'cheered', 'cheering', 'cheerleader', 'cheerleaders', 'cheers', 'cheese', 'cheesemakers', 'cheeses', 'cheetah', 'cheetahs', 'chef', 'chefs', 'cheif', 'chekhov', 'chelyabinsk', 'chem', 'chemical', 'chemically', 'chemicals', 'chemicalscontaminating', 'chemistry', 'chemotherapy', 'chen', 'cheney', 'chengdu', 'chenggang', 'chennai', 'chens', 'cheonan', 'cheque', 'cherie', 'cherished', 'chernobyl', 'chernobyls', 'cherries', 'cherry', 'chertoff', 'chesapeake', 'chess', 'chest', 'chests', 'chevron', 'chevrons', 'chew', 'chewed', 'chewing', 'chez', 'chhattisgarh', 'chi', 'chiang', 'chiapas', 'chiba', 'chibok', 'chicago', 'chicas', 'chichen', 'chick', 'chicken', 'chickenpox', 'chickens', 'chickenshit', 'chickpeas', 'chide', 'chides', 'chief', 'chiefs', 'chihuahua', 'chilcot', 'chilcots', 'child', 'childbirth', 'childbirths', 'childcare', 'childhood', 'childish', 'childless', 'children', 'childrenknown', 'childrens', 'childs', 'chile', 'chilean', 'chileans', 'chiles', 'chili', 'chill', 'chilled', 'chilli', 'chilling', 'chillingly', 'chills', 'chilpancingo', 'chime', 'chimes', 'chimney', 'chimp', 'chimpanzee', 'chimpanzees', 'chimps', 'chin', 'china', 'chinadaily', 'chinas', 'chinese', 'ching', 'chinua', 'chiotakis', 'chip', 'chipewyan', 'chipped', 'chipping', 'chips', 'chiquita', 'chiquitas', 'chirac', 'chirikova', 'chirkei', 'chiropractors', 'chixoy', 'chlorine', 'cho', 'chochi', 'choco', 'chocolat', 'chocolate', 'chocolates', 'chocolatiers', 'choe', 'choice', 'choices', 'choir', 'choked', 'chokehold', 'chokes', 'choking', 'chokri', 'chol', 'cholera', 'chomsky', 'chongqing', 'choose', 'chooses', 'choosing', 'chop', 'choping', 'chopped', 'chopper', 'choppers', 'chopping', 'chopra', 'chopsticks', 'chord', 'choros', 'chorus', 'chose', 'chosen', 'chossudovsky', 'chosun', 'choudary', 'chow', 'chris', 'christ', 'christchurch', 'christian', 'christiana', 'christiane', 'christiania', 'christianity', 'christianize', 'christians', 'christie', 'christine', 'christmas', 'christopher', 'christy', 'chrome', 'chronic', 'chronically', 'chronicle', 'chronicled', 'chronicles', 'chronicling', 'chronology', 'chrysler', 'chuck', 'chugging', 'chunk', 'chunks', 'church', 'churches', 'churchill', 'churchman', 'churchs', 'churkin', 'churlish', 'churning', 'churyumov', 'chut', 'chuvashov', 'chvez', 'cia', 'cias', 'cid', 'cig', 'cigarette', 'cigarettes', 'ciitzens', 'cinema', 'cinnabon', 'ciphers', 'cipla', 'circle', 'circled', 'circles', 'circling', 'circuit', 'circular', 'circulated', 'circulates', 'circulating', 'circulation', 'circumcise', 'circumcised', 'circumcision', 'circumcisions', 'circumnavigation', 'circumstances', 'circumvent', 'circumvented', 'circumventing', 'circumvention', 'circus', 'circuses', 'cisco', 'cispa', 'cisterns', 'citation', 'citations', 'cite', 'cited', 'cites', 'citgo', 'citi', 'cities', 'citigroup', 'citing', 'citizen', 'citizenry', 'citizens', 'citizenship', 'city', 'citys', 'ciudad', 'civet', 'civi', 'civic', 'civil', 'civilian', 'civilians', 'civilisation', 'civilisations', 'civilised', 'civility', 'civilization', 'civilizations', 'civilized', 'civillians', 'cjc', 'ck', 'ckers', 'cl', 'clad', 'claim', 'claimant', 'claimants', 'claimed', 'claiming', 'claims', 'clamp', 'clampdown', 'clamped', 'clamping', 'clamps', 'clams', 'clan', 'clancy', 'clandestine', 'clangers', 'clap', 'clapped', 'clapper', 'clapton', 'clarification', 'clarifies', 'clarify', 'clarifying', 'clarion', 'clarity', 'clarkson', 'clash', 'clashed', 'clashes', 'clashing', 'clasp', 'clasps', 'class', 'classes', 'classic', 'classical', 'classification', 'classified', 'classifies', 'classify', 'classing', 'classmate', 'classmates', 'classroom', 'classrooms', 'classy', 'clatter', 'claude', 'claudette', 'claudio', 'claus', 'clause', 'clauses', 'claw', 'clawbacks', 'clawing', 'clay', 'clayton', 'clean', 'cleaned', 'cleaner', 'cleaners', 'cleanest', 'cleaning', 'cleans', 'cleanse', 'cleansed', 'cleansin', 'cleansing', 'cleanup', 'clear', 'clearance', 'clearances', 'cleared', 'clearer', 'clearest', 'clearing', 'clearly', 'clears', 'cleary', 'cleavage', 'cleaver', 'cleese', 'clegg', 'clemency', 'clergy', 'cleric', 'clerical', 'clerics', 'clerk', 'clever', 'cleverest', 'clich', 'cliches', 'clichs', 'click', 'client', 'clients', 'cliff', 'climate', 'climategate', 'climb', 'climbed', 'climber', 'climbers', 'climbing', 'climbs', 'clinch', 'clinched', 'cling', 'clinging', 'clings', 'clinic', 'clinical', 'clinically', 'clinics', 'clinton', 'clintons', 'clip', 'clique', 'clive', 'cloak', 'cloaking', 'clobbered', 'clock', 'clocked', 'clocks', 'clogged', 'clogging', 'clone', 'cloned', 'clones', 'cloning', 'clooney', 'clooneys', 'clorox', 'close', 'closed', 'closely', 'closer', 'closerfor', 'closes', 'closest', 'closet', 'closeted', 'closing', 'clostridium', 'closure', 'closures', 'clot', 'cloth', 'clothe', 'clothed', 'clothes', 'clothing', 'clots', 'cloud', 'clouded', 'clouds', 'cloudy', 'clout', 'clown', 'club', 'clubbed', 'clubhouse', 'clubhousethe', 'clubs', 'cludio', 'clue', 'clueless', 'clues', 'clug', 'clunky', 'cluster', 'clustered', 'clusters', 'clutch', 'clutching', 'cm', 'cm2', 'cn', 'cnbc', 'cnet', 'cnn', 'cnns', 'cnooc', 'co', 'co2', 'coach', 'coaches', 'coahuila', 'coal', 'coalition', 'coalmines', 'coalport', 'coals', 'coast', 'coastal', 'coastguard', 'coastline', 'coated', 'coating', 'cobain', 'cobalt', 'cobblestone', 'cobra', 'coca', 'cocaine', 'cochabamba', 'cockatoos', 'cockburn', 'cocked', 'cockermouth', 'cockfighting', 'cockney', 'cockpit', 'cockroach', 'cockroaches', 'cocks', 'cocktail', 'cocktails', 'coconut', 'coconuts', 'cod', 'code', 'codebreaker', 'coded', 'codepink', 'codes', 'codifies', 'codifying', 'coding', 'codornu', 'coelho', 'coerced', 'coercive', 'coexist', 'coexistence', 'coffe', 'coffee', 'coffeeshops', 'coffers', 'coffin', 'coffins', 'cofounder', 'cog', 'cogent', 'cognitive', 'cohen', 'coherent', 'cohesion', 'cohort', 'coil', 'coin', 'coincide', 'coincidence', 'coincidentally', 'coincides', 'coins', 'coke', 'cokie', 'col', 'cola', 'colander', 'colas', 'colbert', 'cold', 'colder', 'coldest', 'coldness', 'cole', 'coleman', 'coles', 'coli', 'colin', 'colla', 'collaboratation', 'collaborate', 'collaborated', 'collaborates', 'collaborating', 'collaboration', 'collaborator', 'collaborators', 'collapse', 'collapsed', 'collapses', 'collapsing', 'collar', 'collateral', 'colleague', 'colleagues', 'collect', 'collected', 'collecting', 'collection', 'collections', 'collective', 'collectively', 'collectivised', 'collector', 'collectors', 'collects', 'colleen', 'college', 'colleges', 'collide', 'collided', 'collider', 'collides', 'collier', 'colliery', 'collines', 'collingwood', 'collins', 'collision', 'collisions', 'collude', 'colluded', 'colluding', 'collusion', 'cologne', 'colom', 'colombia', 'colombian', 'colombians', 'colombias', 'colombo', 'colonel', 'colonels', 'colonia', 'colonial', 'colonialism', 'colonies', 'colonisation', 'colonised', 'colonization', 'colonize', 'colonized', 'colonizing', 'colony', 'color', 'colorado', 'colored', 'colorful', 'colors', 'colossal', 'colosseum', 'colossus', 'colour', 'coloured', 'colours', 'colum', 'columbia', 'columbian', 'columbo', 'columbus', 'columbuss', 'column', 'columnist', 'columns', 'colvin', 'com', 'coma', 'comatose', 'combat', 'combatant', 'combatants', 'combatent', 'combating', 'combative', 'combination', 'combinations', 'combine', 'combined', 'combines', 'combining', 'combustion', 'comcast', 'come', 'comeback', 'comechinas', 'comedian', 'comedians', 'comedy', 'comes', 'comet', 'comfort', 'comfortable', 'comic', 'comical', 'comics', 'coming', 'comission', 'comm', 'command', 'commandant', 'commanded', 'commandeer', 'commandeering', 'commander', 'commanders', 'commanding', 'commandment', 'commandments', 'commando', 'commandos', 'commands', 'commemorate', 'commemorating', 'commemoration', 'commemorations', 'commemorative', 'commence', 'commendation', 'comment', 'commentary', 'commentator', 'commentators', 'commenter', 'commenting', 'comments', 'commerce', 'commercial', 'commercialization', 'commercialize', 'commercialized', 'commercially', 'commercials', 'commerzbank', 'commie', 'commision', 'commisioner', 'commission', 'commissioned', 'commissioner', 'commissioners', 'commissions', 'commit', 'commited', 'commitment', 'commitments', 'commits', 'committe', 'committed', 'committee', 'committees', 'committing', 'commodities', 'commodity', 'commodore', 'common', 'commoners', 'commonly', 'commons', 'commonwealth', 'comms', 'communal', 'communciations', 'commune', 'communicate', 'communicating', 'communication', 'communications', 'communion', 'communions', 'communism', 'communist', 'communists', 'communities', 'community', 'commute', 'commuter', 'commuters', 'commutes', 'commuting', 'comodo', 'comoros', 'comp', 'compact', 'compacted', 'companies', 'companies12', 'companion', 'company', 'companys', 'comparable', 'comparatively', 'compare', 'compared', 'compares', 'comparing', 'comparison', 'comparisson', 'compartment', 'compass', 'compassion', 'compassionate', 'compatible', 'compatriots', 'compel', 'compelled', 'compelling', 'compels', 'compensate', 'compensated', 'compensating', 'compensation', 'compete', 'competent', 'competing', 'competition', 'competitive', 'competitively', 'competitiveness', 'competitor', 'competitors', 'compilation', 'compile', 'compiled', 'compiler', 'compiling', 'complacent', 'complain', 'complainants', 'complained', 'complaining', 'complains', 'complaint', 'complaints', 'complement', 'complementarity', 'complementary', 'complete', 'completed', 'completely', 'completes', 'completion', 'complex', 'complexity', 'compliance', 'compliant', 'complicate', 'complicated', 'complication', 'complications', 'complicit', 'complicity', 'complies', 'comply', 'complying', 'component', 'components', 'composed', 'composer', 'composite', 'compostela', 'compound', 'compounded', 'compounding', 'comprehend', 'comprehensive', 'comprehensively', 'compressed', 'comprise', 'comprised', 'comprising', 'compromise', 'compromised', 'compulsary', 'compulsive', 'compulsory', 'compunctions', 'computer', 'computers', 'computing', 'comrade', 'comrades', 'comradeship', 'comtel', 'con', 'conakry', 'conceal', 'concealed', 'concealing', 'conceals', 'concede', 'conceded', 'concedes', 'conceivable', 'conceived', 'conceiving', 'concentrate', 'concentrated', 'concentration', 'concentrations', 'concepcion', 'concept', 'conception', 'concepts', 'concern', 'concerned', 'concerning', 'concerns', 'concert', 'concerted', 'concerts', 'concession', 'concessions', 'conches', 'conciliatory', 'conclave', 'conclude', 'concluded', 'concludes', 'concluding', 'conclusion', 'conclusions', 'conclusive', 'conclusively', 'concocted', 'concocts', 'concorde', 'concordia', 'concrete', 'concubine', 'concussion', 'conde', 'condeming', 'condemn', 'condemnable', 'condemnation', 'condemned', 'condemning', 'condemns', 'condems', 'condi', 'condition', 'conditional', 'conditioned', 'conditioning', 'conditions', 'condoleezza', 'condolences', 'condom', 'condoms', 'condone', 'condoning', 'conduct', 'conducted', 'conducting', 'conducts', 'cone', 'conehead', 'confederation', 'conference', 'conferences', 'conferencing', 'conferred', 'conferring', 'confess', 'confessed', 'confesses', 'confessing', 'confession', 'confessions', 'confict', 'confidence', 'confident', 'confidential', 'confidentiality', 'confined', 'confinement', 'confining', 'confired', 'confirm', 'confirmation', 'confirmed', 'confirming', 'confirms', 'confiscate', 'confiscated', 'confiscates', 'confiscating', 'confiscation', 'confiscations', 'confiscatory', 'conflate', 'conflates', 'conflating', 'conflct', 'conflict', 'conflicted', 'conflicting', 'conflicts', 'conforming', 'conformism', 'confound', 'confounding', 'confront', 'confrontation', 'confrontations', 'confronted', 'confronting', 'confronts', 'confucianism', 'confucius', 'confuse', 'confused', 'confuses', 'confusing', 'confusion', 'congenital', 'congested', 'congestion', 'conglomerate', 'conglomerates', 'congo', 'congolese', 'congos', 'congrats', 'congratulate', 'congratulates', 'congratulations', 'congregation', 'congress', 'congressional', 'congressman', 'congressmen', 'congresswoman', 'conical', 'coninued', 'conjoined', 'conjunction', 'conjure', 'conman', 'connect', 'connected', 'connecting', 'connection', 'connections', 'conned', 'conners', 'connery', 'connor', 'conocophillips', 'conor', 'conquer', 'conquered', 'conquering', 'conquers', 'conquest', 'conquests', 'conquistadors', 'conrad', 'conroy', 'cons', 'conscience', 'consciences', 'conscientious', 'consciousness', 'conscripting', 'conscription', 'conscripts', 'consecutive', 'consensual', 'consensus', 'consent', 'consented', 'consenting', 'consequence', 'consequences', 'consequent', 'conservation', 'conservationist', 'conservationists', 'conservationst', 'conservatism', 'conservative', 'conservatively', 'conservatives', 'consider', 'considerable', 'considerably', 'considerate', 'consideration', 'considerations', 'considered', 'considering', 'considers', 'consist', 'consistency', 'consistent', 'consistently', 'consists', 'consoles', 'consolidate', 'consolidated', 'consolidates', 'consolidating', 'consolidation', 'consoling', 'consonants', 'consortium', 'conspicuous', 'conspicuously', 'conspiracy', 'conspirator', 'conspirators', 'conspire', 'conspired', 'conspiring', 'constable', 'constant', 'constantine', 'constantly', 'constituent', 'constituents', 'constitute', 'constitutes', 'constitution', 'constitutional', 'constitutionally', 'constitutions', 'constraint', 'constraints', 'construct', 'constructed', 'constructing', 'construction', 'constructive', 'construed', 'constucting', 'consul', 'consular', 'consulate', 'consulates', 'consult', 'consultant', 'consultants', 'consultation', 'consultations', 'consultative', 'consulted', 'consume', 'consumed', 'consumer', 'consumerism', 'consumers', 'consumes', 'consuming', 'consumption', 'contact', 'contacted', 'contacting', 'contacts', 'contador', 'contagion', 'contagious', 'contain', 'contained', 'container', 'containers', 'containing', 'containment', 'contains', 'contaminants', 'contaminate', 'contaminated', 'contaminating', 'contamination', 'contemplate', 'contemplated', 'contemplating', 'contemporary', 'contempt', 'contemptible', 'contend', 'contender', 'contending', 'contenstant', 'content', 'contentious', 'contents', 'contest', 'contestant', 'contestants', 'contested', 'contests', 'context', 'contiguous', 'continent', 'continental', 'continents', 'contingency', 'continually', 'continuation', 'continue', 'continued', 'continues', 'continuing', 'continuity', 'continuous', 'continuously', 'contorted', 'contraception', 'contraceptive', 'contraceptives', 'contract', 'contracted', 'contracting', 'contraction', 'contractor', 'contractors', 'contracts', 'contradict', 'contradicted', 'contradicting', 'contradiction', 'contradictions', 'contradicts', 'contrary', 'contrast', 'contrasts', 'contravene', 'contravenes', 'contravening', 'contravention', 'contraventions', 'contribute', 'contributed', 'contributes', 'contributing', 'contribution', 'contributions', 'contributor', 'contributors', 'control', 'controlled', 'controller', 'controllers', 'controlling', 'controls', 'controverisal', 'controversial', 'controversially', 'controversy', 'contruction', 'conundrum', 'convene', 'convened', 'convenes', 'convenience', 'convenient', 'conveniently', 'convent', 'convention', 'conventional', 'conventions', 'converge', 'conversation', 'conversations', 'converse', 'conversed', 'conversion', 'conversions', 'convert', 'converted', 'converting', 'converts', 'conveyed', 'conveyor', 'convict', 'convicted', 'convicting', 'conviction', 'convictions', 'convicts', 'convince', 'convinced', 'convincing', 'convoluted', 'convoy', 'convoys', 'conyers', 'coo', 'cook', 'cooked', 'cookie', 'cookies', 'cooking', 'cookouts', 'cooks', 'cool', 'coolant', 'cooled', 'cooler', 'cooling', 'coolly', 'coop', 'cooper', 'cooperate', 'cooperated', 'cooperating', 'cooperation', 'cooperative', 'cooperatives', 'coordinate', 'coordinated', 'coordinates', 'coordinating', 'coordinator', 'cootes', 'cop', 'copahue', 'cope', 'copenhagen', 'copenhagens', 'copied', 'copies', 'coping', 'copper', 'cops', 'copter', 'coptic', 'coptics', 'copts', 'copulate', 'copy', 'copycat', 'copycats', 'copyfraud', 'copying', 'copyright', 'copyrighted', 'copyrights', 'coral', 'corals', 'cord', 'cordon', 'cordone', 'cordoned', 'cordons', 'cords', 'core', 'corelli', 'cores', 'corexit', 'cork', 'corleone', 'corn', 'corneas', 'cornell', 'corner', 'cornered', 'corners', 'cornerstone', 'cornflour', 'cornish', 'cornwall', 'corona', 'coronal', 'coronation', 'coronavirus', 'coronel', 'coroner', 'corp', 'corporal', 'corporate', 'corporately', 'corporation', 'corporations', 'corps', 'corpse', 'corpses', 'correa', 'correct', 'corrected', 'correcting', 'correction', 'corrections', 'corrective', 'correctly', 'correctness', 'correlated', 'correspondence', 'correspondent', 'corresponds', 'corridor', 'corrie', 'corroborate', 'corroding', 'corrosive', 'corrupt', 'corrupted', 'corrupting', 'corruption', 'corsets', 'corvallis', 'corvette', 'cory', 'cos', 'cosa', 'cosatu', 'cosmetic', 'cosmetics', 'cosmic', 'cosmonauts', 'cossack', 'cost', 'costa', 'costello', 'costing', 'costliest', 'costly', 'costner', 'costolo', 'costs', 'costume', 'costumes', 'cosy', 'cote', 'coterie', 'cotswold', 'cottage', 'cotton', 'couch', 'couchsurfing', 'cough', 'could', 'couldn', 'couldnt', 'coulsen', 'coulson', 'coulter', 'council', 'councillor', 'councillors', 'councilors', 'councils', 'counsel', 'counseling', 'counselling', 'counsellor', 'counselor', 'count', 'countdown', 'counted', 'counter', 'counteract', 'counterarguments', 'counterattack', 'counterblow', 'counterfeit', 'counterfeiters', 'counterfeiting', 'counterfeits', 'countering', 'counterinsurgency', 'counterintuitive', 'counterjihad', 'counterpart', 'counterparts', 'counterproductive', 'counterrevolution', 'counters', 'countersues', 'counterterrorism', 'counterterrorist', 'counterweight', 'counting', 'countless', 'countries', 'country', 'countrymen', 'countrys', 'countryside', 'countrywide', 'countrywith', 'counts', 'county', 'coup', 'coupe', 'couple', 'couples', 'coupon', 'coupons', 'coups', 'courage', 'courageous', 'courier', 'course', 'coursera', 'courses', 'coursing', 'court', 'courted', 'courtesy', 'courthouse', 'courthouses', 'courtiers', 'courtroom', 'courts', 'courtyard', 'cousin', 'cousins', 'couso', 'cousulate', 'covalence', 'cove', 'cover', 'coverage', 'covered', 'covering', 'coverings', 'covers', 'covert', 'covertly', 'coverup', 'coveted', 'cow', 'coward', 'cowardice', 'cowardly', 'cowards', 'cowboy', 'cowed', 'cowen', 'cowers', 'cows', 'cox', 'coyotes', 'cp', 'cpj', 'cpl', 'cps', 'crack', 'crackdown', 'crackdowns', 'cracked', 'crackers', 'cracking', 'crackle', 'crackpot', 'cracks', 'crackstarter', 'cradle', 'craft', 'craftsmanship', 'craig', 'crammed', 'cramped', 'crane', 'cranes', 'crank', 'cranks', 'crap', 'crapper', 'crappy', 'crash', 'crashed', 'crashes', 'crashing', 'crate', 'crater', 'crave', 'cravings', 'crawl', 'crawling', 'crawls', 'craze', 'crazed', 'crazier', 'crazies', 'crazy', 'crazyhorse', 'cream', 'creased', 'create', 'created', 'creates', 'creating', 'creation', 'creationism', 'creationist', 'creative', 'creator', 'creators', 'creature', 'creatures', 'credence', 'credentials', 'credibility', 'credible', 'credit', 'credited', 'crediting', 'creditor', 'creditors', 'credits', 'creds', 'cree', 'creed', 'creek', 'creep', 'creeping', 'creepy', 'cremate', 'cremated', 'crematorium', 'crematoriums', 'creole', 'crescendo', 'crescent', 'cretaceous', 'cretins', 'crevasse', 'crew', 'crewing', 'crews', 'cribs', 'cricket', 'cricketer', 'cricketers', 'cried', 'cries', 'crime', 'crimea', 'crimean', 'crimeans', 'crimes', 'crimese', 'criminal', 'criminalise', 'criminalised', 'criminalises', 'criminalising', 'criminality', 'criminalization', 'criminalize', 'criminalized', 'criminalizes', 'criminalizing', 'criminally', 'criminals', 'criminalswho', 'crimp', 'crimped', 'crimping', 'cringe', 'cringed', 'cripple', 'crippled', 'cripples', 'crippling', 'crises', 'crisis', 'crisps', 'crisscrosses', 'crisscrossing', 'cristina', 'cristo', 'cristobal', 'criteria', 'criterion', 'critic', 'critical', 'critically', 'criticise', 'criticised', 'criticises', 'criticising', 'criticism', 'criticisms', 'criticize', 'criticized', 'criticizes', 'criticizing', 'critics', 'critique', 'critiques', 'critisism', 'critisize', 'croat', 'croatia', 'croatian', 'croats', 'croc', 'crocodile', 'crocodiles', 'croft', 'croissants', 'cromarty', 'cronies', 'cronkite', 'crony', 'cronyism', 'crooked', 'crooks', 'crop', 'crops', 'croquettes', 'crore', 'cross', 'crossbow', 'crossed', 'crosses', 'crossfire', 'crosshairs', 'crossing', 'crossings', 'crosspost', 'crossposted', 'crossroads', 'crouches', 'croutons', 'crow', 'crowd', 'crowded', 'crowdfund', 'crowdfunding', 'crowdfunds', 'crowding', 'crowds', 'crowdsourced', 'crowdsourcing', 'crowe', 'crowley', 'crown', 'crowned', 'crowning', 'crowns', 'crpf', 'crtc', 'crucial', 'crucified', 'crucifix', 'crucifixes', 'crucify', 'crucifying', 'crude', 'crudely', 'cruel', 'cruelest', 'cruellest', 'cruelly', 'cruelty', 'cruely', 'cruise', 'cruiser', 'cruisers', 'cruises', 'cruising', 'crumble', 'crumbles', 'crumbling', 'crumbs', 'crunch', 'crusade', 'crusader', 'crusaders', 'crusades', 'crusading', 'crush', 'crushed', 'crushes', 'crushing', 'crusoe', 'crust', 'crutches', 'cruz', 'cry', 'crying', 'crypt', 'cryptic', 'crypto', 'cryptography', 'cryptolocker', 'cryptome', 'crysis', 'crystal', 'crystallizing', 'cs', 'csc', 'csec', 'csis', 'csmonitor', 'cte', 'ctv', 'cuba', 'cuban', 'cubans', 'cubas', 'cubes', 'cubic', 'cubical', 'cubicle', 'cubicles', 'cubs', 'cucumber', 'cucumbers', 'cuddle', 'cue', 'cuernavaca', 'cuffed', 'cukes', 'culinary', 'cull', 'culled', 'cullinan', 'culminate', 'culminated', 'culminating', 'culmination', 'culpa', 'culpable', 'culprit', 'culprits', 'cult', 'cultivable', 'cultivate', 'cultivating', 'cultivation', 'cultural', 'culturally', 'culture', 'cultures', 'cumberbatch', 'cumbria', 'cumbrian', 'cunha', 'cunning', 'cunt', 'cup', 'cupcake', 'cupcakes', 'cupful', 'cups', 'curator', 'curators', 'curb', 'curbed', 'curbing', 'curbs', 'cure', 'cured', 'cures', 'curfew', 'curiosity', 'curious', 'curium', 'curls', 'curly', 'currant', 'currencies', 'currency', 'current', 'currently', 'curriculum', 'curry', 'curse', 'cursed', 'cursing', 'curtail', 'curtailed', 'curtailing', 'curtain', 'curtains', 'curtis', 'curve', 'curved', 'curves', 'cusco', 'cushion', 'cusp', 'custodian', 'custodians', 'custody', 'custom', 'customary', 'customer', 'customers', 'customisable', 'customs', 'cut', 'cutbacks', 'cute', 'cutoff', 'cuts', 'cutters', 'cutthroat', 'cutthroats', 'cutting', 'cvetkovic', 'cw', 'cwg', 'cyanide', 'cyber', 'cyberalliance', 'cyberattack', 'cyberattacks', 'cyberbattle', 'cyberbullying', 'cyberchiefs', 'cybercrime', 'cyberczar', 'cyberespionage', 'cybernauts', 'cybersecurity', 'cybersex', 'cyberspace', 'cyberspying', 'cybertheft', 'cyberwar', 'cyberwarfare', 'cyborgs', 'cycle', 'cycles', 'cycling', 'cyclist', 'cyclists', 'cyclone', 'cynical', 'cynthia', 'cypherpunks', 'cypriot', 'cypriots', 'cyprus', 'cyrillic', 'cyst', 'cysts', 'cz', 'czar', 'czarist', 'czech', 'czechs', 'da', 'dabholkar', 'dachau', 'dad', 'dadar', 'daddies', 'daddy', 'dadis', 'dads', 'dae', 'daesh', 'daewoo', 'dag', 'dagan', 'dagbladet', 'dagestan', 'dagger', 'dagsa', 'dahshur', 'dai', 'daiichi', 'daily', 'dairy', 'dais', 'daisies', 'daisy', 'daivd', 'dakar', 'dakhil', 'dakota', 'dal', 'dalai', 'dale', 'dalelven', 'dalian', 'dalit', 'dalits', 'dallas', 'dalyell', 'dam', 'dama', 'damage', 'damaged', 'damages', 'damaging', 'damascus', 'damian', 'damietta', 'damming', 'damn', 'damned', 'damning', 'dampen', 'dampens', 'dams', 'dan', 'dana', 'dance', 'dancer', 'dancing', 'dane', 'danes', 'dang', 'danger', 'dangerous', 'dangerously', 'dangerousness', 'dangers', 'dangling', 'daniel', 'danish', 'danonauts', 'dans', 'danube', 'dapper', 'dar', 'dara', 'daraa', 'darabi', 'darcus', 'dare', 'dared', 'daredevil', 'dares', 'darfur', 'darfuri', 'daring', 'darjeeling', 'dark', 'darkened', 'darker', 'darkest', 'darkness', 'darling', 'darn', 'darned', 'dartboard', 'darth', 'darts', 'darwin', 'daryl', 'das', 'dash', 'dashboard', 'dashed', 'dastjerdi', 'data', 'database', 'databases', 'date', 'dated', 'dateline', 'dates', 'dati', 'dating', 'daubed', 'daubs', 'daughter', 'daughters', 'daunting', 'dauntless', 'davao', 'david', 'davidson', 'davie', 'davis', 'davos', 'davutoglu', 'dawkins', 'dawn', 'dawning', 'dawns', 'dawood', 'day', 'dayan', 'daycare', 'daylight', 'days', 'daytime', 'daz', 'dazs', 'dazzle', 'dazzling', 'db', 'dbrouillardise', 'dc', 'ddl', 'ddo', 'ddos', 'ddosed', 'ddosing', 'ddt', 'de', 'dea', 'deactivating', 'dead', 'deadlier', 'deadliest', 'deadline', 'deadlock', 'deadly', 'deadpan', 'deads', 'deadspin', 'deady', 'deaf', 'deafening', 'deal', 'dealer', 'dealers', 'dealership', 'dealing', 'dealings', 'deals', 'dealt', 'dean', 'deane', 'deapsea', 'dear', 'dearer', 'dearlove', 'dearly', 'death', 'deathly', 'deathray', 'deaths', 'deathsof', 'deathtraps', 'deathworld', 'deb', 'debacle', 'debal', 'debasing', 'debate', 'debated', 'debates', 'debating', 'debauchery', 'debit', 'debka', 'deborah', 'debris', 'debt', 'debtor', 'debtors', 'debts', 'debunk', 'debunked', 'debunking', 'debunks', 'debut', 'dec', 'decade', 'decades', 'decapitate', 'decapitated', 'decapitates', 'decapitation', 'decarbonising', 'decay', 'decaying', 'decays', 'deceased', 'deceit', 'deceitful', 'deceive', 'deceived', 'deceives', 'deceiving', 'december', 'decency', 'decent', 'decently', 'decentralise', 'decentralised', 'decentralising', 'decentralize', 'deception', 'deceptive', 'decide', 'decided', 'decidedly', 'decider', 'decides', 'deciding', 'decimate', 'decimated', 'decimating', 'decimation', 'deciminalised', 'deciphered', 'decision', 'decisions', 'decisive', 'decisively', 'deck', 'deckchairs', 'decking', 'declaration', 'declare', 'declared', 'declares', 'declaring', 'declassified', 'declassifies', 'declassify', 'decline', 'declined', 'declines', 'declining', 'decode', 'decoded', 'decoding', 'decommission', 'decomposed', 'decomposing', 'decontaminated', 'decontamination', 'decorated', 'decorations', 'decoy', 'decrease', 'decreased', 'decreases', 'decreasing', 'decree', 'decreed', 'decrees', 'decried', 'decries', 'decriminalisation', 'decriminalise', 'decriminalised', 'decriminalises', 'decriminalising', 'decriminalization', 'decriminalize', 'decriminalized', 'decriminalizes', 'decriminalizing', 'decrying', 'decrypt', 'decrypting', 'dedicated', 'dedicates', 'dedication', 'deed', 'deeds', 'deem', 'deemed', 'deeming', 'deemphasizing', 'deems', 'deen', 'deep', 'deepak', 'deepen', 'deepened', 'deepening', 'deepens', 'deeper', 'deepest', 'deeply', 'deepwater', 'deer', 'def', 'deface', 'defaced', 'defacing', 'defamation', 'defamatory', 'defame', 'defamed', 'defaming', 'default', 'defaulted', 'defaulting', 'defaults', 'defeat', 'defeated', 'defeating', 'defeats', 'defecate', 'defecating', 'defecation', 'defect', 'defected', 'defecting', 'defection', 'defections', 'defective', 'defector', 'defectors', 'defects', 'defence', 'defences', 'defend', 'defendant', 'defendants', 'defended', 'defender', 'defenders', 'defending', 'defends', 'defense', 'defenseisrael', 'defenseless', 'defenses', 'defensive', 'defensively', 'defer', 'deference', 'deferred', 'defiance', 'defiant', 'defiantly', 'defibrillators', 'deficit', 'deficits', 'defied', 'defies', 'defiled', 'definately', 'define', 'defined', 'defines', 'defining', 'definite', 'definitely', 'definition', 'definitive', 'deflation', 'deflect', 'defoliants', 'deforesation', 'deforest', 'deforestation', 'deforested', 'deformed', 'deformities', 'defraud', 'defrauded', 'defrauder', 'defrauders', 'defrauding', 'defrock', 'defrost', 'deft', 'defunct', 'defunded', 'defuse', 'defused', 'defuses', 'defusing', 'defy', 'defying', 'degenerated', 'degeneration', 'degradation', 'degrade', 'degraded', 'degrading', 'degredation', 'degree', 'degrees', 'dehumanization', 'dehumanized', 'dehumanizing', 'dehydration', 'dei', 'deity', 'dekker', 'dekkers', 'del', 'delacroix', 'delara', 'delaware', 'delay', 'delayed', 'delaying', 'delays', 'delcares', 'delegate', 'delegates', 'delegation', 'delegations', 'delegitimization', 'delegitimize', 'delete', 'deleted', 'deletes', 'deleting', 'deletion', 'deleverage', 'delhi', 'deliberate', 'deliberately', 'deliberation', 'delic', 'delicacy', 'delicate', 'delight', 'delighted', 'delinquent', 'delist', 'deliver', 'deliverable', 'delivered', 'deliveries', 'delivering', 'delivers', 'delivery', 'dell', 'della', 'delroy', 'delta', 'delude', 'deluge', 'deluging', 'delusion', 'delusional', 'dem', 'demand', 'demanded', 'demanding', 'demands', 'demarcation', 'demeaning', 'dementia', 'demi', 'demilitarized', 'demise', 'demjanjuk', 'demo', 'democracia', 'democracies', 'democracy', 'democrat', 'democratic', 'democratically', 'democratised', 'democrats', 'demographers', 'demographic', 'demographically', 'demographics', 'demography', 'demolish', 'demolished', 'demolishes', 'demolishing', 'demolition', 'demolitions', 'demon', 'demonisation', 'demonises', 'demonization', 'demonize', 'demonoid', 'demons', 'demonstrate', 'demonstrated', 'demonstrates', 'demonstrating', 'demonstration', 'demonstrations', 'demonstrator', 'demonstrators', 'demos', 'demoted', 'dems', 'demystify', 'den', 'deng', 'dengue', 'denial', 'denials', 'denied', 'denier', 'deniers', 'denies', 'denis', 'denizens', 'denmark', 'denmarks', 'dennis', 'denominational', 'denounce', 'denounced', 'denounces', 'denouncing', 'dens', 'dense', 'densely', 'density', 'denso', 'dental', 'dentin', 'denting', 'dentist', 'dentists', 'denuclearisation', 'denuding', 'denunciation', 'denunciations', 'denver', 'deny', 'denying', 'deodorant', 'depape', 'depardieu', 'depart', 'departing', 'department', 'departments', 'departure', 'depend', 'dependence', 'dependency', 'dependent', 'depends', 'depict', 'depicted', 'depicting', 'depiction', 'depictions', 'depicts', 'deplete', 'depleted', 'depleting', 'depletion', 'deplorable', 'deplore', 'deplored', 'deplores', 'deploy', 'deployed', 'deploying', 'deployment', 'deployments', 'deploys', 'depo', 'deport', 'deportation', 'deportations', 'deported', 'deporting', 'deports', 'depose', 'deposed', 'deposit', 'deposited', 'depositing', 'deposition', 'depositors', 'deposits', 'depot', 'depots', 'depraved', 'depravity', 'depreciate', 'depreciating', 'depressed', 'depressing', 'depression', 'deprivation', 'deprivations', 'deprive', 'deprived', 'depriving', 'dept', 'depth', 'depths', 'depts', 'deputy', 'der', 'deraa', 'deradicalisation', 'derail', 'derailed', 'derailment', 'derails', 'deranged', 'deregulate', 'deregulation', 'deriding', 'derision', 'derivatives', 'derived', 'derives', 'dermot', 'derogatory', 'derriere', 'derry', 'des', 'desalination', 'descend', 'descendant', 'descendants', 'descended', 'descending', 'descends', 'descent', 'describe', 'described', 'describes', 'describing', 'description', 'desecrated', 'desecrating', 'desecration', 'desert', 'deserted', 'deserter', 'deserters', 'desertification', 'deserting', 'desertion', 'desertions', 'deserts', 'deserve', 'deserved', 'deserves', 'deserving', 'design', 'designate', 'designated', 'designates', 'designation', 'designed', 'designer', 'designing', 'designs', 'desirable', 'desire', 'desires', 'desist', 'desk', 'desmond', 'despair', 'desperate', 'desperately', 'desperation', 'despicable', 'despised', 'despising', 'despite', 'despot', 'despotism', 'despots', 'destabilise', 'destabilize', 'destabilizing', 'destablizing', 'destination', 'destinations', 'destined', 'destiny', 'destitute', 'destitution', 'destroy', 'destroyed', 'destroyer', 'destroyers', 'destroying', 'destroys', 'destruct', 'destruction', 'destructive', 'desu', 'detached', 'detail', 'detailed', 'detailing', 'details', 'detain', 'detained', 'detainee', 'detainees', 'detaining', 'detains', 'detat', 'detect', 'detected', 'detecting', 'detection', 'detective', 'detectives', 'detector', 'detectors', 'detects', 'detention', 'detentions', 'deter', 'detergent', 'deteriorated', 'deteriorates', 'deteriorating', 'deterioration', 'determination', 'determine', 'determined', 'determines', 'determining', 'deterministically', 'deterrent', 'deterring', 'dethrone', 'dethroned', 'detonate', 'detonated', 'detonates', 'detonating', 'detonation', 'detonators', 'detour', 'detox', 'detractors', 'detrimental', 'detroit', 'detroits', 'deutsche', 'deutschmark', 'dev', 'devaluation', 'devalued', 'devastate', 'devastated', 'devastates', 'devastating', 'devastation', 'develop', 'developed', 'developer', 'developers', 'developing', 'development', 'developments', 'develops', 'devestating', 'devi', 'deviant', 'device', 'devices', 'devil', 'devils', 'devious', 'devised', 'devising', 'devoid', 'devolve', 'devolved', 'devote', 'devoted', 'devotees', 'devotion', 'devour', 'devout', 'devoutly', 'devyani', 'deworming', 'dexter', 'df', 'dfait', 'dgse', 'dhabi', 'dhaka', 'dharana', 'dhimmitude', 'dhondup', 'dhow', 'dhs', 'dia', 'diabetes', 'diabetic', 'diabetics', 'diagnosed', 'diagnoses', 'diagnosis', 'dial', 'dialect', 'dialects', 'diallo', 'dialogue', 'dialysis', 'diamond', 'diamonds', 'diana', 'dianne', 'diaoyu', 'diaper', 'diapers', 'diaries', 'diarrhea', 'diarrheal', 'diarrhoea', 'diary', 'diasarm', 'diaspora', 'diaz', 'dicaprio', 'dichotomy', 'dichter', 'dick', 'dickens', 'dictactorship', 'dictate', 'dictated', 'dictates', 'dictating', 'dictator', 'dictatorial', 'dictators', 'dictatorship', 'dictatorships', 'dictionary', 'did', 'didior', 'didn', 'didnt', 'die', 'diebold', 'died', 'diego', 'diehard', 'dieing', 'dies', 'diesel', 'diet', 'dietary', 'difference', 'differences', 'different', 'differently', 'differing', 'difficult', 'difficulties', 'difficulty', 'diffuse', 'dig', 'digest', 'digesting', 'digg', 'digger', 'diggers', 'digging', 'digital', 'digitally', 'digitised', 'digitize', 'digitized', 'digitizing', 'dignidad', 'dignified', 'dignitaries', 'dignitas', 'dignity', 'digs', 'dikembe', 'dikshit', 'diktat', 'dilapidated', 'dilbert', 'dildo', 'dilemma', 'diligent', 'dilma', 'dim', 'dime', 'dimension', 'dimensions', 'dimes', 'diminished', 'diminishing', 'diminution', 'dimmed', 'dimness', 'dimona', 'din', 'dinars', 'diner', 'diners', 'ding', 'dingo', 'dingy', 'dining', 'dinner', 'dinners', 'dino', 'dinosaur', 'dinosaurs', 'diocese', 'dioceses', 'diocles', 'dioxide', 'dioxin', 'dioxins', 'dip', 'diploma', 'diplomacy', 'diplomat', 'diplomatic', 'diplomatically', 'diplomats', 'dipped', 'dipping', 'dips', 'dire', 'direct', 'directed', 'direction', 'directions', 'directive', 'directly', 'director', 'directories', 'directors', 'directs', 'directv', 'dirndls', 'dirt', 'dirtier', 'dirty', 'dis', 'disabilities', 'disability', 'disabled', 'disablement', 'disabling', 'disadvantage', 'disadvantaged', 'disaffected', 'disagree', 'disagreed', 'disagreeing', 'disagreement', 'disagrees', 'disappear', 'disappearance', 'disappearances', 'disappearancethat', 'disappeared', 'disappearing', 'disappears', 'disapply', 'disappointed', 'disappointing', 'disappointment', 'disapproval', 'disapproved', 'disarm', 'disarmament', 'disarmed', 'disarming', 'disarmingly', 'disarms', 'disarray', 'disaster', 'disasters', 'disastrous', 'disavowing', 'disavows', 'disband', 'disbands', 'disbelief', 'disbelieve', 'discard', 'discarded', 'discarding', 'discards', 'discernible', 'discharge', 'discharged', 'discharges', 'disciplinary', 'discipline', 'disciplined', 'disclaimer', 'disclose', 'disclosed', 'discloses', 'disclosing', 'disclosure', 'disclosures', 'disco', 'discomfort', 'disconcerting', 'disconnect', 'disconnected', 'disconnecting', 'disconnection', 'disconnections', 'disconnects', 'discontent', 'discontinuation', 'discontinued', 'discord', 'discount', 'discounted', 'discounts', 'discourage', 'discouraged', 'discourages', 'discouraging', 'discourse', 'discover', 'discovered', 'discoveredjade', 'discoveries', 'discovering', 'discovers', 'discovery', 'discredit', 'discreetly', 'discrepancies', 'discrepancy', 'discretion', 'discriminate', 'discriminated', 'discriminates', 'discriminating', 'discrimination', 'discriminatory', 'discs', 'discuss', 'discussed', 'discusses', 'discussing', 'discussion', 'discussions', 'disdain', 'disease', 'diseased', 'diseases', 'disemboweling', 'disembowelled', 'disenchanted', 'disenchantment', 'disenfranchised', 'disengaging', 'disfigured', 'disgorge', 'disgrace', 'disgraced', 'disgraceful', 'disgruntled', 'disguise', 'disguised', 'disguises', 'disgust', 'disgusted', 'disgusting', 'dish', 'disharmony', 'dished', 'dishes', 'dishfire', 'dishonesty', 'dishonor', 'dishonored', 'dishonour', 'dishware', 'disillusioned', 'disillusionment', 'disinfection', 'disinformation', 'disintegrated', 'disintegrating', 'disintegration', 'disinvited', 'disk', 'dislike', 'disliked', 'disloyal', 'disloyalty', 'dismal', 'dismally', 'dismantle', 'dismantled', 'dismantlement', 'dismantles', 'dismantling', 'dismay', 'dismayed', 'dismays', 'dismember', 'dismembered', 'dismembering', 'dismemberment', 'dismiss', 'dismissal', 'dismissed', 'dismisses', 'dismissing', 'disney', 'disneyland', 'disneyworld', 'disobedience', 'disobedient', 'disobey', 'disobeyed', 'disobeying', 'disorder', 'disorders', 'disorganised', 'disorganization', 'disorganized', 'disparaged', 'disparities', 'disparity', 'dispassionate', 'dispatch', 'dispatched', 'dispatches', 'dispel', 'dispelled', 'dispelling', 'dispensaries', 'dispense', 'dispensing', 'disperse', 'dispersed', 'dispersion', 'dispicable', 'dispite', 'displace', 'displaced', 'displacement', 'displacing', 'display', 'displayed', 'displaying', 'displays', 'displeasure', 'disposable', 'disposal', 'dispose', 'disposing', 'dispossessed', 'dispossession', 'disproportionate', 'disproportionately', 'disprove', 'disproved', 'dispute', 'disputed', 'disputes', 'disputing', 'disqualified', 'disqualifies', 'disqualify', 'disquieting', 'disregard', 'disregarded', 'disregarding', 'disrepair', 'disrepute', 'disrespect', 'disrespected', 'disrespectful', 'disrupt', 'disrupted', 'disrupting', 'disruption', 'disruptive', 'disruptors', 'disrupts', 'dissatisfaction', 'dissected', 'dissecting', 'dissection', 'disseminating', 'dissent', 'dissenters', 'dissenting', 'dissertation', 'disservice', 'dissident', 'dissidents', 'dissolution', 'dissolve', 'dissolved', 'dissolves', 'dissolving', 'dissuade', 'distance', 'distanced', 'distances', 'distant', 'distinct', 'distinction', 'distinguish', 'distorted', 'distorting', 'distortion', 'distract', 'distracting', 'distraction', 'distractionary', 'distress', 'distressed', 'distressing', 'distribute', 'distributed', 'distributes', 'distributing', 'distribution', 'distributions', 'district', 'districts', 'distrust', 'disturb', 'disturbance', 'disturbed', 'disturbing', 'disturbingly', 'disuse', 'disused', 'ditch', 'ditches', 'ditching', 'dither', 'dive', 'diver', 'divers', 'diverse', 'diversification', 'diversify', 'diversifying', 'diversion', 'diversions', 'diversity', 'divert', 'diverted', 'diverting', 'diverts', 'dives', 'divest', 'divested', 'divesting', 'divestment', 'divests', 'divide', 'divided', 'dividends', 'divides', 'dividing', 'divination', 'divine', 'diving', 'divinity', 'division', 'divisions', 'divisive', 'divorce', 'divorced', 'divorces', 'divulged', 'diwali', 'diy', 'diyala', 'diyali', 'dizzy', 'dja', 'djia', 'djibouti', 'djokovic', 'djs', 'dkos', 'dmca', 'dmitri', 'dmitry', 'dmz', 'dna', 'dnd', 'dnipropetrovsk', 'dns', 'do', 'doana', 'doc', 'docility', 'dock', 'docked', 'docking', 'docks', 'dockworkers', 'docs', 'doctom', 'doctor', 'doctorate', 'doctored', 'doctoring', 'doctorow', 'doctors', 'doctrinal', 'doctrine', 'doctrines', 'docu', 'docudrama', 'document', 'documentarian', 'documentary', 'documentation', 'documented', 'documenting', 'documents', 'dodge', 'dodged', 'dodgers', 'dodges', 'dodging', 'dodgy', 'does', 'doesn', 'doesnt', 'dog', 'dogan', 'dogfood', 'dogged', 'doggedly', 'dogma', 'dogs', 'doha', 'doing', 'doj', 'doku', 'dolan', 'dolce', 'doll', 'dollar', 'dollarise', 'dollars', 'dolls', 'dolphin', 'dolphins', 'dom', 'domain', 'domains', 'dombrovskis', 'dome', 'domestic', 'domestically', 'dominance', 'dominant', 'dominate', 'dominated', 'dominates', 'domination', 'dominatrix', 'dominican', 'dominion', 'dominique', 'domino', 'dominoes', 'doms', 'domstolen', 'don', 'donald', 'donate', 'donated', 'donates', 'donating', 'donation', 'donations', 'donbas', 'doncaster', 'done', 'donegal', 'donetsk', 'dong', 'dongs', 'donkey', 'donkeys', 'donna', 'donned', 'donor', 'donors', 'dons', 'dont', 'donut', 'doo', 'doodle', 'doom', 'doomed', 'doomsayers', 'doomsday', 'doonesbury', 'door', 'dooring', 'doorknobs', 'doors', 'doorstep', 'dope', 'doping', 'dormant', 'dormitories', 'dormitory', 'dorms', 'dorothy', 'dortmund', 'dos', 'dosage', 'dose', 'doses', 'dosimeter', 'dosimeters', 'dossier', 'dossiers', 'dostoyevsky', 'dotcom', 'doted', 'dots', 'double', 'doubled', 'doubleplusgood', 'doubles', 'doublespeak', 'doubling', 'doubly', 'doubt', 'doubtful', 'doubting', 'doubts', 'douchebags', 'doug', 'douglas', 'douma', 'dour', 'douse', 'doused', 'dousing', 'doves', 'dow', 'dowler', 'down', 'downed', 'downers', 'downfall', 'downgrade', 'downgraded', 'downgrades', 'downgrading', 'downhill', 'downing', 'download', 'downloaded', 'downloaders', 'downloading', 'downloads', 'downplay', 'downplaying', 'downplays', 'downpour', 'downriver', 'downs', 'downsize', 'downstream', 'downtime', 'downtown', 'downturn', 'downvote', 'downward', 'dowry', 'dowsing', 'doxed', 'doxer', 'doze', 'dozen', 'dozens', 'dozer', 'dozhd', 'dozing', 'dpi', 'dpj', 'dpm', 'dpp', 'dprk', 'dprks', 'dr', 'drab', 'drachma', 'draconian', 'dracula', 'draft', 'drafted', 'draftees', 'drafting', 'drafts', 'drag', 'dragged', 'dragging', 'draghi', 'dragnet', 'dragon', 'dragonflies', 'dragons', 'drags', 'drain', 'drainage', 'drained', 'draining', 'drains', 'drama', 'dramas', 'dramatic', 'dramatica', 'dramatically', 'drank', 'drape', 'drastic', 'drastically', 'draw', 'drawbridge', 'drawers', 'drawing', 'drawn', 'draws', 'drc', 'dread', 'dreaded', 'dreadful', 'dreadlocked', 'dreadnoughtus', 'dream', 'dreamed', 'dreaming', 'dreamliners', 'dreams', 'dreamt', 'dreamtv', 'dredge', 'dredged', 'dredging', 'drenched', 'dresden', 'dresnock', 'dress', 'dressed', 'dressing', 'drew', 'dried', 'drier', 'dries', 'driest', 'drift', 'drifting', 'drifts', 'drill', 'drilling', 'drills', 'drink', 'drinkable', 'drinkers', 'drinking', 'drinks', 'drip', 'dripped', 'dripping', 'driru', 'drive', 'driven', 'driver', 'driverless', 'drivers', 'drives', 'driveway', 'driving', 'drizzled', 'drm', 'dromedaries', 'drone', 'droned', 'drones', 'drop', 'dropped', 'dropping', 'drops', 'dror', 'drottninggatan', 'drought', 'droughts', 'drove', 'droves', 'drown', 'drowned', 'drowning', 'drowns', 'drudge', 'drug', 'drugged', 'drugging', 'druglord', 'drugmaker', 'drugmakers', 'drugrelated', 'drugs', 'drum', 'drumbeat', 'drummer', 'drummond', 'drums', 'drunk', 'drunken', 'drunkenly', 'drunks', 'dry', 'drying', 'dsk', 'dsks', 'dsl', 'dslr', 'dtat', 'du', 'dua_ec_prng', 'dual', 'dual_ec_prng', 'duality', 'dubai', 'dubbed', 'dubious', 'dublin', 'dubs', 'duch', 'duchess', 'duchy', 'duck', 'duckduckno', 'duckling', 'ducklings', 'ducks', 'duct', 'dude', 'dudley', 'dudus', 'due', 'duekoue', 'duel', 'duelling', 'duflot', 'dug', 'duggan', 'dugongs', 'duh', 'dui', 'duikers', 'duke', 'duma', 'dumb', 'dumbest', 'dumbing', 'dummies', 'dummy', 'dump', 'dumped', 'dumping', 'dumps', 'duncan', 'dundalk', 'dunes', 'dung', 'dungeon', 'dungeonlike', 'duped', 'duplication', 'duplicity', 'durango', 'duration', 'durban', 'duress', 'durham', 'during', 'durings', 'dusk', 'dusssshtbin', 'dust', 'dustbin', 'dusters', 'dustin', 'dusty', 'dutch', 'duties', 'duty', 'duvair', 'duvalier', 'dvd', 'dvds', 'dvla', 'dw', 'dwarf', 'dwarfed', 'dwarfs', 'dwarka', 'dwarves', 'dwell', 'dwellers', 'dwindle', 'dwindled', 'dwindles', 'dwindling', 'dworzysko', 'dwyer', 'dye', 'dyes', 'dyilo', 'dying', 'dylan', 'dynamics', 'dynamite', 'dynastic', 'dynasties', 'dynasty', 'dyncorp', 'dysfunction', 'dysfunctional', 'dystopia', 'dystopian', 'dzanga', 'dzhugashvili', 'dziekanski', 'ea', 'each', 'eager', 'eagerly', 'eagle', 'eagles', 'eaglets', 'eamonn', 'ear', 'eared', 'earful', 'earhart', 'earl', 'earlier', 'earliest', 'earlobe', 'early', 'earmarked', 'earn', 'earned', 'earner', 'earners', 'earnestly', 'earning', 'earnings', 'earns', 'ears', 'earth', 'earthen', 'earthlike', 'earthly', 'earthquake', 'earthquakes', 'earths', 'easa', 'ease', 'eased', 'eases', 'easier', 'easiest', 'easily', 'easing', 'east', 'easter', 'eastern', 'easts', 'eastside', 'eastward', 'easy', 'easyjet', 'eat', 'eaten', 'eater', 'eateries', 'eaters', 'eatery', 'eating', 'eats', 'eavesdrop', 'eavesdropped', 'eavesdropping', 'ebadi', 'ebay', 'ebbing', 'ebbs', 'ebola', 'ebrahim', 'ebrard', 'ecb', 'ecc', 'ecce', 'eccentric', 'ecchr', 'ecclestone', 'echelons', 'echo', 'echoed', 'echoes', 'echoing', 'ecig', 'ecj', 'eckert', 'eclipse', 'eclipses', 'eco', 'ecocide', 'ecological', 'ecologically', 'ecology', 'econ', 'economic', 'economically', 'economics', 'economie', 'economies', 'economist', 'economists', 'economy', 'economyand', 'ecosystem', 'ecosystems', 'ecotourism', 'ecstacy', 'ecstasy', 'ectasy', 'ecuador', 'ecuadoran', 'ecuadorans', 'ecuadorean', 'ecuadoreans', 'ecuadorian', 'ecuadors', 'ecursiverevolt', 'ed', 'eda', 'edabi', 'edcs', 'eddie', 'edelman', 'eden', 'edf', 'edge', 'edges', 'edging', 'edhem', 'edible', 'edict', 'edifice', 'edinburgh', 'edit', 'edited', 'editing', 'edition', 'editions', 'editition', 'editor', 'editorial', 'editorialize', 'editorializing', 'editors', 'edmonds', 'edmonton', 'edonkey', 'eds', 'edt', 'eduard', 'eduardo', 'educate', 'educated', 'educating', 'education', 'educational', 'educators', 'edvard', 'edvige', 'edward', 'edwards', 'edwin', 'eels', 'eerily', 'eff', 'effect', 'effected', 'effective', 'effectively', 'effectiveness', 'effects', 'effeminate', 'efficiency', 'efficient', 'effigies', 'effigy', 'effort', 'effortits', 'effortlessly', 'efforts', 'efrain', 'eg', 'egalitarian', 'egg', 'egged', 'eggs', 'eggshells', 'ego', 'egoism', 'egomaniac', 'egregious', 'egypt', 'egyptian', 'egyptians', 'egyptologists', 'egypts', 'egytian', 'eh', 'ehud', 'eia', 'eid', 'eiffel', 'eight', 'eighteen', 'eightfold', 'eighth', 'eighty', 'eiji', 'eikaiwa', 'eilat', 'eileen', 'einarsson', 'einstein', 'either', 'ejaculation', 'eject', 'ejected', 'ejection', 'ejects', 'el', 'elaborate', 'elaraby', 'elbaradei', 'elbashayer', 'elbit', 'elbow', 'eldar', 'elder', 'elderly', 'elders', 'eldest', 'elect', 'elected', 'electing', 'election', 'elections', 'electoral', 'electorate', 'electra', 'electric', 'electrical', 'electrician', 'electricians', 'electricity', 'electrified', 'electrocuted', 'electrocuting', 'electrocution', 'electrocutions', 'electronic', 'electronically', 'electronics', 'electrons', 'electroshock', 'elects', 'elegant', 'element', 'elementary', 'elements', 'elena', 'elephant', 'elephants', 'elevated', 'elevates', 'elevator', 'elevators', 'eleven', 'elf', 'elfstedentocht', 'elgin', 'elham', 'eli', 'elibrahmi', 'elicit', 'eliciting', 'elicits', 'eligible', 'eligio', 'eliminate', 'eliminated', 'eliminates', 'eliminating', 'elimination', 'eliot', 'elisa', 'elisabeth', 'elite', 'elites', 'elixir', 'elizabeth', 'elizondo', 'ellen', 'ellesmere', 'ellie', 'elliot', 'ellsberg', 'elm', 'elmar', 'elon', 'elope', 'eloping', 'eloquent', 'else', 'elsewhere', 'elshamy', 'elt', 'eltahawy', 'elton', 'elude', 'elusive', 'elvan', 'elvis', 'em', 'emaciated', 'email', 'emailing', 'emails', 'eman', 'emanating', 'emanuel', 'emasculated', 'embarass', 'embarassed', 'embarassing', 'embargo', 'embargoes', 'embark', 'embarked', 'embarking', 'embarks', 'embarrasing', 'embarrassed', 'embarrasses', 'embarrassing', 'embarrassment', 'embassies', 'embassy', 'embattled', 'embedded', 'embedding', 'embeds', 'embezzlement', 'embezzling', 'emblazoned', 'emblem', 'embodied', 'emboldened', 'emboldening', 'embrace', 'embraced', 'embraces', 'embracing', 'embroiled', 'embryo', 'embryonic', 'embryos', 'emember', 'emerge', 'emerged', 'emergence', 'emergencies', 'emergency', 'emerges', 'emerging', 'emeritus', 'emery', 'emi', 'emigrants', 'emigrate', 'emigrating', 'emigration', 'emilio', 'emir', 'emirate', 'emirates', 'emirati', 'emiratis', 'emirs', 'emissaries', 'emission', 'emissions', 'emisson', 'emit', 'emits', 'emitted', 'emitter', 'emitters', 'emitting', 'emma', 'emnaizel', 'emomali', 'emotional', 'emotionally', 'emp', 'empathizing', 'empathy', 'emperor', 'emperors', 'emphasize', 'emphasized', 'emphatically', 'emphysema', 'empire', 'empires', 'employ', 'employed', 'employee', 'employees', 'employer', 'employers', 'employing', 'employment', 'employs', 'empower', 'empowered', 'empowering', 'emptied', 'empties', 'emptiness', 'emptive', 'emptively', 'empty', 'emptying', 'emulated', 'emulates', 'emulating', 'en', 'enable', 'enabled', 'enables', 'enabling', 'enact', 'enacted', 'enacting', 'enactment', 'enactor', 'enacts', 'enamel', 'enbridge', 'enbw', 'encage', 'encampment', 'encased', 'enceladus', 'enchilada', 'enchmarch', 'encircle', 'encircled', 'encircling', 'enclave', 'enclaves', 'enclose', 'enclosed', 'enclosure', 'encoded', 'encompass', 'encore', 'encounter', 'encountered', 'encountering', 'encounters', 'encourage', 'encouraged', 'encourages', 'encouraging', 'encroach', 'encroaches', 'encroaching', 'encroachment', 'encrusted', 'encrypt', 'encrypted', 'encrypting', 'encryption', 'encyclical', 'encyclopaedia', 'encyclopedia', 'end', 'enda', 'endanger', 'endangered', 'endangering', 'endangers', 'endear', 'ended', 'endemic', 'endgame', 'ending', 'endings', 'endless', 'endlessly', 'endocrine', 'endorse', 'endorsed', 'endorsement', 'endorses', 'endorsing', 'endosulfan', 'ends', 'endure', 'endured', 'endures', 'enduring', 'enema', 'enemies', 'enemy', 'energies', 'energises', 'energy', 'energys', 'enforce', 'enforced', 'enforcement', 'enforcers', 'enforces', 'enforcing', 'engage', 'engaged', 'engagement', 'engagers', 'engages', 'engaging', 'enge', 'engel', 'engenders', 'engine', 'engineer', 'engineered', 'engineering', 'engineers', 'engines', 'england', 'englands', 'english', 'englishman', 'englishwoman', 'engstrom', 'engulf', 'engulfed', 'engulfing', 'engulfs', 'engyptian', 'enhance', 'enhanced', 'enigma', 'enigmatic', 'enjoy', 'enjoyed', 'enjoying', 'enjoys', 'enlargement', 'enlighten', 'enlightened', 'enlist', 'enlisted', 'enlists', 'enmity', 'ennahada', 'ennahda', 'enoch', 'enormous', 'enough', 'enquiries', 'enquiry', 'enraged', 'enrages', 'enraging', 'enrich', 'enriched', 'enriching', 'enrichment', 'enrico', 'enrique', 'enrol', 'enrolled', 'enrollment', 'enrolment', 'enron', 'enshrine', 'enshrined', 'enshrines', 'enshrining', 'ensign', 'enslave', 'enslaved', 'enslavement', 'enslaves', 'ensnared', 'ensue', 'ensued', 'ensues', 'ensuing', 'ensure', 'ensured', 'ensures', 'ensuring', 'entail', 'entails', 'entangled', 'entanglement', 'enter', 'entered', 'entering', 'enterprise', 'enterprises', 'enterprising', 'enters', 'entertaining', 'entertainment', 'enthralling', 'enthusiasm', 'enthusiast', 'enthusiastic', 'enthusiastically', 'enthusiasts', 'entice', 'enticed', 'entire', 'entirely', 'entirety', 'entities', 'entitled', 'entitlement', 'entitlements', 'entity', 'entomb', 'entombed', 'entourage', 'entrance', 'entrances', 'entrap', 'entrapment', 'entrapped', 'entrench', 'entrenched', 'entrepreneur', 'entrepreneurs', 'entrepreneurship', 'entries', 'entrusted', 'entry', 'envelop', 'envelope', 'envelops', 'enver', 'envies', 'envigado', 'envio', 'environment', 'environmental', 'environmentalism', 'environmentalist', 'environmentalists', 'environmentally', 'environs', 'envisioned', 'envoy', 'envoys', 'envy', 'enzymes', 'eon', 'epa', 'ephesian', 'epic', 'epicenter', 'epicentre', 'epidemic', 'epidemics', 'epileptic', 'episode', 'episodes', 'epistemological', 'epitaph', 'epoch', 'equador', 'equal', 'equality', 'equalling', 'equally', 'equals', 'equated', 'equates', 'equating', 'equation', 'equatorial', 'equine', 'equinet', 'equip', 'equipment', 'equipped', 'equitable', 'equivalent', 'equivocation', 'er', 'era', 'eradicate', 'eradicated', 'eradicating', 'eradication', 'eras', 'erasable', 'erase', 'erased', 'erases', 'erasing', 'erb', 'erdan', 'erdeven', 'erdoan', 'erdoans', 'erdogan', 'erdogans', 'erect', 'erected', 'erectile', 'erecting', 'ergenekon', 'eric', 'ericsson', 'erik', 'erika', 'eritrea', 'eritrean', 'eritreans', 'ernie', 'ernst', 'erode', 'eroded', 'erodgan', 'eroding', 'erosion', 'erotica', 'errant', 'erratic', 'erred', 'erroneous', 'error', 'errors', 'erstwhile', 'ert3', 'erudite', 'erupt', 'erupted', 'erupting', 'eruption', 'erupts', 'es', 'esa', 'escalate', 'escalated', 'escalates', 'escalating', 'escalation', 'escalators', 'escape', 'escaped', 'escapee', 'escapes', 'escaping', 'escobar', 'escobars', 'escort', 'escorted', 'escorting', 'escorts', 'escrow', 'escuela', 'esha', 'especially', 'espionage', 'espoo', 'espouse', 'espousing', 'esque', 'esquire', 'essay', 'essen', 'essence', 'essential', 'essentially', 'essentials', 'essex', 'establish', 'established', 'establishes', 'establishing', 'establishment', 'estate', 'estates', 'estelle', 'estemirova', 'estimate', 'estimated', 'estimates', 'estonia', 'estonian', 'estonians', 'estonias', 'estranged', 'et', 'eta', 'etat', 'etats', 'etc', 'eternal', 'eternally', 'etext', 'ethan', 'ethanol', 'ethem', 'ethic', 'ethical', 'ethics', 'ethiopia', 'ethiopian', 'ethiopians', 'ethnic', 'ethnically', 'ethnicities', 'ethnicity', 'ethno', 'ethnocentric', 'etkes', 'etmanov', 'etna', 'etorofu', 'ettinger', 'etzioni', 'eu', 'eucharist', 'eugene', 'eulogizing', 'eun', 'euna', 'eunuch', 'eunuchs', 'euphemism', 'euphoria', 'euphrates', 'eur', 'eurabia', 'eurasian', 'euro', 'eurocrisis', 'eurofighter', 'eurogroup', 'euromaidan', 'euronext', 'europ', 'europa', 'europe', 'european', 'europeans', 'europen', 'europes', 'europethanks', 'europewith', 'europol', 'euros', 'eurosceptic', 'eurosceptics', 'eurostar', 'eurovision', 'eurozone', 'eus', 'eutelsat', 'euthanasia', 'euthanize', 'euthanized', 'evacuate', 'evacuated', 'evacuates', 'evacuating', 'evacuation', 'evacuations', 'evacuee', 'evacuees', 'evacuted', 'evade', 'evaded', 'evaders', 'evades', 'evading', 'evaluated', 'evaluates', 'evaluation', 'evaluations', 'evan', 'evangelical', 'evangelicals', 'evangelist', 'evans', 'evaporated', 'evaporation', 'evasion', 'eve', 'evelyn', 'even', 'evening', 'evenings', 'event', 'events', 'eventual', 'eventuality', 'eventually', 'ever', 'everest', 'every', 'everybody', 'everyday', 'everyone', 'everything', 'everythingscience', 'everywhere', 'evict', 'evicted', 'eviction', 'evictions', 'evicts', 'evidence', 'evident', 'evidently', 'evil', 'evilness', 'evils', 'evin', 'evison', 'evo', 'evokes', 'evolution', 'evolutionreddit', 'evolve', 'evolved', 'evolves', 'evolving', 'evrona', 'ewen', 'ewg', 'ex', 'exacerbated', 'exacerbating', 'exact', 'exacting', 'exactly', 'exacts', 'exaggerate', 'exaggerated', 'exaggerating', 'exaggeration', 'exalted', 'exam', 'examination', 'examinations', 'examine', 'examined', 'examines', 'examining', 'example', 'examples', 'exams', 'excavate', 'excavated', 'excavating', 'excavation', 'excavations', 'exceed', 'exceeded', 'exceeding', 'exceedingly', 'exceeds', 'excellence', 'excellency', 'excellent', 'except', 'exception', 'exceptional', 'exceptionalism', 'exceptionally', 'exceptions', 'excercises', 'excerpt', 'excess', 'excesses', 'excessive', 'excessively', 'exchange', 'exchanged', 'exchanges', 'exchanging', 'excited', 'exciting', 'exclave', 'exclude', 'excluded', 'excludes', 'excluding', 'exclusion', 'exclusive', 'exclusively', 'exclusivity', 'excommunicated', 'excommunication', 'excorcist', 'excoriating', 'excrement', 'excruciating', 'excursions', 'excuse', 'excuses', 'excusing', 'exe', 'exec', 'execs', 'execute', 'executed', 'executes', 'executing', 'execution', 'executioner', 'executions', 'executive', 'executives', 'exempt', 'exempted', 'exemption', 'exemptions', 'exempts', 'exercise', 'exercised', 'exercises', 'exert', 'exhaust', 'exhausted', 'exhausting', 'exhaustive', 'exhibit', 'exhibiting', 'exhibition', 'exhumations', 'exhume', 'exhumed', 'exile', 'exiled', 'exiles', 'exist', 'existed', 'existence', 'existent', 'existential', 'existing', 'exists', 'exit', 'exiting', 'exits', 'exodus', 'exonerated', 'exonerates', 'exorbitant', 'exorcism', 'exorcist', 'exotic', 'expand', 'expanded', 'expanding', 'expands', 'expansion', 'expansions', 'expat', 'expats', 'expect', 'expectancies', 'expectancy', 'expectantly', 'expectation', 'expectations', 'expected', 'expecting', 'expects', 'expedition', 'expeditions', 'expel', 'expelled', 'expelling', 'expells', 'expels', 'expences', 'expendable', 'expendables', 'expenditure', 'expenditures', 'expense', 'expenses', 'expensive', 'experian', 'experience', 'experienced', 'experiences', 'experiencing', 'experiment', 'experimental', 'experimenting', 'experiments', 'expert', 'expertise', 'experts', 'expiration', 'expire', 'expired', 'expires', 'expiry', 'explain', 'explained', 'explainer', 'explaining', 'explains', 'explanation', 'explanations', 'explicit', 'explicitly', 'explode', 'exploded', 'explodes', 'exploding', 'exploit', 'exploitation', 'exploited', 'exploiting', 'exploits', 'exploration', 'exploratory', 'explore', 'explored', 'explorer', 'explorers', 'explores', 'exploring', 'explosion', 'explosions', 'explosive', 'explosives', 'exponentially', 'export', 'exported', 'exporter', 'exporters', 'exporting', 'exports', 'expos', 'expose', 'exposed', 'exposes', 'exposing', 'exposure', 'express', 'expressed', 'expressen', 'expresses', 'expressing', 'expression', 'expressions', 'expressly', 'expressway', 'expropriate', 'expropriating', 'expulsion', 'expulsions', 'expunged', 'exquisitely', 'extend', 'extended', 'extending', 'extends', 'extension', 'extensive', 'extensively', 'extent', 'exterminate', 'exterminated', 'exterminating', 'extermination', 'external', 'extinct', 'extinction', 'extinguish', 'extinguished', 'extinguisher', 'extinguishes', 'extolled', 'extort', 'extorting', 'extortion', 'extortionists', 'extorts', 'extra', 'extract', 'extracted', 'extracting', 'extraction', 'extradite', 'extradited', 'extradites', 'extradition', 'extrajudicial', 'extrajudicially', 'extraordinarily', 'extraordinary', 'extraterrestrial', 'extravagance', 'extravagant', 'extravaganza', 'extremadura', 'extreme', 'extremely', 'extremes', 'extremis', 'extremism', 'extremist', 'extremists', 'exuberance', 'exxon', 'exxonmobil', 'eye', 'eyebrows', 'eyed', 'eyeing', 'eyelid', 'eyes', 'eyesight', 'eyewitness', 'eyewitnesses', 'eyjafjallajokul', 'eyjafjallajokull', 'eyjafjoell', 'ezekiel', 'ezineall', 'ezra', 'f1', 'f15', 'f16', 'fa', 'faade', 'faberge', 'fabius', 'fable', 'fabled', 'fabric', 'fabricated', 'fabricating', 'fabrication', 'fabulous', 'fabulously', 'facade', 'face', 'facebook', 'facebookers', 'facebooking', 'faced', 'faceless', 'faces', 'facet', 'facets', 'facial', 'faciliate', 'facilitates', 'facilitating', 'facilities', 'facility', 'facilty', 'facing', 'fact', 'faction', 'factional', 'factions', 'facto', 'factor', 'factored', 'factories', 'factors', 'factory', 'facts', 'factsand', 'factual', 'fad', 'fade', 'fadel', 'fadelalah', 'fades', 'fading', 'fadlallah', 'faecal', 'faeces', 'fahad', 'fahm', 'fahma', 'fahmy', 'fahrenheit', 'fail', 'failed', 'failing', 'failings', 'fails', 'failure', 'failures', 'faint', 'fainted', 'fainthearted', 'fainting', 'faintings', 'fair', 'fairer', 'fairground', 'fairly', 'fairness', 'fairtrade', 'fairy', 'fairytale', 'faith', 'faithful', 'faiths', 'faiz', 'fajardo', 'fajr', 'fake', 'faked', 'fakers', 'fakery', 'fakes', 'faking', 'falciani', 'falconer', 'falk', 'falkands', 'falkland', 'falklands', 'falkvinge', 'fall', 'fallacies', 'fallen', 'falling', 'fallout', 'falls', 'falluja', 'fallujah', 'fallujahs', 'false', 'falsehood', 'falsely', 'falsified', 'falsify', 'falsifying', 'faltering', 'falters', 'falun', 'fame', 'famed', 'familia', 'familiar', 'families', 'familiesthey', 'family', 'familys', 'famine', 'famous', 'famously', 'fan', 'fanatic', 'fanatical', 'fanaticism', 'fanatics', 'fancy', 'fanfare', 'fang', 'fangs', 'fanned', 'fanning', 'fans', 'fantasies', 'fantasize', 'fantastic', 'fantastico', 'fantasy', 'far', 'farage', 'farahani', 'farc', 'farce', 'farcical', 'fare', 'fareed', 'fares', 'farewell', 'fargo', 'farias', 'farid', 'faring', 'farka', 'farm', 'farmed', 'farmer', 'farmers', 'farmhand', 'farming', 'farmland', 'farms', 'farmstead', 'farmville', 'faroe', 'faroese', 'farooq', 'farrakhan', 'farrar', 'fart', 'farting', 'farts', 'fascinated', 'fascinating', 'fascism', 'fascist', 'fascists', 'fashi', 'fashion', 'fashioned', 'faso', 'fast', 'faster', 'fastest', 'fasting', 'fat', 'fatah', 'fatal', 'fatalistic', 'fatalities', 'fatality', 'fatally', 'fate', 'fateful', 'fateh', 'father', 'fathered', 'fatherless', 'fathers', 'fatigue', 'fattah', 'fatten', 'fatter', 'fattest', 'fattoush', 'fatty', 'fatwa', 'fatwah', 'fatwas', 'fault', 'faulted', 'faults', 'faulty', 'fauna', 'faux', 'favela', 'favelas', 'favor', 'favorably', 'favored', 'favoring', 'favorite', 'favors', 'favour', 'favourable', 'favoured', 'favouring', 'favourite', 'favours', 'fawkes', 'fawning', 'fax', 'faxes', 'faxing', 'fayadh', 'fayhan', 'fazil', 'fazli', 'fazlullah', 'fbi', 'fc', 'fcc', 'fco', 'fda', 'fdny', 'fdp', 'fdr', 'fdrs', 'fear', 'feared', 'fearful', 'fearing', 'fearless', 'fearlessly', 'fearmongering', 'fears', 'fearsome', 'feasibility', 'feasible', 'feast', 'feasting', 'feat', 'featherless', 'feathers', 'feats', 'feature', 'featured', 'features', 'featuring', 'feb', 'february', 'feces', 'feckless', 'fed', 'federal', 'federalised', 'federalization', 'federation', 'federer', 'fedex', 'feds', 'fee', 'feeble', 'feed', 'feeding', 'feedings', 'feeds', 'feel', 'feeling', 'feelings', 'feels', 'fees', 'feet', 'fei', 'feiglin', 'fein', 'feinstein', 'feline', 'felipe', 'felix', 'fell', 'felling', 'fellow', 'felonies', 'felons', 'felony', 'felt', 'female', 'females', 'femen', 'femicides', 'feminine', 'feminism', 'feminist', 'feminists', 'fence', 'fences', 'fend', 'fending', 'fends', 'feng', 'feral', 'ferals', 'ferdinand', 'fereidoun', 'ferguson', 'ferment', 'fernando', 'fernndez', 'ferocious', 'ferrari', 'ferraris', 'ferrero', 'ferries', 'ferry', 'fertile', 'fertiliser', 'fertility', 'fertilizer', 'fertilizers', 'fervently', 'fervor', 'ferzat', 'fesses', 'fester', 'festering', 'festival', 'festivals', 'festive', 'fetal', 'fetched', 'fetching', 'fete', 'fetid', 'fetish', 'fetishes', 'fetus', 'feud', 'feuding', 'feuds', 'fever', 'feverish', 'few', 'fewer', 'fgm', 'fhrer', 'fi', 'fiance', 'fiances', 'fiasco', 'fiascoes', 'fiat', 'fibbing', 'fiber', 'fibre', 'fibrous', 'fico', 'fiction', 'fictional', 'fiddle', 'fiddling', 'fidel', 'fiefdom', 'fiefs', 'field', 'fielded', 'fielding', 'fields', 'fiennes', 'fierce', 'fiercely', 'fiercer', 'fiercest', 'fiery', 'fifa', 'fifas', 'fifteen', 'fifth', 'fifty', 'fig', 'figge', 'figh', 'fight', 'fightback', 'fighter', 'fighters', 'fighting', 'fights', 'figueres', 'figure', 'figured', 'figures', 'figurine', 'figuring', 'fiji', 'fijian', 'fijians', 'file', 'filed', 'filenames', 'files', 'filesharers', 'filesharing', 'filing', 'filipina', 'filipino', 'filipinos', 'fill', 'filled', 'fillers', 'filling', 'fillon', 'fills', 'film', 'filmed', 'filming', 'filmmaker', 'filmmakers', 'films', 'filter', 'filtering', 'filters', 'filth', 'filthy', 'fin', 'final', 'finalise', 'finalising', 'finalist', 'finalists', 'finalizes', 'finally', 'finals', 'finance', 'financed', 'finances', 'financial', 'financially', 'financiers', 'financing', 'find', 'finder', 'finding', 'findings', 'finds', 'findthe', 'fine', 'fined', 'fines', 'finest', 'finfisher', 'finger', 'fingered', 'fingeris', 'fingernails', 'fingerprint', 'fingerprinted', 'fingerprinting', 'fingerprints', 'fingers', 'fining', 'finish', 'finished', 'finishes', 'finishing', 'finkelstein', 'finland', 'finlands', 'finless', 'finn', 'finning', 'finnish', 'finns', 'fins', 'finspy', 'fippa', 'fir', 'firces', 'fire', 'firearms', 'fireball', 'firebomb', 'firebombed', 'firebombing', 'firebombs', 'firechat', 'firecrackers', 'fired', 'firefight', 'firefighter', 'firefighters', 'firefights', 'firefox', 'firehoses', 'firemen', 'firepower', 'fires', 'firestorm', 'firewall', 'firewalls', 'firewood', 'fireworks', 'firing', 'firm', 'firmly', 'firms', 'firouz', 'first', 'firstand', 'firsthand', 'firsts', 'firth', 'fiscal', 'fiscally', 'fischer', 'fish', 'fished', 'fishel', 'fisherfolk', 'fisheries', 'fisherman', 'fishermen', 'fishery', 'fishing', 'fishy', 'fisk', 'fission', 'fissures', 'fist', 'fistful', 'fists', 'fit', 'fitch', 'fith', 'fitness', 'fitr', 'fits', 'fitted', 'fitter', 'fitting', 'five', 'fivefold', 'fivethirtyeight', 'fix', 'fixed', 'fixers', 'fixes', 'fixing', 'fizzes', 'fjordman', 'flag', 'flagged', 'flagging', 'flagrantly', 'flags', 'flagship', 'flakes', 'flamboyant', 'flame', 'flamenco', 'flames', 'flamewar', 'flaming', 'flamingo', 'flammable', 'flanders', 'flannery', 'flap', 'flapjacks', 'flare', 'flares', 'flash', 'flashback', 'flashed', 'flashes', 'flashing', 'flashlight', 'flashmob', 'flashpoint', 'flashpoints', 'flat', 'flatly', 'flats', 'flatten', 'flattened', 'flattens', 'flattered', 'flattering', 'flattr', 'flatulent', 'flaunt', 'flavien', 'flavored', 'flavoring', 'flavoured', 'flaw', 'flawed', 'flaws', 'flea', 'fleas', 'fled', 'fledgling', 'flee', 'fleece', 'fleeced', 'fleeing', 'flees', 'fleet', 'fleets', 'flemish', 'flesh', 'fleshed', 'flew', 'flex', 'flexes', 'flexibility', 'flexible', 'flexing', 'flickering', 'flickr', 'flier', 'flies', 'flight', 'flightless', 'flights', 'flimflam', 'flings', 'flip', 'flipped', 'flippers', 'flirtation', 'flirting', 'flirts', 'flit', 'flo', 'float', 'floated', 'floating', 'floats', 'floberghagen', 'flock', 'flocked', 'flocking', 'floe', 'flogged', 'flogging', 'flood', 'flooded', 'floodgate', 'flooding', 'floodplains', 'floods', 'floodwaters', 'floor', 'floors', 'flops', 'flor', 'flora', 'floral', 'florence', 'florentine', 'flores', 'florida', 'florin', 'flotilla', 'flour', 'flourished', 'flourishes', 'flourishing', 'flout', 'flouting', 'flouts', 'flow', 'flowed', 'flower', 'flowers', 'flowing', 'flown', 'flows', 'floyd', 'flu', 'fluctuations', 'fluency', 'fluent', 'fluenty', 'fluff', 'fluid', 'fluids', 'flung', 'flurry', 'flush', 'flushed', 'flushers', 'flushing', 'flute', 'flutes', 'fluttering', 'flux', 'fly', 'flyers', 'flying', 'fm', 'fmln', 'fmr', 'fo', 'foaming', 'focus', 'focused', 'focuses', 'focusing', 'fodder', 'foe', 'foes', 'foetal', 'foetus', 'foetuses', 'fog', 'foggo', 'foi', 'foia', 'foil', 'foiled', 'foiling', 'foils', 'fold', 'folding', 'foley', 'foleys', 'folio', 'folk', 'folklore', 'folks', 'folksy', 'follies', 'follow', 'followed', 'follower', 'followers', 'following', 'follows', 'followup', 'foment', 'fomented', 'fomenting', 'foments', 'fond', 'fonda', 'fondly', 'fondness', 'fonseka', 'font', 'food', 'foodgrains', 'foods', 'fool', 'fooled', 'fooling', 'foolish', 'foolishnesses', 'foot', 'footage', 'football', 'footballer', 'footballers', 'footballing', 'foothills', 'foothold', 'footholds', 'footing', 'footless', 'footprint', 'footprints', 'foots', 'footsoldiers', 'footsteps', 'for', 'foraged', 'forbes', 'forbid', 'forbidden', 'forbidding', 'forbids', 'force', 'forced', 'forceful', 'forcefully', 'forces', 'forcible', 'forcibly', 'forcing', 'ford', 'fordham', 'fore', 'forecast', 'forecasters', 'forecasting', 'forecasts', 'foreclosure', 'forefathers', 'forehead', 'foreign', 'foreigner', 'foreigners', 'foreknowledge', 'foremen', 'foremost', 'forensic', 'foreplay', 'foresaw', 'foreseeable', 'forest', 'forestall', 'forested', 'forestry', 'forests', 'foretaste', 'foretold', 'forever', 'forex', 'forfeit', 'forfeited', 'forgave', 'forge', 'forged', 'forgery', 'forges', 'forget', 'forgetfulness', 'forgets', 'forging', 'forgivable', 'forgive', 'forgiven', 'forgiveness', 'forgives', 'forgiving', 'forgoing', 'forgot', 'forgotten', 'fork', 'forklift', 'form', 'formal', 'formalise', 'formalizes', 'formally', 'formaly', 'formation', 'formats', 'formed', 'former', 'formerly', 'formers', 'formidable', 'forming', 'forms', 'formula', 'formulas', 'fornicating', 'forrest', 'fort', 'fortaleza', 'forth', 'forthcoming', 'fortified', 'fortify', 'fortis', 'fortnight', 'forts', 'fortunate', 'fortune', 'fortunes', 'forty', 'forum', 'forums', 'forward', 'forwarded', 'foss', 'fossett', 'fossil', 'fossilised', 'fossilized', 'fossils', 'foster', 'fostered', 'fostering', 'fosters', 'fouad', 'foucault', 'fought', 'foul', 'fouled', 'foulest', 'found', 'found80', 'foundation', 'foundational', 'foundations', 'foundboat', 'founded', 'founder', 'founders', 'founding', 'fountains', 'four', 'fourteen', 'fourth', 'fowler', 'fowleri', 'fox', 'foxconn', 'foxconns', 'foxes', 'foxnews', 'foxrocked', 'fp', 'fr', 'fra', 'frack', 'fracked', 'fracking', 'fraction', 'fractional', 'fractious', 'fractured', 'fractures', 'fracturing', 'fragile', 'fragment', 'fragmented', 'fragments', 'frame', 'framed', 'frames', 'framework', 'framing', 'franc', 'franca', 'france', 'francebetween', 'frances', 'francesco', 'franchise', 'francis', 'francisco', 'franco', 'francois', 'francophone', 'francos', 'francs', 'frank', 'frankfurt', 'frankie', 'franklin', 'frankly', 'franks', 'franois', 'frantic', 'franz', 'franzen', 'fraser', 'fraud', 'frauds', 'fraudster', 'fraudulent', 'fraught', 'fray', 'fraying', 'frays', 'frdric', 'freak', 'freakin', 'freaking', 'freakishly', 'freaks', 'fred', 'freddie', 'freddo', 'frederik', 'fredrik', 'free', 'freeconomics', 'freed', 'freedom', 'freedoms', 'freedonia', 'freefall', 'freegan', 'freegans', 'freeing', 'freelance', 'freelancer', 'freelancers', 'freely', 'freeman', 'freemasons', 'freer', 'frees', 'freest', 'freestanding', 'freestyle', 'freeth', 'freethinking', 'freetown', 'freeway', 'freeways', 'freewheeling', 'freeze', 'freezers', 'freezes', 'freezing', 'frei', 'freight', 'freighter', 'freisland', 'french', 'frenchman', 'frenchwoman', 'frenzy', 'frequencies', 'frequency', 'frequent', 'frequented', 'frequenting', 'frequently', 'fresco', 'frescoes', 'fresh', 'fresher', 'freshly', 'freshwater', 'fresnillo', 'fret', 'fretting', 'freud', 'fri', 'fria', 'friar', 'friction', 'friday', 'fridays', 'fridge', 'fridges', 'fried', 'friedman', 'friedrich', 'friend', 'friendliest', 'friendliness', 'friendly', 'friendly1', 'friends', 'friendsespecially', 'friendship', 'fries', 'frigate', 'fright', 'frighten', 'frightened', 'frightening', 'frightens', 'frigid', 'frills', 'fringe', 'frisbee', 'friso', 'fritzl', 'frivolous', 'frog', 'frogfoot', 'frogs', 'from', 'front', 'frontal', 'fronted', 'frontier', 'frontires', 'frontline', 'frontman', 'frontpage', 'frontpages', 'frontrunner', 'frontrunners', 'fronts', 'frost', 'frostbite', 'frosty', 'frowned', 'froze', 'frozen', 'fruit', 'fruitful', 'fruition', 'fruitless', 'frustrate', 'frustrated', 'frustrates', 'frustrating', 'frustration', 'frustrations', 'fry', 'fsa', 'fsb', 'fsm', 'ft', 'ftse', 'ftw', 'fu', 'fuchun', 'fuck', 'fucked', 'fuckers', 'fucking', 'fucks', 'fucktards', 'fudge', 'fuel', 'fueled', 'fueling', 'fuelled', 'fuelling', 'fuels', 'fuentes', 'fuerza', 'fugitive', 'fugitives', 'fugu', 'fuji', 'fujian', 'fujimori', 'fujitsu', 'fukishima', 'fukuppy', 'fukushima', 'ful', 'fulfil', 'fulfill', 'fulfilled', 'fulfilling', 'full', 'fully', 'fulvio', 'fumes', 'fuming', 'fun', 'function', 'functional', 'functionaries', 'functioning', 'functions', 'fund', 'fundamental', 'fundamentalism', 'fundamentalist', 'fundamentalists', 'fundamentally', 'fundamentals', 'funded', 'fundemental', 'funder', 'funders', 'fundies', 'funding', 'fundraiser', 'fundraisers', 'fundraising', 'funds', 'funeral', 'funerals', 'fungi', 'fungus', 'funnel', 'funneled', 'funneling', 'funnier', 'funniest', 'funny', 'fur', 'furat', 'furious', 'furiously', 'furkan', 'furnish', 'furniture', 'furor', 'furore', 'furry', 'further', 'furtherance', 'furthermore', 'fury', 'fuse', 'fuses', 'fusing', 'fusion', 'fusionman', 'fuss', 'futenma', 'futile', 'futileand', 'futility', 'futs', 'future', 'futuregen', 'futures', 'futuristic', 'fuzzy', 'fw', 'fwiw', 'fx', 'g12', 'g20', 'g3', 'g4s', 'g7', 'g8', 'gabbana', 'gabon', 'gabriel', 'gabriele', 'gadaffi', 'gadafi', 'gaddaffi', 'gaddafi', 'gaddafis', 'gadget', 'gadgets', 'gadhaffi', 'gadhafi', 'gadhafis', 'gaffe', 'gaffes', 'gaffney', 'gag', 'gaga', 'gagged', 'gagging', 'gags', 'gahr', 'gaia', 'gail', 'gain', 'gained', 'gaining', 'gains', 'gaius', 'galactic', 'galapagos', 'galaxies', 'galaxy', 'gale', 'galilee', 'galileo', 'gallantry', 'galleon', 'galleries', 'gallery', 'galling', 'gallipoli', 'gallo', 'gallon', 'gallons', 'galloping', 'galloway', 'gallows', 'gallup', 'galpagos', 'galtung', 'galveston', 'galway', 'gamal', 'gambia', 'gambian', 'gambians', 'gambit', 'gamble', 'gambled', 'gamblers', 'gambling', 'game', 'gamed', 'gamer', 'gamers', 'games', 'gaming', 'gamma', 'gandara', 'gander', 'gandhi', 'gandhian', 'gang', 'ganged', 'ganges', 'gangetic', 'gangland', 'gangnam', 'gangrape', 'gangraped', 'gangrene', 'gangs', 'gangsta', 'gangster', 'gangsters', 'ganja', 'gannon', 'gansu', 'ganzouri', 'gao', 'gaol', 'gap', 'gaping', 'gaps', 'garage', 'garages', 'garani', 'garb', 'garbage', 'garbed', 'garcia', 'garda', 'garde', 'garden', 'gardening', 'gardens', 'gare', 'gareev', 'gareth', 'gargantuan', 'gargoyles', 'garlic', 'garment', 'garner', 'garnered', 'garners', 'garry', 'gary', 'garzn', 'garzon', 'gas', 'gases', 'gasoline', 'gasp', 'gasping', 'gasps', 'gassed', 'gasser', 'gastronomy', 'gastropubs', 'gate', 'gatekeeper', 'gatekeepers', 'gately', 'gates', 'gateway', 'gather', 'gathered', 'gathering', 'gatherings', 'gathers', 'gauck', 'gauge', 'gauges', 'gauguin', 'gaulle', 'gaunt', 'gauteng', 'gautrain', 'gauze', 'gave', 'gavle', 'gay', 'gays', 'gaza', 'gazan', 'gazans', 'gazas', 'gaze', 'gazelle', 'gazeta', 'gazette', 'gazing', 'gazipur', 'gazprom', 'gb', 'gbagbo', 'gbl', 'gcaptain', 'gchq', 'gcsb', 'gdog', 'gdp', 'ge', 'gear', 'geared', 'gearing', 'gears', 'geckos', 'ged', 'gee', 'geek', 'geert', 'geiger', 'geir', 'geist', 'geithner', 'gel', 'gelato', 'geldof', 'gellman', 'gem', 'gemma', 'gems', 'gemstone', 'gen', 'genaro', 'gendarmes', 'gender', 'genderless', 'genders', 'gene', 'genealogical', 'genearl', 'general', 'generale', 'generalize', 'generally', 'generals', 'generate', 'generated', 'generates', 'generating', 'generation', 'generations', 'generator', 'generic', 'generics', 'generose', 'generous', 'genes', 'genesis', 'genetic', 'genetically', 'geneticists', 'geneva', 'genital', 'genitalia', 'genitals', 'genius', 'genocid', 'genocidal', 'genocide', 'genocides', 'genoino', 'genome', 'genre', 'gentile', 'gentiles', 'gentleman', 'gentlemen', 'gently', 'genuine', 'genuinely', 'genus', 'geo', 'geoblocking', 'geoengineering', 'geoff', 'geoglyphs', 'geographic', 'geographical', 'geography', 'geological', 'geologist', 'geologists', 'geophysicist', 'geopolitical', 'geopolitically', 'geopolitics', 'georg', 'george', 'georgetown', 'georgia', 'georgian', 'georgians', 'georgias', 'georgina', 'georgy', 'geoscience', 'geothermal', 'gerais', 'gerald', 'gerard', 'gerasimenko', 'gerd', 'gerhard', 'germ', 'german', 'germans', 'germany', 'germanys', 'gerry', 'gershon', 'gertjie', 'gestapo', 'gesture', 'gestures', 'get', 'gets', 'getting', 'gettleman', 'getup', 'geun', 'geyser', 'geysers', 'geysina', 'gezi', 'ghada', 'ghadaffi', 'ghadafi', 'ghamdi', 'ghana', 'ghanaian', 'ghanam', 'ghanas', 'ghannouchi', 'gherardini', 'ghetto', 'ghettoized', 'ghettos', 'ghezali', 'ghg', 'ghomeshi', 'ghonim', 'ghost', 'ghostly', 'ghostnet', 'ghosts', 'ghoul', 'ghraib', 'gi', 'gianferro', 'giant', 'giants', 'giap', 'gibb', 'gibberish', 'gibbs', 'gibe', 'giblets', 'giboulot', 'gibraltar', 'gibson', 'gideon', 'gifs', 'gift', 'gifted', 'gifts', 'gig', 'gigabit', 'gigabyte', 'gigabytes', 'gigantic', 'gigapixel', 'gigatons', 'gigawatt', 'gigolo', 'gil', 'gilad', 'gilani', 'gilbert', 'gilded', 'gillard', 'gilligans', 'gimenez', 'gimmick', 'gin', 'gina', 'ginger', 'gingerly', 'gingrich', 'ginseng', 'giraffe', 'girffin', 'girkin', 'girl', 'girlfriend', 'girlfriends', 'girls', 'gis', 'gist', 'git', 'github', 'gitmo', 'give', 'giveaways', 'given', 'giver', 'gives', 'giving', 'giza', 'gizmodo', 'gl', 'glace', 'glacial', 'glacier', 'glaciers', 'glad', 'gladiator', 'gladiatorlike', 'glamourous', 'glane', 'glasgow', 'glaspie', 'glass', 'glasses', 'glassware', 'glastonbury', 'glaxosmithkline', 'gleb', 'glen', 'glencore', 'glenn', 'glib', 'glider', 'gliding', 'gliese', 'glimmers', 'glimpse', 'glistened', 'glitch', 'glitches', 'glittering', 'glivec', 'glo', 'gloating', 'gloats', 'glob', 'global', 'globalhealth', 'globalisation', 'globalised', 'globalism', 'globalization', 'globalized', 'globally', 'globalpost', 'globe', 'globes', 'globescan', 'globish', 'globo', 'glonass', 'gloomy', 'gloor', 'glorieux', 'glorified', 'glorious', 'glory', 'gloss', 'glove', 'gloves', 'glow', 'glowed', 'glowing', 'glows', 'glue', 'glueing', 'glut', 'glyphosate', 'gm', 'gmail', 'gmo', 'gmos', 'gmt', 'gnocidaire', 'gnp', 'gnrale', 'go', 'goa', 'goal', 'goals', 'goat', 'goats', 'goatse', 'gob', 'gobsmacked', 'god', 'godaddy', 'goddamn', 'goddamnit', 'goddard', 'goddess', 'godfather', 'godfathers', 'godfrey', 'godless', 'godly', 'godman', 'gods', 'godwin', 'goebbels', 'goergian', 'goers', 'goes', 'goeth', 'goggles', 'gogh', 'gogol', 'gohary', 'going', 'golan', 'gold', 'goldacre', 'goldberg', 'goldcorp', 'golden', 'goldhagen', 'golding', 'goldman', 'goldmans', 'goldmines', 'goldsmith', 'goldstein', 'goldstone', 'golf', 'goliath', 'golshifteh', 'goma', 'gondola', 'gondwana', 'gone', 'gong', 'gongadze', 'gonna', 'gonorrhea', 'gonorrhoea', 'gonzales', 'gonzalez', 'goo', 'gooch', 'good', 'goodall', 'goodbye', 'goodies', 'goodluck', 'goodman', 'goodness', 'goods', 'goodwill', 'goodwin', 'goodyear', 'goofs', 'google', 'googles', 'goojje', 'goons', 'gop', 'gops', 'goran', 'gorbachev', 'gorby', 'gordo', 'gordon', 'gore', 'gored', 'goren', 'gorge', 'gorges', 'gori', 'gorilla', 'gorillas', 'gorki', 'gorvernment', 'gosling', 'gospel', 'gossip', 'got', 'gothenburg', 'goths', 'gotovina', 'gotten', 'gottfrid', 'goudreault', 'gough', 'gouging', 'gourd', 'gourdel', 'gouv', 'gov', 'gove', 'govenment', 'goverment', 'govern', 'governance', 'governed', 'governement', 'governing', 'government', 'governmental', 'governments', 'governor', 'governors', 'governs', 'govt', 'govts', 'gowadia', 'gox', 'goyim', 'gozi', 'gp', 'gps', 'grab', 'grabbed', 'grabbers', 'grabbing', 'grabs', 'grace', 'graciously', 'grad', 'grade', 'graders', 'grades', 'gradient', 'grads', 'gradual', 'gradually', 'graduate', 'graduated', 'graduates', 'graffiti', 'graft', 'graham', 'grail', 'grain', 'grainy', 'gram', 'grams', 'granades', 'grand', 'grandchildren', 'granddaughter', 'grande', 'grandes', 'grandfather', 'grandiloquent', 'grandma', 'grandmother', 'grandmothers', 'grandparentsmay', 'grandson', 'grandsons', 'grandstanding', 'granite', 'granma', 'grannies', 'grant', 'granted', 'granting', 'grants', 'grape', 'grapes', 'graph', 'graphene', 'graphic', 'graphical', 'graphite', 'graphs', 'grapple', 'grappled', 'grapples', 'grappling', 'grasp', 'grasping', 'grass', 'grasslands', 'grassroots', 'grata', 'grateful', 'grates', 'gratteri', 'gratuitous', 'grave', 'gravely', 'graves', 'graveside', 'gravest', 'graveyard', 'gravity', 'gray', 'grayish', 'grayling', 'grayson', 'grazziotin', 'grease', 'greased', 'great', 'greater', 'greatest', 'greatly', 'greatness', 'greece', 'greeces', 'greed', 'greedy', 'greek', 'greeks', 'green', 'greenback', 'greener', 'greenery', 'greenest', 'greenhouse', 'greenhouses', 'greenland', 'greenlanders', 'greenock', 'greenpeace', 'greens', 'greenwald', 'greenwalds', 'greenward', 'greenwich', 'greet', 'greeted', 'greeting', 'greetings', 'greets', 'greg', 'grenada', 'grenade', 'grenades', 'grenoble', 'grenstad', 'greste', 'gretchen', 'grew', 'grey', 'greyhound', 'greyjing', 'greyold', 'grid', 'gridlock', 'grids', 'grief', 'grievance', 'grievances', 'grieves', 'grieving', 'griffin', 'grigoropoulos', 'grill', 'grilled', 'grilles', 'grilling', 'grillo', 'grills', 'grillwalker', 'grim', 'grind', 'grinder', 'grinders', 'grinding', 'grindr', 'grinds', 'grip', 'gripen', 'gripped', 'gripping', 'grips', 'grisly', 'gritty', 'grl', 'groaning', 'groans', 'grocery', 'groin', 'groom', 'groomed', 'grooming', 'groove', 'grooves', 'groped', 'groping', 'gross', 'grosser', 'grossly', 'grossman', 'grosuleac', 'grote', 'grotesque', 'grotto', 'grou', 'ground', 'groundbreaking', 'grounded', 'grounding', 'groundless', 'grounds', 'groundwater', 'groundwork', 'group', 'grouped', 'groupenemy', 'grouper', 'groupon', 'groups', 'grove', 'grow', 'grower', 'growers', 'growing', 'grown', 'grows', 'growth', 'growths', 'grozny', 'grubby', 'grueling', 'gruesome', 'gruff', 'grumman', 'grundgesetz', 'gsm', 'gt', 'gtfo', 'gu', 'guacamole', 'guadalajara', 'guadalupe', 'guam', 'guan', 'guangcheng', 'guangdong', 'guangxi', 'guangzhou', 'guantanamo', 'guantnamo', 'guarantee', 'guaranteed', 'guaranteeing', 'guarantees', 'guard', 'guarded', 'guardian', 'guardians', 'guardianship', 'guarding', 'guardiola', 'guards', 'guardsmen', 'guatemala', 'guatemalan', 'guatemalans', 'guava', 'gubernatorial', 'guenter', 'guerilla', 'guerrero', 'guerrilla', 'guerrillas', 'guess', 'guessed', 'guesses', 'guessing', 'guest', 'guestbook', 'guests', 'guevara', 'guidance', 'guide', 'guidebook', 'guided', 'guidelines', 'guides', 'guiding', 'guido', 'guild', 'guilders', 'guillen', 'guillermo', 'guillotine', 'guillotined', 'guilt', 'guilty', 'guinea', 'guinean', 'guinness', 'guise', 'guises', 'guitarist', 'guizhou', 'gujjar', 'gul', 'gulag', 'gulags', 'gulf', 'gullible', 'gulliver', 'gulu', 'gum', 'gun', 'gunboats', 'gundam', 'gundersen', 'gunfight', 'gunfire', 'guniea', 'gunman', 'gunmen', 'gunned', 'gunpoint', 'gunpowder', 'guns', 'gunschange', 'gunship', 'gunships', 'gunshot', 'gunshots', 'gunther', 'gurdon', 'gurion', 'gurkha', 'gurkhas', 'guru', 'gusher', 'gushes', 'gushing', 'gustav', 'gustavo', 'gustl', 'gut', 'guts', 'gutted', 'guttenberg', 'guttenplag', 'gutter', 'gutting', 'guy', 'guyana', 'guys', 'guzman', 'guzmn', 'guzzled', 'gvmt', 'gwaii', 'gwh', 'gymboree', 'gymnasium', 'gymnast', 'gymnastic', 'gymnastics', 'gymnasts', 'gynecologist', 'gynecology', 'gypsies', 'gypsy', 'h1n1', 'h5n1', 'h5n8', 'h7n9', 'ha', 'haagen', 'haarde', 'haaretz', 'habeas', 'habesch', 'habib', 'habit', 'habitable', 'habitat', 'habitation', 'habitats', 'habits', 'habitually', 'hacienda', 'hack', 'hacked', 'hacker', 'hackers', 'hacking', 'hackings', 'hackles', 'hackney', 'hacks', 'hacktivist', 'hacktivists', 'hactivists', 'had', 'hadcrut', 'haddock', 'hadfield', 'haditha', 'hadn', 'hadnt', 'hadopi', 'hadron', 'hadzic', 'hael', 'haemorrhage', 'haemorrhaging', 'hafiz', 'haftanin', 'hagel', 'hagens', 'haggle', 'hague', 'haia', 'haida', 'haider', 'haifa', 'haiku', 'hail', 'hailed', 'hailing', 'hails', 'hailstorm', 'hainan', 'haining', 'hair', 'haircuts', 'hairdressers', 'haired', 'hairless', 'hairs', 'hairstyles', 'hairy', 'haiti', 'haitian', 'haitians', 'haitis', 'haiyan', 'haj', 'hajaj', 'haji', 'hajj', 'hakakian', 'hakim', 'halacha', 'halal', 'halappanavar', 'haldane', 'halden', 'haleh', 'half', 'halfway', 'halhul', 'halifax', 'halima', 'hall', 'halla', 'hallelujah', 'halliburton', 'hallmarks', 'halloween', 'halls', 'hallucinogen', 'hallucinogenic', 'halt', 'halted', 'halter', 'halting', 'halts', 'halva', 'halve', 'halved', 'halves', 'ham', 'hama', 'hamad', 'haman', 'hamas', 'hamass', 'hamburg', 'hamburger', 'hamburgers', 'hamdiya', 'hamed', 'hamid', 'hamidi', 'hamilton', 'hamlet', 'hamlets', 'hammarskjld', 'hammarskjold', 'hammer', 'hammered', 'hammerhead', 'hammerheads', 'hammond', 'hamper', 'hampered', 'hampering', 'hampers', 'hampshire', 'hamren', 'hamza', 'han', 'hancock', 'hand', 'handan', 'handbag', 'handball', 'handbook', 'handcuff', 'handcuffed', 'handcuffs', 'handed', 'handedly', 'handedness', 'handel', 'handelsblatt', 'handey', 'handful', 'handguns', 'handicapped', 'handily', 'handing', 'handkerchiefs', 'handl', 'handle', 'handled', 'handlers', 'handling', 'handout', 'handouts', 'handover', 'hands', 'handshake', 'handshakes', 'handsomest', 'handwipe', 'handwriting', 'handy', 'handyman', 'hanes', 'hang', 'hanged', 'hanging', 'hangings', 'hangman', 'hangout', 'hangover', 'hangovers', 'hangs', 'hangu', 'hangzhou', 'hanh', 'hani', 'hanin', 'haniyeh', 'hankering', 'hankyoreh', 'hannah', 'hannan', 'hannibal', 'hanoi', 'hanover', 'hans', 'hapless', 'happen', 'happened', 'happening', 'happens', 'happier', 'happiest', 'happily', 'happiness', 'happy', 'haqqani', 'harakat', 'haram', 'harare', 'harass', 'harassed', 'harassers', 'harassing', 'harassment', 'harasta', 'harbin', 'harbor', 'harboring', 'harbors', 'harbour', 'harbouring', 'hard', 'hardball', 'hardcore', 'harddisks', 'harden', 'hardened', 'hardening', 'hardens', 'harder', 'hardest', 'hardheaded', 'hardin', 'hardline', 'hardliners', 'hardly', 'hardship', 'hardware', 'hare', 'harem', 'hargesheimer', 'hari', 'hariri', 'haris', 'harlem', 'harley', 'harm', 'harmed', 'harmful', 'harmfully', 'harming', 'harmless', 'harmonious', 'harms', 'harnessed', 'harold', 'haron', 'harp', 'harper', 'harpers', 'harpooned', 'harrassment', 'harried', 'harrier', 'harriet', 'harris', 'harrison', 'harrowing', 'harry', 'harryhausen', 'harsh', 'harsher', 'harshest', 'harshly', 'hart', 'hartebeest', 'harter', 'hartlepool', 'harvard', 'harvest', 'harvested', 'harvester', 'harvesters', 'harvesting', 'harvests', 'harvey', 'haryana', 'has', 'hasan', 'hasbara', 'hash', 'hashi', 'hashimoto', 'hashish', 'hashtag', 'hasina', 'hasn', 'hasnt', 'hassan', 'hassle', 'hastily', 'hastings', 'hasty', 'hat', 'hatched', 'hatches', 'hatchet', 'hatching', 'hatchling', 'hate', 'hated', 'hateful', 'hatemongering', 'hater', 'haters', 'hates', 'hatf', 'hathaway', 'hatian', 'hating', 'hatla', 'hatlo', 'hatred', 'hats', 'haul', 'hauled', 'hauling', 'hauls', 'haunted', 'haunting', 'hauntingly', 'haunts', 'hausa', 'havana', 'have', 'haven', 'havens', 'havent', 'haves', 'having', 'havoc', 'haw', 'hawaii', 'hawass', 'hawk', 'hawking', 'hawkings', 'hawks', 'hayao', 'hayat', 'hayden', 'hayward', 'haywood', 'hazard', 'hazardous', 'hazards', 'hazare', 'haze', 'hazel', 'hazelnut', 'hazem', 'haziq', 'hazmat', 'hb', 'hbgary', 'hbos', 'hd', 'hdd', 'hdi', 'hdtv', 'he', 'head', 'headache', 'headaches', 'headbands', 'headbut', 'headbutt', 'headbutting', 'headed', 'headgear', 'headhunters', 'heading', 'headless', 'headline', 'headlines', 'headphones', 'headquarters', 'heads', 'headscarf', 'headscarves', 'headshot', 'headsis', 'headteacher', 'headteachers', 'headway', 'headwear', 'heal', 'healed', 'healer', 'healers', 'healh', 'healing', 'health', 'healthcare', 'healthier', 'healthpop', 'healthy', 'heaney', 'heaps', 'hear', 'heard', 'hearing', 'hearings', 'hears', 'hearse', 'heart', 'heartbeat', 'heartbleed', 'heartbreaking', 'heartbroken', 'heartfelt', 'heartland', 'heartless', 'hearts', 'heartwarming', 'heat', 'heated', 'heath', 'heather', 'heathrow', 'heating', 'heats', 'heatstroke', 'heatwave', 'heatwaves', 'heaven', 'heavier', 'heaviest', 'heavily', 'heavy', 'heavyweights', 'hebei', 'hebrew', 'hebrides', 'hebron', 'heck', 'heckled', 'heckler', 'heckling', 'heckofa', 'heckuva', 'hectare', 'hectares', 'hectars', 'hed', 'hedegaard', 'hedge', 'hedges', 'heed', 'heeding', 'heel', 'heels', 'heet', 'hefty', 'hegemony', 'height', 'heightened', 'heightens', 'heights', 'heil', 'heinous', 'heir', 'heiress', 'heirs', 'heist', 'heists', 'heitmeyer', 'hekmati', 'held', 'helen', 'helena', 'helge', 'helicopter', 'helicopters', 'helipads', 'helium', 'hell', 'helle', 'hellfire', 'hellin', 'hellish', 'hellloooo', 'hello', 'hells', 'helluva', 'hellyer', 'helmand', 'helmet', 'helmets', 'helmut', 'help', 'helped', 'helpers', 'helpful', 'helpfully', 'helping', 'helpless', 'helplessly', 'helpline', 'helps', 'helsinki', 'helth', 'hemisphere', 'hemispheres', 'hemki', 'hemmed', 'hemming', 'hemorrhage', 'hemorrhagic', 'hemp', 'hen', 'hena', 'henan', 'henceforth', 'henchmen', 'hendrix', 'henge', 'henhouse', 'henin', 'henning', 'henric', 'henrique', 'henry', 'heorin', 'hepatitis', 'her', 'heracleion', 'herald', 'heralded', 'heralding', 'heralds', 'herat', 'herb', 'herbal', 'herbicide', 'herbicides', 'herbie', 'herbivore', 'herbivores', 'herbs', 'hercules', 'herd', 'herded', 'herder', 'herds', 'here', 'hereabout', 'heres', 'heresteer', 'heresy', 'heretofore', 'heriberto', 'heritage', 'herman', 'hermaphrodite', 'hermes', 'hermit', 'hernandez', 'hero', 'heroes', 'heroic', 'heroin', 'heroine', 'heroines', 'heroism', 'heron', 'heros', 'herpes', 'herself', 'hersh', 'hershey', 'herta', 'herv', 'herve', 'herzegovina', 'hes', 'hesham', 'heshmatiyeh', 'hesitate', 'hesitation', 'hess', 'heterosexual', 'heterosexuality', 'heterosexuals', 'hetfield', 'hetherington', 'hewlett', 'hewn', 'hexane', 'hexes', 'hey', 'heysham', 'heywood', 'hezbollah', 'hft', 'hg', 'hgsta', 'hgvs', 'hh', 'hi', 'hiatus', 'hibernate', 'hibernating', 'hibernation', 'hicks', 'hid', 'hidden', 'hide', 'hideaki', 'hidefrom', 'hidemyass', 'hideous', 'hideout', 'hides', 'hiding', 'hieroglyphics', 'higgs', 'high', 'higher', 'highest', 'highlands', 'highlight', 'highlighted', 'highlighting', 'highlights', 'highly', 'highrise', 'highs', 'highveld', 'highway', 'highways', 'higly', 'hijab', 'hijabs', 'hijack', 'hijacked', 'hijacker', 'hijackers', 'hijackes', 'hijacking', 'hijackings', 'hijak', 'hike', 'hiked', 'hiker', 'hikers', 'hikes', 'hiking', 'hilal', 'hilarious', 'hilarity', 'hilary', 'hill', 'hilla', 'hillary', 'hills', 'hillsborough', 'hillsong', 'hilltop', 'hilltops', 'hilo', 'hilton', 'hilu', 'him', 'himalayan', 'himalayas', 'himanshu', 'himself', 'hinder', 'hindered', 'hindering', 'hinders', 'hindley', 'hindu', 'hinduism', 'hindus', 'hindustan', 'hindwings', 'hinge', 'hingorani', 'hint', 'hinted', 'hinting', 'hinton', 'hints', 'hip', 'hippest', 'hippies', 'hippocratic', 'hippos', 'hippy', 'hipsters', 'hire', 'hired', 'hires', 'hiring', 'hiroo', 'hiros', 'hiroshi', 'hiroshima', 'hirsi', 'hirst', 'his', 'hispanic', 'hispanically', 'hissa', 'hissy', 'historian', 'historians', 'historic', 'historical', 'historically', 'history', 'historys', 'hit', 'hitachi', 'hitch', 'hitchens', 'hitchhiker', 'hitchhikers', 'hiter', 'hitler', 'hitlers', 'hitlist', 'hitman', 'hitmen', 'hits', 'hitting', 'hiv', 'hive', 'hiyam', 'hizbollah', 'hizbulah', 'hizbullah', 'hk', 'hm', 'hmcs', 'hmmm', 'hmmmm', 'hmo', 'hmong', 'hmp', 'hmrc', 'hms', 'ho', 'hoard', 'hoarded', 'hoarding', 'hoards', 'hoare', 'hoax', 'hoaxer', 'hoaxes', 'hobbies', 'hobbit', 'hobbled', 'hobbling', 'hobby', 'hobnobs', 'hobo', 'hockey', 'hodgkin', 'hodgson', 'hoffman', 'hoffmann', 'hogan', 'hogg', 'hoh', 'hoisted', 'hokey', 'hokkaido', 'hokum', 'holbrooke', 'hold', 'holden', 'holder', 'holders', 'holding', 'holdings', 'holds', 'hole', 'holed', 'holes', 'holiday', 'holidaying', 'holidays', 'holiest', 'holiness', 'holistic', 'holland', 'hollande', 'hollow', 'holloway', 'hollowed', 'hollowing', 'hollywood', 'holocaust', 'holocene', 'hologram', 'holy', 'homage', 'homburg', 'home', 'homecoming', 'homed', 'homegrown', 'homeland', 'homeless', 'homelessness', 'homemade', 'homeopath', 'homeopathic', 'homeopathy', 'homeowner', 'homeowners', 'homepage', 'homer', 'homes', 'homeschooled', 'homestead', 'hometown', 'homework', 'homewrecking', 'homicidal', 'homicide', 'homicides', 'hominid', 'hommage', 'homo', 'homocides', 'homoerotica', 'homophobes', 'homophobia', 'homophobic', 'homosexual', 'homosexuality', 'homosexuals', 'homs', 'honda', 'hondas', 'hondros', 'honduran', 'hondurans', 'honduras', 'hone', 'honest', 'honestly', 'honesty', 'honey', 'honeybee', 'honeybees', 'honeymoon', 'honeypot', 'honeysuckle', 'honeytrap', 'honeytraps', 'hong', 'honor', 'honorable', 'honorary', 'honored', 'honoring', 'honour', 'honoured', 'honouring', 'honours', 'honshu', 'hood', 'hooded', 'hoodie', 'hoodies', 'hoodless', 'hoodlum', 'hoods', 'hoodwinked', 'hook', 'hooked', 'hooker', 'hookers', 'hooking', 'hooks', 'hooliganism', 'hooligans', 'hooray', 'hooted', 'hoovered', 'hop', 'hope', 'hoped', 'hopeful', 'hopeless', 'hopelessly', 'hopelessness', 'hopes', 'hopi', 'hoping', 'hordes', 'horizon', 'horizons', 'hormone', 'hormones', 'hormuz', 'horn', 'horned', 'hornet', 'hornets', 'horns', 'horovitz', 'horrendous', 'horrible', 'horribly', 'horrid', 'horrific', 'horrifically', 'horrified', 'horrify', 'horrifying', 'horrifyingly', 'horror', 'horrors', 'horse', 'horsemeat', 'horsemen', 'horses', 'horst', 'hort', 'hortons', 'hosed', 'hosein', 'hosepipe', 'hoses', 'hosni', 'hospitable', 'hospital', 'hospitalised', 'hospitality', 'hospitalize', 'hospitalized', 'hospitals', 'hossein', 'host', 'hostage', 'hostages', 'hosted', 'hostel', 'hosters', 'hostesses', 'hostessing', 'hostile', 'hostiles', 'hostilities', 'hostility', 'hosting', 'hosts', 'hot', 'hotbed', 'hotel', 'hotele', 'hoteliers', 'hotels', 'hotfile', 'hotline', 'hotly', 'hotmail', 'hotrod', 'hotspot', 'hotspots', 'hotter', 'hottest', 'hottie', 'hotting', 'hou', 'houbara', 'houla', 'hounded', 'hounds', 'hounshell', 'hour', 'hourlong', 'hourly', 'hours', 'house', 'houseboat', 'housed', 'household', 'households', 'housemaid', 'housemaids', 'houses', 'housewife', 'housewives', 'housework', 'housing', 'houston', 'houstonian', 'houthi', 'hove', 'hoverflies', 'hovering', 'hovers', 'how', 'howard', 'howe', 'however', 'howling', 'hoxha', 'hp', 'hpv', 'hq', 'hr', 'hrb', 'hrc', 'hrs', 'hrw', 'hsbc', 'hsh', 'hsien', 'hst', 'htm', 'html', 'http', 'https', 'hu', 'huan', 'huang', 'huawei', 'hub', 'hubbard', 'hubble', 'hubby', 'hubei', 'hubris', 'hubs', 'huckabee', 'huckleberry', 'huddled', 'huddling', 'hudson', 'hug', 'huge', 'hugely', 'huggers', 'hugging', 'hugh', 'hughes', 'hugo', 'huh', 'huis', 'hulking', 'hull', 'hullabaloo', 'hulu', 'humala', 'human', 'humane', 'humanely', 'humanises', 'humanism', 'humanist', 'humanitarian', 'humanitarians', 'humanity', 'humanitys', 'humankind', 'humankinds', 'humanly', 'humans', 'humble', 'humbled', 'hume', 'humiliate', 'humiliated', 'humiliating', 'humiliation', 'humility', 'humint', 'hummer', 'hummus', 'humongous', 'humor', 'humorist', 'humpback', 'humvee', 'humvees', 'hunan', 'hundnut', 'hundred', 'hundreds', 'hundredths', 'hung', 'hungarian', 'hungarians', 'hungary', 'hungarys', 'hunger', 'hungover', 'hungriest', 'hungry', 'hunkers', 'hunt', 'hunted', 'hunter', 'hunters', 'hunting', 'huntington', 'hunts', 'hurdle', 'hurdler', 'hurl', 'hurled', 'hurling', 'hurls', 'hurrah', 'hurricane', 'hurricanes', 'hurried', 'hurriyet', 'hurry', 'hurt', 'hurting', 'hurtling', 'hurts', 'husband', 'husbands', 'hush', 'hussainan', 'hussein', 'husseini', 'hustings', 'hustle', 'hut', 'hutch', 'hutterite', 'hutton', 'hutu', 'hutus', 'hvb', 'hwang', 'hwange', 'hyatt', 'hybrid', 'hyde', 'hyderabad', 'hydrate', 'hydraulic', 'hydraulics', 'hydro', 'hydrocarbon', 'hydrocarbons', 'hydroelectric', 'hydrogen', 'hydroponics', 'hydropower', 'hye', 'hyena', 'hygeine', 'hygiene', 'hymens', 'hymn', 'hype', 'hyped', 'hyper', 'hyperbole', 'hyperinflation', 'hyperlinks', 'hypersonic', 'hyperventilating', 'hypocrisy', 'hypocrite', 'hypocrites', 'hypocritical', 'hypocritically', 'hypothermia', 'hypovereinsbank', 'hysteria', 'hysterical', 'hyun', 'hyundai', 'i24news', 'iaea', 'ian', 'iav', 'ibiza', 'ibm', 'ibnlive', 'ibrahim', 'icbm', 'icbms', 'icc', 'ice', 'iceberg', 'icebergs', 'icebreaker', 'iced', 'iceland', 'icelanders', 'icelandic', 'icelands', 'icesave', 'ichi', 'icing', 'icj', 'icon', 'iconic', 'icrc', 'icy', 'id', 'ida', 'idaho', 'idd', 'idea', 'ideal', 'idealist', 'idealized', 'idealogy', 'ideals', 'ideas', 'idemitsu', 'identical', 'identifed', 'identifiable', 'identification', 'identified', 'identifies', 'identify', 'identifying', 'identities', 'identity', 'ideological', 'ideologies', 'ideology', 'idf', 'idi', 'idiocy', 'idiot', 'idiotic', 'idiots', 'idle', 'idled', 'idlib', 'idling', 'idly', 'idol', 'idolatrous', 'idolatry', 'idpc', 'ids', 'idu', 'ie', 'ie6', 'iea', 'ied', 'ieds', 'ieee', 'ieper', 'if', 'ifoghas', 'ifrc', 'ify', 'ignacio', 'ignatief', 'ignite', 'ignited', 'ignites', 'igniting', 'ignition', 'ignoble', 'ignorance', 'ignorant', 'ignore', 'ignored', 'ignores', 'ignoring', 'igor', 'iguala', 'iguana', 'ihs', 'ii', 'iif', 'iii', 'iiis', 'iinet', 'iinsurance', 'ijf', 'ike', 'ikea', 'ikeahackers', 'ikeshima', 'il', 'ilam', 'ilham', 'ilk', 'ill', 'illegal', 'illegally', 'illegals', 'illegitimate', 'illiberal', 'illicit', 'illicitly', 'illinois', 'illiteracy', 'illiterate', 'illiterates', 'illness', 'illnesses', 'illogical', 'illridewithyou', 'illuminate', 'illusion', 'illusions', 'illusory', 'illustrate', 'illustrated', 'illustration', 'illustrations', 'ilo', 'ilocos', 'ils', 'ilyumzhinov', 'im', 'image', 'imagery', 'images', 'imaginary', 'imaginative', 'imagine', 'imagined', 'imaging', 'imagining', 'imam', 'imams', 'iman', 'imbalance', 'imbalances', 'imei', 'imf', 'imfs', 'img', 'imgur', 'imitating', 'immanent', 'immediacy', 'immediate', 'immediately', 'immemorial', 'immense', 'immensely', 'immersion', 'immigrant', 'immigrants', 'immigrate', 'immigrating', 'immigration', 'imminent', 'immobility', 'immodest', 'immodesty', 'immolate', 'immolated', 'immolates', 'immolation', 'immolations', 'immoral', 'immorality', 'immortal', 'immortality', 'immortals', 'immune', 'immunised', 'immunity', 'immunizations', 'impact', 'impacted', 'impacting', 'impacts', 'impaired', 'impairs', 'impale', 'impaled', 'impartial', 'impartiality', 'impartially', 'impasse', 'impasses', 'impassioned', 'impassive', 'impatient', 'impeach', 'impeached', 'impeachment', 'impeccable', 'impeded', 'impedes', 'impediment', 'impeding', 'impending', 'imperative', 'imperfect', 'imperial', 'imperialism', 'imperialist', 'imperialists', 'imperiling', 'imperils', 'impermissible', 'impersonate', 'impersonating', 'impersonator', 'impervious', 'impish', 'implant', 'implanted', 'implants', 'implausible', 'implement', 'implementation', 'implemented', 'implementing', 'implicate', 'implicated', 'implicates', 'implicating', 'implication', 'implications', 'implied', 'implies', 'implode', 'imploded', 'implodes', 'implored', 'implosion', 'imply', 'implying', 'import', 'importance', 'important', 'importantly', 'imported', 'importer', 'importers', 'importing', 'imports', 'impose', 'imposed', 'imposes', 'imposing', 'imposition', 'impossible', 'impostor', 'impotence', 'impotent', 'impound', 'impounded', 'impoverished', 'impoverishment', 'impregnable', 'impregnated', 'impress', 'impressed', 'impression', 'impressions', 'impressive', 'imprinted', 'imprison', 'imprisoned', 'imprisoning', 'imprisonment', 'imprisons', 'improbable', 'improbably', 'impromptu', 'improper', 'improperly', 'improve', 'improved', 'improvement', 'improvements', 'improves', 'improving', 'imprudent', 'impunity', 'imran', 'imsi', 'in', 'inability', 'inaccessible', 'inaccurate', 'inaction', 'inadequate', 'inadvertent', 'inadvertently', 'inappropriate', 'inappropriately', 'inaugurated', 'inaugurating', 'inauguration', 'inborn', 'inboxes', 'inbreeding', 'inbuilt', 'inc', 'inca', 'incandescent', 'incapable', 'incapacity', 'incarceration', 'incarnation', 'incendiary', 'incensed', 'incentive', 'incentives', 'incentivises', 'incessant', 'incest', 'incestuous', 'inch', 'inches', 'inching', 'incidence', 'incident', 'incidentally', 'incidents', 'incinerate', 'incinerated', 'incinerating', 'incineration', 'incite', 'incited', 'incitement', 'inciting', 'incl', 'include', 'included', 'includes', 'including', 'inclusion', 'inclusive', 'incognito', 'income', 'incomes', 'incoming', 'incompatible', 'incompetence', 'incompetent', 'incomplete', 'incomprehensible', 'inconceivable', 'inconsistent', 'inconsolably', 'inconvenient', 'incorporate', 'incorporated', 'incorrect', 'incorrectly', 'increase', 'increased', 'increases', 'increasing', 'increasingly', 'incredible', 'incredibly', 'increment', 'incriminate', 'incriminating', 'incubator', 'incumbent', 'incunabula', 'incurable', 'incurred', 'incurs', 'incursion', 'incursions', 'indebted', 'indecency', 'indecent', 'indecently', 'indecision', 'indecisive', 'indeed', 'indefensible', 'indefinite', 'indefinitely', 'indemnity', 'indentured', 'independence', 'independent', 'independently', 'independents', 'indescribable', 'indestructible', 'index', 'indexes', 'indexing', 'indexreach', 'india', 'indian', 'indiana', 'indians', 'indianswe', 'indias', 'indicate', 'indicated', 'indicates', 'indicating', 'indication', 'indications', 'indicators', 'indict', 'indicted', 'indicting', 'indictment', 'indictments', 'indicts', 'indie', 'indifference', 'indifferent', 'indigenous', 'indigenously', 'indignant', 'indignants', 'indignation', 'indira', 'indirect', 'indirectly', 'indiscriminate', 'indiscriminately', 'indispensable', 'indisputable', 'indited', 'inditex', 'individual', 'individualism', 'individually', 'individuals', 'indivisible', 'indo', 'indoctrinated', 'indoctrinating', 'indoleaks', 'indonesia', 'indonesian', 'indonesians', 'indonesias', 'indoor', 'indoors', 'indore', 'induce', 'induced', 'inducing', 'inductees', 'industrial', 'industrialised', 'industrialist', 'industrialization', 'industrialized', 'industries', 'industry', 'industrys', 'indy', 'indymedia', 'ineffective', 'inefficient', 'ineligible', 'inept', 'ineptly', 'inequalities', 'inequality', 'inert', 'ines', 'inescapable', 'inevitability', 'inevitable', 'inevitably', 'inexcusable', 'inexorably', 'inexplicable', 'inexplicably', 'inextricably', 'infamous', 'infamy', 'infancy', 'infant', 'infanticide', 'infantile', 'infantry', 'infants', 'infect', 'infected', 'infecting', 'infection', 'infections', 'infectious', 'infects', 'inferior', 'inferiority', 'inferno', 'infertile', 'infertility', 'infestation', 'infested', 'infidel', 'infidels', 'infighting', 'infiltrate', 'infiltrated', 'infiltrates', 'infiltrating', 'infiltration', 'infiltrators', 'inflame', 'inflamed', 'inflames', 'inflaming', 'inflammatory', 'inflatable', 'inflate', 'inflated', 'inflation', 'inflexible', 'inflict', 'inflicted', 'inflight', 'influence', 'influenced', 'influenceover', 'influences', 'influencing', 'influential', 'influenza', 'influx', 'info', 'infographic', 'inform', 'informal', 'informant', 'informants', 'information', 'informative', 'informed', 'informers', 'informing', 'infosys', 'infotainment', 'infowars', 'infra', 'infraction', 'infragard', 'infrared', 'infrastructure', 'infrastructures', 'infringe', 'infringed', 'infringement', 'infringements', 'infringes', 'infringing', 'infront', 'infuriated', 'infuriates', 'infuriating', 'infused', 'infusions', 'ing', 'ingested', 'ingrained', 'ingredient', 'ingredients', 'ingush', 'ingushetia', 'inhabitants', 'inhabited', 'inhaled', 'inhaling', 'inherent', 'inherently', 'inherit', 'inheritance', 'inherited', 'inherits', 'inhibitions', 'inhuman', 'inhumane', 'inhumanity', 'inigo', 'initial', 'initially', 'initials', 'initiate', 'initiated', 'initiating', 'initiation', 'initiative', 'initiatives', 'inject', 'injected', 'injecting', 'injection', 'injections', 'injects', 'injunction', 'injunctions', 'injure', 'injured', 'injures', 'injuries', 'injuring', 'injurious', 'injury', 'injustice', 'injustices', 'ink', 'inked', 'inks', 'inland', 'inmate', 'inmates', 'inna', 'inner', 'innfluential', 'innkeeping', 'innocence', 'innocent', 'innocently', 'innocents', 'innocuous', 'innovation', 'innovative', 'input', 'inputs', 'inputting', 'inquest', 'inquirer', 'inquiries', 'inquiry', 'inquisition', 'inroads', 'ins', 'insane', 'insanely', 'insanity', 'insatiable', 'insect', 'insecticide', 'insecticides', 'insects', 'insecure', 'insecurity', 'inseminated', 'insensitivity', 'insert', 'inserted', 'inside', 'insider', 'insiders', 'insight', 'insightful', 'insights', 'insignia', 'insignificant', 'insinuating', 'insist', 'insisted', 'insistence', 'insistently', 'insisting', 'insists', 'insolent', 'insolvency', 'insolvent', 'insourcing', 'inspect', 'inspected', 'inspecting', 'inspection', 'inspections', 'inspector', 'inspectorate', 'inspectors', 'inspects', 'inspiration', 'inspire', 'inspired', 'inspires', 'inspiring', 'instability', 'instagram', 'instagrams', 'install', 'installation', 'installations', 'installed', 'installing', 'installment', 'installs', 'instance', 'instances', 'instant', 'instantaneously', 'instantly', 'instapundit', 'instated', 'instead', 'instigate', 'instigated', 'instigating', 'instigators', 'instil', 'instill', 'instinct', 'instinctively', 'instincts', 'institute', 'instituted', 'institutes', 'instituting', 'institution', 'institutional', 'institutions', 'instructed', 'instructing', 'instruction', 'instructions', 'instructor', 'instructs', 'instrument', 'instrumental', 'instruments', 'insufferable', 'insufficient', 'insufficiently', 'insular', 'insularity', 'insult', 'insulted', 'insulting', 'insults', 'insurance', 'insured', 'insurer', 'insurers', 'insurgency', 'insurgent', 'insurgents', 'insuring', 'insurmountable', 'int', 'intact', 'intake', 'integral', 'integrate', 'integrated', 'integrates', 'integrating', 'integration', 'integrative', 'integrety', 'integrity', 'intel', 'intellectual', 'intellectually', 'intellectuals', 'intelligence', 'intelligences', 'intelligent', 'intelligible', 'intelligibly', 'intend', 'intended', 'intends', 'intense', 'intensified', 'intensifies', 'intensify', 'intensifying', 'intensity', 'intensive', 'intensively', 'intent', 'intention', 'intentional', 'intentionally', 'intentions', 'intepretation', 'inter', 'interact', 'interaction', 'interactive', 'interbank', 'interbred', 'intercept', 'intercepted', 'intercepting', 'interception', 'interceptor', 'interceptors', 'intercepts', 'interconnected', 'interconnection', 'intercontinental', 'intercourse', 'interest', 'interested', 'interesting', 'interestingly', 'interests', 'interface', 'interfaith', 'interfax', 'interfere', 'interference', 'interferes', 'interfering', 'intergovernmental', 'interim', 'interior', 'interiors', 'interlinked', 'interlocking', 'intermarriage', 'intermediaries', 'intermediary', 'intern', 'internal', 'internalised', 'internally', 'international', 'internationally', 'internationals', 'interned', 'internet', 'internetavgift', 'internets', 'internetz', 'interning', 'internment', 'interns', 'internships', 'interoute', 'interplanetary', 'interpol', 'interpretation', 'interpreted', 'interpreter', 'interpreters', 'interracial', 'interred', 'interrogate', 'interrogates', 'interrogating', 'interrogation', 'interrogations', 'interrogator', 'interrogators', 'interrupt', 'interrupted', 'interrupting', 'interrupts', 'intersection', 'intersex', 'interstate', 'interstellar', 'intertwine', 'intertwined', 'intervene', 'intervened', 'intervenes', 'intervening', 'intervention', 'interventionist', 'interventions', 'interview', 'interviewed', 'interviewer', 'interviewing', 'interviews', 'intestines', 'intifada', 'intimate', 'intimately', 'intimidate', 'intimidated', 'intimidates', 'intimidating', 'intimidation', 'intl', 'into', 'intolerable', 'intolerance', 'intolerant', 'intoxicated', 'intractable', 'intranet', 'intransigence', 'intrest', 'intricate', 'intrigues', 'intriguing', 'intrinsic', 'intrnet', 'intro', 'introduce', 'introduced', 'introduces', 'introducing', 'introduction', 'introductory', 'introspection', 'intrude', 'intruder', 'intruders', 'intrudes', 'intruding', 'intruduced', 'intrusion', 'intrusions', 'intrusive', 'intrusiveness', 'intuition', 'inuit', 'inundate', 'invade', 'invaded', 'invader', 'invaders', 'invades', 'invading', 'invalid', 'invalidate', 'invalidated', 'invalidates', 'invaluable', 'invasion', 'invasions', 'invasive', 'invent', 'invented', 'inventhelp', 'inventing', 'invention', 'inventive', 'inventor', 'inventors', 'inventory', 'invents', 'inverness', 'inverted', 'invesments', 'invest', 'invested', 'investigate', 'investigated', 'investigates', 'investigating', 'investigation', 'investigations', 'investigationus', 'investigative', 'investigator', 'investigators', 'investigatory', 'investing', 'investment', 'investments', 'investor', 'investors', 'invests', 'invigorated', 'invincibility', 'inviolable', 'invisibility', 'invisible', 'invitation', 'invite', 'invited', 'invites', 'inviting', 'invoices', 'invoke', 'invoked', 'involuntary', 'involve', 'involved', 'involvement', 'involves', 'involving', 'invulnerability', 'inward', 'ioc', 'iodine', 'iohannis', 'iona', 'ior', 'ios', 'iowa', 'ip', 'ipad', 'ipads', 'ipcc', 'iphone', 'iphones', 'ipod', 'ipods', 'ipredator', 'iq', 'iqs', 'iquique', 'ira', 'iran', 'iranian', 'iranians', 'irans', 'iranwire', 'iranwith', 'iraq', 'iraqi', 'iraqis', 'iraqs', 'irate', 'irc', 'ire', 'ireland', 'irelandhas', 'irelands', 'ireport', 'iri', 'irish', 'irishcentral', 'irishnews', 'irisl', 'irking', 'irks', 'irma', 'iron', 'ironic', 'ironically', 'irons', 'irony', 'iroquois', 'irradiated', 'irradiating', 'irrawaddy', 'irrecoverable', 'irredentist', 'irrefutable', 'irregular', 'irregularities', 'irregulars', 'irrelevant', 'irreligious', 'irreparable', 'irreparably', 'irresistible', 'irrespective', 'irresponsibility', 'irresponsible', 'irretrievably', 'irreversible', 'irreversibly', 'irrevocably', 'irrigating', 'irrigation', 'irritated', 'irs', 'irving', 'irwin', 'irwins', 'is', 'isaac', 'isabel', 'isaf', 'isawiyya', 'isfahan', 'ishikawa', 'isi', 'isiboro', 'isidro', 'isil', 'isinbayeva', 'isis', 'isismediablackout', 'isk', 'iskandar', 'islam', 'islam4uk', 'islamabad', 'islamabads', 'islamaphobia', 'islami', 'islamic', 'islamificafion', 'islamified', 'islamisation', 'islamism', 'islamist', 'islamists', 'islamization', 'islamizing', 'islamophobes', 'islamophobia', 'islamophobic', 'islams', 'island', 'islanders', 'islands', 'isle', 'isles', 'ismael', 'ismail', 'ismailia', 'isms', 'isn', 'isnt', 'isohunt', 'isolate', 'isolated', 'isolation', 'isolationism', 'isotopes', 'isp', 'isps', 'israel', 'israeli', 'israelies', 'israelification', 'israelis', 'israels', 'isreal', 'isro', 'iss', 'issing', 'issue', 'issued', 'issues', 'issuing', 'istanbul', 'istanbuls', 'it', 'itaip', 'italian', 'italians', 'italy', 'italys', 'ite', 'item', 'items', 'iter', 'ites', 'itf', 'itn', 'its', 'itself', 'itthe', 'itunes', 'itv', 'itza', 'iv', 'ivan', 'ivankov', 'ive', 'ivf', 'iview', 'ivoire', 'ivorian', 'ivory', 'iwatch', 'iwf', 'ixil', 'iy626', 'izz', 'izzard', 'ja', 'jaafari', 'jab', 'jabaari', 'jabari', 'jabba', 'jabbari', 'jack', 'jackal', 'jackboot', 'jacket', 'jackie', 'jacking', 'jackpot', 'jackson', 'jacob', 'jacobo', 'jacobs', 'jacques', 'jacqui', 'jacuzzis', 'jade', 'jadranka', 'jafari', 'jaffa', 'jaguar', 'jaguars', 'jahan', 'jail', 'jailed', 'jailers', 'jailing', 'jails', 'jailtime', 'jain', 'jairo', 'jakarta', 'jake', 'jalalabad', 'jalil', 'jam', 'jama', 'jamaat', 'jamaica', 'jamaican', 'jamal', 'jamali', 'james', 'jamie', 'jamila', 'jammed', 'jammeh', 'jamming', 'jammu', 'jams', 'jan', 'jan25', 'janabi', 'janan', 'janata', 'jane', 'janeiro', 'janet', 'janez', 'jang', 'janitor', 'janjaweed', 'jannati', 'jansa', 'january', 'japan', 'japanese', 'japans', 'japn', 'jaqui', 'jar', 'jared', 'jargon', 'jarring', 'jars', 'jasmin', 'jasmine', 'jason', 'jatropha', 'jaunty', 'java', 'javan', 'jaw', 'jawad', 'jawbone', 'jawbones', 'jawf', 'jaxa', 'jay', 'jayant', 'jaz', 'jazayeri', 'jazeera', 'jazeeras', 'jb', 'jdl', 'jealous', 'jean', 'jeans', 'jeapordised', 'jeddah', 'jeddahs', 'jedi', 'jeep', 'jeeps', 'jeered', 'jeers', 'jeff', 'jeffrey', 'jehovah', 'jehovahs', 'jelly', 'jellyfish', 'jenin', 'jenni', 'jennifer', 'jennipher', 'jenny', 'jens', 'jeong', 'jeopardising', 'jeopardize', 'jeopardizing', 'jeopardy', 'jeou', 'jeppie', 'jepsen', 'jeremy', 'jericho', 'jerks', 'jerky', 'jerome', 'jerrys', 'jersey', 'jerusalem', 'jessica', 'jesus', 'jet', 'jets', 'jew', 'jewel', 'jeweller', 'jewellery', 'jewelry', 'jewels', 'jewish', 'jewjitsu', 'jews', 'jfk', 'jg', 'jhanna', 'jharkhand', 'ji', 'jia', 'jiabao', 'jiahd', 'jian', 'jiang', 'jiangmen', 'jiangsu', 'jianhong', 'jianmei', 'jianxin', 'jibe', 'jigme', 'jigsaw', 'jihad', 'jihadi', 'jihadis', 'jihadism', 'jihadist', 'jihadists', 'jim', 'jimeh', 'jimmy', 'jinan', 'jing', 'jinkosolar', 'jinping', 'jintao', 'jirga', 'jiroemon', 'jisr', 'jitters', 'jittery', 'jiujitsu', 'jk', 'jnger', 'jnkping', 'jnr', 'jnsdttir', 'joachim', 'joanna', 'joaquin', 'joaqun', 'job', 'jobbik', 'jobcentres', 'jobless', 'joblessness', 'jobs', 'jobseekers', 'jobus', 'jockeying', 'jodrell', 'jody', 'joe', 'jogdiya', 'johan', 'johann', 'johannesburg', 'johansson', 'john', 'johnny', 'johns', 'johnson', 'join', 'joined', 'joinee', 'joining', 'joins', 'joint', 'jointly', 'joints', 'jojoy', 'joke', 'joked', 'joker', 'jokes', 'jokhang', 'joking', 'jolly', 'jolt', 'jolts', 'jon', 'jonah', 'jonas', 'jonathan', 'jones', 'jong', 'jonny', 'jonsdottir', 'joran', 'jordan', 'jordanian', 'jordanians', 'jordans', 'jorg', 'jorge', 'jos', 'jose', 'josef', 'joseph', 'josephine', 'josh', 'josip', 'jotted', 'joubert', 'journal', 'journalism', 'journalist', 'journalistic', 'journalists', 'journals', 'journey', 'journo', 'journos', 'jovi', 'joy', 'joya', 'joyce', 'joyful', 'joyless', 'joys', 'jozef', 'jp', 'jpmorgan', 'jpmorgans', 'jpost', 'jr', 'jrg', 'jrgen', 'jsa', 'juan', 'juarez', 'jubilant', 'jubilee', 'judaising', 'judaism', 'judas', 'judge', 'judged', 'judgement', 'judges', 'judgment', 'judgments', 'judicial', 'judiciary', 'judo', 'juggernaut', 'juggle', 'jugs', 'jugular', 'juice', 'juifs', 'juju', 'jul', 'jules', 'julia', 'julian', 'julie', 'julien', 'juliet', 'julius', 'july', 'julys', 'jumbo', 'jump', 'jumped', 'jumper', 'jumpers', 'jumping', 'jumps', 'jumpsuit', 'jun', 'juncker', 'juncture', 'jundullah', 'june', 'jung', 'jungle', 'jungles', 'junior', 'juniper', 'junk', 'junked', 'junkie', 'junkies', 'junkyard', 'junta', 'juntas', 'jupiter', 'jupiters', 'jurassic', 'jurez', 'juries', 'jurisdiction', 'jurisdictions', 'jurist', 'jurors', 'jury', 'jussi', 'just', 'justice', 'justices', 'justifiable', 'justification', 'justified', 'justifies', 'justifiy', 'justify', 'justifying', 'justin', 'justine', 'justinian', 'jute', 'jutta', 'juvenile', 'juveniles', 'juventude', 'juxtaposition', 'juztice', 'jyllands', 'ka', 'kaaba', 'kabila', 'kabul', 'kaczynski', 'kadafi', 'kadeer', 'kader', 'kadhafi', 'kadima', 'kadyrov', 'kaesong', 'kafando', 'kafka', 'kafkas', 'kageyama', 'kagoshima', 'kahanist', 'kahn', 'kahwaji', 'kailai', 'kakadu', 'kaku', 'kalahari', 'kalan', 'kalashnikov', 'kalashnikovs', 'kaleme', 'kalenjin', 'kalhammer', 'kalindi', 'kaliningrad', 'kallista', 'kalmadi', 'kalshnikov', 'kalymkia', 'kamaishi', 'kamal', 'kamara', 'kamaz', 'kambia', 'kamchatka', 'kamel', 'kamikaze', 'kampala', 'kampf', 'kan', 'kanagawa', 'kanakanavu', 'kandahar', 'kandal', 'kandil', 'kangaroo', 'kangaroos', 'kaniuk', 'kano', 'kanthoop', 'kapila', 'kapital', 'kaplan', 'kapune', 'karabakh', 'karachi', 'karadi', 'karadzic', 'karaikal', 'karama', 'karamanlis', 'karaoke', 'karate', 'karbala', 'kareem', 'karelia', 'karine', 'karipbek', 'karl', 'karlsruhe', 'karma', 'karmawhore', 'karnataka', 'karni', 'karoubi', 'karplus', 'karpov', 'karroubi', 'karup', 'karzai', 'karzais', 'kasab', 'kasaragod', 'kashaya', 'kashmir', 'kashmiri', 'kashmiris', 'kashmirs', 'kashua', 'kasparav', 'kasparov', 'kaspersky', 'kat', 'katana', 'kate', 'kathleen', 'kathmandu', 'kathy', 'katine', 'katla', 'kato', 'katrina', 'katrinas', 'katsav', 'katya', 'katyn', 'katyusha', 'kauai', 'kaufman', 'kauping', 'kaupthing', 'kavoshgar', 'kayak', 'kayayo', 'kayla', 'kaylene', 'kazakh', 'kazakhstan', 'kazakhstani', 'kazan', 'kazimierz', 'kazuto', 'kbr', 'kbs', 'kcna', 'ke', 'kearney', 'kebabs', 'kedarnath', 'keen', 'keep', 'keeper', 'keeping', 'keeps', 'keflavik', 'keith', 'kellermann', 'kelly', 'kelvin', 'kemal', 'ken', 'kennedy', 'kennel', 'kenneth', 'kenny', 'kenobi', 'kent', 'kentucky', 'kenya', 'kenyan', 'kenyans', 'kenyas', 'kepiro', 'kept', 'kepulanuan', 'keqiang', 'kerala', 'keratin', 'kerch', 'kercher', 'kerepakupai', 'kermanshah', 'kernels', 'kerosene', 'kerouac', 'kerry', 'kerviel', 'kesennuma', 'kestrels', 'keswick', 'kettle', 'kettled', 'kettling', 'keun', 'kevin', 'kexin', 'key', 'keyboard', 'keyboards', 'keylogging', 'keynes', 'keys', 'keystone', 'kfc', 'kfcs', 'kg', 'kgb', 'khadaffi', 'khadafy', 'khaddafy', 'khadr', 'khairat', 'khalas', 'khaled', 'khalfi', 'khalid', 'khalidi', 'khalifa', 'khalifas', 'khamenei', 'khameni', 'khamis', 'khan', 'khandan', 'khanfar', 'khansaa', 'kharchilava', 'kharkiv', 'kharkov', 'khartoum', 'khasan', 'khasawneh', 'khass', 'khat', 'khataba', 'khatami', 'khatib', 'khatoon', 'khawaja', 'khayelitsha', 'khemka', 'khesar', 'khil', 'khl', 'khmer', 'khobragade', 'khodorkovsky', 'khomeini', 'khomenei', 'khoroshkovskys', 'khufu', 'khyber', 'khz', 'ki', 'kia', 'kiana', 'kibaki', 'kibbutz', 'kiboshes', 'kibungo', 'kick', 'kickback', 'kickboxer', 'kicked', 'kicker', 'kicking', 'kicks', 'kickstart', 'kickstarter', 'kid', 'kidal', 'kiddie', 'kidding', 'kidnap', 'kidnaped', 'kidnapp', 'kidnapped', 'kidnapper', 'kidnappers', 'kidnapping', 'kidnappings', 'kidnaps', 'kidney', 'kidneys', 'kids', 'kiev', 'kifaya', 'kijev', 'kilimanjaro', 'kill', 'killed', 'killer', 'killers', 'killing', 'killings', 'kills', 'kiln', 'kilo', 'kilogramme', 'kilograms', 'kilometer', 'kilometers', 'kilometre', 'kilometres', 'kilos', 'kilotons', 'kilowatts', 'kim', 'kimberley', 'kimchi', 'kimi', 'kimura', 'kin', 'kinani', 'kind', 'kinda', 'kindergarten', 'kindergartens', 'kindle', 'kindly', 'kindness', 'kindoki', 'kinds', 'king', 'kingdom', 'kingpin', 'kingpins', 'kings', 'kingston', 'kinkos', 'kinnock', 'kinshasa', 'kinzer', 'kiosks', 'kipling', 'kippa', 'kippas', 'kippur', 'kirby', 'kirch', 'kirchick', 'kirchner', 'kiriakou', 'kiribati', 'kirkuk', 'kirsan', 'kiruna', 'kiryat', 'kiselyov', 'kiss', 'kissed', 'kisses', 'kissing', 'kissinger', 'kit', 'kitchen', 'kitchens', 'kite', 'kites', 'kits', 'kitten', 'kittens', 'kitty', 'kiva', 'kiwi', 'kiwis', 'kke', 'kkk', 'klan', 'klassen', 'klaus', 'kldarolu', 'klein', 'kleptocracy', 'klerk', 'klix', 'klm', 'klose', 'klu', 'klux', 'km', 'kms', 'knee', 'kneecapped', 'kneel', 'kneeled', 'kneeling', 'knees', 'knell', 'knelt', 'knesset', 'knew', 'knife', 'knifepoint', 'knight', 'knighthawk', 'knighthood', 'knighthoods', 'knights', 'knit', 'knives', 'knob', 'knock', 'knocked', 'knocking', 'knocks', 'knot', 'knots', 'know', 'knowing', 'knowingly', 'knowledge', 'knowledgeable', 'known', 'knows', 'knox', 'koala', 'koalas', 'koban', 'kobane', 'kobani', 'koblenz', 'koch', 'kodama', 'koenigsegg', 'kofi', 'koguryo', 'koh', 'kohl', 'kohls', 'kok', 'kokurin', 'kolakowski', 'kolkata', 'kolskaya', 'komodo', 'konduga', 'kong', 'kongers', 'kongs', 'kongsberg', 'kony', 'kony2012', 'kook', 'kool', 'kopi', 'kopimism', 'koran', 'koranic', 'kordofan', 'korea', 'korean', 'koreans', 'koreas', 'korma', 'koruna', 'kos', 'kosenco', 'kosher', 'kosor', 'kosovars', 'kosovo', 'kosovon', 'kotoka', 'kottak', 'kousei', 'koy4goff', 'kph', 'kraft', 'krajina', 'krakatoa', 'kramatorsk', 'kraska', 'krat', 'kratom', 'krautchan', 'krekar', 'kremlin', 'kremlins', 'kreuningen', 'kreuzberg', 'krishna', 'krista', 'kristallnacht', 'kristiansen', 'kristina', 'kristof', 'kristoffer', 'kristy', 'krona', 'kronan', 'kronas', 'kroner', 'kronor', 'kruger', 'krugman', 'ku', 'kuashev', 'kucherena', 'kucinich', 'kul', 'kumar', 'kumari', 'kumaritashvili', 'kunar', 'kunduz', 'kung', 'kuo', 'kurd', 'kurdish', 'kurdistan', 'kurds', 'kuril', 'kurmanbek', 'kurt', 'kurth', 'kushim', 'kut', 'kuwait', 'kuwaiti', 'kuwaitis', 'kuyukov', 'kwh', 'kwon', 'kyi', 'kyiv', 'kyle', 'kyodo', 'kyoto', 'kyrgyz', 'kyrgyzstan', 'la', 'lab', 'label', 'labeled', 'labeling', 'labelled', 'labelling', 'labels', 'labor', 'laboratories', 'laboratory', 'laborer', 'laborers', 'laboring', 'labors', 'labour', 'labourer', 'labourers', 'labrador', 'labs', 'labwani', 'labyrinth', 'lac', 'lace', 'laced', 'lacing', 'lack', 'lacked', 'lacking', 'lacks', 'lactose', 'lada', 'ladakh', 'ladder', 'laden', 'ladens', 'ladies', 'ladin', 'ladle', 'lady', 'ladys', 'lafayette', 'lafite', 'lag', 'lagarde', 'lagged', 'lagoons', 'lagos', 'lags', 'lahore', 'laid', 'lain', 'lair', 'laity', 'lajamanu', 'lakbima', 'lake', 'lakes', 'lakeside', 'lakhvi', 'lakshmi', 'lama', 'lamb', 'lambasted', 'lambasts', 'lambert', 'lambie', 'lambing', 'lamborghini', 'lambs', 'lament', 'lamido', 'lamo', 'lamp', 'lampedusa', 'lampoon', 'lampooning', 'lamps', 'lance', 'lancet', 'land', 'landan', 'landed', 'lander', 'landfall', 'landfill', 'landing', 'landless', 'landlords', 'landmark', 'landmarks', 'landmass', 'landmine', 'landmines', 'landowner', 'landowners', 'lands', 'landsbankinn', 'landscape', 'landscapes', 'landslide', 'landslides', 'landslip', 'landthis', 'landto', 'lane', 'lanes', 'lang', 'langley', 'language', 'languages', 'languish', 'languished', 'languishes', 'lanka', 'lankan', 'lankans', 'lankas', 'lanny', 'lanouf', 'lantern', 'lanuf', 'lanzhou', 'laos', 'lap', 'lapa', 'lapdance', 'lapdog', 'lapid', 'lapse', 'lapses', 'laptop', 'laptops', 'lara', 'lard', 'laredo', 'large', 'largely', 'larger', 'largest', 'larios', 'larissa', 'larnaca', 'larose', 'larry', 'lars', 'larva', 'las', 'lasagne', 'laser', 'lasers', 'lasertag', 'lash', 'lashed', 'lashes', 'lashing', 'lashings', 'lashkar', 'lassa', 'last', 'lasted', 'lasting', 'lasts', 'latakia', 'late', 'lately', 'later', 'latest', 'latethat', 'latex', 'latif', 'latimes', 'latin', 'latinamerica', 'latino', 'latitude', 'latitudes', 'latrine', 'latrines', 'latte', 'latter', 'latvia', 'latvian', 'latvians', 'latvias', 'lau', 'lauded', 'lauding', 'laugh', 'laughable', 'laughing', 'laughs', 'launch', 'launched', 'launcher', 'launchers', 'launches', 'launching', 'launchpads', 'launder', 'laundered', 'laundering', 'laundries', 'laundry', 'laura', 'laureate', 'laureates', 'laurent', 'laurie', 'lauterbrunnen', 'lava', 'lavabit', 'lavatory', 'lavish', 'lavrov', 'law', 'lawbreakers', 'lawful', 'lawfully', 'lawless', 'lawlessness', 'lawmaker', 'lawmakers', 'lawmakersincluding', 'lawmaking', 'lawn', 'lawnmower', 'lawns', 'lawrence', 'laws', 'lawson', 'lawsons', 'lawsuit', 'lawsuits', 'lawyer', 'lawyers', 'lax', 'laxative', 'lay', 'layer', 'layers', 'laying', 'layoffs', 'layout', 'lays', 'layton', 'lazcano', 'laziest', 'lazy', 'lb', 'lbs', 'lds', 'le', 'leached', 'lead', 'leader', 'leaderless', 'leaders', 'leadership', 'leading', 'leads', 'leaf', 'leaflet', 'leaflets', 'leafy', 'league', 'leahy', 'leak', 'leakage', 'leaked', 'leaker', 'leakers', 'leaking', 'leaks', 'leaky', 'leakymails', 'lean', 'leaned', 'leaning', 'leanings', 'leans', 'leap', 'leapfrogged', 'leapfrogs', 'leaping', 'leaps', 'leapt', 'learn', 'learned', 'learners', 'learning', 'learns', 'learnt', 'leary', 'lease', 'leased', 'leases', 'leaseweb', 'leash', 'leasing', 'least', 'leather', 'leatherback', 'leave', 'leaves', 'leaving', 'lebanese', 'lebanon', 'lebanons', 'lebedev', 'lech', 'lecture', 'lecturer', 'lecturers', 'lectures', 'lecturing', 'led', 'ledeen', 'leds', 'lee', 'leeds', 'lees', 'left', 'leftist', 'leftists', 'leftover', 'leftovers', 'leg', 'legacy', 'legal', 'legalisation', 'legalise', 'legalised', 'legalises', 'legalising', 'legality', 'legalization', 'legalize', 'legalized', 'legalizes', 'legalizing', 'legally', 'legalnews', 'legend', 'legendary', 'legendry', 'legends', 'legged', 'leggings', 'legion', 'legionaries', 'legislate', 'legislation', 'legislative', 'legislatively', 'legislator', 'legislators', 'legislature', 'legit', 'legitimacy', 'legitimate', 'legitimise', 'legitimises', 'legitimize', 'legitimized', 'lego', 'legs', 'leh', 'lehman', 'lehmans', 'lehrer', 'lehtinen', 'lei', 'leicester', 'leiden', 'leigh', 'lemons', 'lend', 'lender', 'lenders', 'lending', 'lends', 'length', 'lengthened', 'lengthening', 'lengths', 'lengthy', 'leniency', 'lenient', 'lenihan', 'lenin', 'leningrad', 'lennon', 'leno', 'lenovo', 'lent', 'leo', 'leon', 'leonard', 'leonardo', 'leone', 'leonid', 'leopard', 'leopards', 'leopoldo', 'leprosy', 'les', 'lesbian', 'lesbians', 'lese', 'lesions', 'lesley', 'less', 'lessen', 'lesser', 'lesson', 'lessons', 'lest', 'leszek', 'let', 'lethal', 'lethbridge', 'letizia', 'letpadaung', 'lets', 'letter', 'letterbox', 'letters', 'letting', 'lettuce', 'letzgo', 'leukaemia', 'leukemia', 'lev', 'levant', 'level', 'leveled', 'levels', 'leverage', 'leveraging', 'leveson', 'levies', 'levin', 'levine', 'levitt', 'levy', 'lewd', 'lewis', 'lewp', 'leyva', 'lg', 'lgbt', 'lgbtq', 'lgbts', 'lhasa', 'lhc', 'li', 'liabilities', 'liability', 'liable', 'liam', 'liang', 'lianhai', 'liao', 'liaoning', 'liar', 'liars', 'lib', 'libcom', 'libel', 'libelling', 'libelous', 'libera', 'liberal', 'liberalised', 'liberalising', 'liberalization', 'liberalize', 'liberals', 'liberate', 'liberated', 'liberating', 'liberation', 'liberator', 'liberators', 'liberec', 'liberia', 'liberian', 'liberians', 'liberias', 'libertarian', 'liberties', 'liberty', 'libor', 'librarian', 'librarians', 'libraries', 'library', 'libya', 'libyan', 'libyans', 'libyas', 'licence', 'licences', 'license', 'licensed', 'licenses', 'licensing', 'lichtenstein', 'lick', 'licked', 'lickin', 'lid', 'lidl', 'lie', 'lieberman', 'liechtenspring', 'liechtenstein', 'lied', 'liege', 'lies', 'lieu', 'lieutenant', 'lieutenants', 'life', 'lifeblood', 'lifeboat', 'lifeboats', 'lifecycle', 'lifejacket', 'lifejackets', 'lifelike', 'lifeline', 'lifelong', 'lifemexican', 'lifesaving', 'lifespan', 'lifestyle', 'lifestyles', 'lifetime', 'lift', 'lifted', 'lifting', 'liftoff', 'lifts', 'light', 'lightbulbs', 'lighter', 'lighthouse', 'lighting', 'lightless', 'lightly', 'lightness', 'lightning', 'lights', 'lightweight', 'lijun', 'like', 'liked', 'likeliest', 'likelihood', 'likely', 'likemaybe', 'likened', 'likeness', 'likening', 'likens', 'likes', 'likewise', 'liking', 'likud', 'lilian', 'lille', 'lilley', 'lillian', 'lilly', 'lilongwe', 'lima', 'limb', 'limbo', 'limbs', 'lime', 'limelight', 'limerick', 'limit', 'limitation', 'limitations', 'limited', 'limiting', 'limitless', 'limits', 'limousine', 'limping', 'limpopo', 'lin', 'lincoln', 'lincolnshire', 'lindenhof', 'lindsay', 'lindsey', 'lindt', 'line', 'lineage', 'lined', 'linen', 'liner', 'liners', 'lines', 'linesman', 'ling', 'lingerie', 'lingo', 'lingua', 'linguist', 'linguistic', 'linguistics', 'linguists', 'lingus', 'lining', 'link', 'linked', 'linkedin', 'linking', 'links', 'linksys', 'lino', 'linux', 'lion', 'lionaid', 'lioness', 'lions', 'lionsgate', 'lip', 'lipped', 'lippestad', 'lips', 'lipstick', 'liquid', 'liquidate', 'liquidated', 'liquidating', 'liquidation', 'liquids', 'liquor', 'lira', 'liras', 'lire', 'lisa', 'lisbon', 'list', 'listed', 'listen', 'listened', 'listening', 'listens', 'listing', 'listings', 'lists', 'lit', 'litany', 'liter', 'literacy', 'literally', 'literary', 'literature', 'liters', 'lithium', 'lithuania', 'lithuanian', 'lithuanians', 'litigation', 'litre', 'litres', 'litter', 'litterature', 'litterbugs', 'littered', 'littering', 'little', 'litvinenko', 'liu', 'live', 'liveability', 'liveable', 'liveblog', 'lived', 'livejournal', 'livelihood', 'livelihoods', 'lively', 'livemint', 'liver', 'liverpool', 'lives', 'livestock', 'livestream', 'living', 'livni', 'liz', 'lizard', 'lizards', 'lizardsquad', 'ljubljana', 'll', 'llama', 'llamas', 'lloyd', 'lloyds', 'lng', 'loa', 'loach', 'load', 'loaded', 'loads', 'loaf', 'loan', 'loans', 'loanword', 'loathed', 'loathes', 'loathing', 'loathsome', 'lob', 'lobbied', 'lobbies', 'lobby', 'lobbying', 'lobbyist', 'lobbyists', 'lobotomised', 'lobsters', 'local', 'locales', 'locally', 'locals', 'locate', 'located', 'locates', 'location', 'locations', 'locator', 'lock', 'lockdown', 'locked', 'lockerbie', 'lockett', 'lockheed', 'locking', 'locks', 'locksmiths', 'lockup', 'locomotives', 'locust', 'locusts', 'lodge', 'lodged', 'lodges', 'lodgings', 'lofty', 'log', 'logan', 'logged', 'loggerhead', 'loggerheads', 'loggers', 'logging', 'logic', 'logical', 'logically', 'logie', 'logistic', 'logistics', 'logo', 'logos', 'logs', 'loic', 'loitering', 'lol', 'lonard', 'london', 'londonderry', 'londoner', 'londoners', 'londons', 'lone', 'loneliest', 'lonely', 'loner', 'lonesome', 'long', 'longer', 'longest', 'longevity', 'longhorns', 'longs', 'longstanding', 'longtime', 'look', 'lookalike', 'looked', 'looking', 'looks', 'loom', 'looming', 'looms', 'loon', 'loong', 'loop', 'loophole', 'loopholes', 'loose', 'loosely', 'loosen', 'loosened', 'loosening', 'loosens', 'loosing', 'loot', 'looted', 'looter', 'looters', 'looting', 'lopez', 'lorca', 'lord', 'lords', 'lore', 'loriot', 'lorries', 'lorry', 'los', 'lose', 'losers', 'loses', 'losing', 'loss', 'losses', 'lost', 'lostprophets', 'lot', 'lotfi', 'lots', 'lottery', 'lotto', 'louboutin', 'loud', 'louder', 'loudhailers', 'loudly', 'loudspeaker', 'loudspeakers', 'loudspoken', 'louis', 'louisiana', 'lounge', 'lounges', 'lourdes', 'louverture', 'louvre', 'lovato', 'love', 'loved', 'lovelock', 'lovely', 'lover', 'lovers', 'loves', 'lovesickness', 'lovin', 'loving', 'low', 'lower', 'lowered', 'lowering', 'lowers', 'lowest', 'lows', 'loyal', 'loyalist', 'loyalists', 'loyalty', 'lpez', 'lra', 'lsd', 'lsraelis', 'lsx', 'lt', 'ltd', 'ltte', 'lubanga', 'lubango', 'luc', 'lucas', 'lucasian', 'lucia', 'lucifer', 'luck', 'lucky', 'lucrative', 'ludlam', 'ludmilla', 'ludovic', 'ludwick', 'lufthansa', 'lugansk', 'luger', 'luggage', 'lughnasadh', 'lugo', 'luhansk', 'luis', 'luka', 'lukashenko', 'luke', 'lukoil', 'lula', 'luladinejad', 'lull', 'lulz', 'lulzsec', 'lumley', 'lump', 'lumps', 'luna', 'lunar', 'lunatics', 'lunch', 'luncheon', 'lunches', 'lund', 'lundin', 'lundstrm', 'lung', 'lunged', 'lungs', 'luntz', 'luo', 'luoping', 'lurch', 'lurched', 'lurches', 'lure', 'lured', 'lures', 'luring', 'lurk', 'lurking', 'lusaka', 'lusitania', 'lusitanian', 'lust', 'luther', 'lutheran', 'luton', 'lutsenko', 'luwak', 'luxembourg', 'luxembourgery', 'luxemburg', 'luxor', 'luxuries', 'luxurious', 'luxury', 'luzhkov', 'luzon', 'lvmh', 'lwara', 'ly', 'lybia', 'lying', 'lymphoma', 'lymphona', 'lynch', 'lynched', 'lynching', 'lynchings', 'lynette', 'lynndie', 'lynx', 'lyon', 'lyric', 'lyrics', 'lyubov', 'lz1', 'm13', 'm15', 'm1s', 'm23', 'm4', 'm6', 'm7', 'ma', 'maariyamma', 'maasai', 'maastricht', 'maathai', 'mabhouh', 'mabhuh', 'mac', 'macabre', 'macaque', 'macaroni', 'macaskill', 'macbeth', 'macca', 'macdonald', 'maced', 'macedonia', 'machete', 'machetes', 'machiavellian', 'machinations', 'machine', 'machinegun', 'machineguns', 'machinery', 'machines', 'macho', 'machon', 'macht', 'machu', 'maciek', 'maciel', 'mackerel', 'mackinnon', 'macneil', 'macro', 'mad', 'madagascar', 'madagascars', 'madam', 'maddocks', 'maddow', 'made', 'madeira', 'madeleine', 'mademoiselle', 'madhya', 'madina', 'madinah', 'madison', 'madisons', 'madness', 'madoff', 'madonna', 'madrid', 'mads', 'madsen', 'maduro', 'maduros', 'maersk', 'mafia', 'mafias', 'mag', 'magarief', 'magazine', 'magazines', 'magdalene', 'magee', 'maggie', 'maghami', 'maghreb', 'magic', 'magical', 'magically', 'magician', 'magistrate', 'magistrates', 'magma', 'magna', 'magnate', 'magnet', 'magnetic', 'magnets', 'magnificent', 'magnifying', 'magnitude', 'magnitued', 'magnotta', 'magnus', 'maguindanao', 'maguire', 'maharaja', 'maharashtra', 'mahatma', 'mahdi', 'mahfouz', 'mahilal', 'mahmood', 'mahmoud', 'mahmud', 'mahmut', 'maid', 'maidan', 'maiden', 'maids', 'maiduguri', 'maikel', 'mail', 'mailbox', 'mailed', 'mailing', 'mailpile', 'mails', 'maim', 'maimed', 'maiming', 'main', 'maine', 'mainland', 'mainly', 'mains', 'mainsteam', 'mainstream', 'maintain', 'maintained', 'maintaining', 'maintains', 'maintenance', 'mairead', 'maize', 'maizire', 'maja', 'majdi', 'majedah', 'majeed', 'majeste', 'majestic', 'majid', 'major', 'majorities', 'majority', 'majors', 'majour', 'makar', 'make', 'makeover', 'maker', 'makers', 'makersincluding', 'makes', 'makeshift', 'makeup', 'makhul', 'making', 'maks', 'malacca', 'malaccathe', 'malaise', 'malala', 'malalai', 'malandros', 'malaria', 'malathion', 'malawi', 'malawian', 'malawis', 'malay', 'malayisan', 'malaysia', 'malaysian', 'malaysians', 'malaysias', 'maldives', 'maldivian', 'maldivians', 'male', 'malema', 'males', 'malformations', 'malformed', 'malfunction', 'mali', 'malian', 'malians', 'malicious', 'malignant', 'maliki', 'malis', 'malki', 'mall', 'mallorca', 'malls', 'malmo', 'malmstrm', 'malnourished', 'malnourishment', 'malnutrition', 'malta', 'maltas', 'malte', 'maltese', 'maltreatment', 'malukan', 'malware', 'mama', 'mamito', 'mammal', 'mammals', 'mammoth', 'man', 'manage', 'managed', 'management', 'manager', 'managers', 'manages', 'managing', 'manal', 'manama', 'manaus', 'manchester', 'mandarin', 'mandate', 'mandated', 'mandating', 'mandatory', 'mandela', 'mandelson', 'mane', 'maneuvering', 'maneuvers', 'manga', 'mangalyaan', 'manganese', 'mangrove', 'mangudadatu', 'manhandling', 'manhattan', 'manhole', 'manhood', 'manhunt', 'mania', 'manicure', 'manicurist', 'manifestly', 'manifesto', 'manifold', 'manik', 'manila', 'manilas', 'manipulate', 'manipulated', 'manipulating', 'manipulation', 'manipulator', 'manipulators', 'manis', 'manisa', 'manitoba', 'mankind', 'manmade', 'manmohan', 'mann', 'manned', 'mannequins', 'manner', 'manners', 'manning', 'mannings', 'manor', 'manpads', 'manpower', 'mans', 'mansanto', 'mansion', 'mansions', 'manslaughter', 'manson', 'mantas', 'mantle', 'mantra', 'manual', 'manually', 'manuals', 'manuel', 'manufactory', 'manufacture', 'manufactured', 'manufacturer', 'manufacturers', 'manufacturing', 'manure', 'manus', 'manuscript', 'manuscripts', 'many', 'mao', 'maoist', 'maoists', 'map', 'mapiripn', 'maple', 'mapped', 'mapping', 'maps', 'mapuche', 'mar', 'mara', 'marange', 'marathon', 'marathons', 'marauding', 'marble', 'marbles', 'marburg', 'marc', 'marcal', 'march', 'marched', 'marchers', 'marches', 'marching', 'marchs', 'mardin', 'mare', 'maree', 'margaret', 'marget', 'margin', 'marginal', 'marginalised', 'marginalize', 'margins', 'margot', 'maria', 'mariam', 'mariana', 'mariano', 'mariatu', 'marie', 'marielle', 'marijn', 'marijuana', 'marikana', 'marina', 'marinaleda', 'marine', 'mariners', 'marines', 'mario', 'marishane', 'marital', 'maritime', 'maritimes', 'mariupol', 'marjah', 'marjuana', 'mark', 'marka', 'marked', 'marker', 'markers', 'market', 'marketers', 'marketing', 'marketplace', 'markets', 'marketting', 'marking', 'markings', 'markov', 'marks', 'marksmanship', 'markt', 'markus', 'marlboro', 'marmara', 'marmite', 'maroon', 'marooned', 'marouf', 'marquez', 'marrakech', 'marred', 'marriage', 'marriageable', 'marriagemexico', 'marriages', 'married', 'marries', 'marrige', 'marriott', 'marrow', 'marry', 'marrying', 'mars', 'marsden', 'marseille', 'marsh', 'marshal', 'marshall', 'marshals', 'marshburn', 'marshes', 'marsteller', 'marsupial', 'mart', 'marta', 'marte', 'martial', 'martials', 'martian', 'martians', 'martin', 'martinelli', 'martinez', 'martnez', 'martti', 'martyr', 'martyrdom', 'martyrs', 'maruha', 'marvel', 'marwa', 'marwaha', 'marx', 'marxism', 'marxist', 'marxists', 'marxs', 'mary', 'maryam', 'maryland', 'marzieh', 'mas', 'masai', 'masayoshi', 'mascot', 'mascots', 'mashable', 'mashal', 'mashup', 'masjid', 'mask', 'masked', 'masking', 'masks', 'mason', 'masonic', 'masonry', 'masons', 'masoud', 'masquerading', 'masri', 'masris', 'mass', 'massacare', 'massachusetts', 'massacre', 'massacred', 'massacres', 'massacring', 'massai', 'masse', 'massed', 'masses', 'massing', 'massive', 'massively', 'massoud', 'mast', 'mastectomy', 'master', 'mastercard', 'mastered', 'mastermind', 'masterminded', 'masterminding', 'masterminds', 'masterpiece', 'masters', 'masturbate', 'masturbation', 'mat', 'matadors', 'match', 'matched', 'matches', 'matching', 'matchup', 'mate', 'mateo', 'material', 'materialized', 'materially', 'materials', 'materiel', 'maternal', 'maternity', 'mates', 'math', 'mathematical', 'mathematically', 'mathematics', 'mathias', 'maths', 'mating', 'matisse', 'matiullah', 'matrix', 'mats', 'matsushita', 'matt', 'matter', 'matterhorn', 'matters', 'matthew', 'mature', 'maturity', 'mau', 'maues', 'maui', 'mauis', 'mauled', 'mauls', 'mauna', 'mauritania', 'mauritanian', 'mauritian', 'maurizio', 'mausoleum', 'mavericks', 'mavi', 'maw', 'mawingu', 'max', 'maxed', 'maxim', 'maximum', 'maxing', 'may', 'maya', 'mayan', 'mayans', 'maybe', 'mayday', 'mayhem', 'mayon', 'mayor', 'mayoral', 'mayors', 'mazar', 'mazatlan', 'mazda', 'mazed', 'maziar', 'mb', 'mbeki', 'mbekis', 'mbp', 'mbps', 'mbq', 'mc', 'mcafee', 'mcardle', 'mcauthur', 'mccain', 'mccains', 'mccann', 'mccarthy', 'mccarthyism', 'mcchrystal', 'mccord', 'mccormick', 'mcdonald', 'mcdonalds', 'mcfaul', 'mcg', 'mcgarahan', 'mcgill', 'mcgrath', 'mcgregor', 'mcintyre', 'mckellen', 'mckibben', 'mckinley', 'mckinney', 'mckinnon', 'mckinsey', 'mclibel', 'mcmansions', 'mcmullan', 'mcnamara', 'md', 'mdc', 'mdecins', 'mder', 'mdgs', 'mdma', 'mdr', 'me', 'mea', 'meager', 'meal', 'meals', 'mean', 'meaning', 'meaningful', 'meaningfully', 'meaningless', 'meaninglessness', 'meaninig', 'means', 'meant', 'meantime', 'meanwhile', 'mearsheimer', 'measles', 'measurable', 'measure', 'measured', 'measurements', 'measures', 'measuring', 'meat', 'meatballs', 'mecca', 'meccas', 'mecha', 'mechanic', 'mechanical', 'mechanics', 'mechanism', 'mechanisms', 'mechthild', 'mecklenburg', 'med', 'medal', 'medalist', 'medalists', 'medallist', 'medallists', 'medals', 'meddle', 'meddling', 'medea', 'media', 'mediaeval', 'mediafile', 'median', 'mediate', 'mediating', 'mediation', 'mediator', 'medic', 'medical', 'medically', 'medication', 'medications', 'medicinal', 'medicine', 'medicines', 'medics', 'medieval', 'medina', 'mediocrity', 'medisch', 'mediterranean', 'medium', 'meds', 'medvedev', 'meena', 'meenakshi', 'meet', 'meeting', 'meetings', 'meets', 'mega', 'megabank', 'megabecquerels', 'megabrewer', 'megachurch', 'megacities', 'megacity', 'megacontinent', 'megadoses', 'megafloods', 'megalomaniac', 'megalomanic', 'megalopolis', 'megan', 'megantic', 'megaphone', 'megatons', 'megaupload', 'megauploads', 'megawatt', 'megazoom', 'meghalaya', 'megrahi', 'mehdi', 'mehdiganj', 'mehmet', 'mehsud', 'mein', 'meinhof', 'meir', 'melamine', 'melbourne', 'melee', 'melinda', 'melt', 'meltdown', 'meltdowns', 'melted', 'melting', 'melts', 'member', 'memberhistory', 'members', 'membership', 'memberships', 'mementos', 'memes', 'memmingen', 'memo', 'memoir', 'memoirs', 'memorabilia', 'memorial', 'memorialize', 'memorials', 'memories', 'memorise', 'memory', 'memos', 'memphis', 'men', 'mena', 'menace', 'menacing', 'menand', 'menezes', 'menial', 'meningitis', 'mennonites', 'mens', 'mensa', 'menstruates', 'menstruation', 'mental', 'mentality', 'mentalityand', 'mentally', 'mentawai', 'mention', 'mentioned', 'mentioning', 'mentions', 'mentuhotep', 'menu', 'menus', 'meows', 'mep', 'mephedrone', 'meps', 'mer', 'merah', 'merapi', 'mercedes', 'mercenaries', 'mercenary', 'merchandise', 'merchant', 'merchants', 'merciless', 'mercilessly', 'merck', 'mercosur', 'mercuria', 'mercury', 'mercy', 'mere', 'meredith', 'merely', 'merged', 'merger', 'meridional', 'meridor', 'merino', 'merit', 'merits', 'merkel', 'merkels', 'merkozy', 'mermaid', 'merode', 'merrill', 'merrily', 'merry', 'mers', 'mervyn', 'mes', 'meseum', 'meshaal', 'meshael', 'meshal', 'meshing', 'meso', 'mesopotamia', 'mesopotamian', 'mesoscale', 'mess', 'message', 'messages', 'messaging', 'messed', 'messenger', 'messengers', 'messiah', 'messianic', 'messing', 'messopotamia', 'messy', 'mesut', 'met', 'meta', 'metadata', 'metal', 'metallica', 'metals', 'metalsmiths', 'metalwork', 'metalworker', 'metaphor', 'metaphors', 'metastasis', 'meted', 'meteor', 'meteoric', 'meteorite', 'meteorological', 'meteorologists', 'meteorology', 'meteors', 'meter', 'meters', 'meth', 'methadone', 'methamphetamine', 'methamphetamines', 'methane', 'methinks', 'method', 'methodically', 'methodology', 'methods', 'meths', 'meticulously', 'metre', 'metres', 'metric', 'metro', 'metropole', 'metropolis', 'metropolitan', 'metzner', 'mevoli', 'mexcio', 'mexicali', 'mexican', 'mexicans', 'mexico', 'mexicos', 'mgantic', 'mgmt', 'mh', 'mh17', 'mh192', 'mh370', 'mi', 'mi5', 'mi6', 'mia', 'miaa', 'miami', 'mic', 'mice', 'michael', 'michaelle', 'michel', 'michelangelo', 'michele', 'micheletti', 'micheline', 'michelle', 'michigan', 'michio', 'michoacan', 'michoacans', 'mick', 'mickey', 'micro', 'microbe', 'microbes', 'microbial', 'microbiologist', 'microbiologists', 'microbiology', 'microblog', 'microblogging', 'microblogs', 'microchip', 'microchipped', 'microchips', 'microcosm', 'microcredit', 'microfinance', 'micrograms', 'micronutrients', 'microphone', 'microphones', 'microrna', 'microscopic', 'microsoft', 'microsofts', 'microstate', 'microwaves', 'microwaving', 'mid', 'middle', 'middlemen', 'middleton', 'mideast', 'mideastern', 'mideastpeace', 'midflight', 'midget', 'midgets', 'midnight', 'midpoint', 'midriff', 'midst', 'midwife', 'midwives', 'mietek', 'miffed', 'mig', 'might', 'mightier', 'mighty', 'migraines', 'migrant', 'migrants', 'migrate', 'migrated', 'migrating', 'migration', 'migrations', 'migratory', 'migron', 'miilions', 'mike', 'mikhail', 'mikhailo', 'mikheil', 'mikisew', 'mikitani', 'mikkeli', 'mikocheni', 'mil', 'milan', 'mild', 'milder', 'mildly', 'mildura', 'mile', 'miles', 'milestone', 'milf', 'milgram', 'miliband', 'miliitary', 'mililtary', 'militancy', 'militant', 'militants', 'militaries', 'militarily', 'militarisation', 'militarised', 'militarism', 'militarization', 'militarizes', 'military', 'militarys', 'militia', 'militiamen', 'militias', 'milk', 'milky', 'mill', 'mille', 'millenium', 'millennia', 'millennium', 'millet', 'milliliter', 'million', 'millionaire', 'millionaires', 'millions', 'mills', 'milly', 'milorad', 'miltary', 'milton', 'mimic', 'min', 'minami', 'minards', 'minaret', 'minarets', 'minas', 'mincemeat', 'mind', 'minded', 'mindful', 'minds', 'mindset', 'mine', 'mined', 'minefields', 'miner', 'mineral', 'minerals', 'miners', 'minerva', 'mines', 'minesweeper', 'minesweeping', 'ming', 'mingled', 'mingling', 'minh', 'mini', 'minibombs', 'minibus', 'minimal', 'minimises', 'minimize', 'minimum', 'mining', 'miningfarmers', 'minions', 'miniskirt', 'miniskirts', 'minister', 'ministerial', 'ministers', 'ministry', 'ministrys', 'minivan', 'minivans', 'mink', 'minke', 'minnesota', 'minor', 'minorites', 'minorities', 'minority', 'minors', 'mins', 'minsk', 'minster', 'mint', 'minting', 'minus', 'minute', 'minutes', 'mir', 'mir2911', 'miracle', 'miracles', 'miraculous', 'mirador', 'mirage', 'miranda', 'mired', 'miresii', 'mirhossein', 'mirko', 'miroslav', 'mirror', 'mirroring', 'mirrors', 'mirundi', 'mirzai', 'mirzakhani', 'mis', 'misallocation', 'misappropriating', 'misbehaving', 'misbehaviour', 'miscalculate', 'miscalculation', 'miscarriage', 'miscarriages', 'miscarried', 'miscarries', 'miscarry', 'miscarrying', 'miscavife', 'miscavige', 'mischief', 'mischievous', 'misconception', 'misconceptions', 'misconduct', 'misdeeds', 'misdiagnosed', 'miserable', 'miserables', 'miserably', 'misery', 'misfire', 'misfired', 'misfires', 'misgivings', 'misguided', 'mishandled', 'mishandling', 'mishap', 'misheard', 'mishutkin', 'misidentified', 'misinformation', 'misjudged', 'misjudgment', 'miskito', 'mislabeled', 'mislabelled', 'mislead', 'misleading', 'misleadingly', 'misleads', 'misled', 'mismanage', 'mismanaged', 'mismanagement', 'misplaced', 'misplayed', 'mispricing', 'misrata', 'misratah', 'misrepresented', 'miss', 'missed', 'misses', 'missile', 'missiles', 'missing', 'mission', 'missionaries', 'missionary', 'missions', 'missle', 'missouri', 'missteps', 'mistake', 'mistaken', 'mistakenly', 'mistakes', 'mistaking', 'mistakingly', 'mistook', 'mistral', 'mistranslated', 'mistreating', 'mistreatment', 'mistress', 'mistresses', 'mistrust', 'mistrusted', 'mistrusts', 'misunderstanding', 'misunderstood', 'misurata', 'misuse', 'misused', 'mit', 'mitch', 'mitcham', 'mitchell', 'mitigation', 'mitrokhin', 'mitsibushi', 'mitsubishi', 'mitt', 'mittal', 'mittelstand', 'mittenwalde', 'mitterrand', 'mitzva', 'mitzvah', 'mix', 'mixa', 'mixed', 'mixes', 'mixing', 'mixture', 'miyazaki', 'mizrahis', 'mk', 'ml', 'mladi', 'mladic', 'mlenchon', 'mln', 'mmo', 'mmr', 'mn', 'mnths', 'mo', 'moamer', 'moammar', 'moaning', 'moat', 'mob', 'mobil', 'mobile', 'mobilisation', 'mobilising', 'mobility', 'mobilize', 'mobilized', 'mobilizes', 'mobilizing', 'mobs', 'mobster', 'mobsters', 'mock', 'mocked', 'mockery', 'mocking', 'mockingly', 'mocks', 'mod', 'modadi', 'mode', 'model', 'modeling', 'modelled', 'modelling', 'models', 'moderate', 'moderately', 'moderates', 'moderation', 'moderator', 'modern', 'modernisation', 'modernism', 'modernization', 'modernized', 'modernizing', 'modes', 'modest', 'modestly', 'modesty', 'modi', 'modification', 'modified', 'modify', 'modifying', 'module', 'modus', 'mogadishu', 'mogul', 'mohamed', 'mohammad', 'mohammadi', 'mohammadian', 'mohammadzai', 'mohammed', 'mohammeds', 'mohan', 'moharebeh', 'mohawk', 'mohawks', 'mohd', 'moir', 'mojtaba', 'molasses', 'moldavian', 'moldova', 'moldovan', 'moldovans', 'moldovas', 'mole', 'molecular', 'molecule', 'molecules', 'moles', 'molest', 'molestation', 'molested', 'molester', 'molesting', 'molestors', 'molina', 'mollath', 'mollusk', 'molotov', 'molotovs', 'molten', 'mom', 'moment', 'momentarily', 'momentously', 'moments', 'momentum', 'moms', 'mon', 'mon810', 'mona', 'monaco', 'monarch', 'monarchies', 'monarchy', 'monasteries', 'monastery', 'monbiot', 'monckton', 'moncton', 'monday', 'monde', 'mondrian', 'monet', 'monetary', 'monetised', 'money', 'moneybookers', 'mong', 'mongolia', 'mongolian', 'mongolians', 'mongolias', 'mongrels', 'monica', 'monin', 'monis', 'monitor', 'monitored', 'monitoring', 'monitors', 'monk', 'monkey', 'monkeys', 'monks', 'monmouth', 'mono', 'monocultures', 'monogamous', 'monolith', 'monolithic', 'monopolies', 'monopolised', 'monopolist', 'monopoly', 'monotonous', 'monroe', 'monrovia', 'monsanto', 'monsantos', 'monsignor', 'monsoon', 'monster', 'monsters', 'monstrous', 'mont', 'montana', 'montazeri', 'montazeris', 'monte', 'montenegro', 'monterrey', 'monterrey1', 'month', 'monthly', 'months', 'monti', 'montoya', 'montreal', 'montt', 'monty', 'monument', 'monumental', 'monuments', 'moo', 'mood', 'moods', 'moody', 'moodys', 'moon', 'moons', 'moore', 'moored', 'moors', 'moose', 'mop', 'mopping', 'mora', 'moradi', 'morakot', 'moral', 'morale', 'morales', 'moralists', 'morality', 'moralizers', 'morally', 'morals', 'moran', 'morass', 'moratorium', 'morbidly', 'mordechai', 'mordovia', 'mordovian', 'more', 'moreau', 'moreover', 'moresby', 'morgan', 'morgans', 'morgenson', 'morgentaler', 'morgolis', 'morgue', 'morgues', 'moribund', 'moritz', 'mormon', 'mormons', 'morning', 'moro', 'moroccan', 'moroccans', 'morocco', 'moroccos', 'morons', 'morris', 'morrison', 'morrissey', 'morro', 'morroco', 'morsi', 'morsis', 'mort', 'mortal', 'mortality', 'mortar', 'mortars', 'mortem', 'mortensen', 'mortgage', 'mortgages', 'mortuary', 'mos', 'mosab', 'mosaics', 'moscow', 'moscows', 'moser', 'moses', 'moshe', 'moskva', 'mosman', 'mosop', 'mosque', 'mosquee', 'mosques', 'mosquito', 'mosquitoes', 'mossad', 'most', 'mostly', 'mosul', 'mothballed', 'mother', 'motherfuckers', 'motherfucking', 'motherland', 'mothers', 'mothership', 'moths', 'motion', 'motivated', 'motivation', 'motivations', 'motivator', 'motive', 'motives', 'motor', 'motorbike', 'motorbikes', 'motorcade', 'motorcycle', 'motorcycles', 'motorcyclist', 'motorcyclists', 'motorist', 'motorists', 'motorized', 'motorola', 'motors', 'motorsport', 'motorway', 'mottaki', 'motto', 'mound', 'mount', 'mountain', 'mountaineer', 'mountaineering', 'mountainous', 'mountains', 'mountainside', 'mountaintop', 'mounted', 'mountie', 'mounting', 'mounts', 'mourn', 'mourner', 'mourners', 'mourning', 'mourns', 'mousa', 'mousavi', 'mouse', 'moussa', 'moussaoui', 'moussavi', 'moussavis', 'moustaches', 'mouth', 'mouths', 'move', 'moved', 'movement', 'movements', 'movers', 'moves', 'movie', 'movie2k', 'moviegoers', 'movies', 'movila', 'moving', 'mowed', 'mows', 'mozambicans', 'mozambique', 'mozart', 'mozilla', 'mozzarella', 'mp', 'mp3', 'mpaa', 'mph', 'mps', 'mqm', 'mr', 'mrap', 'mraps', 'mri', 'mrida', 'mrs', 'ms', 'msf', 'msm', 'msn', 'msnbc', 'msv', 'mt', 'mth', 'muammar', 'muay', 'mubarak', 'mubaraks', 'mubarek', 'mubi', 'much', 'mud', 'muddy', 'mudered', 'mudslide', 'mudslides', 'mueller', 'muertos', 'mufti', 'mug', 'mugabe', 'mugged', 'mugger', 'mugging', 'muggings', 'mugs', 'mugshots', 'muhammad', 'muhammed', 'muharram', 'muinieks', 'mujahedeen', 'mujahideen', 'mujercito', 'mujica', 'mukesh', 'mul', 'mulcair', 'mulcaire', 'mule', 'mulesing', 'mulhim', 'mulka', 'mull', 'mullah', 'mullahs', 'mulled', 'mullen', 'mullets', 'mulling', 'mulls', 'multi', 'multibillion', 'multiculturalism', 'multilateral', 'multimillion', 'multimillionaire', 'multinational', 'multinationals', 'multiple', 'multiplied', 'multipliers', 'multiply', 'multipolar', 'multiscale', 'multispectral', 'mulyo', 'mum', 'mumbai', 'mumbaikar', 'mumbais', 'mummies', 'mummified', 'mummy', 'mums', 'munadi', 'mundane', 'mundi', 'munich', 'municipal', 'municipality', 'munition', 'munitions', 'munro', 'munroe', 'munsch', 'muntadar', 'muntadhar', 'muntazer', 'munyagishari', 'munyaneza', 'muqtada', 'mural', 'murayama', 'murbark', 'murder', 'murdered', 'murderer', 'murderers', 'murdering', 'murderous', 'murders', 'murdoch', 'murdochia', 'murdochs', 'murky', 'murle', 'murphy', 'murray', 'murrow', 'mursi', 'mursis', 'musadan', 'muscle', 'muscled', 'muscles', 'muscovites', 'muscular', 'muse', 'museum', 'museums', 'museveni', 'musharraf', 'mushroom', 'mushrooms', 'music', 'musical', 'musician', 'musicians', 'musing', 'musk', 'muskeg', 'musks', 'muslim', 'muslims', 'mussolini', 'must', 'mustansir', 'mustapha', 'mustard', 'muster', 'musudan', 'mutanies', 'mutant', 'mutate', 'mutated', 'mutates', 'mutating', 'mutation', 'mute', 'muted', 'mutharika', 'mutilate', 'mutilated', 'mutilation', 'mutilations', 'mutillation', 'mutineers', 'muting', 'mutiny', 'mutombo', 'mutton', 'mutual', 'muzzle', 'muzzled', 'muzzling', 'mw', 'mwai', 'my', 'myanamr', 'myanmar', 'myanmars', 'myopic', 'myra', 'myriad', 'myself', 'mysteries', 'mysterious', 'mysteriously', 'mystery', 'mystic', 'mysticism', 'myth', 'mythical', 'mythology', 'myths', 'myung', 'n1967', 'n1h1', 'n2010', 'n53c', 'na', 'nab', 'nabbed', 'nabil', 'nabila', 'nablus', 'nabucco', 'naccording', 'nacional', 'nadarkhani', 'nadezhda', 'nadia', 'naegleria', 'nafissatou', 'nafter', 'naftogaz', 'nag', 'nagasaki', 'nagents', 'nagging', 'nagla', 'nago', 'nagpu', 'nahal', 'nahlin', 'nai', 'naid', 'naide', 'nail', 'nailbomb', 'nailed', 'nails', 'nairobi', 'naive', 'naivete', 'najaf', 'najafi', 'nakagawa', 'nakatsugawa', 'nakba', 'naked', 'nakedness', 'nakhonay', 'nakhoney', 'nakoula', 'nam', 'nama', 'nambia', 'name', 'namechange', 'named', 'nameless', 'namely', 'names', 'namgyel', 'namibia', 'namibian', 'namie', 'naming', 'nammo', 'namnesty', 'nan', 'nancy', 'nand', 'nani', 'nanjing', 'nanking', 'nanna', 'nannounced', 'nanny', 'nano', 'nanograms', 'nanomachine', 'nanoparticles', 'nanotech', 'nanotechnology', 'nantarctica', 'nanti', 'nantisemitic', 'nanyway', 'naomi', 'naoto', 'nap', 'napalm', 'naplam', 'naples', 'napoleon', 'napolitano', 'nappies', 'napping', 'narcissists', 'narco', 'narcolepsy', 'narconomics', 'narconon', 'narcos', 'narcosphere', 'narcotic', 'narcotics', 'nare', 'narendra', 'nargentina', 'narita', 'narmy', 'narrative', 'narratives', 'narrest', 'narrow', 'narrowest', 'narrowly', 'narrows', 'nartist', 'narus', 'narwhal', 'nas', 'nasa', 'nasas', 'nascent', 'nasdaq', 'nasheed', 'nasian', 'nasking', 'nasrallah', 'nasser', 'nassertions', 'nast', 'nastase', 'nasty', 'natalee', 'natalia', 'natalya', 'natanz', 'natco', 'nate', 'nathan', 'nation', 'national', 'nationalisation', 'nationalise', 'nationalised', 'nationalises', 'nationalism', 'nationalisms', 'nationalist', 'nationalistic', 'nationalists', 'nationality', 'nationalization', 'nationalize', 'nationalized', 'nationalizes', 'nationalizing', 'nationally', 'nationals', 'nations', 'nationwide', 'native', 'natives', 'nato', 'natos', 'nattack', 'nattacked', 'nattempt', 'nattending', 'natural', 'naturalist', 'naturalize', 'naturally', 'nature', 'naturopaths', 'naughty', 'nauseating', 'nauseous', 'nauseum', 'naustralian', 'nauthorities', 'nautical', 'nautilus', 'navai', 'navajos', 'naval', 'navalny', 'nave', 'navi', 'navies', 'navigation', 'navigational', 'navigator', 'navy', 'navys', 'nawab', 'nawabad', 'nawaz', 'nawi', 'naxalites', 'nayo', 'nazarbayev', 'nazca', 'nazi', 'nazia', 'nazione', 'nazis', 'nazism', 'nb', 'nba', 'nbank', 'nbanks', 'nbc', 'nbe', 'nbecause', 'nbeen', 'nbehaviour', 'nbeijing', 'nbeing', 'nbn', 'nbody', 'nbombings', 'nboom', 'nbritain', 'nbritish', 'nbriton', 'nbroadcaster', 'nbuilding', 'nburma', 'nburying', 'nbush', 'nbut', 'nby', 'ncall', 'ncalled', 'ncamera', 'ncanadian', 'ncapable', 'ncarrying', 'ncase', 'ncentered', 'ncharged', 'nchurch', 'nclaimed', 'nclaims', 'ncoastal', 'ncolombian', 'ncommander', 'ncommitted', 'ncommunity', 'nconducted', 'ncontent', 'ncontrary', 'ncop', 'ncountry', 'ncourt', 'ncrimes', 'ncriminals', 'ncrossing', 'ncultural', 'ndalai', 'ndaughter', 'ndefense', 'ndelighted', 'ndemo', 'ndemonstrate', 'ndescribe', 'ndies', 'ndifferent', 'ndiscrimination', 'ndisgusting', 'ndjida', 'ndoctor', 'ndoes', 'ndog', 'ndoki', 'ndomestic', 'ndowner', 'ndownloaders', 'ndownloads', 'ndp', 'ndr', 'ndrangheta', 'ndrugs', 'ndtv', 'nduring', 'neanderthal', 'neanderthals', 'near', 'nearby', 'nearer', 'nearest', 'nearing', 'nearly', 'nears', 'neast', 'nebraska', 'necessarily', 'necessary', 'necessitated', 'necessities', 'necessity', 'neck', 'necklace', 'necklaced', 'necks', 'neckties', 'necrophilia', 'necropolis', 'neda', 'need', 'needed', 'needing', 'needle', 'needlepoint', 'needles', 'needless', 'needlessly', 'needs', 'needy', 'neena', 'neets', 'nefarious', 'nefertiti', 'negate', 'negative', 'negatively', 'negatives', 'negev', 'negishi', 'neglect', 'neglected', 'neglecting', 'negligence', 'negligent', 'negligible', 'negotations', 'negotiable', 'negotiate', 'negotiated', 'negotiates', 'negotiating', 'negotiation', 'negotiations', 'negotiator', 'negotiators', 'negro', 'nehru', 'neighbor', 'neighborhood', 'neighborhoods', 'neighboring', 'neighbors', 'neighbour', 'neighbourhood', 'neighbourhoods', 'neighbouring', 'neighbours', 'neij', 'neil', 'neither', 'nelderly', 'nelectoral', 'nelson', 'nemesis', 'nengage', 'nenjoys', 'nenvironmental', 'neo', 'neocon', 'neocons', 'neoconservatism', 'neoconservatives', 'neogene', 'neoguri', 'neoliberalism', 'neolithic', 'neonatal', 'neonazi', 'neonazis', 'neonicotinoid', 'neonicotinoids', 'neowin', 'nepal', 'nepalese', 'nepali', 'nephew', 'nepotism', 'neptune', 'nerandzic', 'nerd', 'nerdy', 'nereus', 'nerf', 'neruda', 'nerve', 'nerves', 'nervous', 'nervously', 'nesat', 'nesirky', 'nest', 'nesting', 'nestl', 'nestle', 'nestor', 'nests', 'net', 'netanayahu', 'netanyahu', 'netanyahus', 'netcare', 'netflix', 'netgear', 'netherland', 'netherlands', 'netizens', 'nets', 'netted', 'netting', 'network', 'networked', 'networkers', 'networking', 'networks', 'neuchatel', 'neumnster', 'neural', 'neuro', 'neurological', 'neurologists', 'neuropean', 'neuroscience', 'neurosurgeons', 'neurotoxic', 'neurotoxins', 'neuter', 'neutral', 'neutralised', 'neutralising', 'neutrality', 'neutralize', 'neutralizing', 'neutrino', 'neutrinos', 'neutron', 'nevada', 'nevehir', 'neven', 'never', 'neville', 'new', 'newborn', 'newborns', 'newcastle', 'newcomers', 'newest', 'newfoundland', 'newly', 'newlywed', 'newlyweds', 'newport', 'newry', 'news', 'news24', 'newsasia', 'newsblog', 'newsbreakingonline', 'newscast', 'newscorp', 'newscrowd', 'newsletter', 'newsman', 'newsnight', 'newsoftheweird', 'newspaper', 'newspapers', 'newspeak', 'newsprint', 'newsprints', 'newsreader', 'newsroom', 'newsrooms', 'newsstands', 'newstands', 'newsweek', 'newtown', 'nexavar', 'nexecution', 'next', 'nexus', 'nfallujah', 'nfearing', 'nfilmed', 'nfind', 'nfirst', 'nfk', 'nflight', 'nflotilla', 'nfor', 'nfour', 'nfrance', 'nfrench', 'nfrom', 'nfull', 'ng', 'ngawethu', 'ngays', 'ngaza', 'ngermany', 'ngets', 'nghiem', 'ngo', 'ngoc', 'ngom', 'ngos', 'ngoure', 'ngovernment', 'ngroup', 'nguards', 'nguyen', 'ngyuen', 'nh', 'nh1n1', 'nhalt', 'nhamas', 'nhas', 'nhat', 'nhave', 'nhaving', 'nhe', 'nhedge', 'nhelped', 'nhide', 'nhk', 'nhomophobic', 'nhomosexuality', 'nhomosexuals', 'nhospitals', 'nhostesses', 'nhouse', 'nhow', 'nhs', 'nhumanitarian', 'nhunting', 'ni', 'niall', 'niamey', 'nian', 'nibelung', 'nic', 'nicaragua', 'nicaraguan', 'nicaraguans', 'nicaraguas', 'nice', 'nicest', 'nichiro', 'nichola', 'nicholas', 'nick', 'nickel', 'nicklinson', 'nicknamed', 'nico', 'nicola', 'nicolae', 'nicolas', 'nicols', 'nidal', 'niece', 'nieklajeu', 'nielsen', 'nieto', 'nietzsche', 'nif', 'nigel', 'nigella', 'niger', 'nigeria', 'nigeriain', 'nigerian', 'nigerians', 'nigerias', 'niggas', 'niggers', 'nigh', 'night', 'nightclub', 'nightclubs', 'nighters', 'nightfall', 'nightingale', 'nightly', 'nightmare', 'nightmares', 'nightmarish', 'nights', 'nightsnake', 'nighttime', 'niinisto', 'nikaia', 'nike', 'niki', 'nikkei', 'nikola', 'nikolaev', 'nikolai', 'nikolay', 'nikos', 'nikshich', 'nile', 'nilofar', 'nils', 'nimoy', 'nin', 'nina', 'nincluding', 'nindecency', 'nindependent', 'nindustry', 'nine', 'nineteen', 'ninety', 'ninja', 'ninjas', 'ninjavideo', 'nino', 'ninstead', 'nintendo', 'ninterests', 'ninternational', 'ninth', 'ninto', 'nio', 'nipple', 'nippon', 'niqab', 'niqabitches', 'niqabs', 'nis', 'niskoguz', 'nislamic', 'nisour', 'nisrael', 'nisraeli', 'nisraelis', 'nisreen', 'nitrate', 'nitrogen', 'nitschke', 'nixed', 'nixes', 'nixon', 'njapan', 'njerusalem', 'njewelley', 'njudge', 'nk', 'nkandahar', 'nkorea', 'nkorean', 'nkunda', 'nlast', 'nlaughing', 'nlaw', 'nlaws', 'nld', 'nlearned', 'nleast', 'nleave', 'nlimit', 'nll', 'nlmao', 'nm', 'nman', 'nmegrahi', 'nmembers', 'nmembership', 'nmen', 'nmental', 'nmiddle', 'nmilitary', 'nmillion', 'nminister', 'nmohammed', 'nmoon', 'nmovement', 'nmuslims', 'nmy', 'nnaturally', 'nnearly', 'nnegotiations', 'nnetherlands', 'nnew', 'nnominated', 'nnorway', 'nnot', 'nnumber', 'no', 'noah', 'noam', 'nobel', 'nobels', 'noble', 'nobleman', 'nobles', 'noblewoman', 'nobody', 'nod', 'nodding', 'nodes', 'nodong', 'nodule', 'noemi', 'nof', 'nofficials', 'nogales', 'noh', 'noida', 'noil', 'noise', 'noises', 'noisily', 'nok', 'nokia', 'nokinawans', 'nomadic', 'nominally', 'nominate', 'nominated', 'nominates', 'nominating', 'nomination', 'nominee', 'nominees', 'non', 'nonbinding', 'nonboard', 'none', 'nonentity', 'nones', 'nonetheless', 'nonexistent', 'nonflushing', 'nonline', 'nono', 'nonpartisan', 'nonprofit', 'nonproliferation', 'nonsense', 'nonsmokers', 'nonstop', 'nonviolence', 'nonviolent', 'noodle', 'noodles', 'noon', 'noooo', 'noor', 'noose', 'nope', 'nopened', 'noperation', 'nopposition', 'nor', 'norad', 'norah', 'nord', 'nordbank', 'nordic', 'nordics', 'norfolk', 'noriega', 'norm', 'normal', 'normalised', 'normality', 'normalize', 'normalizing', 'normally', 'norman', 'normandy', 'norms', 'norovirus', 'norris', 'norte', 'north', 'northeast', 'northeastern', 'northern', 'northkoreanews', 'northrup', 'northwest', 'northwestern', 'norton', 'norway', 'norways', 'norwegian', 'norwegians', 'nose', 'nosebleeds', 'nosed', 'nosediving', 'noses', 'noshir', 'nostalgia', 'nostra', 'nostrils', 'not', 'notably', 'notch', 'notches', 'note', 'notebook', 'notebooks', 'noted', 'notepad', 'notes', 'noteworthy', 'nothing', 'notice', 'noticed', 'notices', 'noticias', 'noticing', 'notification', 'notified', 'notify', 'notion', 'notorious', 'nots', 'nottingham', 'notw', 'notwithstanding', 'nour', 'nouri', 'nouriel', 'nourished', 'nourishes', 'nourishing', 'nout', 'nov', 'nova', 'novack', 'novak', 'novartis', 'novel', 'novelist', 'novelists', 'novels', 'novelty', 'november', 'novemeber', 'noverwhelmed', 'novokuznetsk', 'novosti', 'novy', 'now', 'nowadays', 'nowhere', 'nowruz', 'noxious', 'npace', 'npakistan', 'npalestinians', 'npanorama', 'nparliament', 'npassengers', 'npay', 'npd', 'npeace', 'npeaceful', 'npelvic', 'npeople', 'nplanned', 'nplot', 'npolice', 'npolish', 'npolitical', 'npopulation', 'npositive', 'npower', 'npr', 'npreferred', 'nprogramme', 'nproof', 'nprosecution', 'nprotesters', 'nproud', 'npt', 'npublic', 'npunished', 'nputting', 'nquestion', 'nramadan', 'nrambling', 'nraped', 'nrate', 'nratzinger', 'nrc', 'nreduced', 'nrel', 'nrelationship', 'nreplace', 'nreportedly', 'nresigns', 'nresponded', 'nresults', 'nretired', 'nreveals', 'nrights', 'nripped', 'nroad', 'nrovers', 'nsa', 'nsaid', 'nsas', 'nscrapyard', 'nse', 'nselling', 'nsends', 'nsettlements', 'nsettlers', 'nseven', 'nsexually', 'nsfl', 'nsfw', 'nsgt', 'nshepherd', 'nshit', 'nshouting', 'nshow', 'nsmites', 'nsmuggling', 'nsoldiers', 'nsomething', 'nspeed', 'nstone', 'nstrategy', 'nstretching', 'nstrike', 'nstrip', 'nsu', 'nsuddenly', 'nsw', 'nswitzerland', 'nsword', 'ntaganda', 'ntaliban', 'ntargeted', 'ntaser', 'ntell', 'nterritory', 'nterrorists', 'nthan', 'nthe', 'ntheir', 'nthem', 'nthen', 'nthese', 'nthey', 'nthis', 'nto', 'ntreated', 'ntreating', 'ntriumphed', 'ntrouble', 'ntrue', 'ntry', 'ntrying', 'ntues', 'nu', 'nuanced', 'nucking', 'nuclear', 'nude', 'nudists', 'nudity', 'nudong', 'nueva', 'nuevo', 'nuez', 'nuganda', 'nugget', 'nuggets', 'nuisance', 'nujood', 'nuk', 'nuke', 'nuked', 'nukes', 'null', 'nullification', 'nullifies', 'nullify', 'numb', 'number', 'numbered', 'numbering', 'numberplate', 'numbers', 'numeracy', 'numerologists', 'numerous', 'numpties', 'nun', 'nunacceptable', 'nunavut', 'nunconscious', 'nuns', 'nunsuccessful', 'nup', 'nuremberg', 'nuremburg', 'nuri', 'nurse', 'nursed', 'nursery', 'nurses', 'nursing', 'nusa', 'nuse', 'nusra', 'nut', 'nutcase', 'nutella', 'nutmeg', 'nutrality', 'nutrients', 'nutrition', 'nutritious', 'nuts', 'nutshell', 'nutt', 'nvirtual', 'nvisits', 'nw', 'nwar', 'nwas', 'nwater', 'nwe', 'nwednesday', 'nwfp', 'nwhat', 'nwhich', 'nwhole', 'nwith', 'nwomen', 'nworldnews', 'ny', 'nyad', 'nyc', 'nyet', 'nynorsk', 'nypd', 'nyse', 'nyt', 'nytimes', 'nyu', 'nz', 'o2', 'o_o', 'oahu', 'oasis', 'oath', 'oaths', 'oaxaca', 'obama', 'obamas', 'obedient', 'obediently', 'obeidi', 'obeidy', 'oberammergau', 'oberoi', 'obese', 'obesity', 'obey', 'obeying', 'obfuscating', 'obi', 'obituaries', 'obituary', 'object', 'objected', 'objecting', 'objection', 'objectionable', 'objections', 'objective', 'objectives', 'objector', 'objectors', 'objects', 'obl', 'oblat', 'obless', 'obligated', 'obligation', 'obligations', 'obligatory', 'oblige', 'obliged', 'obliges', 'obliterate', 'obliterated', 'obliterates', 'oblivious', 'obnoxious', 'obrador', 'obrera', 'obscene', 'obscenities', 'obscenity', 'obscure', 'obscured', 'obscurity', 'observance', 'observant', 'observation', 'observations', 'observatory', 'observe', 'observed', 'observer', 'observers', 'observes', 'observing', 'obsessed', 'obsession', 'obsessive', 'obsessively', 'obsolete', 'obstacle', 'obstacles', 'obstaclesthugs', 'obstinate', 'obstructed', 'obstructing', 'obstruction', 'obtain', 'obtained', 'obtaining', 'obtains', 'obvious', 'obviously', 'obviousness', 'oc', 'ocalan', 'occasion', 'occasional', 'occasionally', 'occasions', 'occidental', 'occipied', 'occulted', 'occupants', 'occupation', 'occupations', 'occupied', 'occupier', 'occupiers', 'occupies', 'occupy', 'occupying', 'occupyoakland', 'occur', 'occurred', 'occurrence', 'occurring', 'occurs', 'ocean', 'oceana', 'oceania', 'oceans', 'oct', 'october', 'octopuses', 'odd', 'oddity', 'oddly', 'odds', 'odeh', 'oden', 'odessa', 'odierno', 'odinga', 'odor', 'odorle', 'odwyer', 'oecd', 'oerlemans', 'oestrogen', 'of', 'ofcom', 'off', 'offence', 'offences', 'offend', 'offended', 'offender', 'offenders', 'offending', 'offends', 'offense', 'offenses', 'offensive', 'offer', 'offered', 'offering', 'offerings', 'offers', 'offical', 'officals', 'office', 'officer', 'officers', 'offices', 'official', 'officialdom', 'officially', 'officials', 'officialsand', 'offing', 'offline', 'offload', 'offloaded', 'offs', 'offset', 'offsets', 'offshoot', 'offshore', 'offshores', 'offspring', 'ofgem', 'ofsted', 'oft', 'often', 'ofunemployment', 'ogoni', 'ogoniland', 'ogooglebar', 'oh', 'ohare', 'oic', 'oil', 'oiled', 'oilfield', 'oilfields', 'oilmen', 'oilsands', 'oily', 'oink', 'ok', 'okay', 'okayed', 'okays', 'okaz', 'okeefe', 'okhotsk', 'okinawa', 'okinawans', 'okla', 'oklahoma', 'okoh', 'oks', 'oksana', 'oktoberfest', 'okubo', 'olaf', 'olbermann', 'old', 'older', 'oldest', 'olds', 'oleary', 'oligarch', 'oligarchs', 'oligarchy', 'oligopoly', 'olive', 'oliver', 'olives', 'olly', 'olmert', 'olmerts', 'olpc', 'olsgaard', 'olso', 'olson', 'olympia', 'olympian', 'olympians', 'olympic', 'olympics', 'olympus', 'om', 'omagh', 'oman', 'omar', 'ombudsman', 'omg', 'omidyar', 'ominous', 'ominously', 'omission', 'omitted', 'omitting', 'omnipotence', 'omv', 'on', 'onanism', 'onboard', 'once', 'oncoming', 'one', 'ones', 'onetime', 'ongoing', 'onion', 'online', 'onlooker', 'onlookers', 'only', 'onlyastronaut', 'onoda', 'ons', 'onsite', 'onslaught', 'onstage', 'ont', 'ontario', 'ontarios', 'onto', 'ontuesday', 'onus', 'onward', 'onwards', 'oops', 'op', 'opaque', 'opcw', 'opec', 'open', 'opened', 'opener', 'opening', 'openly', 'openned', 'openness', 'opens', 'opera', 'operable', 'operandi', 'operas', 'operate', 'operated', 'operates', 'operatic', 'operating', 'operation', 'operational', 'operations', 'operative', 'operatives', 'operator', 'operators', 'opined', 'opinion', 'opinionated', 'opinions', 'opium', 'opponent', 'opponents', 'opportunism', 'opportunities', 'opportunitieslike', 'opportunity', 'oppose', 'opposed', 'opposes', 'opposing', 'opposite', 'opposition', 'oppostion', 'oppress', 'oppressed', 'oppressing', 'oppression', 'oppressive', 'oppressor', 'oppressors', 'opressed', 'ops', 'opt', 'opted', 'optic', 'optical', 'optimised', 'optimism', 'optimist', 'optimistic', 'option', 'optional', 'options', 'opts', 'opulent', 'opus', 'or', 'oradour', 'oral', 'orang', 'orange', 'orangemen', 'orangutan', 'orangutans', 'oratory', 'orban', 'orbit', 'orbiter', 'orbiting', 'orbits', 'orbn', 'orbs', 'orchard', 'orchestra', 'orchestrated', 'orchestrating', 'ordaining', 'orde', 'ordeal', 'order', 'ordered', 'ordering', 'orderly', 'orders', 'ordinance', 'ordinary', 'ordinated', 'ordinates', 'ordinating', 'ordination', 'ordinator', 'ordnance', 'ordos', 'ore', 'oreal', 'oregon', 'orekhovo', 'org', 'organ', 'organic', 'organisation', 'organisations', 'organise', 'organised', 'organisers', 'organising', 'organisms', 'organization', 'organizations', 'organize', 'organized', 'organizer', 'organizers', 'organizing', 'organs', 'orgies', 'orginally', 'orgy', 'orient', 'orientation', 'oriented', 'orients', 'origin', 'original', 'originally', 'originate', 'originated', 'originates', 'originating', 'origins', 'orion', 'orissa', 'orkopoulos', 'orleans', 'orlova', 'ornament', 'ornate', 'ornithology', 'oromo', 'orphan', 'orphanage', 'orphanages', 'orphaned', 'orphans', 'ortega', 'ortegas', 'orthadox', 'orthodox', 'orthodoxy', 'ortmann', 'orwell', 'orwellian', 'orwells', 'oryx', 'os', 'osaka', 'osama', 'osborne', 'oscar', 'oscars', 'osce', 'osetia', 'osettain', 'osh', 'oskar', 'oslo', 'osman', 'ossetia', 'ossetian', 'ostensibly', 'ostentatious', 'osteopathy', 'ostrich', 'ostrovsky', 'oswestry', 'other', 'others', 'otherwise', 'othman', 'otmar', 'otsuchi', 'ottawa', 'otters', 'otto', 'ottoman', 'ottomans', 'ouattara', 'ouch', 'ought', 'ouija', 'ounce', 'ounces', 'our', 'ours', 'ourselves', 'ouseley', 'oust', 'ousted', 'ouster', 'ousting', 'ousts', 'out', 'outage', 'outback', 'outbid', 'outbreak', 'outbreaks', 'outburst', 'outcome', 'outcomes', 'outcry', 'outdated', 'outdo', 'outdone', 'outdoor', 'outed', 'outer', 'outernet', 'outfit', 'outfits', 'outfitted', 'outfly', 'outfoxed', 'outgoing', 'outgunned', 'outing', 'outlandish', 'outlasted', 'outlaw', 'outlawed', 'outlawing', 'outlaws', 'outlays', 'outlet', 'outlets', 'outlflan', 'outlier', 'outliers', 'outline', 'outlined', 'outlines', 'outlook', 'outmaneuvered', 'outmaneuvers', 'outmatched', 'outnumber', 'outpace', 'outpaced', 'outpaces', 'outperform', 'outperformed', 'outperforming', 'outpost', 'outposts', 'outpouring', 'output', 'outrage', 'outraged', 'outrageous', 'outrages', 'outranks', 'outright', 'outs', 'outside', 'outsiders', 'outsize', 'outskirts', 'outsource', 'outsourced', 'outsources', 'outsourcing', 'outspoken', 'outstanding', 'outstripped', 'outstrips', 'outweigh', 'outweighed', 'outweighing', 'outweighs', 'outwit', 'ovadia', 'ovarian', 'ovaries', 'ovation', 'ovations', 'ovens', 'over', 'overall', 'overblown', 'overboard', 'overcame', 'overcentralization', 'overcharging', 'overcome', 'overcomes', 'overcoming', 'overconsumption', 'overcrowded', 'overcrowding', 'overdose', 'overdoses', 'overdraft', 'overdrive', 'overdue', 'overestimating', 'overfished', 'overfishing', 'overflow', 'overflowed', 'overflowing', 'overhaul', 'overhauled', 'overhauling', 'overhead', 'overheard', 'overheating', 'overinflate', 'overissuance', 'overjoyed', 'overkill', 'overloaded', 'overlook', 'overlooked', 'overlooking', 'overly', 'overnight', 'overpaying', 'overpopulation', 'overpower', 'overpowered', 'overpressurized', 'overreacting', 'overrespond', 'override', 'overruled', 'overrules', 'overrun', 'overrunning', 'overruns', 'overseas', 'oversee', 'overseeing', 'oversees', 'overshadow', 'overshadowed', 'overshoots', 'oversight', 'overstaffed', 'overstated', 'overstayed', 'overstaying', 'overstepping', 'overstressed', 'oversupply', 'overtake', 'overtaken', 'overtakes', 'overtaking', 'overthrew', 'overthrow', 'overthrowing', 'overthrown', 'overtime', 'overtly', 'overtones', 'overtook', 'overtures', 'overturn', 'overturned', 'overturning', 'overturns', 'overuse', 'overview', 'overweight', 'overwhelm', 'overwhelmed', 'overwhelming', 'overwhelmingly', 'overwork', 'overworked', 'overzealous', 'owe', 'owed', 'owen', 'owens', 'owes', 'owing', 'owls', 'own', 'owned', 'owner', 'owners', 'ownership', 'owns', 'oxbridge', 'oxfam', 'oxford', 'oxfordshire', 'oxide', 'oxycontin', 'oxygen', 'oz', 'ozal', 'ozil', 'ozone', 'p2p', 'pa', 'pablo', 'pac', 'pace', 'paces', 'pacific', 'pacifist', 'pacifists', 'pacing', 'pack', 'package', 'packaged', 'packages', 'packaging', 'packard', 'packed', 'packet', 'packets', 'packing', 'packs', 'paco', 'pact', 'pacts', 'pad', 'paddies', 'paddlefish', 'padlocked', 'padlocks', 'pads', 'paedo', 'paedophile', 'paedophiles', 'paedophilia', 'paedos', 'paektu', 'pagan', 'paganism', 'page', 'pageant', 'pageants', 'pages', 'pahs', 'paid', 'pain', 'painful', 'painfully', 'painkillers', 'painless', 'pains', 'paint', 'paintball', 'painted', 'painter', 'painting', 'paintings', 'paints', 'pair', 'pairs', 'pais', 'paixao', 'pak', 'pakhomo', 'pakisan', 'pakistan', 'pakistani', 'pakistanis', 'pakistans', 'pal', 'palace', 'palaces', 'palantir', 'palast', 'palau', 'palenstine', 'paleolithic', 'paleontological', 'paleontologists', 'palermo', 'palestenians', 'palestina', 'palestinain', 'palestine', 'palestinean', 'palestines', 'palestinia', 'palestinian', 'palestinians', 'paliament', 'palin', 'palkot', 'palm', 'palmer', 'paloma', 'palpable', 'palsy', 'paltry', 'pamphlet', 'pamphlets', 'pan', 'panahi', 'panama', 'panamanian', 'panasonic', 'panchayat', 'pancho', 'pancreatic', 'panda', 'pandas', 'pandemic', 'pandemics', 'pandemonium', 'pander', 'pandering', 'pandora', 'panel', 'panels', 'panetta', 'pang', 'pangalos', 'pangolin', 'pangolins', 'panhandler', 'panic', 'paniccccccc', 'panicked', 'panicking', 'panicky', 'panjwaii', 'panorama', 'pans', 'panther', 'panthers', 'panties', 'pantomime', 'pantry', 'pants', 'paolo', 'papacy', 'papademos', 'papal', 'papandreou', 'papau', 'paper', 'papers', 'paperwork', 'papillon', 'papua', 'papuan', 'papyrus', 'par', 'paracetamol', 'parachute', 'parachuted', 'parade', 'paraded', 'parades', 'parading', 'paradise', 'paradox', 'paraffin', 'paragraph', 'paragraphs', 'paraguay', 'paraguayan', 'parallel', 'parallels', 'paralympian', 'paralympic', 'paralympics', 'paralyse', 'paralysed', 'paralysing', 'paralysis', 'paralyzed', 'paralyzes', 'paramedics', 'parameters', 'paramilitaries', 'paramilitary', 'paramount', 'paranoia', 'paranoid', 'paraphernalia', 'parasite', 'parasites', 'paratroopers', 'parcel', 'parcels', 'parched', 'parchin', 'pardon', 'pardoned', 'pardons', 'parent', 'parentage', 'parental', 'parenting', 'parents', 'parfyonov', 'pariah', 'paris', 'parish', 'parishes', 'parishioners', 'parisian', 'pariss', 'park', 'parked', 'parker', 'parking', 'parkinson', 'parkinsons', 'parks', 'parlament', 'parley', 'parliament', 'parliamentarian', 'parliamentarians', 'parliamentary', 'parliaments', 'parliment', 'parlimentary', 'parma', 'parody', 'parodying', 'parole', 'parsons', 'part', 'partakes', 'parted', 'parthenon', 'parti', 'partial', 'partially', 'participant', 'participants', 'participate', 'participated', 'participates', 'participating', 'participation', 'participatory', 'particle', 'particles', 'particular', 'particularly', 'particulate', 'partiers', 'parties', 'parting', 'partisan', 'partly', 'partner', 'partners', 'partnership', 'partnerships', 'partridges', 'parts', 'party', 'partygoers', 'partying', 'partys', 'parvaz', 'parvez', 'parviz', 'pascal', 'pasdaran', 'pashtun', 'pashtuns', 'paso', 'pass', 'passage', 'passages', 'passanger', 'passed', 'passenger', 'passengers', 'passer', 'passerby', 'passes', 'passing', 'passion', 'passionate', 'passively', 'passover', 'passport', 'passports', 'password', 'passwords', 'past', 'pasta', 'pastafarian', 'pastafarians', 'paste', 'pastebin', 'pasted', 'pastel', 'pastime', 'pasting', 'pastor', 'pastoralists', 'pastors', 'pastrys', 'pasts', 'pastures', 'pat', 'patagonia', 'patch', 'patched', 'patches', 'patel', 'patent', 'patentability', 'patentable', 'patented', 'patently', 'patents', 'paternity', 'paterson', 'path', 'pathan', 'pathetic', 'pathfinder', 'pathogen', 'pathogenic', 'pathogens', 'pathologist', 'pathologists', 'pathway', 'pathways', 'patience', 'patient', 'patients', 'patino', 'patio', 'patna', 'patriarch', 'patrick', 'patricks', 'patriot', 'patriotic', 'patriotism', 'patrol', 'patrolled', 'patrolling', 'patrols', 'patron', 'patronage', 'patrons', 'patsy', 'pattern', 'patterns', 'paul', 'paulo', 'pauls', 'paulson', 'paupa', 'paupers', 'pause', 'paused', 'pausing', 'pauw', 'pave', 'paved', 'pavement', 'paves', 'paving', 'pavlovsk', 'pawns', 'pax', 'paxman', 'pay', 'payback', 'paycheck', 'paychecks', 'payday', 'payed', 'payer', 'payers', 'paying', 'payload', 'paymaster', 'payment', 'payments', 'payne', 'payoff', 'payoffs', 'payout', 'payouts', 'paypal', 'payroll', 'pays', 'paywall', 'paz', 'pbs', 'pc', 'pcb', 'pcs', 'pdf', 'pea', 'peabodys', 'peace', 'peaceful', 'peacefully', 'peacekeeper', 'peacekeepers', 'peacekeeping', 'peacemaker', 'peacemaking', 'peacetime', 'peacocks', 'peak', 'peaked', 'peaking', 'peanut', 'peanuts', 'pear', 'pearl', 'pearlman', 'pearls', 'peasant', 'peasants', 'peat', 'peatland', 'pecking', 'peculiar', 'peculiarities', 'pedal', 'pedaled', 'pedaling', 'pedals', 'peddlers', 'peddling', 'pedestrian', 'pedestrianise', 'pedestrians', 'pedigree', 'pedis', 'pedometers', 'pedophelia', 'pedophile', 'pedophiles', 'pedophilia', 'pedophiliac', 'pedophilic', 'pedro', 'pee', 'peeing', 'peek', 'peeling', 'peels', 'peeping', 'peer', 'peering', 'peers', 'peeved', 'pegged', 'peking', 'pel', 'peled', 'pelican', 'pelicans', 'pell', 'pelley', 'pelosi', 'pelted', 'pelts', 'pelvis', 'pemex', 'pemon', 'pemper', 'pen', 'pena', 'penal', 'penalise', 'penalize', 'penalizes', 'penalties', 'penalty', 'pence', 'pendants', 'pending', 'pendleton', 'penetrate', 'penetrated', 'penetrates', 'penetrating', 'penetrator', 'penguin', 'penguins', 'penicillin', 'peninsula', 'peninsular', 'penis', 'penknives', 'penn', 'penned', 'pennies', 'penniless', 'pennsylvania', 'penny', 'pens', 'pension', 'pensioner', 'pensioners', 'pensions', 'pentagon', 'pentawere', 'pentecostal', 'pentecostalism', 'people', 'peoples', 'peopleunlike', 'peoplewho', 'pep', 'pepcon', 'pepe', 'pepper', 'peppers', 'pepsi', 'pepsico', 'per', 'perceived', 'percent', 'percentage', 'percentile', 'perception', 'perceptions', 'perch', 'percolating', 'peres', 'perevalnoye', 'perez', 'perfect', 'perfected', 'perfection', 'perfectly', 'perform', 'performance', 'performances', 'performed', 'performer', 'performers', 'performing', 'perfringens', 'perhaps', 'pericles', 'peril', 'perilous', 'perils', 'perimeter', 'period', 'periods', 'peripheral', 'perish', 'perished', 'perishing', 'perjury', 'perm', 'perma', 'permafrost', 'permanent', 'permanently', 'permisable', 'permission', 'permit', 'permits', 'permitted', 'permitting', 'permutter', 'perpetrated', 'perpetrator', 'perpetrators', 'perpetual', 'perpetually', 'perpetuation', 'perplexed', 'perplexing', 'perps', 'perry', 'persecute', 'persecuted', 'persecutes', 'persecuting', 'persecution', 'persecutions', 'pershmaga', 'persia', 'persian', 'persianpet', 'persians', 'persist', 'persistent', 'persistently', 'persisting', 'persists', 'person', 'persona', 'personal', 'personalities', 'personality', 'personally', 'personhood', 'personnel', 'persons', 'perspective', 'persson', 'persuade', 'persuaded', 'perth', 'pertussis', 'peru', 'perus', 'peruvian', 'pervasive', 'pervasively', 'perverting', 'perverts', 'pervez', 'peshawar', 'peshmerga', 'peso', 'pesotsky', 'pessimistic', 'pest', 'pestering', 'pesticide', 'pesticides', 'pests', 'pet', 'peta', 'petabytes', 'pete', 'peter', 'peters', 'petersburg', 'petition', 'petitioned', 'petitioners', 'petitions', 'petn', 'petra', 'petraeus', 'petrella', 'petrleo', 'petro', 'petrobas', 'petrobras', 'petrochemical', 'petrodollars', 'petrol', 'petroleo', 'petroleum', 'petronas', 'pets', 'petty', 'pew', 'pews', 'pf', 'pfc', 'pfizer', 'pg', 'pga', 'pgp', 'ph', 'phaedra', 'phallic', 'phantom', 'pharaoh', 'pharaohs', 'pharaonic', 'pharma', 'pharmacare', 'pharmaceutical', 'pharmaceuticals', 'pharmacies', 'pharmacists', 'pharmacologist', 'pharmacy', 'pharmo', 'pharrell', 'phase', 'phased', 'phaseout', 'phasing', 'phd', 'phelps', 'phenomenal', 'phenomenon', 'phfizzed', 'phil', 'philae', 'philanthropic', 'philanthropist', 'philanthropists', 'philex', 'philip', 'philipp', 'philippa', 'philippine', 'philippines', 'phillipines', 'phillips', 'philly', 'philosopher', 'philosophers', 'philosophical', 'philosophy', 'phishing', 'phobos', 'phoenician', 'phoenicians', 'phoenix', 'phone', 'phoned', 'phones', 'phonetap', 'phoney', 'phonies', 'phony', 'phosphates', 'phosphorous', 'phosphorus', 'photo', 'photocall', 'photocopy', 'photograph', 'photographed', 'photographer', 'photographers', 'photographic', 'photographing', 'photographs', 'photography', 'photojournalism', 'photojournalist', 'photojournalists', 'photos', 'photoshop', 'photoshopped', 'photoshopping', 'photoshops', 'photovoltaic', 'phrase', 'phrases', 'phumpanmuang', 'phuong', 'phurbu', 'physibles', 'physical', 'physically', 'physician', 'physicians', 'physicist', 'physicists', 'physics', 'physiology', 'physiotherapy', 'phytoplankton', 'pianist', 'piano', 'piata', 'piaui', 'pibor', 'pic', 'picachos', 'picasso', 'piccard', 'picchu', 'pick', 'picked', 'picker', 'picket', 'picketing', 'picking', 'pickpockets', 'picks', 'pickton', 'pickup', 'picnic', 'pics', 'picture', 'pictured', 'pictures', 'pie', 'piece', 'pieces', 'piechowski', 'piecing', 'pier', 'pierced', 'piercing', 'piercings', 'pierre', 'piers', 'pies', 'pifts', 'pig', 'pigeon', 'pigeons', 'pigment', 'pigs', 'piiiiiiiissed', 'pikangikum', 'pike', 'pile', 'pilecki', 'piled', 'piles', 'pilger', 'pilgrim', 'pilgrimage', 'pilgrimages', 'pilgrims', 'piling', 'pill', 'pillage', 'pillaged', 'pillaging', 'pillars', 'pillay', 'pilley', 'pills', 'pilot', 'piloting', 'pilotless', 'pilots', 'pime', 'pimp', 'pimping', 'pimps', 'pin', 'pinching', 'pine', 'pineapples', 'pinera', 'ping', 'pingping', 'pining', 'pink', 'pinko', 'pinky', 'pinned', 'pino', 'pinochet', 'pinpoint', 'pinpoints', 'pins', 'pint', 'pinter', 'pioneer', 'pioneering', 'pioneers', 'pious', 'pip', 'pipa', 'pipe', 'pipeline', 'pipelines', 'pipes', 'piping', 'piracies', 'piracy', 'piranhas', 'pirate', 'piratebay', 'piratebrowser', 'pirated', 'pirateleaks', 'piratenpartei', 'piratenparteis', 'pirates', 'pirating', 'pires', 'pis', 'pisa', 'piss', 'pissarides', 'pissed', 'pissusless', 'pistol', 'pistols', 'pistorious', 'pistorius', 'pit', 'pitbull', 'pitch', 'pitched', 'pitcher', 'pitchfork', 'pitching', 'pitfalls', 'pitful', 'pitney', 'pits', 'pitt', 'pittsburgh', 'pity', 'pius', 'pivotal', 'pixels', 'pizza', 'pj', 'pk', 'pkk', 'pla', 'plaa', 'place', 'placed', 'placement', 'places', 'placing', 'plages', 'plagiarised', 'plagiarism', 'plagiarized', 'plague', 'plagued', 'plagues', 'plaguing', 'plain', 'plainclothed', 'plainclothes', 'plainly', 'plains', 'plaintiffs', 'plame', 'plan', 'plane', 'planed', 'planes', 'planet', 'planetary', 'planetin', 'planets', 'planing', 'plankton', 'planned', 'planner', 'planning', 'plans', 'plant', 'plantagenet', 'plantation', 'plantations', 'planted', 'planting', 'plants', 'plaque', 'plaques', 'plasma', 'plastic', 'plasticized', 'plaszow', 'plate', 'plateau', 'plated', 'plates', 'platform', 'platforms', 'platini', 'platinum', 'platter', 'platz', 'plausible', 'play', 'playbook', 'playboy', 'playboys', 'played', 'player', 'players', 'playground', 'playgrounds', 'playing', 'playlist', 'playmate', 'playmobil', 'plays', 'playstation', 'plaything', 'playwrights', 'plaza', 'plazas', 'plc', 'plea', 'plead', 'pleaded', 'pleading', 'pleads', 'pleas', 'pleasant', 'please', 'pleased', 'pleasing', 'pleasure', 'pledge', 'pledged', 'pledges', 'pledging', 'pleistocene', 'plenty', 'plesch', 'plesner', 'plethora', 'plevneliev', 'pliant', 'pliers', 'plight', 'plo', 'plos', 'plot', 'plots', 'plotted', 'plotter', 'plotters', 'plotting', 'ploughshares', 'plow', 'plowed', 'plowing', 'plows', 'ploy', 'pls', 'plucked', 'plucking', 'plug', 'plugged', 'plumber', 'plumbing', 'plume', 'plumes', 'plummet', 'plummeted', 'plummeting', 'plummets', 'plumpy', 'plunder', 'plundered', 'plundering', 'plunge', 'plunged', 'plunges', 'plunging', 'pluralism', 'pluralist', 'pluralistic', 'plurality', 'plus', 'pluto', 'plutocrat', 'plutocrats', 'plutonium', 'plywood', 'pm', 'pneumonia', 'pneumonic', 'png', 'poached', 'poacher', 'poachers', 'poaching', 'pochinok', 'pocket', 'pocketed', 'pocketing', 'pockets', 'podcasts', 'podium', 'poem', 'poems', 'poet', 'poetry', 'pogrom', 'pogroms', 'point', 'pointed', 'pointedly', 'pointer', 'pointing', 'pointless', 'points', 'poised', 'poision', 'poison', 'poisoned', 'poisoner', 'poisoning', 'poisonous', 'poisons', 'poked', 'pokemon', 'poker', 'pokes', 'pokey', 'poking', 'pol', 'poland', 'polands', 'polanski', 'polar', 'polarizing', 'polaroid', 'polat', 'pole', 'poles', 'polica', 'police', 'policeman', 'policemen', 'policetraveller', 'policewoman', 'policies', 'policing', 'policy', 'policymakers', 'policys', 'polio', 'polish', 'polishing', 'politburo', 'politcal', 'polite', 'politely', 'politic', 'politicain', 'political', 'politically', 'politican', 'politician', 'politicians', 'politicised', 'politicising', 'politicizing', 'politics', 'politkovskaya', 'politovskaya', 'poll', 'pollard', 'polled', 'pollen', 'pollinate', 'pollinating', 'pollination', 'pollinators', 'polling', 'polls', 'pollster', 'pollutant', 'pollutants', 'pollute', 'polluted', 'polluter', 'polluters', 'pollutes', 'polluting', 'pollution', 'pollutionto', 'polonium', 'pols', 'polticians', 'polycyclic', 'polygamist', 'polygamists', 'polygamy', 'polymer', 'polynesia', 'pomerania', 'pompeii', 'ponchis', 'pond', 'ponder', 'pondering', 'ponders', 'ponds', 'ponta', 'pontiff', 'pontifical', 'pony', 'ponytail', 'ponzai', 'ponzi', 'poo', 'poof', 'pool', 'pooling', 'pools', 'poop', 'poor', 'poorer', 'poorest', 'poorly', 'poors', 'pop', 'pope', 'popes', 'popped', 'poppies', 'popping', 'poppy', 'pops', 'populace', 'popular', 'popularity', 'popularly', 'populate', 'populated', 'population', 'populations', 'populism', 'populist', 'populists', 'populous', 'porches', 'porcupine', 'poring', 'pork', 'porn', 'pornographer', 'pornographic', 'pornography', 'pornograpy', 'poroshenko', 'porpoise', 'porpoises', 'porsche', 'porsches', 'port', 'portable', 'portal', 'portals', 'portent', 'porter', 'porters', 'portfolio', 'portion', 'portions', 'porto', 'portrait', 'portraits', 'portray', 'portrayal', 'portrayed', 'portraying', 'portrays', 'ports', 'portugal', 'portugals', 'portuguese', 'pose', 'posed', 'poses', 'posh', 'posing', 'posioning', 'position', 'positioning', 'positions', 'positive', 'positively', 'posses', 'possesion', 'possess', 'possessed', 'possesses', 'possessing', 'possession', 'possessions', 'possesss', 'possibilities', 'possibility', 'possible', 'possibly', 'post', 'postal', 'postcard', 'postcards', 'postcode', 'posted', 'posten', 'poster', 'posters', 'postersdeemed', 'postgate', 'posthumously', 'posting', 'postings', 'postlethwaite', 'postman', 'postmen', 'postponed', 'posts', 'postsecondary', 'postumous', 'posturing', 'postwar', 'postwoman', 'pot', 'potable', 'potash', 'potato', 'potatoes', 'potent', 'potential', 'potentially', 'poti', 'potions', 'potiskum', 'potosi', 'pots', 'potter', 'pottery', 'pottinger', 'poulsen', 'poultry', 'pounce', 'pound', 'pounded', 'pounding', 'pounds', 'pour', 'poured', 'pouring', 'pours', 'poverty', 'pow', 'powder', 'powdered', 'powderly', 'powel', 'powell', 'power', 'powerderly', 'powered', 'powerful', 'powerhouse', 'powerless', 'powerplan', 'powerpoint', 'powers', 'powerwill', 'pows', 'poznan', 'ppc', 'ppi', 'ppl', 'ppm', 'ppp', 'pr', 'prabhakaran', 'practical', 'practically', 'practice', 'practiced', 'practices', 'practicing', 'practise', 'practising', 'practitioners', 'pradesh', 'pragmatism', 'prague', 'praise', 'praised', 'praises', 'praising', 'prank', 'pranksters', 'praseodymium', 'pratariccia', 'pratchett', 'prawn', 'prawns', 'pray', 'prayed', 'prayer', 'prayers', 'praying', 'prays', 'prc', 'pre', 'preach', 'preacher', 'preachers', 'preaches', 'preaching', 'precancerous', 'precarious', 'precaution', 'precautionary', 'precautions', 'precede', 'preceded', 'precedence', 'precedent', 'precedents', 'precent', 'precepts', 'precious', 'precipice', 'precise', 'precisely', 'precision', 'preconditions', 'precrime', 'predate', 'predates', 'predator', 'predators', 'predatory', 'predecessor', 'predecessors', 'predicament', 'predict', 'predictable', 'predicted', 'predicting', 'prediction', 'predictions', 'predictor', 'predicts', 'predominance', 'predominantly', 'preeminent', 'preempt', 'preemptive', 'preemptively', 'pref', 'prefab', 'prefecture', 'prefectures', 'prefer', 'preferable', 'preference', 'preferences', 'preferential', 'preferred', 'prefers', 'pregnancies', 'pregnancy', 'pregnant', 'prehistoric', 'preist', 'prejean', 'prejudice', 'prejudiced', 'prejudices', 'preliminary', 'premarital', 'premature', 'prematurely', 'premeditated', 'premier', 'premiers', 'premise', 'premises', 'premium', 'premiums', 'prep', 'prepaid', 'preparation', 'preparations', 'prepare', 'prepared', 'prepares', 'preparing', 'prepatrator', 'prepping', 'pres', 'preschool', 'preschools', 'prescribe', 'prescribed', 'prescribing', 'prescription', 'prescriptions', 'presence', 'present', 'presentation', 'presentations', 'presented', 'presenter', 'presenters', 'presenting', 'presents', 'preserve', 'preserved', 'preserves', 'preserving', 'presided', 'presidency', 'president', 'presidential', 'presidents', 'presides', 'presiding', 'prespective', 'press', 'pressed', 'presses', 'pressing', 'presstv', 'pressure', 'pressured', 'pressures', 'pressuring', 'prestige', 'prestigious', 'presumably', 'presume', 'presumed', 'presumption', 'presumptive', 'presumtion', 'pretend', 'pretended', 'pretending', 'pretends', 'pretense', 'pretenses', 'pretext', 'pretexts', 'pretoria', 'pretty', 'prevailed', 'prevailing', 'prevails', 'prevalence', 'prevalent', 'prevarication', 'prevent', 'preventable', 'preventative', 'prevented', 'preventer', 'preventing', 'prevention', 'preventive', 'prevents', 'preview', 'previous', 'previously', 'prey', 'preying', 'prez', 'pri', 'price', 'priced', 'priceless', 'prices', 'pricewaterhousecoopers', 'pricey', 'pricing', 'pricked', 'prickly', 'pride', 'priest', 'priestly', 'priests', 'prigs', 'prima', 'primarily', 'primary', 'primate', 'primates', 'prime', 'primed', 'primer', 'primitive', 'primte', 'prince', 'princelings', 'princes', 'princess', 'princesss', 'princeton', 'principal', 'principality', 'principle', 'principled', 'principles', 'print', 'printable', 'printed', 'printer', 'printers', 'printing', 'prints', 'prior', 'priorities', 'prioritize', 'priority', 'pripyat', 'prism', 'prison', 'prisoner', 'prisoners', 'prisonomics', 'prisons', 'pristina', 'pristine', 'privacy', 'private', 'privately', 'privatisation', 'privatise', 'privatised', 'privatization', 'privatize', 'privatized', 'privatizing', 'privilege', 'privileged', 'privileges', 'privy', 'prix', 'prize', 'prized', 'prizes', 'prizewinners', 'prizewinning', 'pro', 'probability', 'probable', 'probably', 'probation', 'probe', 'probes', 'probing', 'probiotic', 'problem', 'problematic', 'problematically', 'problems', 'procedure', 'procedures', 'proceed', 'proceeded', 'proceedings', 'proceeds', 'proceso', 'process', 'processed', 'processes', 'processing', 'procession', 'processor', 'proclaim', 'proclaimed', 'proclaims', 'proclivities', 'procreation', 'procter', 'procure', 'procurement', 'procuring', 'prod', 'prodded', 'prodi', 'prodigy', 'produce', 'produced', 'producer', 'producers', 'produces', 'producing', 'product', 'production', 'productive', 'productivity', 'products', 'prof', 'professed', 'professional', 'professionals', 'professor', 'professors', 'professsor', 'proficiency', 'profile', 'profiles', 'profiling', 'profit', 'profitability', 'profitable', 'profited', 'profiteer', 'profiteering', 'profiteers', 'profiting', 'profitizing', 'profits', 'profound', 'profoundly', 'progesterone', 'program', 'programme', 'programmed', 'programmer', 'programmers', 'programmes', 'programming', 'programs', 'progress', 'progression', 'progressive', 'progressives', 'prohibit', 'prohibited', 'prohibiting', 'prohibition', 'prohibitionism', 'prohibitionist', 'prohibitionists', 'prohibitions', 'prohibits', 'project', 'projected', 'projectile', 'projectiles', 'projecting', 'projection', 'projections', 'projects', 'prokhorov', 'proliferant', 'proliferated', 'proliferating', 'proliferation', 'prolific', 'prolong', 'prolonged', 'prolonging', 'prolongs', 'prom', 'promenade', 'prominent', 'promiscuity', 'promiscuous', 'promise', 'promised', 'promises', 'promising', 'promo', 'promote', 'promoted', 'promoter', 'promotes', 'promoting', 'promotion', 'prompt', 'prompted', 'prompting', 'promptly', 'prompts', 'promusicae', 'prone', 'pronged', 'pronographers', 'pronoun', 'pronounce', 'pronounced', 'proof', 'proofing', 'prop', 'propaganda', 'propagandhi', 'propagandist', 'propagandists', 'propagate', 'propagated', 'propagating', 'propelled', 'propeller', 'proper', 'properly', 'properties', 'property', 'prophet', 'prophets', 'prophylactic', 'propoganda', 'proponent', 'proponents', 'proporsionally', 'proportion', 'proportional', 'proportions', 'proposal', 'proposals', 'propose', 'proposed', 'proposes', 'proposing', 'proposition', 'propositioned', 'propped', 'propper', 'propping', 'proprietary', 'propulsion', 'prosecutable', 'prosecute', 'prosecuted', 'prosecutes', 'prosecuting', 'prosecution', 'prosecutions', 'prosecutor', 'prosecutors', 'proselytizers', 'proselytizing', 'prospect', 'prospecting', 'prospective', 'prospector', 'prospects', 'prospering', 'prosperity', 'prosperous', 'prosthetic', 'prostitues', 'prostituion', 'prostitute', 'prostitutes', 'prostituting', 'prostitution', 'prostrating', 'protagonists', 'protect', 'protected', 'protecting', 'protection', 'protectionism', 'protections', 'protective', 'protector', 'protectorates', 'protects', 'protein', 'proteins', 'protest', 'protestant', 'protestants', 'protested', 'protester', 'protesters', 'protesting', 'protestor', 'protestors', 'protests', 'protocol', 'protocols', 'proton', 'protonet', 'prototype', 'prototypes', 'protracted', 'proud', 'proudest', 'proudly', 'provadia', 'prove', 'proved', 'proven', 'provence', 'provera', 'proves', 'provide', 'provided', 'providence', 'provider', 'providers', 'provides', 'providing', 'province', 'provinces', 'provincial', 'proving', 'provision', 'provisions', 'provocateurs', 'provocation', 'provocations', 'provocative', 'provocatively', 'provoke', 'provoked', 'provokes', 'provoking', 'prow', 'prowess', 'prowl', 'prowls', 'proxies', 'proximity', 'proxy', 'prozac', 'prsident', 'prudes', 'prum', 'prune', 'prunes', 'prunge', 'pruning', 'pry', 'ps', 'ps4', 'pseudo', 'pslv', 'psn', 'psni', 'psy', 'psych', 'psychatric', 'psyche', 'psychedelic', 'psychedelics', 'psychiatric', 'psychiatrist', 'psychiatrists', 'psychiatry', 'psychic', 'psychics', 'psychoactive', 'psychological', 'psychologically', 'psychologist', 'psychologists', 'psychology', 'psychopath', 'psychopaths', 'psychosis', 'psychotherapy', 'psychotic', 'psykiatric', 'pt', 'pta', 'ptsd', 'pub', 'puberty', 'pubescent', 'public', 'publica', 'publicaly', 'publication', 'publications', 'publicity', 'publicize', 'publicized', 'publicizing', 'publicly', 'publics', 'publish', 'published', 'publisher', 'publishers', 'publishes', 'publishing', 'pubs', 'pudding', 'puddings', 'puerta', 'puerto', 'puff', 'puffer', 'puffin', 'pukkelpop', 'pulitzer', 'pull', 'pullback', 'pulled', 'pulling', 'pullout', 'pulls', 'pulp', 'pulped', 'pulpit', 'pulse', 'pulverises', 'puma', 'pumice', 'pump', 'pumped', 'pumping', 'pumps', 'pun', 'punch', 'punchbag', 'punched', 'punches', 'punching', 'punctuation', 'punctured', 'punctures', 'pundit', 'pundits', 'pune', 'punish', 'punishable', 'punished', 'punishes', 'punishing', 'punishment', 'punishments', 'punitive', 'punjab', 'punk', 'punks', 'punta', 'punters', 'pup', 'pupil', 'pupils', 'puplic', 'puppet', 'puppetry', 'puppets', 'puppies', 'puppy', 'pups', 'purcell', 'purchase', 'purchased', 'purchases', 'purchasing', 'purdani', 'purdue', 'pure', 'puree', 'purely', 'purer', 'purest', 'purge', 'purged', 'purges', 'purging', 'purif', 'purification', 'purified', 'purify', 'purity', 'purloined', 'purple', 'purported', 'purportedly', 'purporting', 'purports', 'purpose', 'purposeful', 'purposes', 'purse', 'purseincluding', 'purser', 'purses', 'pursue', 'pursued', 'pursues', 'pursuing', 'pursuit', 'purulia', 'push', 'pushback', 'pushed', 'pushes', 'pushing', 'pussies', 'pussy', 'put', 'putin', 'putins', 'putrid', 'puts', 'putting', 'puyehue', 'puzzle', 'puzzled', 'puzzles', 'puzzling', 'pv', 'pwning', 'pwns', 'pyeongchang', 'pygmies', 'pygmy', 'pylons', 'pyongan', 'pyongyang', 'pyongyangs', 'pyramid', 'pyramidal', 'pyramids', 'pyrenees', 'pyromaniac', 'pyromaniacs', 'python', 'pythons', 'qa', 'qaboun', 'qadaffi', 'qaddafi', 'qaddafis', 'qadhafi', 'qaeda', 'qaedas', 'qaida', 'qake', 'qalamoun', 'qantas', 'qasab', 'qashoush', 'qashqavi', 'qassem', 'qatada', 'qatar', 'qatari', 'qatars', 'qatif', 'qazvin', 'qf28', 'qin', 'qing', 'qinghai', 'qld', 'qods', 'quack', 'quackery', 'quadrillion', 'quadriplegic', 'quadruple', 'quadrupled', 'quagmire', 'quaida', 'quake', 'quakers', 'quakes', 'qualified', 'qualifier', 'qualify', 'qualifying', 'quality', 'quandary', 'quantas', 'quantified', 'quantifies', 'quantities', 'quantity', 'quantum', 'quarantine', 'quarantined', 'quarantines', 'quarrel', 'quarrels', 'quarry', 'quarter', 'quarterly', 'quarters', 'quartet', 'quartz', 'quash', 'quashed', 'quasi', 'quasicrystals', 'quazi', 'qubcois', 'quds', 'que', 'quebec', 'quebecois', 'quebecs', 'queda', 'queen', 'queens', 'queensday', 'queensland', 'queer', 'queers', 'quell', 'quelled', 'queries', 'quest', 'questing', 'question', 'questionable', 'questioned', 'questioning', 'questionnaires', 'questions', 'quetta', 'queue', 'queuing', 'quick', 'quickly', 'quicktime', 'quid', 'quiet', 'quieting', 'quietly', 'quiets', 'quinn', 'quinoa', 'quirk', 'quirky', 'quit', 'quite', 'quito', 'quits', 'quitting', 'quixtar', 'quiz', 'quizzed', 'quo', 'quorn', 'quota', 'quotas', 'quote', 'quoted', 'quotes', 'quoting', 'qur', 'quran', 'qurans', 'qurna', 'quryna', 'qusra', 'qvir', 'qz8501', 'r140m', 'ra', 'rabbi', 'rabbinate', 'rabbinic', 'rabbinical', 'rabbis', 'rabbit', 'rabbits', 'rabble', 'rabbu', 'rabiah', 'rabid', 'rabies', 'rabin', 'rabobank', 'race', 'raced', 'racer', 'races', 'rachayel', 'rachel', 'rachida', 'racial', 'racially', 'racing', 'racism', 'racist', 'racists', 'rack', 'racked', 'racket', 'racketeering', 'rackets', 'racking', 'racks', 'racy', 'radar', 'radars', 'radchenko', 'radiated', 'radiates', 'radiation', 'radical', 'radicalisation', 'radicalised', 'radicalism', 'radicalization', 'radicalize', 'radicalized', 'radicalizing', 'radically', 'radicals', 'radio', 'radioactive', 'radioactively', 'radioactivity', 'radiohead', 'radioisotope', 'radionuclides', 'radios', 'radiotherapy', 'radium', 'radius', 'radovan', 'radwan', 'rae', 'raed', 'raf', 'rafael', 'rafah', 'rafale', 'rafik', 'rafiq', 'rafique', 'rafsanjani', 'raft', 'rag', 'rage', 'raged', 'rages', 'raging', 'rags', 'ragtag', 'raheem', 'rahm', 'rahmanipour', 'rahmstorf', 'rahnavard', 'raid', 'raided', 'raiders', 'raiding', 'raids', 'raikkonen', 'rail', 'railed', 'railings', 'railroad', 'rails', 'railway', 'railways', 'rain', 'rainbow', 'rained', 'rainfall', 'rainforest', 'rainforests', 'raining', 'rains', 'rainwater', 'rainy', 'raisani', 'raise', 'raised', 'raises', 'raising', 'raisins', 'raisman', 'raissi', 'raitt', 'raja', 'rajapaksa', 'rajasthan', 'rajoy', 'rake', 'rakes', 'rakhine', 'rakhmon', 'rakuten', 'ral', 'rall', 'rallied', 'rallies', 'rally', 'rallying', 'ralph', 'ram', 'rama', 'ramadan', 'ramallah', 'ramblers', 'rambling', 'rambo', 'ramesses', 'ramifications', 'ramita', 'rammed', 'ramming', 'ramon', 'ramos', 'rampage', 'rampaging', 'rampaku', 'rampant', 'ramparts', 'ramped', 'ramping', 'ramps', 'rams', 'ramzan', 'ran', 'rana', 'ranbaxy', 'ranch', 'ranchers', 'ranching', 'rancor', 'rand', 'randal', 'randi', 'random', 'randomly', 'rands', 'rang', 'range', 'ranged', 'ranger', 'rangers', 'ranging', 'ranjitsingh', 'rank', 'ranked', 'ranking', 'rankings', 'ranks', 'ransack', 'ransacked', 'ransom', 'ransoms', 'ransomware', 'rant', 'ranting', 'rants', 'raoul', 'rap', 'rape', 'raped', 'rapes', 'rapid', 'rapidly', 'rapidshare', 'raping', 'rapiscan', 'rapist', 'rapists', 'rapped', 'rapper', 'rappers', 'rapporteur', 'raptor', 'rapture', 'rapturous', 'raqqa', 'raqqah', 'rare', 'rarely', 'rarer', 'rarest', 'ras', 'rashes', 'rashid', 'rasmussen', 'rasputin', 'rastan', 'rat', 'ratchet', 'rate', 'rated', 'ratenumber', 'rates', 'rath', 'rather', 'ratification', 'ratified', 'ratifies', 'ratify', 'ratifying', 'rating', 'ratings', 'ratio', 'ration', 'rational', 'rationale', 'rationalising', 'rationalists', 'rationalize', 'rationed', 'rationing', 'rations', 'ratko', 'rats', 'rattled', 'rattles', 'rattlesnake', 'rattling', 'ratzinger', 'raul', 'raunchy', 'ravage', 'ravaged', 'ravages', 'ravaging', 'rave', 'ravens', 'ravi', 'ravine', 'raw', 'rawalpindi', 'rawlinson', 'ray', 'rayah', 'rayhaneh', 'raying', 'raymond', 'rays', 'raza', 'razaq', 'raze', 'razed', 'razing', 'razor', 'rbs', 'rc', 'rcmp', 'rdberg', 're', 'reach', 'reacharound', 'reached', 'reaches', 'reaching', 'react', 'reacted', 'reacting', 'reaction', 'reactionaries', 'reactions', 'reactivated', 'reactivates', 'reactor', 'reactors', 'reacts', 'read', 'reader', 'readers', 'readies', 'readily', 'readiness', 'reading', 'readings', 'readouts', 'reads', 'ready', 'readying', 'reaffirm', 'reaffirmed', 'reaffirms', 'reagan', 'real', 'realign', 'realisation', 'realise', 'realised', 'realising', 'realism', 'realistic', 'realists', 'realities', 'reality', 'realize', 'realized', 'realizes', 'realizeuntil', 'realizing', 'really', 'realm', 'reap', 'reaped', 'reaper', 'reaping', 'reappear', 'reappeared', 'reappears', 'reappraisal', 'reaps', 'rear', 'rearmament', 'rearranging', 'reason', 'reasonable', 'reasoning', 'reasons', 'reassemble', 'reassembling', 'reassert', 'reasserted', 'reassignment', 'reassure', 'reassures', 'reattached', 'reawakening', 'rebalance', 'rebates', 'rebekah', 'rebel', 'rebelde', 'rebelled', 'rebelling', 'rebellion', 'rebellions', 'rebels', 'rebirth', 'rebiya', 'reborn', 'rebounding', 'rebrand', 'rebranded', 'rebroadcasts', 'rebuff', 'rebuffed', 'rebuffs', 'rebuild', 'rebuilding', 'rebuilt', 'rebuke', 'rebuked', 'rebukes', 'reburied', 'rebut', 'recall', 'recalled', 'recalls', 'recant', 'recapture', 'recaptured', 'recapturing', 'recedes', 'receive', 'received', 'receiver', 'receivership', 'receives', 'receiving', 'recent', 'recently', 'recep', 'reception', 'receptionist', 'recess', 'recession', 'recieved', 'recieving', 'recipe', 'recipient', 'recipients', 'reciprocate', 'recital', 'recite', 'reckless', 'recklessly', 'reckoning', 'reclaim', 'reclaimed', 'reclaims', 'reclusive', 'recognise', 'recognised', 'recognises', 'recognising', 'recognition', 'recognizably', 'recognize', 'recognized', 'recognizes', 'recognizing', 'recoil', 'recombine', 'recommend', 'recommendation', 'recommended', 'recommending', 'recommends', 'recommit', 'recompense', 'reconaissance', 'reconcile', 'reconciliation', 'reconfigure', 'reconfirmed', 'reconnaissance', 'reconquers', 'reconsider', 'reconsidered', 'reconstructed', 'reconstruction', 'reconstructive', 'reconvened', 'record', 'recorded', 'recorder', 'recorders', 'recording', 'recordings', 'records', 'recount', 'recounting', 'recounts', 'recoup', 'recourse', 'recover', 'recovered', 'recovering', 'recovers', 'recovery', 'recreate', 'recreated', 'recreating', 'recreational', 'recruit', 'recruited', 'recruiter', 'recruiters', 'recruiting', 'recruitment', 'recruits', 'rectal', 'rector', 'rectum', 'recurrent', 'recurring', 'recyclable', 'recycle', 'recycled', 'recycles', 'recycling', 'red', 'redacting', 'redbacks', 'redcoats', 'redcross', 'reddit', 'redditers', 'redditor', 'redditors', 'reddits', 'redeem', 'redeemed', 'redefine', 'redeployed', 'redesign', 'redevelop', 'redevelopment', 'redflags', 'redhack', 'reding', 'redirect', 'redirected', 'redirecting', 'redirects', 'rediscovered', 'rediscovery', 'redistribute', 'redistribution', 'redistributive', 'redoubt', 'redraw', 'redrawing', 'redraws', 'redress', 'redshirts', 'redtube', 'reduce', 'reduced', 'reduces', 'reducing', 'reduction', 'reductions', 'redundancy', 'redundant', 'redwood', 'reed', 'reedit', 'reef', 'reefs', 'reelection', 'reels', 'reemerge', 'reeva', 'ref', 'refer', 'referee', 'reference', 'references', 'referencing', 'referendum', 'referendums', 'referral', 'referred', 'referring', 'refers', 'refinance', 'refine', 'refined', 'refiners', 'refinery', 'refining', 'reflect', 'reflecting', 'reflection', 'reflections', 'reflective', 'reflects', 'refocus', 'refocuses', 'reform', 'reforma', 'reformation', 'reformed', 'reformer', 'reformers', 'reforming', 'reformist', 'reformists', 'reforms', 'refrain', 'refrained', 'refrigerant', 'refrigerator', 'refrigerators', 'refuel', 'refueling', 'refuge', 'refugee', 'refugees', 'refuges', 'refund', 'refurbished', 'refurbishing', 'refusal', 'refuse', 'refused', 'refuses', 'refusing', 'refute', 'refutes', 'refuting', 'reg', 'regain', 'regained', 'regaining', 'regains', 'regalia', 'regard', 'regarded', 'regarding', 'regardless', 'regards', 'regenerate', 'regent', 'regime', 'regimehas', 'regiment', 'regimes', 'regin', 'regina', 'region', 'regional', 'regions', 'regionscondemn', 'regionwide', 'register', 'registered', 'registering', 'registers', 'registrar', 'registrars', 'registration', 'registry', 'regreening', 'regret', 'regrets', 'regrettable', 'regretted', 'regrow', 'regrowth', 'regsitry', 'regular', 'regularly', 'regulate', 'regulated', 'regulates', 'regulating', 'regulation', 'regulations', 'regulator', 'regulators', 'regulatory', 'rehab', 'rehabilitate', 'rehabilitated', 'rehabilitation', 'rehearsal', 'rehearsed', 'rehire', 'rehman', 'rehtaeh', 'reich', 'reid', 'reign', 'reignite', 'reignites', 'reigniting', 'reigns', 'reilly', 'reimburse', 'reimbursing', 'reimbuse', 'rein', 'reincarnate', 'reincarnation', 'reindeer', 'reinfeldt', 'reinforce', 'reinforced', 'reinforcement', 'reinforcements', 'reinforces', 'reinhardt', 'reinstate', 'reinstated', 'reinstatement', 'reinstates', 'reinstating', 'reinstitutes', 'reintegration', 'reinterpretation', 'reintroduce', 'reintroduces', 'reintroduction', 'reinvasion', 'reinvent', 'reinventing', 'reinvest', 'reinvestigated', 'reinvigorate', 'reissues', 'reiterated', 'reiterates', 'reiterating', 'reject', 'rejected', 'rejecteed', 'rejecting', 'rejection', 'rejectionism', 'rejections', 'rejects', 'rejoice', 'rejoicing', 'rejoin', 'rejon', 'rejuvenates', 'rekha', 'relaions', 'relapse', 'relate', 'related', 'relates', 'relating', 'relation', 'relations', 'relationship', 'relationships', 'relative', 'relatively', 'relatives', 'relativism', 'relativists', 'relaunch', 'relax', 'relaxation', 'relaxed', 'relay', 'relays', 'release', 'released', 'releases', 'releasing', 'relegate', 'relent', 'relentless', 'relentlessly', 'relevant', 'reliability', 'reliable', 'reliance', 'reliant', 'relic', 'relics', 'relied', 'relief', 'relies', 'relieve', 'relieved', 'relieves', 'relieving', 'religion', 'religionists', 'religions', 'religiosity', 'religious', 'religiously', 'relinquish', 'relinquishes', 'relinquishing', 'relitigating', 'relocate', 'relocated', 'relocates', 'relocating', 'relocation', 'reluctance', 'reluctant', 'reluctantly', 'rely', 'relying', 'rem', 'remain', 'remainder', 'remained', 'remaining', 'remains', 'remake', 'remand', 'remanded', 'remark', 'remarkable', 'remarkably', 'remarks', 'remarried', 'remarries', 'remarry', 'rematch', 'remediation', 'remedies', 'remedy', 'remember', 'remembering', 'remembers', 'remembrance', 'remind', 'reminded', 'reminder', 'reminding', 'reminds', 'reminisced', 'reminiscent', 'reminisces', 'remix', 'remnants', 'remodeled', 'remorse', 'remorseless', 'remortgaged', 'remote', 'remotely', 'remotest', 'removal', 'removalist', 'removals', 'remove', 'removed', 'removes', 'removing', 'remuneration', 'rena', 'renaissance', 'renamed', 'renames', 'renaming', 'renault', 'render', 'rendered', 'rending', 'rendition', 'renditions', 'rene', 'renegade', 'reneging', 'renesys', 'renew', 'renewable', 'renewables', 'renewal', 'renewed', 'renewes', 'renewing', 'renews', 'renmin', 'renminbi', 'renn', 'renounce', 'renounces', 'renouncing', 'renovate', 'renovation', 'renown', 'renowned', 'rent', 'rental', 'rented', 'renting', 'rents', 'renunciation', 'renwick', 'reoffend', 'reoffending', 'reopen', 'reopened', 'reopening', 'reopens', 'reorder', 'reorganize', 'reorient', 'rep', 'repackaged', 'repackaging', 'repaid', 'repair', 'repaired', 'repairs', 'reparation', 'reparations', 'repatriate', 'repatriated', 'repatriating', 'repatriation', 'repay', 'repayed', 'repaying', 'repayment', 'repayments', 'repays', 'repeal', 'repealed', 'repeals', 'repeat', 'repeated', 'repeatedly', 'repeating', 'repeats', 'repel', 'repelled', 'repelling', 'repels', 'repent', 'repentance', 'repercussions', 'replace', 'replaced', 'replacement', 'replacements', 'replaces', 'replacing', 'replay', 'replaying', 'replenish', 'replica', 'replied', 'replies', 'reply', 'report', 'reported', 'reportedly', 'reporter', 'reporters', 'reporting', 'reports', 'repossessed', 'repossession', 'repost', 'reprehensible', 'represent', 'representation', 'representative', 'representatives', 'represented', 'representing', 'represents', 'repress', 'repressed', 'repression', 'repressions', 'repressive', 'reprieve', 'reprieved', 'reprimanded', 'reprint', 'reprinted', 'reprinting', 'reprints', 'reprisal', 'reprisals', 'reprocess', 'reprocesses', 'reprocessing', 'reproduce', 'reproduced', 'reproductive', 'reps', 'repsol', 'repsols', 'reptile', 'reptiles', 'republic', 'republican', 'republicans', 'republics', 'republished', 'repudiate', 'repudiation', 'repugnant', 'repulsive', 'reputable', 'reputation', 'reputational', 'reputations', 'reputed', 'request', 'requested', 'requesting', 'requests', 'requiem', 'require', 'required', 'requirement', 'requires', 'requiring', 'reroute', 'rerun', 'res', 'resale', 'rescue', 'rescued', 'rescuer', 'rescuers', 'rescues', 'rescuing', 'research', 'researched', 'researcher', 'researchers', 'resell', 'reselling', 'resemblance', 'resemble', 'resembles', 'resembling', 'resent', 'resentment', 'resentments', 'reservation', 'reservations', 'reserve', 'reserved', 'reserves', 'reservists', 'reservoir', 'reservoirs', 'reset', 'resetthenet', 'resettle', 'resettled', 'resettling', 'reshape', 'reshaping', 'reshuffle', 'reside', 'residence', 'residences', 'residency', 'resident', 'residential', 'residents', 'resides', 'residing', 'residue', 'resign', 'resignation', 'resignations', 'resigned', 'resigning', 'resigns', 'resilient', 'resisant', 'resist', 'resistance', 'resistant', 'resisted', 'resister', 'resisters', 'resisting', 'resists', 'resold', 'resolute', 'resolution', 'resolutions', 'resolve', 'resolved', 'resolving', 'resonant', 'resonates', 'resonating', 'resort', 'resorted', 'resorting', 'resorts', 'resounding', 'resource', 'resources', 'resourcesat', 'respect', 'respected', 'respectful', 'respecting', 'respective', 'respectively', 'respects', 'respiratory', 'respite', 'respond', 'responded', 'respondents', 'responding', 'responds', 'response', 'responses', 'responsibilities', 'responsibility', 'responsible', 'responsive', 'rest', 'restart', 'restarted', 'restarting', 'restarts', 'restated', 'restates', 'restaurant', 'restauranteur', 'restaurants', 'restaurateur', 'restavek', 'rested', 'resting', 'restitution', 'restive', 'restless', 'restock', 'restocks', 'restoration', 'restorative', 'restore', 'restored', 'restores', 'restoring', 'restrain', 'restrained', 'restraining', 'restrains', 'restraint', 'restraints', 'restrepo', 'restrict', 'restricted', 'restricting', 'restriction', 'restrictions', 'restrictive', 'restricts', 'restructure', 'restructuring', 'rests', 'result', 'resulted', 'resulting', 'results', 'resume', 'resumed', 'resumes', 'resuming', 'resumption', 'resurface', 'resurfaced', 'resurfaces', 'resurfacing', 'resurgence', 'resurgent', 'resurrect', 'resurrection', 'resurrects', 'resuscitation', 'retail', 'retailer', 'retailers', 'retailing', 'retain', 'retained', 'retaining', 'retake', 'retaken', 'retakes', 'retaking', 'retaliate', 'retaliated', 'retaliating', 'retaliation', 'retaliatory', 'retard', 'retardant', 'retarded', 'retd', 'retention', 'rethink', 'rethinking', 'rethinks', 'retinas', 'retire', 'retired', 'retiree', 'retirees', 'retirement', 'retiring', 'retool', 'retort', 'retorted', 'retorts', 'retract', 'retracted', 'retracts', 'retrain', 'retrained', 'retreat', 'retreated', 'retreating', 'retreats', 'retrial', 'retribution', 'retrieve', 'retrieved', 'retroactive', 'retrospective', 'retroviral', 'return', 'returned', 'returning', 'returns', 'retweeting', 'retweets', 'reunification', 'reunify', 'reunion', 'reunions', 'reunite', 'reunited', 'reusable', 'reused', 'reuter', 'reuters', 'revalue', 'revamp', 'reveal', 'revealed', 'revealing', 'reveals', 'revelation', 'revelations', 'revellers', 'revenge', 'revenue', 'revenues', 'reverberated', 'revere', 'reverent', 'reveres', 'reversal', 'reverse', 'reversed', 'reverses', 'reversible', 'reversing', 'revert', 'reverting', 'review', 'reviewed', 'reviewing', 'reviews', 'reviled', 'reviles', 'revise', 'revised', 'revises', 'revising', 'revisions', 'revisit', 'revisited', 'revitalized', 'revitalizing', 'revival', 'revive', 'revived', 'revives', 'reviving', 'revoke', 'revoked', 'revokes', 'revoking', 'revolt', 'revolted', 'revolting', 'revolts', 'revolution', 'revolutionaries', 'revolutionary', 'revolutionised', 'revolutionising', 'revolutionize', 'revolutionized', 'revolutions', 'revolved', 'revolves', 'revolving', 'revulsion', 'revved', 'reward', 'rewarded', 'rewind', 'rewired', 'rewrite', 'rewrites', 'rewriting', 'rewritten', 'rewrote', 'rey', 'reykjavik', 'reykjavk', 'reynaldo', 'reynolds', 'rezoned', 'rfid', 'rhetoric', 'rhetorical', 'rhine', 'rhino', 'rhinoceros', 'rhinos', 'rhode', 'rhodesia', 'rhymes', 'ria', 'riaa', 'riad', 'rial', 'rianz', 'ribbons', 'ribeiro', 'ribhu', 'ribs', 'rica', 'rican', 'ricans', 'ricardo', 'ricas', 'rice', 'rich', 'richard', 'richards', 'richer', 'riches', 'richest', 'richter', 'rick', 'rickshaw', 'rico', 'rid', 'rida', 'ridden', 'ridding', 'riddle', 'riddled', 'riddselius', 'ride', 'riders', 'rides', 'ridges', 'ridicule', 'ridiculed', 'ridicules', 'ridiculous', 'riding', 'ridings', 'ridsdale', 'riess', 'rife', 'rifle', 'rifleman', 'rifles', 'rift', 'rifts', 'rig', 'riga', 'rigby', 'rigged', 'rigging', 'right', 'righteous', 'righteousness', 'rightful', 'rightfully', 'rightist', 'rightists', 'rights', 'rightsholders', 'rightwing', 'rigi', 'rigidity', 'rigorous', 'rigs', 'riham', 'rihanna', 'riksdag', 'riles', 'rim', 'rinderpest', 'rinehart', 'ring', 'ringleader', 'ringo', 'rings', 'ringside', 'ringtone', 'ringtones', 'ringworm', 'rio', 'rios', 'riot', 'rioted', 'rioter', 'rioters', 'rioting', 'riots', 'rip', 'ripe', 'ripped', 'ripper', 'ripping', 'ripple', 'ripples', 'rips', 'risat', 'rise', 'risen', 'rises', 'rising', 'risk', 'risked', 'riskiest', 'risking', 'risks', 'risky', 'ritchie', 'rite', 'ritual', 'ritually', 'rituals', 'rival', 'rivaled', 'rivalries', 'rivalry', 'rivals', 'riven', 'river', 'rivera', 'riverbank', 'rivers', 'riverside', 'riviera', 'rivlin', 'riyadh', 'riyal', 'rizk', 'rjukan', 'rmb', 'rnbxclusive', 'road', 'roadblock', 'roadblocks', 'roadfill', 'roadmap', 'roads', 'roadside', 'roadway', 'roald', 'roam', 'roamed', 'roaming', 'roared', 'roaring', 'roars', 'roasted', 'roasting', 'rob', 'robbed', 'robber', 'robberies', 'robbers', 'robbery', 'robbing', 'robed', 'robert', 'roberte', 'roberto', 'roberts', 'robertson', 'robes', 'robin', 'robinson', 'robo', 'robot', 'robotic', 'robotically', 'robots', 'rochdale', 'rock', 'rocked', 'rockefeller', 'rocker', 'rockers', 'rocket', 'rocketed', 'rockets', 'rockhopper', 'rocks', 'rockstar', 'rocky', 'rod', 'rode', 'rodent', 'rodham', 'rodman', 'rodrigo', 'rods', 'rogaland', 'rogen', 'roger', 'rogers', 'rogozin', 'rogue', 'roh', 'rohingya', 'rohrbacher', 'rok', 'rolando', 'role', 'roles', 'roll', 'rolled', 'rolling', 'rollins', 'rolls', 'roma', 'roman', 'romance', 'romanenko', 'romani', 'romania', 'romanian', 'romanians', 'romano', 'romans', 'romantic', 'rome', 'romeo', 'romero', 'romney', 'rompuy', 'ron', 'ronald', 'ronaldo', 'ronery', 'roof', 'roofs', 'rooftop', 'rooftops', 'rookie', 'room', 'roommate', 'rooms', 'root', 'rooted', 'rooting', 'roots', 'rootworms', 'rope', 'ropes', 'rort', 'ros', 'rose', 'rosen', 'rosenbaum', 'rosenberg', 'rosenthal', 'roses', 'rosetta', 'rosewood', 'rosimeiri', 'roskomnadzor', 'rosling', 'rosneft', 'ross', 'rosse', 'rossi', 'rossiyskaya', 'rostaq', 'rostov', 'rot', 'rotates', 'rotating', 'rotation', 'rotations', 'rote', 'rotenberg', 'roth', 'rotherham', 'rothschild', 'rothschilds', 'rots', 'rotted', 'rotten', 'rotterdam', 'rotting', 'rouahani', 'roubini', 'rouble', 'roubles', 'rouge', 'rough', 'roughed', 'roughly', 'roughshod', 'rouhani', 'rouhanis', 'round', 'rounded', 'rounder', 'rounding', 'roundly', 'rounds', 'roundup', 'roused', 'rouses', 'rousing', 'roussef', 'rousseff', 'rout', 'route', 'routed', 'routemaster', 'router', 'routers', 'routes', 'routine', 'routinely', 'routines', 'routing', 'routs', 'rove', 'rover', 'rovio', 'row', 'rowan', 'rowdy', 'rowing', 'rowling', 'rows', 'roxana', 'roxon', 'roy', 'roya', 'royal', 'royale', 'royalist', 'royals', 'royalties', 'royalty', 'royce', 'rpt', 'rransport', 'rs', 'rsa', 'rscud', 'rsf', 'rsler', 'rsquo', 'rt', 'rtd', 'ru', 'ru486', 'rub', 'rubber', 'rubbish', 'rubbishes', 'rubble', 'ruben', 'rubicon', 'ruble', 'rubles', 'ruck', 'rucksack', 'rudaw', 'rudd', 'rude', 'ruder', 'rudolf', 'rudyard', 'ruffles', 'rugby', 'rui', 'ruin', 'ruined', 'ruining', 'ruinous', 'ruins', 'rukhsar', 'rule', 'ruleaks', 'ruled', 'ruler', 'rulers', 'rules', 'ruling', 'rulings', 'rumble', 'rumbled', 'rumbles', 'rumbling', 'rumblings', 'rumor', 'rumored', 'rumormongers', 'rumors', 'rumorsnot', 'rumour', 'rumours', 'rumsfeld', 'run', 'runaway', 'rundown', 'rune', 'rung', 'runner', 'runners', 'running', 'runoff', 'runs', 'runup', 'runway', 'runways', 'rupee', 'rupees', 'rupert', 'rupiah', 'ruptured', 'rural', 'rusbridger', 'ruse', 'rush', 'rushdie', 'rushed', 'rushes', 'rushing', 'ruslan', 'russel', 'russell', 'russia', 'russian', 'russians', 'russias', 'russo', 'rust', 'rustam', 'rusted', 'rustlers', 'rusty', 'ruthless', 'ruthlessly', 'rutte', 'ruyati', 'rwanda', 'rwandan', 'rwandans', 'rwe', 'ryan', 'ryanair', 'ryanairs', 'ryazan', 'ryosuke', 'ryugyong', 'ryukyuan', 's300', 'sa', 'saab', 'saad', 'saadiya', 'saakashvili', 'saane', 'saar', 'saarland', 'sabahi', 'sabbath', 'saber', 'saberi', 'sabotage', 'sabotaged', 'sabotaging', 'saboteurs', 'sabra', 'sabu', 'sacer', 'sach', 'sachs', 'sack', 'sacked', 'sacking', 'sacks', 'sacred', 'sacrifice', 'sacrificed', 'sacrifices', 'sacrificial', 'sacrilege', 'sacrilegious', 'sad', 'sadat', 'saddam', 'saddams', 'saddens', 'saddest', 'saddi', 'saddled', 'sadi', 'sadistic', 'sadly', 'sadness', 'sadr', 'saeed', 'safari', 'safe', 'safeguard', 'safeguarding', 'safely', 'safepass', 'safer', 'safes', 'safest', 'safety', 'saffron', 'safrica', 'saga', 'sagging', 'sahabi', 'sahara', 'saharan', 'sahrawis', 'said', 'saif', 'sail', 'sailboat', 'sailed', 'sailing', 'sailor', 'sailors', 'sails', 'saint', 'saintly', 'saints', 'sajad', 'sake', 'sakes', 'sakha', 'sakharov', 'sakineh', 'salad', 'salads', 'salafi', 'salafis', 'salafist', 'salafists', 'salah', 'salaheddin', 'salam', 'salaries', 'salary', 'saldana', 'sale', 'saleem', 'saleh', 'salehi', 'salem', 'sales', 'salesman', 'salesmen', 'salfit', 'salford', 'salients', 'salim', 'saliva', 'salman', 'salmon', 'salmond', 'salmonella', 'salon', 'salonica', 'salonika', 'saloon', 'salt', 'salts', 'salty', 'salute', 'salutes', 'salvador', 'salvadoran', 'salvage', 'salvation', 'salvatrucha', 'salvo', 'sam', 'samak', 'samar', 'samaras', 'samaria', 'samcheok', 'same', 'samer', 'samling', 'samoa', 'samoan', 'samouni', 'sample', 'samples', 'sampras', 'sams', 'samsung', 'samuel', 'samurai', 'samwer', 'san', 'sana', 'sanaa', 'sanabis', 'sanad', 'sanader', 'sanchez', 'sanctimonious', 'sanction', 'sanctioned', 'sanctioning', 'sanctions', 'sanctity', 'sanctuaries', 'sanctuary', 'sand', 'sandal', 'sandals', 'sandbags', 'sandinista', 'sandor', 'sandoval', 'sandra', 'sands', 'sandstorm', 'sandwiches', 'sandworm', 'sandy', 'sane', 'saner', 'sanford', 'sang', 'sanitaire', 'sanitary', 'sanitation', 'sanitisation', 'sanitised', 'sanitize', 'sanity', 'sank', 'sanofi', 'sanrio', 'sans', 'santa', 'santana', 'santeria', 'santiago', 'santika', 'santos', 'sanusi', 'sao', 'saola', 'sap', 'sapiens', 'sapio', 'sapper', 'sarah', 'saraha', 'sarajevo', 'sarangi', 'sarath', 'sarcasm', 'sarcastic', 'sarcastically', 'sarcophagus', 'sardines', 'sardinian', 'sari', 'sarin', 'sarita', 'sarkozy', 'sarkozys', 'saro', 'sarrazin', 'sars', 'sarslk', 'sarzoky', 'sas', 'sassy', 'sat', 'sata', 'satan', 'satanic', 'satellite', 'satellites', 'satire', 'satirical', 'satirist', 'satirists', 'satirized', 'satisfaction', 'satisfied', 'sato', 'sats', 'sattar', 'saturday', 'saturdays', 'saturn', 'saturns', 'satyam', 'sauce', 'saucepan', 'saud', 'saudi', 'saudia', 'saudis', 'sauerland', 'saul', 'sauna', 'sausage', 'savage', 'savagely', 'savages', 'savannah', 'savar', 'save', 'saved', 'savers', 'saves', 'savile', 'saville', 'saving', 'savings', 'savior', 'saviour', 'savita', 'savor', 'savour', 'savviest', 'savvy', 'saw', 'sawed', 'sawing', 'saws', 'saxon', 'saxons', 'say', 'sayano', 'sayed', 'sayeth', 'sayin', 'saying', 'says', 'sberbank', 'sbs', 'sc', 'scabbing', 'scaf', 'scahill', 'scale', 'scaled', 'scales', 'scaling', 'scallop', 'scalp', 'scalpal', 'scalpel', 'scalps', 'scam', 'scammed', 'scammer', 'scammers', 'scamper', 'scams', 'scan', 'scandal', 'scandaland', 'scandalous', 'scandals', 'scandinavia', 'scandinavian', 'scandinavians', 'scandlas', 'scaneagle', 'scanned', 'scanner', 'scanners', 'scanning', 'scans', 'scant', 'scantily', 'scapegoat', 'scarab', 'scarborough', 'scarce', 'scarcity', 'scare', 'scared', 'scaremongering', 'scaremongers', 'scares', 'scareware', 'scarf', 'scariest', 'scarily', 'scaring', 'scarlet', 'scarlett', 'scarred', 'scars', 'scary', 'scathing', 'scattered', 'scattering', 'scavenging', 'scc', 'sceen', 'scenario', 'scenarioit', 'scenarios', 'scene', 'scenes', 'scenic', 'scented', 'sceptic', 'sceptical', 'scepticism', 'sceptics', 'schalit', 'scharf', 'schavan', 'schedule', 'scheduled', 'schedules', 'scheduling', 'schematics', 'scheme', 'schemers', 'schemes', 'scheming', 'schengen', 'schettino', 'schindler', 'schiphol', 'schism', 'schizophrenia', 'schizophrenic', 'schleicher', 'schmid', 'schmidt', 'schmitt', 'schneerson', 'schneider', 'schneier', 'scholar', 'scholarly', 'scholars', 'scholarship', 'scholarships', 'school', 'schoolbooks', 'schoolboy', 'schoolboys', 'schoolchild', 'schoolchildren', 'schooled', 'schooler', 'schoolgirl', 'schoolgirls', 'schooling', 'schoolkids', 'schools', 'schrder', 'schrems', 'schroeder', 'schrooten', 'schuble', 'schumacher', 'schwab', 'schwartz', 'schwarzenegger', 'sci', 'sciarpelletti', 'science', 'sciences', 'scientific', 'scientifically', 'scientist', 'scientists', 'scientologist', 'scientologists', 'scientology', 'scimitar', 'scissors', 'sclerosis', 'scmp', 'scoff', 'scoffs', 'scold', 'scolding', 'scolds', 'scoop', 'scooped', 'scoops', 'scooter', 'scooters', 'scope', 'scopes', 'score', 'scored', 'scorer', 'scores', 'scorned', 'scorpion', 'scorpions', 'scotch', 'scotia', 'scotian', 'scotland', 'scotlands', 'scots', 'scotsman', 'scott', 'scottish', 'scour', 'scoured', 'scourge', 'scouring', 'scout', 'scouts', 'scramble', 'scrambled', 'scrambles', 'scrambling', 'scrap', 'scrape', 'scraped', 'scraping', 'scrapped', 'scrapping', 'scrappy', 'scraps', 'scratch', 'scratches', 'scratching', 'scrates', 'scrawl', 'scrawled', 'scream', 'screamed', 'screaming', 'screams', 'screeching', 'screen', 'screened', 'screening', 'screens', 'screw', 'screwed', 'screwing', 'scribe', 'scripps', 'script', 'scripts', 'scripture', 'scroll', 'scrolls', 'scrolly', 'scrubland', 'scrum', 'scrunity', 'scruples', 'scrutinised', 'scrutinized', 'scrutiny', 'scuba', 'scud', 'scuffled', 'scuffles', 'sculpture', 'sculptures', 'scum', 'scumbag', 'scuppered', 'scuppering', 'scurrilous', 'scuttled', 'se', 'sea', 'seabass', 'seabed', 'seabirds', 'seafarers', 'seafloor', 'seafood', 'seal', 'sealand', 'sealed', 'sealing', 'seals', 'sealskin', 'seamen', 'seamus', 'seamy', 'sean', 'seaports', 'search', 'searched', 'searchers', 'searches', 'searching', 'searle', 'seas', 'seasand', 'seaside', 'season', 'seasonal', 'seat', 'seatbelt', 'seatbelts', 'seated', 'seater', 'seating', 'seats', 'seattle', 'seawater', 'seaweed', 'sebastian', 'sebin', 'sec', 'secdef', 'secede', 'secession', 'secessionist', 'secluded', 'seclusion', 'second', 'secondary', 'seconds', 'secrecy', 'secret', 'secretaries', 'secretary', 'secreted', 'secretive', 'secretly', 'secrets', 'secs', 'sect', 'sectarian', 'section', 'sections', 'sector', 'sectors', 'sects', 'secular', 'secularism', 'secularist', 'secularists', 'secunda', 'secure', 'secured', 'securedrop', 'secures', 'securid', 'securing', 'securities', 'security', 'sedates', 'sedentary', 'sediba', 'sediment', 'sedimentation', 'sedition', 'seditious', 'sedlacek', 'seduce', 'seducers', 'see', 'seed', 'seedbox', 'seeding', 'seeds', 'seedy', 'seeing', 'seek', 'seeker', 'seekers', 'seeking', 'seeks', 'seem', 'seemed', 'seemingly', 'seems', 'seen', 'seeped', 'seeping', 'sees', 'seethe', 'seethes', 'segment', 'segregated', 'segregates', 'segregation', 'seif', 'seige', 'seine', 'seismic', 'seismographs', 'seismologist', 'seismologists', 'seiverts', 'seize', 'seized', 'seizes', 'seizing', 'seizure', 'seizures', 'sek', 'selaron', 'seldom', 'select', 'selected', 'selection', 'selective', 'selectively', 'selenelion', 'seleznyov', 'self', 'selfie', 'selfies', 'selfish', 'selfishness', 'selfless', 'seljuk', 'sell', 'sellafield', 'seller', 'selling', 'sells', 'selten', 'selves', 'semen', 'semenya', 'semetic', 'semi', 'semiautonomous', 'seminal', 'seminar', 'seminarians', 'seminary', 'semite', 'semites', 'semitic', 'semitism', 'semmelweis', 'sen', 'sena', 'senate', 'senator', 'senators', 'send', 'sendai', 'sending', 'sends', 'senegal', 'senegalese', 'sengwer', 'senile', 'senior', 'seniors', 'senkaku', 'sensation', 'sensational', 'sensationalist', 'sensationally', 'sensations', 'sense', 'senseless', 'senses', 'sensibility', 'sensible', 'sensing', 'sensitive', 'sensitivities', 'sensors', 'sensory', 'sent', 'senteced', 'sentence', 'sentenced', 'sentences', 'sentencing', 'sentiment', 'sentiments', 'sentry', 'senussi', 'senyonjo', 'seong', 'seoul', 'sep', 'separate', 'separated', 'separately', 'separates', 'separating', 'separation', 'separatism', 'separatist', 'separatists', 'separitists', 'seperatists', 'sephardic', 'sepp', 'sept', 'september', 'septic', 'sequence', 'sequenced', 'serb', 'serbia', 'serbian', 'serbias', 'serbs', 'serco', 'serdyukov', 'serena', 'serengeti', 'serga', 'serge', 'sergeant', 'sergei', 'sergey', 'sergio', 'serhiy', 'serial', 'series', 'serious', 'seriously', 'seriousness', 'sermon', 'sermons', 'serum', 'servant', 'servants', 'serve', 'served', 'server', 'servers', 'serves', 'service', 'serviceman', 'servicemembers', 'servicemen', 'services', 'servicewomen', 'servicing', 'servile', 'serving', 'servitude', 'sesame', 'session', 'set', 'setback', 'seth', 'sets', 'setting', 'settings', 'settle', 'settled', 'settlement', 'settlements', 'settler', 'settlers', 'settles', 'settling', 'settlments', 'setup', 'seungjin', 'sevastopol', 'seven', 'seventh', 'seventy', 'sever', 'several', 'severance', 'severe', 'severed', 'severely', 'severity', 'severn', 'severs', 'sew', 'sewage', 'sewer', 'sewerage', 'sewers', 'sewing', 'sewn', 'sewol', 'sex', 'sexed', 'sexes', 'sexiest', 'sexism', 'sexist', 'sexless', 'sexting', 'sexual', 'sexualisation', 'sexualising', 'sexuality', 'sexually', 'sexy', 'seychelles', 'seymour', 'sfo', 'sfw', 'sg', 'sgae', 'sgt', 'sh', 'shaanxi', 'shabaab', 'shabab', 'shabaz', 'shabbiha', 'shabiha', 'shack', 'shackled', 'shackles', 'shackleton', 'shackling', 'shacks', 'shaddi', 'shade', 'shaded', 'shades', 'shadid', 'shadow', 'shadows', 'shadowy', 'shady', 'shafia', 'shafiq', 'shaft', 'shafts', 'shah', 'shahab', 'shahd', 'shahin', 'shahram', 'shai', 'shaileshkumar', 'shake', 'shakedown', 'shaken', 'shaker', 'shakes', 'shakespeare', 'shakeup', 'shakil', 'shaking', 'shaky', 'shale', 'shalit', 'shall', 'shallow', 'shalom', 'shalt', 'sham', 'shaman', 'shamanism', 'shamans', 'shambles', 'shame', 'shamed', 'shameful', 'shamefully', 'shameless', 'shamelessly', 'shamelessness', 'shames', 'shami', 'shamil', 'shaming', 'shams', 'shamswho', 'shan', 'shane', 'shang', 'shanghai', 'shanghaiist', 'shangpu', 'shangri', 'shankar', 'shannon', 'shantou', 'shanty', 'shantytowns', 'shaolin', 'shape', 'shaped', 'shapes', 'shaping', 'shard', 'shards', 'share', 'shared', 'shareholder', 'shareholders', 'sharemarkets', 'sharer', 'sharers', 'shares', 'sharia', 'sharia4belgium', 'shariah', 'sharif', 'sharing', 'sharjah', 'shark', 'sharks', 'sharm', 'sharon', 'sharp', 'sharpens', 'sharper', 'sharpest', 'sharply', 'shas', 'shatah', 'shater', 'shatila', 'shatter', 'shattered', 'shattering', 'shatters', 'shaun', 'shave', 'shaved', 'shaven', 'shaves', 'shaving', 'shaw', 'shawkat', 'shawki', 'shawl', 'shawls', 'she', 'sheaf', 'sheared', 'shears', 'sheath', 'sheba', 'shechtman', 'shed', 'shedding', 'sheds', 'sheep', 'sheer', 'sheet', 'sheeting', 'sheets', 'sheik', 'sheikh', 'sheikhdeclared', 'shekau', 'shekels', 'shelf', 'shell', 'shelled', 'shellfire', 'shelling', 'shells', 'shelter', 'sheltering', 'shelters', 'shelve', 'shelves', 'shen', 'shenker', 'shenyang', 'shenzhen', 'shenzou', 'shepherd', 'shepherded', 'shepherds', 'sheraton', 'sherbini', 'sheremet', 'sheremetyevo', 'sherlock', 'sherpa', 'sherpas', 'shetland', 'shevchenko', 'shi', 'shia', 'shias', 'shibam', 'shibarghan', 'shiek', 'shield', 'shielding', 'shields', 'shies', 'shifang', 'shift', 'shifted', 'shifting', 'shifts', 'shihri', 'shiite', 'shiites', 'shika', 'shimbun', 'shimon', 'shin', 'shinawatra', 'shine', 'shines', 'shining', 'shiny', 'shinzo', 'ship', 'shipbreakers', 'shipment', 'shipments', 'shipped', 'shipper', 'shipping', 'shipriders', 'ships', 'shipwreck', 'shipwrecked', 'shipwrecks', 'shipyard', 'shiraz', 'shirin', 'shirt', 'shirtfront', 'shirtless', 'shirts', 'shishou', 'shit', 'shithouse', 'shitstorm', 'shitstorms', 'shitting', 'shitty', 'shiv', 'shiveluch', 'shiver', 'shivers', 'shizuoka', 'shlomi', 'shlomo', 'shmidt', 'shmona', 'shoal', 'shock', 'shocked', 'shocker', 'shocking', 'shockingly', 'shocks', 'shockwaves', 'shoe', 'shoed', 'shoes', 'shokraye', 'shook', 'shoot', 'shooter', 'shooters', 'shooting', 'shootings', 'shootout', 'shootouts', 'shoots', 'shop', 'shopkeeper', 'shopkeepers', 'shoplifter', 'shoplifting', 'shopped', 'shopper', 'shoppers', 'shopping', 'shops', 'shore', 'shoreline', 'shorelines', 'shores', 'shoring', 'short', 'shortage', 'shortages', 'shortcomings', 'shortcut', 'shorten', 'shortened', 'shorter', 'shortest', 'shortfall', 'shortly', 'shorts', 'shot', 'shotgun', 'shotguns', 'shots', 'should', 'shoulder', 'shoulders', 'shouldn', 'shouldnt', 'shoura', 'shout', 'shouted', 'shouting', 'shouts', 'shouty', 'shove', 'shoved', 'shovel', 'shovels', 'shoving', 'show', 'showboating', 'showcase', 'showcases', 'showdown', 'showed', 'shower', 'showers', 'showing', 'shown', 'showoff', 'showpiece', 'shows', 'shrank', 'shrapnel', 'shred', 'shredded', 'shredding', 'shrek', 'shrew', 'shrewd', 'shrewder', 'shrimp', 'shrine', 'shrines', 'shrink', 'shrinkage', 'shrinking', 'shrinks', 'shriveled', 'shroud', 'shrouded', 'shrub', 'shrugged', 'shrugging', 'shrugs', 'shrunk', 'shrunken', 'shu', 'shucks', 'shudder', 'shufat', 'shuffle', 'shuffler', 'shughour', 'shui', 'shulgin', 'shun', 'shunned', 'shunning', 'shuns', 'shura', 'shushenskaya', 'shut', 'shutdown', 'shutout', 'shuts', 'shuttered', 'shutters', 'shutting', 'shuttle', 'shuttlecock', 'shy', 'siad', 'sialkot', 'sibat', 'sibel', 'siberia', 'siberian', 'sibiu', 'sichuan', 'sicilian', 'sicilians', 'sicily', 'sicilys', 'sick', 'sickened', 'sickening', 'sickens', 'sickness', 'sicko', 'siddiqui', 'side', 'sided', 'sidelines', 'sides', 'sidestep', 'sidestepped', 'sidesteps', 'sidewalk', 'sidewalks', 'sideways', 'sidibouzid', 'siding', 'sidis', 'siege', 'siemens', 'siemoniak', 'sierra', 'siesta', 'sieve', 'sievert', 'sifting', 'sig', 'siggi', 'sigh', 'sight', 'sighted', 'sighting', 'sightings', 'sights', 'sightseeing', 'sightseers', 'sigmar', 'sigmund', 'sign', 'signal', 'signaled', 'signaling', 'signalled', 'signalling', 'signals', 'signatory', 'signature', 'signatures', 'signed', 'signer', 'signet', 'significant', 'significantly', 'signifies', 'signing', 'signs', 'sigurardttir', 'sigurdur', 'sigurur', 'sikh', 'sikhism', 'sikhs', 'siks', 'silage', 'silence', 'silenced', 'silencers', 'silences', 'silencing', 'silent', 'silicon', 'silicone', 'silk', 'silly', 'silva', 'silver', 'silvio', 'silwan', 'sim', 'simferopol', 'similar', 'similarities', 'similarity', 'similarly', 'simm', 'simmer', 'simmering', 'simmons', 'simon', 'simonovich', 'simple', 'simplest', 'simplicity', 'simplified', 'simplify', 'simplifying', 'simplistic', 'simply', 'simpokolwe', 'simpson', 'simpsons', 'simulated', 'simulation', 'simulations', 'simulator', 'simultaneous', 'simultaneously', 'simunic', 'sin', 'sinai', 'sinaloa', 'since', 'sincere', 'sincerely', 'sindh', 'sinead', 'sinful', 'sing', 'singapore', 'singaporean', 'singer', 'singers', 'singh', 'singing', 'single', 'singled', 'singles', 'sings', 'sinhalese', 'sinister', 'sinjar', 'sink', 'sinkhole', 'sinking', 'sinks', 'sinn', 'sinned', 'sinners', 'sino', 'sinopec', 'sins', 'sinterklaasfeest', 'sip', 'siphoned', 'siphoning', 'sipping', 'sir', 'siren', 'sirens', 'sirleaf', 'sirte', 'sis', 'sisa', 'sisi', 'sistani', 'sister', 'sisters', 'sistine', 'sit', 'sitar', 'sitch', 'site', 'sites', 'sith', 'sits', 'sitting', 'situ', 'situated', 'situation', 'situations', 'six', 'sixteen', 'sixth', 'sixties', 'sixty', 'size', 'sized', 'sizes', 'sizun', 'sk', 'skateboarding', 'skater', 'skates', 'skating', 'skeletal', 'skeleton', 'skeletons', 'skeptic', 'skeptical', 'skepticism', 'skeptics', 'skew', 'skewed', 'skewing', 'ski', 'skids', 'skier', 'skies', 'skiing', 'skill', 'skilled', 'skills', 'skim', 'skimming', 'skimpy', 'skin', 'skinhead', 'skinheads', 'skinned', 'skinner', 'skinny', 'skins', 'skip', 'skipped', 'skipping', 'skips', 'skirmishes', 'skirt', 'skirts', 'skorea', 'skorean', 'skull', 'skullcap', 'skulls', 'skvorecky', 'sky', 'skydive', 'skydiver', 'skye', 'skylarks', 'skyline', 'skynet', 'skynews', 'skype', 'skyrocket', 'skyrocketed', 'skyrocketing', 'skyscraper', 'skyscrapers', 'skywalker', 'skyward', 'slabs', 'slack', 'slacktivists', 'slain', 'slam', 'slammed', 'slammer', 'slamming', 'slams', 'slander', 'slandered', 'slandering', 'slang', 'slap', 'slapped', 'slapping', 'slaps', 'slash', 'slashdot', 'slashed', 'slashes', 'slashing', 'slate', 'slated', 'slatkin', 'slats', 'slaughter', 'slaughtered', 'slaughterhouse', 'slaughterhouses', 'slaughtering', 'slave', 'slavery', 'slaves', 'slaviansk', 'slavoj', 'slavyansk', 'slayer', 'slaying', 'slayings', 'sleaze', 'sleazy', 'sled', 'sledding', 'sledge', 'sledgehammer', 'sleep', 'sleeper', 'sleeping', 'sleepwalked', 'sleepwalking', 'sleepy', 'slept', 'sleuth', 'slew', 'slews', 'slice', 'sliced', 'slicing', 'slick', 'slicks', 'slid', 'slide', 'slides', 'slideshare', 'sliding', 'slight', 'slightly', 'slim', 'slinging', 'slip', 'slipped', 'slippers', 'slippery', 'slipping', 'slips', 'slit', 'slitting', 'slogan', 'slogans', 'sloot', 'slopes', 'sloppy', 'slot', 'slovak', 'slovakia', 'slovakian', 'slovakians', 'slovaks', 'slovenia', 'slovenian', 'sloviansk', 'slovyansk', 'slow', 'slowdown', 'slowed', 'slower', 'slowest', 'slowing', 'slowly', 'slows', 'sludge', 'slug', 'slugged', 'slugs', 'slum', 'slumdog', 'slumdogs', 'slump', 'slumps', 'slums', 'slung', 'slunk', 'slur', 'slurpee', 'slurred', 'slurring', 'slurs', 'slush', 'smack', 'smacked', 'smacking', 'smacks', 'small', 'smaller', 'smallest', 'smallholder', 'smallholding', 'smallpox', 'smart', 'smarter', 'smartphone', 'smartphones', 'smash', 'smashed', 'smashes', 'smashing', 'smear', 'smeared', 'smearing', 'smedley', 'smell', 'smelled', 'smellie', 'smelling', 'smells', 'smelter', 'smelters', 'smile', 'smiled', 'smiles', 'smiling', 'smirking', 'smith', 'smithsonian', 'smog', 'smoggy', 'smogs', 'smokable', 'smoke', 'smoked', 'smoker', 'smokers', 'smokes', 'smokescreen', 'smokescreens', 'smoking', 'smoldering', 'smolensk', 'smooth', 'smoothest', 'smothering', 'sms', 'smuggle', 'smuggled', 'smuggler', 'smugglers', 'smuggles', 'smuggling', 'smut', 'smyth', 'snack', 'snacks', 'snaffling', 'snafu', 'snags', 'snail', 'snails', 'snake', 'snakes', 'snap', 'snapped', 'snapper', 'snapping', 'snapple', 'snaps', 'snapshot', 'snapshots', 'snares', 'snarl', 'snatch', 'snatched', 'snatches', 'snatching', 'snchez', 'sneak', 'sneakers', 'sneaking', 'sneaks', 'sneddon', 'sneering', 'sniff', 'sniffing', 'sniggers', 'sniper', 'snipers', 'sniping', 'snippy', 'snitch', 'snooker', 'snoop', 'snoope', 'snooped', 'snooping', 'snot', 'snow', 'snowball', 'snowballing', 'snowboarding', 'snowden', 'snowdens', 'snowed', 'snowflake', 'snowless', 'snowmobile', 'snowmobiles', 'snowpocalypse', 'snowstorm', 'snowstorms', 'snowy', 'snub', 'snubs', 'snuck', 'snuff', 'so', 'soak', 'soaked', 'soaks', 'soap', 'soar', 'soared', 'soares', 'soaring', 'soars', 'sobbing', 'sober', 'sobs', 'sobyanin', 'soca', 'soccer', 'soccers', 'sochi', 'sochis', 'social', 'socialism', 'socialist', 'socialistisk', 'socialists', 'socialized', 'socially', 'societal', 'societe', 'societies', 'society', 'societys', 'socio', 'socioeconomic', 'sociologist', 'sociology', 'socit', 'sock', 'socked', 'sockeye', 'socks', 'soco', 'socrates', 'soda', 'sodano', 'sodas', 'sodden', 'sodeto', 'sodium', 'sodomising', 'sodomites', 'sodomize', 'sodomized', 'sodomy', 'sofa', 'sofas', 'sofia', 'sofitel', 'soft', 'softbank', 'softdrinks', 'soften', 'softened', 'softens', 'softer', 'software', 'sohag', 'sohel', 'soil', 'soiled', 'soiling', 'soils', 'sokolov', 'sol', 'solace', 'solar', 'solarworld', 'sold', 'soldier', 'soldiers', 'sole', 'soleckshaw', 'soleful', 'soleimani', 'solely', 'solemn', 'solemnly', 'soles', 'soliciting', 'solicitor', 'solid', 'solidarity', 'solider', 'solidified', 'soliman', 'solis', 'solitaire', 'solitary', 'solitude', 'solo', 'solomon', 'solomons', 'solstice', 'solstices', 'soltan', 'soltani', 'solution', 'solutions', 'solutionsincluding', 'solvakia', 'solve', 'solved', 'solvent', 'solvents', 'solves', 'solving', 'solzhenitsyn', 'soma', 'somali', 'somalia', 'somalian', 'somalias', 'somaliland', 'somalis', 'somber', 'some', 'somebody', 'someday', 'somehow', 'someone', 'someonein', 'someones', 'someplace', 'something', 'somethingi', 'sometimes', 'somewhat', 'somewhere', 'somolia', 'somyos', 'son', 'sonapur', 'sonar', 'song', 'songs', 'songwriter', 'sonic', 'sonne', 'sono', 'sons', 'sony', 'soo', 'soon', 'sooner', 'soot', 'sopa', 'sophisticated', 'sophistication', 'sophistry', 'sophomoric', 'soprano', 'sorbonne', 'sorcery', 'sordid', 'sore', 'sorely', 'soros', 'sorouri', 'sorrow', 'sorry', 'sort', 'sorts', 'sos', 'sosa', 'sotloff', 'sought', 'souief', 'souk', 'soul', 'souls', 'sound', 'soundbyte', 'sounded', 'sounds', 'soundtrack', 'soup', 'sour', 'source', 'sourced', 'sourceforge', 'sources', 'sourcing', 'souring', 'sours', 'sourth', 'south', 'southampton', 'southeast', 'southeastern', 'southerly', 'southern', 'southwest', 'southwestern', 'souvenir', 'souvenirs', 'souza', 'sovereign', 'sovereignty', 'soverignity', 'soviet', 'sovietology', 'soviets', 'sow', 'soweto', 'sows', 'sox', 'soya', 'soybeans', 'soyinka', 'soyuz', 'spa', 'space', 'spacecraft', 'spaceflight', 'spacemen', 'spaces', 'spaceship', 'spaceshiptwos', 'spacewalk', 'spacex', 'spade', 'spadina', 'spaghetti', 'spain', 'spaincombined', 'spains', 'spam', 'spamming', 'span', 'spanair', 'spanghero', 'spaniard', 'spaniards', 'spanish', 'spanned', 'spanning', 'spans', 'spare', 'spared', 'spark', 'sparked', 'sparking', 'sparkle', 'sparklers', 'sparkling', 'sparks', 'sparrows', 'spartacus', 'spartan', 'spat', 'spate', 'spawn', 'spawning', 'spc', 'spca', 'speach', 'speak', 'speak2tweet', 'speaker', 'speakers', 'speaking', 'speaks', 'spear', 'spearhead', 'spearheaded', 'spearheading', 'spearheads', 'spears', 'special', 'specialising', 'specialist', 'specialists', 'specializes', 'specializing', 'specially', 'specialty', 'species', 'specific', 'specifically', 'specified', 'specimens', 'specks', 'spectacle', 'spectacular', 'spectacularly', 'spectator', 'spectators', 'specter', 'spectre', 'spectrum', 'speculate', 'speculated', 'speculates', 'speculating', 'speculation', 'speculations', 'speculative', 'speculators', 'speech', 'speechand', 'speeches', 'speechless', 'speed', 'speedboats', 'speedial', 'speedier', 'speeding', 'speeds', 'speedy', 'speer', 'speigel', 'spell', 'spelled', 'spelling', 'spells', 'spelt', 'spend', 'spender', 'spenders', 'spending', 'spends', 'spendthrift', 'spent', 'sperm', 'spetznaz', 'spew', 'spewed', 'spewing', 'spews', 'sphere', 'spherical', 'sphinx', 'sphinxes', 'sphynx', 'spic', 'spice', 'spider', 'spiderman', 'spiders', 'spied', 'spiegel', 'spies', 'spike', 'spiked', 'spikes', 'spiky', 'spill', 'spillage', 'spillcam', 'spilled', 'spilling', 'spills', 'spin', 'spinal', 'spine', 'spineless', 'spines', 'spinning', 'spins', 'spinster', 'spiral', 'spiraling', 'spiralled', 'spiralling', 'spirals', 'spirit', 'spirited', 'spirits', 'spiritual', 'spiritually', 'spit', 'spitalfields', 'spite', 'spiteful', 'spitfire', 'spitfires', 'spitting', 'spitz', 'splainin', 'splash', 'splashed', 'splashy', 'splayed', 'splendid', 'spliced', 'split', 'splits', 'splitter', 'splitting', 'spoil', 'spoiled', 'spoiler', 'spoiling', 'spoke', 'spoken', 'spokesman', 'spokesmen', 'spokespeople', 'spokesperson', 'spokeswoman', 'sponsor', 'sponsored', 'sponsoring', 'sponsors', 'sponsorship', 'spontaneous', 'spontaneously', 'spoof', 'spoofs', 'spook', 'spooked', 'spooks', 'spooky', 'spoon', 'sporadic', 'sport', 'sporting', 'sports', 'sportsman', 'spot', 'spotlight', 'spotlighted', 'spots', 'spotted', 'spotter', 'spotting', 'spousal', 'spouse', 'spouses', 'spouting', 'spratly', 'spratlys', 'sprawling', 'spray', 'sprayed', 'spraying', 'sprays', 'spread', 'spreading', 'spreads', 'spree', 'sprees', 'spring', 'springer', 'springing', 'springs', 'springsteen', 'springtime', 'sprinklers', 'sprint', 'sprinter', 'sprouts', 'sprung', 'spur', 'spurned', 'spurning', 'spurns', 'spurred', 'spurring', 'spurs', 'spy', 'spying', 'spyware', 'sq', 'sqft', 'sql', 'squad', 'squadron', 'squads', 'squalor', 'squander', 'squandered', 'square', 'squarely', 'squares', 'squash', 'squats', 'squatted', 'squatter', 'squatters', 'squatting', 'squeamish', 'squeeze', 'squeezes', 'squeezing', 'squelch', 'squid', 'squids', 'squirming', 'squirrel', 'squirreling', 'squirrelling', 'sr', 'sraeli', 'srebrenica', 'sri', 'srilankan', 'ss', 'ssangyong', 'ssempa', 'ssh', 'ssi', 'ssl', 'sspx', 'sss', 'sssshhould', 'st', 'stab', 'stabbed', 'stabbing', 'stabbings', 'stabilise', 'stability', 'stabilization', 'stabilize', 'stabilized', 'stabilizes', 'stabilizing', 'stable', 'stabs', 'stacey', 'stacked', 'stacks', 'stadium', 'stadiums', 'staff', 'staffer', 'staffers', 'staffordshire', 'stage', 'staged', 'stages', 'staggered', 'staggering', 'staggeringly', 'staggers', 'staging', 'stagnant', 'stagnating', 'stain', 'stained', 'staining', 'stainless', 'stains', 'staircase', 'stairs', 'stake', 'stakeout', 'stakes', 'staking', 'stalemate', 'stalin', 'stalinist', 'stalk', 'stalked', 'stalker', 'stalking', 'stalks', 'stall', 'stalled', 'stalling', 'stallman', 'stalls', 'stalwart', 'stamp', 'stamped', 'stampede', 'stamps', 'stan', 'stance', 'stances', 'stand', 'standard', 'standardized', 'standards', 'standing', 'standoff', 'stands', 'standstill', 'standup', 'stanford', 'stanley', 'stansted', 'staple', 'staples', 'star', 'starboard', 'starbucks', 'starcraft', 'stares', 'starfish', 'stargazing', 'staring', 'stark', 'starling', 'starlings', 'starred', 'starring', 'stars', 'start', 'started', 'starting', 'startled', 'startling', 'starts', 'startup', 'startups', 'starvation', 'starve', 'starved', 'starves', 'starving', 'stary', 'stash', 'stashed', 'stasi', 'state', 'statecraft', 'stated', 'statehood', 'stateless', 'statement', 'statements', 'states', 'stateside', 'statesman', 'static', 'stating', 'station', 'stationed', 'stationing', 'stations', 'statistic', 'statistical', 'statistically', 'statistics', 'statoil', 'stats', 'statscan', 'statue', 'statues', 'stature', 'status', 'statuses', 'statute', 'statutes', 'statutory', 'staunchest', 'staunchly', 'stave', 'staves', 'stavridis', 'stay', 'stayed', 'staying', 'stays', 'stcs', 'stds', 'steadily', 'steady', 'steal', 'stealing', 'steals', 'stealth', 'stealthy', 'steam', 'steaming', 'steampunk', 'steel', 'steelmakers', 'steelworkers', 'steelworks', 'steenkamp', 'steep', 'steeply', 'steer', 'steered', 'steering', 'stefan', 'stefanovic', 'steiger', 'stein', 'steinman', 'stele', 'stella', 'stellenbosch', 'stem', 'stemmed', 'stench', 'steorn', 'step', 'stepfather', 'stephen', 'stepped', 'stepping', 'steps', 'stereotypes', 'sterilisations', 'sterilise', 'sterilised', 'sterilization', 'sterilize', 'sterilized', 'sterling', 'stern', 'sterner', 'steroid', 'steroids', 'stethoscope', 'steve', 'steven', 'stevens', 'stew', 'stewardess', 'stewards', 'stewardship', 'stewart', 'stewarts', 'stewed', 'stfu', 'stick', 'sticker', 'sticking', 'sticks', 'sticky', 'stiff', 'stiffer', 'stifle', 'stifled', 'stifles', 'stifling', 'stig', 'stiglitz', 'stigma', 'stigmatized', 'stilettos', 'still', 'stillborn', 'stille', 'stiller', 'stilts', 'stimulant', 'stimulate', 'stimulus', 'sting', 'stinger', 'stinging', 'stingray', 'stings', 'stink', 'stinking', 'stinks', 'stint', 'stipend', 'stipends', 'stipulates', 'stipulations', 'stir', 'stirred', 'stirring', 'stirrings', 'stirs', 'stitch', 'stitched', 'stock', 'stockholm', 'stocking', 'stockings', 'stockmarkets', 'stockpile', 'stockpiled', 'stockpiles', 'stockpiling', 'stocks', 'stocky', 'stoic', 'stoke', 'stoked', 'stokes', 'stoking', 'stole', 'stolen', 'stoltenberg', 'stomach', 'stomachs', 'stomp', 'stomped', 'stompin', 'stomping', 'stone', 'stoned', 'stonehenge', 'stoners', 'stones', 'stonewall', 'stonewalled', 'stonger', 'stoning', 'stonings', 'stony', 'stood', 'stooges', 'stool', 'stop', 'stopped', 'stopping', 'stoppt', 'stops', 'storage', 'store', 'stored', 'storedincluding', 'storefronts', 'storeroom', 'stores', 'storey', 'storied', 'stories', 'storiesretold', 'storing', 'storm', 'stormcoming', 'stormed', 'storming', 'storms', 'story', 'storybook', 'stowaway', 'straddling', 'stradivarius', 'straggler', 'straight', 'strain', 'strained', 'strainer', 'straining', 'strains', 'strait', 'straits', 'stranded', 'stranding', 'strandings', 'strange', 'strangely', 'stranger', 'strangers', 'strangest', 'strangle', 'strangled', 'stranglehold', 'strangler', 'strangles', 'strangling', 'strap', 'strapped', 'straps', 'strasbourg', 'strasbourgbut', 'strasser', 'strata', 'stratagems', 'strategic', 'strategically', 'strategies', 'strategist', 'strategy', 'stratfor', 'stratospheric', 'stratovolcano', 'strauss', 'straw', 'strawberries', 'strawberry', 'stray', 'strays', 'stre', 'streak', 'streakers', 'stream', 'streamed', 'streamer', 'streaming', 'streamline', 'streams', 'street', 'streetcar', 'streetlight', 'streets', 'streisand', 'strelkov', 'strength', 'strengthen', 'strengthened', 'strengthening', 'strengthens', 'strengths', 'strenously', 'stress', 'stressed', 'stresses', 'stretch', 'stretched', 'stretches', 'stretching', 'stricken', 'strict', 'stricter', 'strictest', 'strictly', 'strictlyworldpolitics', 'strident', 'strides', 'strife', 'strike', 'striker', 'strikers', 'strikes', 'striking', 'strikingly', 'string', 'stringent', 'stringer', 'stringers', 'strings', 'strip', 'stripes', 'stripped', 'stripping', 'strips', 'striptease', 'strive', 'strives', 'striving', 'stroke', 'strolled', 'strollers', 'strolling', 'strong', 'strongarms', 'stronger', 'strongest', 'stronghold', 'strongholds', 'strongly', 'strongman', 'strontium', 'struck', 'structural', 'structurally', 'structure', 'structured', 'structures', 'struggle', 'struggled', 'struggles', 'struggling', 'strung', 'strut', 'stu', 'stuart', 'stubborn', 'stubbornly', 'stubbornness', 'stubs', 'stuck', 'stud', 'student', 'students', 'studentsas', 'studied', 'studies', 'studio', 'studios', 'study', 'studying', 'stuff', 'stuffed', 'stuffing', 'stumble', 'stumbled', 'stumbles', 'stumbling', 'stumped', 'stumps', 'stun', 'stung', 'stunned', 'stunning', 'stunningly', 'stuns', 'stunt', 'stunts', 'stupid', 'stupide', 'stupidest', 'stupidity', 'stupor', 'sturgeon', 'sturgeons', 'sturman', 'stuttgart', 'stuxnet', 'style', 'styled', 'su', 'suarez', 'sub', 'subatomic', 'subcommittee', 'subcontractor', 'subcontractors', 'subcritical', 'subculture', 'subdues', 'subject', 'subjected', 'subjecting', 'subjects', 'submachine', 'submarine', 'submarines', 'submerged', 'submersible', 'submersibles', 'submission', 'submissions', 'submit', 'submits', 'submitted', 'submitting', 'subordinate', 'subordination', 'suborning', 'subpoena', 'subpoenaed', 'subpoenas', 'subprime', 'subrata', 'subreddit', 'subs', 'subscriber', 'subscribers', 'subscription', 'subscriptions', 'subsequent', 'subsequently', 'subsidiaries', 'subsidiary', 'subsidies', 'subsiding', 'subsidise', 'subsidised', 'subsidising', 'subsidization', 'subsidized', 'subsidizes', 'subsidizing', 'subsidy', 'subsistence', 'subspecies', 'substance', 'substances', 'substandard', 'substantial', 'substantially', 'substantiate', 'substantiated', 'substantiating', 'substitute', 'substituted', 'substituting', 'subsurface', 'subterranean', 'subtitled', 'subtle', 'subtly', 'suburb', 'suburban', 'suburbanization', 'suburbs', 'subversion', 'subversive', 'subvert', 'subverting', 'subway', 'subways', 'subzero', 'succeed', 'succeeded', 'succeeds', 'succesful', 'success', 'successes', 'successful', 'successfully', 'succession', 'successor', 'successors', 'succinct', 'succinctly', 'succumb', 'succumbed', 'such', 'sucide', 'suck', 'sucked', 'sucking', 'sucks', 'sudan', 'sudanese', 'sudans', 'sudbury', 'sudden', 'suddenly', 'sudetenland', 'sudhir', 'sue', 'sued', 'sueddeutsche', 'sues', 'suez', 'suffer', 'suffered', 'sufferer', 'sufferers', 'suffering', 'suffers', 'suffice', 'sufficient', 'sufficiently', 'suffix', 'suffixes', 'suffocated', 'suffocating', 'suffrage', 'sufi', 'sufis', 'sufism', 'sugar', 'sugarbeets', 'sugary', 'suggest', 'suggested', 'suggesting', 'suggestion', 'suggestions', 'suggests', 'suharto', 'suicidal', 'suicidally', 'suicide', 'suicides', 'suigle', 'suing', 'suisse', 'suit', 'suitability', 'suitable', 'suitcase', 'suitcases', 'suite', 'suited', 'suites', 'suits', 'sukarno', 'sukhoi', 'suleiman', 'suleyman', 'sulfate', 'sullies', 'sullivan', 'sully', 'sullying', 'sulphate', 'sultan', 'sultans', 'sum', 'sumatra', 'sumatran', 'sumit', 'summarily', 'summary', 'summer', 'summers', 'summit', 'summon', 'summoned', 'summoning', 'summons', 'summonsed', 'sumo', 'sums', 'sun', 'sunbathing', 'sundaravej', 'sundarbans', 'sunday', 'sundays', 'sunde', 'sunflower', 'sunflowers', 'sung', 'sunglasses', 'sunk', 'sunken', 'sunlight', 'sunni', 'sunnis', 'sunrise', 'suns', 'sunscreen', 'sunset', 'sunshine', 'sunspots', 'sunstone', 'suntan', 'suntanned', 'supect', 'super', 'superb', 'superbug', 'superbugs', 'superclass', 'supercomputer', 'superficial', 'supergun', 'superhero', 'superheroes', 'superhighway', 'superhighways', 'superhuman', 'superintendent', 'superior', 'superiority', 'superiors', 'superjet', 'superjumbo', 'superjumbos', 'superlatives', 'supermarket', 'supermarkets', 'supermassive', 'supermodel', 'supernatural', 'supernova', 'supernovae', 'superpower', 'superpowers', 'supersizes', 'supersonic', 'superstar', 'superstate', 'superstition', 'superstitious', 'supersubmarines', 'supertanker', 'supertrawlers', 'supervise', 'supervised', 'supervises', 'supervision', 'supervisor', 'supervisors', 'supervolcano', 'superweapon', 'superweeds', 'superyacht', 'supper', 'supplements', 'supplied', 'supplier', 'suppliers', 'supplies', 'supply', 'supplying', 'support', 'supported', 'supporter', 'supporters', 'supportershave', 'supporting', 'supportive', 'supports', 'suppose', 'supposed', 'supposedly', 'suppplied', 'suppport', 'suppress', 'suppressed', 'suppressing', 'suppression', 'supremacist', 'supremacy', 'supreme', 'supremo', 'supress', 'suprised', 'sur', 'surcharge', 'surcharges', 'sure', 'surely', 'suresh', 'surf', 'surface', 'surfaced', 'surfaces', 'surfacing', 'surfer', 'surfers', 'surfing', 'surge', 'surged', 'surgeon', 'surgeons', 'surgeries', 'surgery', 'surges', 'surgical', 'surgically', 'surging', 'suriname', 'surname', 'surpass', 'surpassed', 'surpasses', 'surpassing', 'surplus', 'surpluses', 'surprise', 'surprised', 'surprises', 'surprising', 'surprisingly', 'surreal', 'surrender', 'surrendered', 'surrendering', 'surrenders', 'surreptitiously', 'surrey', 'surrogate', 'surrogates', 'surround', 'surrounded', 'surrounding', 'surrounds', 'surveillance', 'surveilling', 'survey', 'surveyed', 'surveys', 'survival', 'survive', 'survived', 'survives', 'surviving', 'survivor', 'survivors', 'susan', 'sushi', 'susilo', 'suspect', 'suspected', 'suspecting', 'suspects', 'suspend', 'suspended', 'suspending', 'suspends', 'suspense', 'suspension', 'suspicion', 'suspicions', 'suspicious', 'suspiciously', 'sussex', 'sustain', 'sustainability', 'sustainable', 'sustained', 'sustaining', 'sustenance', 'sutherland', 'suthin', 'suu', 'suv', 'suvretta', 'suweys', 'suzanne', 'suzuki', 'sv', 'svalbard', 'svanberg', 'svartholm', 'svechinskaya', 'svensk', 'svyatoslav', 'sw', 'swabi', 'swaffelen', 'swahili', 'swallow', 'swallowed', 'swallowing', 'swallows', 'swam', 'swamp', 'swamped', 'swamplands', 'swamps', 'swan', 'swap', 'swapped', 'swaps', 'swarm', 'swarmed', 'swarming', 'swarms', 'swartz', 'swastika', 'swastikas', 'swat', 'swath', 'swathe', 'swathes', 'swaths', 'swatiskas', 'sway', 'swayed', 'swaying', 'swazi', 'swaziland', 'swear', 'swearbot', 'swearing', 'swears', 'sweat', 'sweating', 'sweatshop', 'sweatshops', 'swede', 'sweden', 'swedens', 'swedes', 'swedish', 'sweeden', 'sweeney', 'sweep', 'sweeping', 'sweeps', 'sweet', 'sweeten', 'sweetheart', 'sweets', 'swell', 'swells', 'sweltering', 'swept', 'swift', 'swifter', 'swiftly', 'swiftness', 'swifts', 'swim', 'swimmer', 'swimmers', 'swimming', 'swims', 'swindled', 'swindler', 'swindlers', 'swindling', 'swine', 'swineflu', 'swing', 'swingers', 'swinging', 'swings', 'swipe', 'swiped', 'swiping', 'swirl', 'swirling', 'swirls', 'swiss', 'switch', 'switched', 'switches', 'switching', 'switchover', 'switzerland', 'switzerlands', 'swollen', 'swoop', 'swooped', 'sword', 'swords', 'swordsmen', 'swore', 'sworn', 'swot', 'sydney', 'sydneys', 'symantec', 'symbol', 'symbolic', 'symbolically', 'symbolises', 'symbolize', 'symbolizing', 'symbols', 'sympathetic', 'sympathies', 'sympathize', 'sympathizers', 'sympathy', 'symptom', 'symptomatic', 'symptoms', 'synagogue', 'synagogues', 'synchronized', 'syndicate', 'syndicates', 'syndrome', 'syngenta', 'syntagma', 'synthetic', 'synutra', 'syphilis', 'syphoned', 'syracuse', 'syria', 'syrian', 'syriancivilwar', 'syrians', 'syrias', 'syriawill', 'syringe', 'syringes', 'syrup', 'system', 'systematic', 'systematically', 'systemic', 'systems', 'szijjarto', 'tab', 'table', 'tabled', 'tables', 'tablet', 'tablets', 'tableware', 'tabloid', 'tabloids', 'taboo', 'taboos', 'tabs', 'tacit', 'tack', 'tackle', 'tackled', 'tackles', 'tackling', 'tacky', 'taco', 'tactful', 'tactic', 'tactical', 'tacticians', 'tactics', 'tae', 'taek', 'taekwondo', 'tag', 'tagged', 'tagging', 'tagine', 'tagline', 'tags', 'tahir', 'tahrir', 'taiba', 'taibbi', 'taie', 'taiji', 'taikonauts', 'tail', 'tailed', 'tailspin', 'tainted', 'tainting', 'taints', 'taipei', 'taiwan', 'taiwanese', 'taiwans', 'taj', 'tajani', 'tajik', 'tajikistan', 'take', 'takeaway', 'takedown', 'takei', 'taken', 'takeoff', 'takeover', 'taker', 'takes', 'taking', 'taksim', 'tal', 'talal', 'tale', 'taleb', 'taleban', 'taleju', 'talent', 'talented', 'talents', 'tales', 'taliban', 'talibanisation', 'talibanization', 'talibanize', 'talibans', 'talk', 'talkalakh', 'talked', 'talking', 'talks', 'talkshow', 'talktalk', 'tall', 'taller', 'tallest', 'tallies', 'tallinn', 'tallit', 'tallow', 'tally', 'tam', 'tamale', 'tamari', 'tamarin', 'tambo', 'tame', 'tamericas', 'tamiflu', 'tamil', 'tamils', 'tampa', 'tampered', 'tampering', 'tampers', 'tampon', 'tan', 'tana', 'tangible', 'tangled', 'tango', 'tanis', 'tank', 'tankan', 'tanked', 'tanker', 'tankers', 'tanking', 'tanks', 'tanner', 'tanning', 'tantalizing', 'tantamount', 'tantawi', 'tantrum', 'tanzania', 'tanzanian', 'tanzanias', 'tao', 'taoiseach', 'tap', 'tape', 'taped', 'tapes', 'tapped', 'tapper', 'tapping', 'tappings', 'taps', 'tar', 'tara', 'tarantula', 'tarballs', 'tard', 'target', 'targeted', 'targeting', 'targets', 'targetted', 'targetting', 'tariff', 'tariffs', 'tarifs', 'tariq', 'tarmac', 'tarnished', 'tarnishes', 'tarnishing', 'tarot', 'tartan', 'tartus', 'tased', 'taseer', 'taser', 'tasered', 'tasers', 'task', 'tasked', 'tasmania', 'tasmanian', 'tasmanias', 'taste', 'tat', 'tata', 'tatar', 'tatars', 'tatarstan', 'tate', 'tatiana', 'tatsuta', 'tatters', 'tattoo', 'tattooed', 'tattooing', 'tattoos', 'tau', 'taught', 'taunt', 'taunted', 'taunting', 'taunts', 'tawergha', 'tax', 'taxation', 'taxed', 'taxes', 'taxi', 'taxing', 'taxis', 'taxman', 'taxpayer', 'taxpayers', 'taxs', 'taylor', 'tayo', 'tayyip', 'tb', 'tbilisi', 'tblisi', 'tchenguiz', 'tcomment', 'td', 'tdcj', 'tea', 'teach', 'teacher', 'teachers', 'teaches', 'teaching', 'teachings', 'team', 'teamed', 'teaming', 'teampoison', 'teams', 'tear', 'tearfully', 'teargas', 'teargassed', 'tearing', 'tears', 'tease', 'teased', 'teaspoons', 'tebbit', 'tech', 'teched', 'techgeist', 'techies', 'technical', 'technicality', 'technically', 'technician', 'technicians', 'technique', 'techniques', 'technocrats', 'technological', 'technologically', 'technologies', 'technologists', 'technology', 'technologyyet', 'tectonic', 'ted', 'teddy', 'tedtalks', 'tee', 'teeming', 'teen', 'teenage', 'teenaged', 'teenager', 'teenagers', 'teens', 'teetering', 'teeters', 'teeth', 'tegisti', 'tegucigalpa', 'teheran', 'tehran', 'tehranreveals', 'tehreek', 'tekla', 'tel', 'telangana', 'telco', 'telcos', 'telebras', 'telecom', 'telecommunication', 'telecommunications', 'telecoms', 'telegraph', 'telemarketers', 'telenet', 'telephone', 'telephoned', 'telephones', 'telephony', 'teleportation', 'telescope', 'telescopes', 'telethon', 'televangelist', 'televised', 'television', 'televisions', 'tell', 'tellers', 'telling', 'tells', 'tellviceverything', 'telly', 'tels', 'telstra', 'telstraclear', 'telus', 'tem', 'tempatures', 'temper', 'temperate', 'temperature', 'temperatures', 'tempers', 'tempest', 'templar', 'template', 'temple', 'temples', 'templo', 'temporarily', 'temporary', 'temps', 'temptation', 'temptations', 'tempted', 'ten', 'tenable', 'tenacity', 'tend', 'tendencies', 'tendency', 'tender', 'tends', 'teneriefe', 'tenet', 'tenfold', 'teng', 'tennessee', 'tennis', 'tenrio', 'tens', 'tense', 'tension', 'tensions', 'tent', 'tentacle', 'tentative', 'tenth', 'tents', 'tenuous', 'tenure', 'teo', 'teotihuacan', 'tepco', 'tepid', 'terabyte', 'teresa', 'tereshkova', 'term', 'termed', 'terminal', 'terminally', 'terminals', 'terminate', 'terminated', 'terminating', 'termination', 'terminations', 'terminator', 'terming', 'terms', 'ternopol', 'terra', 'terracotta', 'terrain', 'terrawatt', 'terrence', 'terrible', 'terribly', 'terrific', 'terrified', 'terrify', 'terrifying', 'territorial', 'territories', 'territory', 'terror', 'terrorise', 'terrorises', 'terrorising', 'terrorism', 'terrorist', 'terroristis', 'terrorists', 'terroristsand', 'terrorize', 'terrorized', 'terrorizing', 'terry', 'ters', 'tertiary', 'tesco', 'teshuvah', 'tesla', 'teslas', 'test', 'testament', 'tested', 'testicle', 'testicles', 'testified', 'testifies', 'testify', 'testifying', 'testimonies', 'testimony', 'testing', 'testosterone', 'tests', 'tetrachloroethane', 'texan', 'texas', 'text', 'textbook', 'textbooks', 'texted', 'textile', 'textiles', 'texts', 'tguardian', 'th', 'thabo', 'thaek', 'thai', 'thailand', 'thailands', 'thakkar', 'thaksin', 'thalidomide', 'thallium', 'thames', 'than', 'thank', 'thanked', 'thankfully', 'thanks', 'thapar', 'tharathin', 'that', 'thatch', 'thatcher', 'thats', 'thaw', 'thawing', 'the', 'theater', 'theaters', 'theatre', 'theatregoers', 'thedaily', 'theft', 'thefthe', 'thefts', 'theif', 'their', 'theirs', 'thejournal', 'them', 'theme', 'themed', 'themes', 'themselves', 'then', 'theocracy', 'theocratic', 'theocrats', 'theodor', 'theodoros', 'theologian', 'theologians', 'theologists', 'theories', 'theorised', 'theorist', 'theorists', 'theory', 'thepiratebay', 'therapeutic', 'therapists', 'therapy', 'there', 'thereabouts', 'therealnews', 'thereby', 'therefore', 'therejust', 'theres', 'theresa', 'thermal', 'thermoelectic', 'thermonuclear', 'theroux', 'these', 'thesis', 'thessaloniki', 'thestar', 'thetan', 'thetweetofgod', 'thew', 'they', 'theyll', 'theyre', 'theyve', 'thich', 'thick', 'thickened', 'thief', 'thierry', 'thieves', 'thighs', 'thin', 'thing', 'things', 'think', 'thinker', 'thinkers', 'thinking', 'thinkprogress', 'thinks', 'thinktank', 'thinly', 'thinning', 'third', 'thirds', 'thirst', 'thirsty', 'thirteen', 'thirty', 'this', 'thl', 'thom', 'thomas', 'thompson', 'thomson', 'thong', 'thonis', 'thordarson', 'thorium', 'thorn', 'thorning', 'thorny', 'thorough', 'thoroughfare', 'thoroughly', 'those', 'thou', 'though', 'thought', 'thoughtcrime', 'thoughtful', 'thoughtfully', 'thoughts', 'thousand', 'thousands', 'thousnds', 'thracian', 'thrashed', 'thrashes', 'thread', 'threads', 'threat', 'threated', 'threaten', 'threatend', 'threatened', 'threatening', 'threateningly', 'threatens', 'threats', 'three', 'threesome', 'threshold', 'threw', 'thrifty', 'thrill', 'thrilled', 'thriller', 'thrilling', 'thrive', 'thrived', 'thrives', 'thriving', 'throat', 'throats', 'throbbing', 'throes', 'throne', 'thrones', 'thronged', 'throttle', 'throttling', 'through', 'throughout', 'throw', 'throwaway', 'thrower', 'throwing', 'thrown', 'throws', 'thu', 'thuds', 'thug', 'thuggish', 'thuggishly', 'thugs', 'thumb', 'thumbs', 'thumping', 'thunder', 'thunderbirds', 'thundering', 'thunderous', 'thunderstruck', 'thursday', 'thursdays', 'thus', 'thutmosis', 'thwart', 'thwarted', 'thwarting', 'thwarts', 'thy', 'thylacine', 'thyroid', 'thyssenkrupp', 'tiaea', 'tiananmen', 'tibet', 'tibetan', 'tibetans', 'ticker', 'ticket', 'ticketmaster', 'tickets', 'ticketsnow', 'ticking', 'tico', 'tidal', 'tidbit', 'tide', 'tider', 'tides', 'tidy', 'tie', 'tied', 'tienanmen', 'tiennamen', 'tier', 'tiered', 'ties', 'tiger', 'tigers', 'tigersthere', 'tight', 'tighten', 'tightened', 'tightening', 'tightens', 'tighter', 'tightly', 'tightrope', 'tihar', 'tijuana', 'tikrit', 'til', 'till', 'tilt', 'tim', 'timber', 'timbuktu', 'timbuktus', 'time', 'timebomb', 'timed', 'timeline', 'timelines', 'timepiece', 'times', 'timetable', 'timezone', 'timika', 'timing', 'timor', 'timorese', 'timothy', 'timur', 'tin', 'tinderbox', 'tinfoil', 'tinker', 'tinkering', 'tinned', 'tintin', 'tinto', 'tiny', 'tip', 'tipoff', 'tipped', 'tipping', 'tips', 'tipster', 'tirade', 'tire', 'tired', 'tires', 'tisa', 'tiscali', 'tishreen', 'tissue', 'tit', 'titan', 'titanic', 'titanium', 'titans', 'titantic', 'titicaca', 'title', 'titled', 'titles', 'tito', 'titstorm', 'tivoli', 'tl', 'tm', 'tmedia', 'tmiddle', 'tmz', 'tni', 'tnt', 'to', 'toads', 'toast', 'tobacco', 'tobacconists', 'tobagohuis', 'toben', 'todai', 'today', 'todays', 'todd', 'toddler', 'toddlers', 'todenhfer', 'toe', 'toeing', 'toenails', 'toews', 'toff', 'toga', 'together', 'togo', 'tohoku', 'toil', 'toilet', 'toiletries', 'toilets', 'toke', 'tokelau', 'tokens', 'tokio', 'tokyo', 'tokyos', 'told', 'tolerable', 'tolerance', 'tolerant', 'tolerate', 'tolerated', 'tolerates', 'toliets', 'toll', 'tolls', 'tolokonnikova', 'tom', 'tomahawk', 'tomahawks', 'tomas', 'tomasevic', 'tomasz', 'tomato', 'tomatoes', 'tomb', 'tombs', 'tombstone', 'tombsworkers', 'tomiichi', 'tomlinson', 'tommy', 'tomorrow', 'tomtato', 'ton', 'tone', 'tonga', 'tongmyong', 'tongue', 'tongues', 'tonics', 'tonight', 'tonkin', 'tonne', 'tonnes', 'tons', 'tony', 'too', 'took', 'tool', 'toolkit', 'tools', 'tooth', 'toothed', 'toothless', 'toothpaste', 'toowoomba', 'top', 'topic', 'topics', 'topless', 'topol', 'topped', 'topping', 'toppings', 'topple', 'toppled', 'topples', 'toppling', 'tops', 'tor', 'tora', 'torah', 'torch', 'torched', 'torches', 'torching', 'torchings', 'tore', 'tori', 'tories', 'torishima', 'torkham', 'torment', 'tormented', 'tormentor', 'torn', 'tornado', 'toronto', 'torontos', 'torpedo', 'torpedoed', 'torpedoes', 'torpedoing', 'torre', 'torrent', 'torrential', 'torrenting', 'torres', 'torso', 'tort', 'tortoise', 'tortoises', 'torture', 'tortured', 'torturer', 'torturers', 'tortures', 'torturing', 'torturous', 'tory', 'toshiki', 'toss', 'tossed', 'tosses', 'tossing', 'total', 'totaled', 'totaling', 'totalitarian', 'totalitarianism', 'totalling', 'totally', 'totehran', 'toth', 'toting', 'totobiegosode', 'tottenham', 'touch', 'touched', 'touches', 'touching', 'touchscreens', 'tough', 'toughen', 'toughens', 'tougher', 'toughest', 'toulouse', 'tour', 'toures', 'tourette', 'touring', 'tourism', 'tourist', 'tourists', 'tournament', 'tours', 'toussaint', 'touted', 'touting', 'touts', 'tow', 'toward', 'towards', 'towed', 'towel', 'towels', 'tower', 'towering', 'towers', 'towing', 'town', 'towns', 'townships', 'tows', 'toxic', 'toxicity', 'toxicologist', 'toxicology', 'toxin', 'toxins', 'toy', 'toying', 'toymaker', 'toyoda', 'toyota', 'toyotas', 'toys', 'tpb', 'tpp', 'trace', 'traced', 'traces', 'trachea', 'track', 'tracked', 'tracker', 'tracking', 'tracks', 'traction', 'tractor', 'tractors', 'trade', 'traded', 'trademark', 'trademarked', 'trader', 'traders', 'trades', 'trading', 'tradition', 'traditional', 'traditionally', 'traditions', 'traffic', 'trafficked', 'trafficker', 'traffickers', 'trafficking', 'trafigura', 'tragedies', 'tragedy', 'tragic', 'tragically', 'tragicomedy', 'trail', 'trailblazer', 'trailer', 'trailing', 'trails', 'train', 'trained', 'trainee', 'trainees', 'trainers', 'training', 'trains', 'traitor', 'traitors', 'traits', 'trajan', 'trajectories', 'trajectory', 'tram', 'trample', 'trampled', 'trampling', 'trampoline', 'trams', 'trance', 'tranche', 'trancript', 'tranquilliser', 'tranquillizers', 'trans', 'transacting', 'transaction', 'transactions', 'transatlantic', 'transcanada', 'transcript', 'transcripts', 'transdniester', 'transfer', 'transfering', 'transferred', 'transferring', 'transfers', 'transform', 'transformation', 'transformed', 'transforming', 'transforms', 'transfusion', 'transgender', 'transgendered', 'transgenic', 'transistors', 'transit', 'transition', 'transitional', 'transitioning', 'transits', 'translate', 'translated', 'translates', 'translating', 'translation', 'translations', 'translator', 'translators', 'translucent', 'transmission', 'transmissions', 'transmit', 'transmitted', 'transmitter', 'transmitters', 'transnational', 'transnistria', 'transnistrian', 'transocean', 'transparency', 'transparent', 'transparently', 'transplant', 'transplanted', 'transplants', 'transport', 'transportation', 'transported', 'transporting', 'transportion', 'transsexual', 'transsexuals', 'transtroemer', 'transvestite', 'transvestites', 'transylvania', 'trap', 'trapped', 'trapping', 'trappings', 'traps', 'trapwire', 'trash', 'trashed', 'trashslide', 'trashy', 'trauma', 'traumatic', 'traumatized', 'traumatizes', 'travails', 'travel', 'traveled', 'traveler', 'travelers', 'traveling', 'travelled', 'travellers', 'travelling', 'travels', 'travolta', 'trawl', 'trawler', 'trawlers', 'trawling', 'trays', 'trbic', 'treacherous', 'treachery', 'tread', 'treason', 'treasure', 'treasurer', 'treasures', 'treasuries', 'treasury', 'treat', 'treatable', 'treated', 'treaties', 'treating', 'treatment', 'treatments', 'treats', 'treaty', 'trebled', 'tree', 'trees', 'trek', 'trekked', 'tremblay', 'tremble', 'trembled', 'tremendous', 'tremor', 'tremors', 'tremseh', 'trench', 'trenchant', 'trenches', 'trend', 'trending', 'trends', 'trendy', 'trent', 'trespassers', 'trespassing', 'tresspass', 'triad', 'trial', 'trials', 'triangle', 'triangles', 'tribal', 'tribalism', 'tribals', 'tribe', 'tribes', 'tribesmen', 'tribespeople', 'tribunal', 'tribunals', 'tribune', 'tributary', 'tribute', 'tributes', 'trick', 'tricked', 'tricking', 'trickle', 'tricks', 'trickster', 'trident', 'tried', 'tries', 'triess', 'triffids', 'trifling', 'trigger', 'triggered', 'triggeres', 'triggering', 'triggermen', 'triggers', 'trilateral', 'trillion', 'trillions', 'trim', 'trimble', 'trimester', 'trimmed', 'trimming', 'trinians', 'trinidad', 'trinkets', 'trio', 'trip', 'tripa', 'triple', 'tripled', 'triples', 'triplets', 'tripling', 'tripoli', 'tripped', 'trips', 'tripwire', 'tristan', 'tritium', 'triumph', 'triumphalism', 'triumphant', 'triumphantly', 'triumphed', 'trivial', 'trivializes', 'troika', 'trojan', 'trojans', 'troll', 'trolled', 'trolley', 'trollies', 'trolling', 'trolls', 'trololo', 'troop', 'trooper', 'troopers', 'troops', 'trophies', 'trophy', 'tropical', 'tropics', 'trossel', 'trot', 'trotting', 'trouble', 'troubled', 'troublemaker', 'troubles', 'troublesome', 'troubling', 'trousers', 'trovan', 'trove', 'truancy', 'truce', 'truck', 'trucker', 'trucking', 'truckloads', 'trucks', 'trudeau', 'true', 'truffles', 'truly', 'truman', 'trump', 'trumped', 'trumpets', 'trumps', 'truncheon', 'truncheoned', 'trundles', 'trunk', 'trunks', 'truong', 'truss', 'trust', 'trusted', 'trusting', 'trusts', 'truth', 'truthdig', 'truthful', 'truths', 'truxtun', 'try', 'trying', 'ts', 'tsa', 'tsagaan', 'tsang', 'tsar', 'tsars', 'tsavo', 'tselem', 'tsering', 'tshirt', 'tsiman', 'tsipras', 'tskhinvali', 'tsunami', 'tsunamis', 'tsuruga', 'tsuruhashi', 'tsvangirai', 'tsx', 'tthe', 'ttip', 'tu', 'tuareg', 'tub', 'tubbataha', 'tube', 'tuberculosis', 'tuc', 'tucked', 'tudor', 'tuesday', 'tuesdays', 'tufted', 'tug', 'tugboat', 'tuition', 'tukushima', 'tulay', 'tulip', 'tulkarem', 'tumble', 'tumbles', 'tumbling', 'tumblr', 'tumor', 'tumors', 'tumour', 'tumult', 'tumultuous', 'tuna', 'tundra', 'tune', 'tuned', 'tunguskas', 'tunic', 'tunis', 'tunisia', 'tunisian', 'tunisians', 'tunisias', 'tunisie', 'tunnel', 'tunnelling', 'tunnels', 'tupac', 'tupolev', 'turban', 'turbans', 'turbine', 'turbines', 'turbulence', 'turbulent', 'turchynov', 'turgut', 'turing', 'turk', 'turkel', 'turkey', 'turkeys', 'turkish', 'turkistan', 'turkmen', 'turkmenistan', 'turks', 'turlington', 'turmeric', 'turmoil', 'turn', 'turnaround', 'turned', 'turner', 'turning', 'turnout', 'turnouts', 'turnover', 'turns', 'turpitude', 'turquoise', 'turreted', 'turrets', 'turtle', 'turtles', 'tus', 'tuscan', 'tuscany', 'tushan', 'tusk', 'tusks', 'tussling', 'tut', 'tutelage', 'tutor', 'tutorials', 'tutsi', 'tutsis', 'tutu', 'tuvalu', 'tv', 'tvs', 'tvshack', 'tweaking', 'tweaks', 'tweet', 'tweetcrime', 'tweeted', 'tweeter', 'tweeters', 'tweeting', 'tweets', 'twelve', 'twenty', 'twice', 'twilight', 'twin', 'twins', 'twirling', 'twist', 'twisted', 'twitchy', 'twitpic', 'twitter', 'twittered', 'twitters', 'twitterstorm', 'two', 'twofer', 'tworld', 'tycoon', 'tycoons', 'tymoshenko', 'tymosjenko', 'type', 'typed', 'types', 'typewriter', 'typewriters', 'typhoid', 'typhoon', 'typhoons', 'typical', 'typically', 'typo', 'typography', 'typos', 'tyrannical', 'tyrannies', 'tyrannizing', 'tyrannosaurus', 'tyranny', 'tyrant', 'tyrants', 'tyre', 'tyres', 'tyt', 'tyupkin', 'tzipi', 'tzu', 'u212', 'u212s', 'uae', 'uaes', 'uav', 'uavs', 'ubb', 'uber', 'ubiquitous', 'ubs', 'uc', 'ucl', 'ucla', 'udaltsov', 'uefa', 'ufo', 'ufos', 'uganda', 'ugandan', 'ugandans', 'ugandas', 'ugh', 'uglier', 'ugliness', 'ugly', 'ugnada', 'uh', 'ui', 'uighar', 'uighars', 'uighur', 'uighurs', 'uk', 'ukip', 'ukpabio', 'ukraine', 'ukraines', 'ukrainian', 'ukrainians', 'ukrainiansin', 'ukrainin', 'ukranian', 'ukraninan', 'uks', 'ul', 'ulan', 'ulbricht', 'ulema', 'ulemas', 'ultarope', 'ulterior', 'ultimate', 'ultimately', 'ultimatum', 'ultra', 'ultracapacitors', 'ultraconservative', 'ultranationalist', 'ultrasound', 'ultrasounds', 'ultraviolet', 'uluru', 'umar', 'umarov', 'umayyad', 'umberto', 'umbilical', 'umbrella', 'umbrellas', 'umm', 'ump', 'un', 'unabated', 'unabe', 'unable', 'unacceptable', 'unaccompanied', 'unaccountable', 'unaccounted', 'unachievable', 'unacknowledged', 'unaddressed', 'unaffected', 'unaffiliated', 'unaids', 'unalterable', 'unanimous', 'unanimously', 'unannounced', 'unanswered', 'unapologetic', 'unapproved', 'unarmed', 'unauthorised', 'unauthorized', 'unavailability', 'unavailable', 'unavoidable', 'unaware', 'unbalanced', 'unbearable', 'unbelievable', 'unbelieveable', 'unbelievers', 'unbiased', 'unblocked', 'unblocks', 'unbroken', 'unceasing', 'uncensored', 'uncertain', 'uncertainty', 'unchained', 'unchallenged', 'unchanged', 'uncharged', 'uncharted', 'unchecked', 'unclaimed', 'unclassified', 'uncle', 'unclear', 'uncomfortable', 'uncompromising', 'unconditional', 'unconfirmed', 'unconscious', 'unconsitutional', 'unconstitutional', 'uncontacted', 'uncontrollable', 'uncontrollably', 'unconventional', 'unconvinced', 'uncooperative', 'uncorrected', 'uncorrupt', 'uncover', 'uncovered', 'uncovering', 'uncovers', 'uncritically', 'unctad', 'uncultivated', 'uncut', 'undeclared', 'undefeated', 'undelivered', 'undemocratic', 'under', 'underachievers', 'underage', 'underaged', 'underbelly', 'underclass', 'undercounted', 'undercover', 'undercut', 'undercuts', 'undercutting', 'underdog', 'underestimate', 'underestimated', 'underestimating', 'underfeeding', 'underfunded', 'undergarment', 'undergo', 'undergoing', 'undergone', 'undergrads', 'undergraduates', 'underground', 'underlies', 'underline', 'underlines', 'underlying', 'undermine', 'undermined', 'undermines', 'undermining', 'underneath', 'underpaid', 'underpay', 'underpinning', 'underpins', 'underplay', 'underplayed', 'underreported', 'underscore', 'underscored', 'underscores', 'underscoring', 'undersea', 'underside', 'undersigned', 'understand', 'understandable', 'understanding', 'understandings', 'understands', 'understatement', 'understood', 'undertake', 'undertaken', 'undertook', 'undervalue', 'undervalued', 'underwater', 'underway', 'underwear', 'underweight', 'underwent', 'underworld', 'undetectable', 'undetected', 'undetermined', 'undigested', 'undisciplined', 'undisclosed', 'undiscovered', 'undivided', 'undo', 'undocumented', 'undoing', 'undone', 'undress', 'undressed', 'unduly', 'unearth', 'unearthed', 'unearths', 'unease', 'uneaten', 'unedited', 'uneducated', 'unelected', 'unemployable', 'unemployed', 'unemployment', 'unemploymentwhere', 'unending', 'unenforceable', 'unep', 'unequal', 'unequality', 'unequivocal', 'unesco', 'unethical', 'unethically', 'unevolved', 'unexpected', 'unexpectedly', 'unexplained', 'unexploded', 'unexpurgated', 'unfair', 'unfairly', 'unfaithful', 'unfamiliar', 'unfathomable', 'unfazed', 'unfed', 'unfettered', 'unfiltered', 'unfinished', 'unfit', 'unflinching', 'unfolding', 'unfolds', 'unforeseeable', 'unforeseen', 'unforgettable', 'unforgivable', 'unforgiven', 'unfortunate', 'unfortunately', 'unfounded', 'unfreeze', 'unfreezes', 'unfriendly', 'unfroze', 'unfuckable', 'unfurl', 'unfurled', 'ungrateful', 'unguided', 'unhackable', 'unhappiest', 'unhappy', 'unharmed', 'unhealthy', 'unheard', 'unhelpful', 'unhinged', 'unhygienic', 'unicef', 'unicorn', 'unicorns', 'unicycle', 'unidentified', 'unification', 'unified', 'uniform', 'uniformed', 'uniforms', 'unifying', 'unilateral', 'unilaterally', 'unilever', 'unimaginable', 'unimpeded', 'unimportant', 'uninhabitable', 'uninhabited', 'uninsured', 'unintelligent', 'unintentional', 'unintentionally', 'uninterrupted', 'union', 'unionists', 'unionization', 'unionize', 'unions', 'unique', 'uniquely', 'unislamic', 'unison', 'unit', 'unite', 'united', 'unitedkingdom', 'unites', 'uniting', 'units', 'unity', 'universal', 'universality', 'universally', 'universe', 'universes', 'universities', 'university', 'univision', 'unjust', 'unjustifiable', 'unjustified', 'unknowingly', 'unknown', 'unknowns', 'unkosher', 'unlafwul', 'unlawful', 'unlawfully', 'unleakable', 'unlearned', 'unleash', 'unleashed', 'unleashes', 'unleashing', 'unlelected', 'unless', 'unlicensed', 'unlike', 'unlikely', 'unlimited', 'unlinked', 'unlisted', 'unlivable', 'unload', 'unloaded', 'unlock', 'unlocked', 'unlooted', 'unlucky', 'unmaking', 'unmalicious', 'unmanned', 'unmarked', 'unmarried', 'unmask', 'unmasked', 'unmasks', 'unmatched', 'unmet', 'unmissable', 'unmoved', 'unnamed', 'unnatural', 'unnecessarily', 'unnecessary', 'unnerved', 'unnerving', 'unnoticed', 'unnreports', 'unobjectionable', 'unoccupied', 'unofficial', 'unopened', 'unorthodox', 'unpaid', 'unpalatable', 'unparalleled', 'unpatriotic', 'unpleasant', 'unplug', 'unpluggable', 'unplugged', 'unplugging', 'unpopular', 'unpopulated', 'unpowered', 'unprecedented', 'unpredictable', 'unprepared', 'unproductive', 'unprofessional', 'unprofitable', 'unprotected', 'unproven', 'unprovoked', 'unpublished', 'unpunished', 'unquestionable', 'unravel', 'unraveling', 'unravelled', 'unravelling', 'unravels', 'unreached', 'unrealistic', 'unreason', 'unreasonable', 'unrecognizable', 'unrecognized', 'unrecorded', 'unredacted', 'unregistered', 'unregulated', 'unrelated', 'unreleased', 'unreliable', 'unremarked', 'unrepentant', 'unreported', 'unrepresentative', 'unrepresented', 'unresolved', 'unrest', 'unrestricted', 'unromantic', 'unruly', 'unrwa', 'uns', 'unsafe', 'unsanctioned', 'unsatisfactory', 'unsavory', 'unsc', 'unscathed', 'unscientific', 'unscrupulous', 'unseal', 'unsealed', 'unsealing', 'unseasonably', 'unseat', 'unseen', 'unskilled', 'unsold', 'unsolved', 'unsophisticated', 'unsound', 'unspeakable', 'unspecified', 'unspinning', 'unspoken', 'unspoofable', 'unstable', 'unstoppable', 'unstuck', 'unsubsidized', 'unsubstantiated', 'unsuitable', 'unsung', 'unsupervised', 'unsupported', 'unsure', 'unsurprising', 'unsuspecting', 'unsustainability', 'unsustainable', 'untapped', 'untargeted', 'untaxed', 'untested', 'unthinkable', 'until', 'untimely', 'unto', 'untold', 'untouchable', 'untouchables', 'untouched', 'untrained', 'untreatable', 'untreated', 'untrue', 'untrustworthy', 'unturned', 'unusable', 'unused', 'unusual', 'unusually', 'unvaccinated', 'unveil', 'unveiled', 'unveiling', 'unveils', 'unverpacked', 'unviable', 'unwanted', 'unwarranted', 'unwashed', 'unweaponized', 'unwed', 'unwelcome', 'unwilling', 'unwillingly', 'unwillingness', 'unwinnable', 'unwise', 'unwitting', 'unwittingly', 'unwritten', 'up', 'upbeat', 'upbringing', 'upcoming', 'update', 'update1', 'updated', 'updates', 'updating', 'upend', 'upending', 'upgrade', 'upgraded', 'upgrades', 'upgrading', 'upheaval', 'upheavals', 'upheld', 'uphill', 'uphold', 'upholding', 'upholds', 'upi', 'upkeep', 'upload', 'uploaded', 'uploaders', 'uploading', 'uploads', 'upmarket', 'upmods', 'upmost', 'upon', 'upped', 'upper', 'upping', 'uppsala', 'uprising', 'uprisings', 'uproar', 'uprooted', 'uprooting', 'ups', 'upscale', 'upset', 'upsets', 'upsetting', 'upside', 'upstate', 'upsurge', 'upthe', 'uptick', 'uptight', 'upto', 'upvote', 'upvoted', 'upvotes', 'upwards', 'uqayla', 'urals', 'uranium', 'urban', 'urbanization', 'urbanize', 'urchins', 'urge', 'urged', 'urgency', 'urgent', 'urgently', 'urges', 'urging', 'uri', 'uribe', 'urinate', 'urinated', 'urinates', 'urinating', 'urination', 'urine', 'urkaine', 'url', 'urls', 'urn', 'urpilainen', 'uruguay', 'uruguayan', 'uruguays', 'urumqi', 'us', 'us58', 'us65', 'us8000', 'usa', 'usable', 'usaf', 'usage', 'usaid', 'usatoday', 'usb', 'usc', 'usd', 'usda', 'use', 'used', 'useful', 'usefulness', 'useless', 'user', 'users', 'uses', 'usf', 'usgs', 'ushered', 'ushering', 'ushuaia', 'using', 'uss', 'ussr', 'usterity', 'usual', 'usually', 'usurious', 'utah', 'utans', 'utc', 'uteruses', 'uthman', 'utilised', 'utilities', 'utility', 'utmost', 'utopia', 'utopian', 'utoya', 'utrecht', 'uttar', 'utter', 'uttered', 'utterly', 'utya', 'uutiset', 'uv', 'uvita', 'uxo', 'uyghur', 'uyghurs', 'uygur', 'uyuni', 'uzbek', 'uzbekistan', 'uzbekistans', 'uzi', 'va', 'vac', 'vacant', 'vacate', 'vacation', 'vacations', 'vaccilation', 'vaccinate', 'vaccinated', 'vaccination', 'vaccinations', 'vaccinator', 'vaccinators', 'vaccine', 'vaccines', 'vaccuum', 'vaclav', 'vacuum', 'vacuumed', 'vader', 'vafamehr', 'vagabond', 'vagina', 'vaginas', 'vagrant', 'vague', 'vahdettin', 'vahid', 'vain', 'vainly', 'vaizey', 'valdez', 'valdis', 'vale', 'valencia', 'valentina', 'valentine', 'valentines', 'valerie', 'valeriu', 'valery', 'valiant', 'valid', 'validate', 'validates', 'validation', 'validity', 'valitor', 'valium', 'vall', 'vallarta', 'valley', 'valor', 'valuable', 'valuables', 'valuation', 'value', 'valued', 'values', 'valve', 'vampire', 'vampires', 'vampiring', 'van', 'vance', 'vancouver', 'vancouverites', 'vandalise', 'vandalised', 'vandalism', 'vandalize', 'vandalized', 'vandalizes', 'vandalizing', 'vandals', 'vanguard', 'vanish', 'vanished', 'vanishes', 'vanishing', 'vanity', 'vannak', 'vans', 'vanuatu', 'vanunu', 'vapour', 'varg', 'variables', 'variant', 'variations', 'varieties', 'variety', 'various', 'vase', 'vasectomy', 'vases', 'vasili', 'vasquez', 'vassal', 'vassals', 'vast', 'vastly', 'vat', 'vatican', 'vatileaks', 'vattenfall', 'vault', 'vaults', 'vaunted', 'vauxhall', 'vavilov', 've', 'veal', 'vedanta', 'vedenta', 'veg', 'vega', 'vegas', 'vegetable', 'vegetables', 'vegetarian', 'vegetarianism', 'vegetarians', 'vegetation', 'veggie', 'vehement', 'vehemently', 'vehicle', 'vehicles', 'vehicular', 'veil', 'veiled', 'veils', 'vein', 'veiwing', 'velupillai', 'velvet', 'vending', 'vendor', 'vendors', 'venetian', 'venezualan', 'venezuela', 'venezuelan', 'venezuelans', 'venezuelas', 'vengeance', 'venice', 'venizelos', 'venomous', 'vent', 'vented', 'venter', 'ventilated', 'ventilation', 'ventriloquise', 'vents', 'venture', 'venue', 'venues', 'venus', 'veracruz', 'verb', 'verbal', 'verbatim', 'verbytsky', 'verdict', 'verdicts', 'vereeniging', 'vergara', 'verge', 'verifiable', 'verified', 'verify', 'verio', 'veritable', 'verizon', 'vermont', 'vernon', 'veronica', 'versa', 'verse', 'verses', 'version', 'versus', 'vertical', 'vertically', 'very', 'vesicle', 'vessel', 'vessels', 'vest', 'vestas', 'vests', 'vet', 'veteran', 'veterans', 'veteren', 'veterinarians', 'veterinary', 'veto', 'vetoed', 'vetoes', 'vetos', 'vets', 'vetted', 'vetting', 'vexatious', 'vi', 'via', 'viable', 'viacom', 'viagra', 'vials', 'vian', 'viber', 'vibrant', 'vibrantly', 'vibrational', 'vibrations', 'vic', 'vice', 'vicente', 'vicenza', 'vicepresidency', 'vices', 'vichy', 'vicinity', 'vicious', 'viciously', 'viciousness', 'vickers', 'victim', 'victimhood', 'victimization', 'victimized', 'victims', 'victor', 'victoria', 'victorian', 'victories', 'victorious', 'victory', 'vid', 'vidal', 'videla', 'video', 'videoing', 'videos', 'videotape', 'videotaped', 'videotaping', 'vids', 'vie', 'vienna', 'vietnam', 'vietnamese', 'vietnams', 'view', 'viewable', 'viewed', 'viewer', 'viewers', 'viewership', 'viewing', 'viewpoint', 'views', 'vigil', 'vigilant', 'vigilante', 'vigilantes', 'vigilantism', 'vigilate', 'vigorously', 'vikernes', 'viking', 'vikings', 'viktor', 'vile', 'vilks', 'villa', 'village', 'villager', 'villagers', 'villages', 'villagization', 'villain', 'villains', 'villanueva', 'villar', 'villarreal', 'villege', 'villepin', 'vilnius', 'vimeo', 'vince', 'vincent', 'vincents', 'vinci', 'vindicated', 'vindication', 'vinegar', 'vines', 'vineyard', 'vineyards', 'vinh', 'vinnytsya', 'vint', 'vintage', 'vinvi', 'violate', 'violated', 'violates', 'violating', 'violation', 'violations', 'violators', 'violence', 'violencia', 'violent', 'violently', 'violeted', 'violin', 'violinist', 'vioxx', 'vip', 'vips', 'viral', 'virgin', 'virginia', 'virginity', 'virgins', 'virii', 'virological', 'virologist', 'virologists', 'virtual', 'virtually', 'virtue', 'virtuosos', 'virulent', 'virunga', 'virus', 'viruses', 'visa', 'visable', 'visas', 'visibility', 'visible', 'vision', 'visit', 'visited', 'visiting', 'visitor', 'visitors', 'visits', 'visting', 'visual', 'visualisation', 'visualised', 'visualization', 'visualized', 'visualizing', 'viswanathan', 'vital', 'vitally', 'vitaly', 'vitamin', 'vitamins', 'vitro', 'vittorio', 'viu', 'viva', 'viviane', 'vivid', 'vivre', 'vkontakte', 'vlaast', 'vlad', 'vladamir', 'vladimir', 'vladivostok', 'vnukovo', 'vo', 'voc', 'vocabulary', 'vocal', 'vociferous', 'vodafone', 'vodka', 'vogue', 'voice', 'voiced', 'voicemail', 'voicemails', 'voiceprints', 'voices', 'voicing', 'void', 'voided', 'voids', 'voina', 'voip', 'volatile', 'volatility', 'volcana', 'volcanic', 'volcano', 'volcanoes', 'volcker', 'volgograd', 'volition', 'volkswagen', 'volley', 'volleyball', 'vologda', 'volt', 'voltage', 'voltaire', 'volume', 'volumes', 'voluminous', 'voluntarily', 'voluntary', 'volunteer', 'volunteered', 'volunteering', 'volunteers', 'volvo', 'vomit', 'vomiting', 'von', 'voodoo', 'voronezh', 'vorratsdatenspeicherung', 'vortex', 'vostok', 'vote', 'voted', 'voter', 'voters', 'votes', 'voting', 'voucher', 'vouchers', 'vow', 'vowed', 'vowing', 'vows', 'voyage', 'voyager', 'voyeurs', 'voynich', 'vp', 'vpn', 'vpns', 'vps', 'vs', 'vtb', 'vu', 'vuitton', 'vulcan', 'vulgar', 'vulgarity', 'vulnerabilities', 'vulnerability', 'vulnerable', 'vulnerably', 'vulture', 'vultures', 'vuvuzelas', 'vw', 'vyacheslav', 'w5', 'wa', 'wachovia', 'wackos', 'wacky', 'wad', 'wadah', 'waded', 'wades', 'wading', 'wael', 'wafa', 'waffle', 'waffles', 'wag', 'wagah', 'wage', 'waged', 'wagering', 'wages', 'wagging', 'waging', 'wagner', 'wagners', 'wagons', 'wagyu', 'wahabi', 'wahhabi', 'wahhabism', 'wahl', 'wail', 'wailing', 'wain', 'waist', 'waists', 'wait', 'waited', 'waiter', 'waiting', 'waitlist', 'waitress', 'waitresses', 'waits', 'waive', 'waiver', 'waives', 'waiving', 'wakayama', 'wake', 'wakefield', 'wakes', 'waking', 'wal', 'waleed', 'wales', 'walesa', 'wali', 'walid', 'walk', 'walked', 'walker', 'walkers', 'walking', 'walkout', 'walkouts', 'walks', 'wall', 'wallabies', 'wallaby', 'walled', 'wallet', 'wallops', 'walls', 'wallstreet', 'wallstrm', 'walmart', 'walport', 'walrus', 'walsh', 'walt', 'walter', 'walton', 'wan', 'wand', 'wanda', 'wander', 'wandered', 'wandering', 'wanders', 'wane', 'waned', 'wang', 'wangari', 'wangchen', 'wangchuck', 'wangyang', 'wanker', 'wanna', 'wannabe', 'want', 'wanted', 'wanting', 'wanton', 'wantonly', 'wants', 'wape', 'war', 'warcraft', 'ward', 'wardak', 'warden', 'wardens', 'wardrobe', 'wardrobes', 'wards', 'ware', 'warehouse', 'warehouses', 'warfare', 'warfarethe', 'warg', 'wargames', 'warhead', 'warheads', 'warhol', 'warily', 'warlord', 'warlordism', 'warlords', 'warlpiri', 'warm', 'warmed', 'warmest', 'warming', 'warmings', 'warmists', 'warmonger', 'warmongering', 'warmongers', 'warn', 'warned', 'warner', 'warnerd', 'warning', 'warnings', 'warns', 'warped', 'warplane', 'warplanes', 'warrant', 'warranties', 'warranting', 'warrantless', 'warrants', 'warren', 'warring', 'warrior', 'warriors', 'wars', 'warsaw', 'warshel', 'warship', 'warships', 'warsi', 'wartime', 'warwickshire', 'wary', 'warzone', 'was', 'waseda', 'wash', 'washed', 'washes', 'washing', 'washington', 'washingtonpost', 'washingtons', 'washout', 'washpost', 'washroom', 'washy', 'wasn', 'wasnt', 'wasps', 'waste', 'wasted', 'wasteful', 'wastefulit', 'wasteland', 'wasters', 'wastes', 'wastewater', 'wasting', 'watch', 'watchcon', 'watchdog', 'watchdogs', 'watched', 'watchers', 'watches', 'watching', 'watchlist', 'watchman', 'watchtower', 'water', 'waterboard', 'waterboarded', 'waterboarding', 'waterborne', 'waterfall', 'waterfalls', 'waterflow', 'waterfront', 'watergate', 'watering', 'waterless', 'waterlogged', 'waterloo', 'watermark', 'waters', 'watershed', 'waterway', 'waterways', 'waterworks', 'watkins', 'watson', 'watts', 'wau', 'wave', 'waves', 'waving', 'waxing', 'way', 'wayne', 'ways', 'wazir', 'waziristan', 'wc', 'we', 'weak', 'weaken', 'weakened', 'weakening', 'weakens', 'weaker', 'weakest', 'weakling', 'weakness', 'wealth', 'wealthier', 'wealthiest', 'wealthy', 'wean', 'weaned', 'weaning', 'weapon', 'weaponised', 'weaponize', 'weaponized', 'weaponizing', 'weaponry', 'weapons', 'wear', 'wearers', 'weariness', 'wearing', 'wears', 'weary', 'weather', 'weathly', 'web', 'webcam', 'webcams', 'webcomic', 'webdev', 'webmail', 'webpage', 'webpages', 'webs', 'website', 'websites', 'wechat', 'wed', 'wedding', 'weddings', 'wederell', 'wedge', 'wedlock', 'wednesay', 'wednesday', 'wednesdays', 'weds', 'wee', 'weed', 'weedkiller', 'weeds', 'week', 'weekend', 'weekends', 'weeklong', 'weekly', 'weeks', 'weeping', 'weeps', 'wef', 'wei', 'weibo', 'weichel', 'weigh', 'weighed', 'weighing', 'weighs', 'weight', 'weill', 'weir', 'weird', 'weirder', 'weirdness', 'weirdo', 'weiss', 'weiwei', 'welcome', 'welcomed', 'welcomes', 'welcoming', 'welded', 'welder', 'welfare', 'well', 'wellcome', 'welle', 'wellington', 'wells', 'welsh', 'wen', 'wenda', 'wens', 'went', 'wenzhou', 'wept', 'were', 'weren', 'werent', 'wesolowski', 'west', 'westbank', 'westboro', 'westchester', 'westeners', 'westergaard', 'western', 'westerner', 'westerners', 'westernised', 'westerwelle', 'westminster', 'westphalia', 'wests', 'westward', 'westwards', 'westwood', 'wet', 'wetland', 'wetlands', 'wetsuit', 'wettest', 'weve', 'weyaar', 'wf', 'whack', 'whale', 'whalers', 'whales', 'whaling', 'wham', 'wharf', 'what', 'whatever', 'whats', 'whatsoever', 'wheat', 'wheel', 'wheelchair', 'wheelchairs', 'wheelers', 'wheelie', 'wheels', 'when', 'whence', 'whenever', 'where', 'whereabouts', 'whereas', 'whereby', 'wherever', 'wherewithal', 'whether', 'whetstones', 'which', 'while', 'whilst', 'whines', 'whining', 'whip', 'whipped', 'whipping', 'whips', 'whirlpool', 'whisked', 'whiskers', 'whiskey', 'whisky', 'whisper', 'whispering', 'whisteblower', 'whistle', 'whistleblower', 'whistleblowers', 'whistleblowing', 'whistlebower', 'whistled', 'whistler', 'whistles', 'white', 'whitechapel', 'whitecoat', 'whitehall', 'whitening', 'whites', 'whitewash', 'whitewashes', 'whitlam', 'whizzleblow', 'who', 'whoa', 'whoever', 'whole', 'wholesale', 'wholesaling', 'wholeyouve', 'whom', 'whomever', 'whooping', 'whoops', 'whopping', 'whore', 'whores', 'whos', 'whose', 'why', 'wi', 'wicked', 'wickrematunge', 'wide', 'widely', 'widen', 'widened', 'widening', 'widens', 'wider', 'widespread', 'widest', 'widow', 'widowed', 'widower', 'widows', 'width', 'wield', 'wielded', 'wielding', 'wields', 'wife', 'wifes', 'wifi', 'wiggle', 'wight', 'wigs', 'wii', 'wiig', 'wiki', 'wikileak', 'wikileakable', 'wikileaked', 'wikileaker', 'wikileaks', 'wikilieaks', 'wikilleaker', 'wikioperating', 'wikipedia', 'wild', 'wildcat', 'wilde', 'wilder', 'wilderness', 'wilders', 'wildfire', 'wildfires', 'wildleaks', 'wildlife', 'wildly', 'wildness', 'wilhelm', 'wilkie', 'will', 'willem', 'willetts', 'william', 'williams', 'willie', 'willing', 'willingly', 'willingness', 'willis', 'willy', 'wilmar', 'wilmer', 'wilshaw', 'wilts', 'wimbledon', 'wimps', 'win', 'wind', 'windbag', 'windfall', 'windfarm', 'windfarms', 'winding', 'windmill', 'windmills', 'window', 'windows', 'windpipe', 'windpipes', 'winds', 'windsor', 'wine', 'winegrower', 'winemakers', 'winery', 'wines', 'wing', 'wingate', 'winged', 'wingers', 'wingless', 'wings', 'wingtip', 'winked', 'winks', 'winner', 'winners', 'winning', 'winnings', 'winnipeg', 'wins', 'winston', 'winter', 'winwin', 'wipe', 'wiped', 'wiper', 'wipes', 'wipha', 'wiping', 'wipo', 'wire', 'wired', 'wireless', 'wires', 'wiretap', 'wiretapped', 'wiretapping', 'wiretaps', 'wiretrap', 'wiring', 'wisconsin', 'wisdom', 'wise', 'wisely', 'wiser', 'wish', 'wishes', 'wishful', 'wishing', 'wishlist', 'wishy', 'wit', 'witch', 'witchcraft', 'witchdoctor', 'witches', 'witchs', 'with', 'withdraw', 'withdrawal', 'withdrawals', 'withdrawing', 'withdrawn', 'withdraws', 'withdrew', 'withheld', 'withhold', 'withholding', 'withholds', 'within', 'without', 'withstand', 'withstanding', 'withstands', 'withstood', 'witness', 'witnessed', 'witnesses', 'witnessing', 'witold', 'witt', 'wives', 'wiwa', 'wizard', 'wizards', 'wks', 'wmd', 'wmds', 'woad', 'woah', 'wodak', 'wodarg', 'woe', 'woerth', 'woerthgate', 'woes', 'woke', 'woken', 'wole', 'wolf', 'wolfgang', 'wolfowitz', 'wolverhampton', 'wolverine', 'wolves', 'woman', 'womanizing', 'womans', 'wombs', 'women', 'womens', 'won', 'wonder', 'wondered', 'wonderful', 'wonderfully', 'wondering', 'wonderland', 'wonders', 'wonga', 'wonk', 'wonsan', 'wont', 'woo', 'wood', 'wooden', 'woodhouse', 'woodland', 'woodlands', 'woods', 'woodstock', 'woody', 'wooed', 'woof', 'wool', 'woolly', 'woolwich', 'wooly', 'woos', 'word', 'worded', 'wording', 'wordpress', 'words', 'wordsearch', 'wore', 'work', 'workaholic', 'workday', 'workdays', 'worked', 'worker', 'workers', 'workforce', 'working', 'workings', 'workmen', 'workout', 'workplace', 'workplaces', 'works', 'workshop', 'workshops', 'world', 'worldand', 'worlders', 'worldevents', 'worldly', 'worldnews', 'worlds', 'worldview', 'worldwide', 'worm', 'worms', 'worn', 'worried', 'worries', 'worry', 'worrying', 'worse', 'worsen', 'worsened', 'worsening', 'worsens', 'worship', 'worshiped', 'worshipers', 'worshiping', 'worshipped', 'worshipper', 'worshippers', 'worshipping', 'worships', 'worst', 'worth', 'worthiness', 'worthless', 'worthy', 'would', 'wouldn', 'wouldnt', 'wound', 'wounded', 'wounding', 'wounds', 'wow', 'wows', 'wozniak', 'wpost', 'wracked', 'wrangling', 'wrapped', 'wrath', 'wreak', 'wreaked', 'wreaks', 'wreathing', 'wreck', 'wreckage', 'wrecked', 'wreckers', 'wrecking', 'wrench', 'wrenching', 'wrest', 'wrested', 'wrestled', 'wrestler', 'wrestles', 'wrestling', 'wretched', 'wringing', 'wrinkled', 'wrist', 'wristbands', 'wrists', 'write', 'writer', 'writers', 'writes', 'writetothem', 'writing', 'writings', 'written', 'wrong', 'wrongdoing', 'wrongdoings', 'wrongful', 'wrongfully', 'wrongly', 'wrongs', 'wrote', 'wsj', 'wtc', 'wtf', 'wto', 'wu', 'wuerttemberg', 'wuguang', 'wuhan', 'wukan', 'wulff', 'wuppertal', 'wuterich', 'wutty', 'wuzzy', 'ww', 'ww1', 'ww2', 'wwf', 'wwi', 'wwii', 'wwiii', 'wwll', 'www', 'wycleaf', 'wyclef', 'wyeth', 'x0rz', 'xbox', 'xboxes', 'xc', 'xe', 'xenophobia', 'xenophobic', 'xenophon', 'xi', 'xiabo', 'xiamen', 'xian', 'xiaobo', 'xii', 'xilai', 'xingu', 'xinhua', 'xinhuanet', 'xinjiang', 'xiv', 'xkcd', 'xkeyscore', 'xl', 'xmas', 'xmossad', 'xo', 'xpost', 'xtc', 'xu', 'xvi', 'xvigustaf', 'xxviii', 'xxx', 'y6', 'ya', 'yaalon', 'yabroud', 'yacht', 'yachts', 'yachtsmen', 'yachtswoman', 'yade', 'yafo', 'yagour', 'yahoo', 'yahweh', 'yahya', 'yair', 'yak', 'yakunin', 'yakutia', 'yakuza', 'yale', 'yall', 'yalova', 'yamanaka', 'yamani', 'yamauchi', 'yandex', 'yang', 'yangi', 'yangtze', 'yankees', 'yanomami', 'yanukovich', 'yanukovych', 'yao', 'yard', 'yards', 'yardstick', 'yaretzi', 'yarmulkes', 'yarosh', 'yasi', 'yasin', 'yasser', 'yasuni', 'yates', 'yatollah', 'yatseniuk', 'yatsenyuk', 'yatta', 'yawn', 'yawning', 'yay', 'yazaki', 'yazdi', 'yazidi', 'yazidis', 'ye', 'yeah', 'year', 'yeard', 'yearly', 'yearn', 'yearold', 'years', 'yeates', 'yeilds', 'yekaterinburg', 'yelena', 'yelled', 'yelling', 'yellow', 'yellowcake', 'yellowed', 'yellowish', 'yellowstone', 'yells', 'yeltsin', 'yemen', 'yemeni', 'yemenia', 'yemenis', 'yemens', 'yen', 'yeongpyeong', 'yeonpyeong', 'yep', 'yes', 'yesh', 'yesterday', 'yesterdays', 'yesteryear', 'yet', 'yettaw', 'yevgenia', 'yevgeny', 'yezidi', 'yield', 'yielded', 'yields', 'yifu', 'yikes', 'ying', 'yingcong', 'yingluck', 'yitzak', 'yitzhar', 'yiwu', 'yle', 'ynet', 'ynetnews', 'yo', 'yoani', 'yoda', 'yodelling', 'yoga', 'yogurt', 'yom', 'yomiuri', 'yong', 'yongbyon', 'yonhap', 'yoo', 'yop', 'yoram', 'york', 'yorke', 'yorker', 'yorkers', 'yorkshire', 'yorkshireman', 'yosef', 'yoshida', 'yoshidas', 'you', 'youcef', 'youd', 'yougov', 'youguang', 'younes', 'young', 'younger', 'youngest', 'youngsters', 'younis', 'your', 'youre', 'yours', 'yourself', 'yousafza', 'yousafzai', 'yousef', 'yousif', 'youssef', 'yousuf', 'yousufzai', 'youth', 'youthful', 'youths', 'youtube', 'youtubed', 'youve', 'yoweri', 'ypf', 'ypg', 'yr', 'yrs', 'yu', 'yuan', 'yucatan', 'yucatan2', 'yuck', 'yudhoyono', 'yue', 'yugoslav', 'yugoslavia', 'yujiao', 'yulans', 'yulia', 'yum', 'yuppie', 'yuri', 'yushchenko', 'yusuf', 'yutu', 'zabadani', 'zacarias', 'zacatecas', 'zahi', 'zahorudin', 'zahra', 'zaibatsu', 'zaid', 'zaidi', 'zaire', 'zakaria', 'zakayev', 'zakiur', 'zakynthos', 'zales', 'zamani', 'zambia', 'zambian', 'zambians', 'zamboanga', 'zanardi', 'zandani', 'zanu', 'zanzibar', 'zapatero', 'zapatista', 'zapiro', 'zapping', 'zara', 'zardari', 'zarif', 'zarqawi', 'zaveri', 'zawahri', 'zawiya', 'zawiyah', 'zaynab', 'zaza', 'zbigniew', 'zealand', 'zealander', 'zealanders', 'zealot', 'zebras', 'zedong', 'zeid', 'zeidan', 'zeidi', 'zeits', 'zeitung', 'zeland', 'zelaya', 'zelayas', 'zell', 'zen', 'zero', 'zeroed', 'zeroes', 'zeroing', 'zeros', 'zeta', 'zetas', 'zeus', 'zeus3', 'zhaleh', 'zhanaozen', 'zhang', 'zhanglidong', 'zhao', 'zhaoxu', 'zhenghu', 'zhijun', 'zhisheng', 'zhisong', 'zhongying', 'zhou', 'zhuhai', 'ziad', 'zidane', 'zim', 'zimbabwe', 'zimbabwean', 'zimbabweans', 'zimbabwehood', 'zimbabwes', 'zimbawe', 'zimmermann', 'zina', 'zinc', 'zindler', 'zine', 'zinedine', 'zinn', 'zintan', 'zion', 'zionazism', 'zionism', 'zionist', 'zionists', 'zip', 'ziyang', 'zizek', 'zlin', 'zlitan', 'zliten', 'zoabi', 'zoe', 'zogby', 'zombie', 'zombies', 'zone', 'zones', 'zong', 'zoo', 'zookeeper', 'zookeepers', 'zoologist', 'zoologists', 'zoom', 'zooming', 'zoos', 'zor', 'zossen', 'zschpe', 'zte', 'zu', 'zubaydah', 'zuckberg', 'zuckerberg', 'zuckerburg', 'zulu', 'zuma', 'zumas', 'zurich', 'zuyevo', 'zweimal', 'zygi']\n"
     ]
    }
   ],
   "source": [
    "print(basicvectorizer.get_feature_names())"
   ]
  },
  {
   "cell_type": "code",
   "execution_count": 21,
   "metadata": {},
   "outputs": [
    {
     "name": "stdout",
     "output_type": "stream",
     "text": [
      "[[0 1 0 ... 0 0 0]\n",
      " [0 0 0 ... 0 0 0]\n",
      " [0 0 0 ... 0 0 0]\n",
      " ...\n",
      " [0 2 0 ... 0 0 0]\n",
      " [0 2 0 ... 0 0 0]\n",
      " [0 0 0 ... 0 0 0]]\n"
     ]
    }
   ],
   "source": [
    "print(basictrain.toarray())"
   ]
  },
  {
   "cell_type": "markdown",
   "metadata": {},
   "source": [
    "# Model Training Example"
   ]
  },
  {
   "cell_type": "markdown",
   "metadata": {
    "_cell_guid": "4647ab33-fd7e-0d98-9afd-7ea21eb02cf8"
   },
   "source": [
    "### Logic Regression"
   ]
  },
  {
   "cell_type": "markdown",
   "metadata": {
    "_cell_guid": "5a6e98cc-ec7f-3dd2-5dce-2c2c04cff260"
   },
   "source": [
    "Input: the counts of single words"
   ]
  },
  {
   "cell_type": "markdown",
   "metadata": {},
   "source": [
    "### Build Logistic Regression Model"
   ]
  },
  {
   "cell_type": "code",
   "execution_count": 18,
   "metadata": {
    "_cell_guid": "5adfb2da-7467-505b-d44b-0a028e60227b"
   },
   "outputs": [
    {
     "name": "stderr",
     "output_type": "stream",
     "text": [
      "/anaconda3/lib/python3.7/site-packages/sklearn/linear_model/logistic.py:432: FutureWarning: Default solver will be changed to 'lbfgs' in 0.22. Specify a solver to silence this warning.\n",
      "  FutureWarning)\n"
     ]
    }
   ],
   "source": [
    "basicmodel = LogisticRegression()\n",
    "basicmodel = basicmodel.fit(basictrain, train[\"Label\"])"
   ]
  },
  {
   "cell_type": "markdown",
   "metadata": {},
   "source": [
    "### Use test set to evaluate the performance of model"
   ]
  },
  {
   "cell_type": "code",
   "execution_count": 19,
   "metadata": {
    "_cell_guid": "56d1ea73-641b-6fdf-698f-32518fe99dec"
   },
   "outputs": [],
   "source": [
    "preds1 = basicmodel.predict(basictest)\n",
    "acc1=accuracy_score(test['Label'], preds1)"
   ]
  },
  {
   "cell_type": "code",
   "execution_count": 14,
   "metadata": {
    "_cell_guid": "bc13f327-70bd-2f8f-4ab7-6a9dfae356e9"
   },
   "outputs": [
    {
     "name": "stdout",
     "output_type": "stream",
     "text": [
      "Logic Regression 1 accuracy:  0.42592592592592593\n"
     ]
    }
   ],
   "source": [
    "print('Logic Regression 1 accuracy: ',acc1 )"
   ]
  },
  {
   "cell_type": "markdown",
   "metadata": {
    "_cell_guid": "c08a6f88-d723-97b5-dd09-a61b1f3f7829"
   },
   "source": [
    "The accuracy is only 0.42."
   ]
  },
  {
   "cell_type": "code",
   "execution_count": 15,
   "metadata": {
    "_cell_guid": "2303559d-4ad8-7d30-ff3d-ee3bb91440ae"
   },
   "outputs": [
    {
     "data": {
      "text/html": [
       "<div>\n",
       "<style scoped>\n",
       "    .dataframe tbody tr th:only-of-type {\n",
       "        vertical-align: middle;\n",
       "    }\n",
       "\n",
       "    .dataframe tbody tr th {\n",
       "        vertical-align: top;\n",
       "    }\n",
       "\n",
       "    .dataframe thead th {\n",
       "        text-align: right;\n",
       "    }\n",
       "</style>\n",
       "<table border=\"1\" class=\"dataframe\">\n",
       "  <thead>\n",
       "    <tr style=\"text-align: right;\">\n",
       "      <th></th>\n",
       "      <th>Word</th>\n",
       "      <th>Coefficient</th>\n",
       "    </tr>\n",
       "  </thead>\n",
       "  <tbody>\n",
       "    <tr>\n",
       "      <td>19419</td>\n",
       "      <td>nigeria</td>\n",
       "      <td>0.497924</td>\n",
       "    </tr>\n",
       "    <tr>\n",
       "      <td>25261</td>\n",
       "      <td>self</td>\n",
       "      <td>0.452526</td>\n",
       "    </tr>\n",
       "    <tr>\n",
       "      <td>29286</td>\n",
       "      <td>tv</td>\n",
       "      <td>0.428011</td>\n",
       "    </tr>\n",
       "    <tr>\n",
       "      <td>15998</td>\n",
       "      <td>korea</td>\n",
       "      <td>0.425863</td>\n",
       "    </tr>\n",
       "    <tr>\n",
       "      <td>20135</td>\n",
       "      <td>olympics</td>\n",
       "      <td>0.425716</td>\n",
       "    </tr>\n",
       "  </tbody>\n",
       "</table>\n",
       "</div>"
      ],
      "text/plain": [
       "           Word  Coefficient\n",
       "19419   nigeria     0.497924\n",
       "25261      self     0.452526\n",
       "29286        tv     0.428011\n",
       "15998     korea     0.425863\n",
       "20135  olympics     0.425716"
      ]
     },
     "execution_count": 15,
     "metadata": {},
     "output_type": "execute_result"
    }
   ],
   "source": [
    "basicwords = basicvectorizer.get_feature_names()\n",
    "basiccoeffs = basicmodel.coef_.tolist()[0]\n",
    "coeffdf = pd.DataFrame({'Word' : basicwords, \n",
    "                        'Coefficient' : basiccoeffs})\n",
    "coeffdf = coeffdf.sort_values(['Coefficient', 'Word'], ascending=[0, 1])\n",
    "coeffdf.head(5)"
   ]
  },
  {
   "cell_type": "code",
   "execution_count": 16,
   "metadata": {
    "_cell_guid": "949e33a5-f63d-0059-2ee0-17e625aede36"
   },
   "outputs": [
    {
     "data": {
      "text/html": [
       "<div>\n",
       "<style scoped>\n",
       "    .dataframe tbody tr th:only-of-type {\n",
       "        vertical-align: middle;\n",
       "    }\n",
       "\n",
       "    .dataframe tbody tr th {\n",
       "        vertical-align: top;\n",
       "    }\n",
       "\n",
       "    .dataframe thead th {\n",
       "        text-align: right;\n",
       "    }\n",
       "</style>\n",
       "<table border=\"1\" class=\"dataframe\">\n",
       "  <thead>\n",
       "    <tr style=\"text-align: right;\">\n",
       "      <th></th>\n",
       "      <th>Word</th>\n",
       "      <th>Coefficient</th>\n",
       "    </tr>\n",
       "  </thead>\n",
       "  <tbody>\n",
       "    <tr>\n",
       "      <td>16949</td>\n",
       "      <td>low</td>\n",
       "      <td>-0.463116</td>\n",
       "    </tr>\n",
       "    <tr>\n",
       "      <td>3651</td>\n",
       "      <td>begin</td>\n",
       "      <td>-0.470454</td>\n",
       "    </tr>\n",
       "    <tr>\n",
       "      <td>25433</td>\n",
       "      <td>sex</td>\n",
       "      <td>-0.494555</td>\n",
       "    </tr>\n",
       "    <tr>\n",
       "      <td>24754</td>\n",
       "      <td>sanctions</td>\n",
       "      <td>-0.549725</td>\n",
       "    </tr>\n",
       "    <tr>\n",
       "      <td>24542</td>\n",
       "      <td>run</td>\n",
       "      <td>-0.587794</td>\n",
       "    </tr>\n",
       "  </tbody>\n",
       "</table>\n",
       "</div>"
      ],
      "text/plain": [
       "            Word  Coefficient\n",
       "16949        low    -0.463116\n",
       "3651       begin    -0.470454\n",
       "25433        sex    -0.494555\n",
       "24754  sanctions    -0.549725\n",
       "24542        run    -0.587794"
      ]
     },
     "execution_count": 16,
     "metadata": {},
     "output_type": "execute_result"
    }
   ],
   "source": [
    "coeffdf.tail(5)"
   ]
  },
  {
   "cell_type": "code",
   "execution_count": null,
   "metadata": {},
   "outputs": [],
   "source": []
  },
  {
   "cell_type": "code",
   "execution_count": null,
   "metadata": {},
   "outputs": [],
   "source": []
  },
  {
   "cell_type": "code",
   "execution_count": null,
   "metadata": {},
   "outputs": [],
   "source": []
  },
  {
   "cell_type": "code",
   "execution_count": null,
   "metadata": {},
   "outputs": [],
   "source": []
  },
  {
   "cell_type": "code",
   "execution_count": null,
   "metadata": {},
   "outputs": [],
   "source": []
  },
  {
   "cell_type": "code",
   "execution_count": null,
   "metadata": {},
   "outputs": [],
   "source": []
  },
  {
   "cell_type": "code",
   "execution_count": null,
   "metadata": {},
   "outputs": [],
   "source": []
  },
  {
   "cell_type": "code",
   "execution_count": null,
   "metadata": {},
   "outputs": [],
   "source": []
  },
  {
   "cell_type": "code",
   "execution_count": null,
   "metadata": {},
   "outputs": [],
   "source": []
  },
  {
   "cell_type": "code",
   "execution_count": null,
   "metadata": {},
   "outputs": [],
   "source": []
  },
  {
   "cell_type": "code",
   "execution_count": null,
   "metadata": {},
   "outputs": [],
   "source": []
  },
  {
   "cell_type": "code",
   "execution_count": null,
   "metadata": {},
   "outputs": [],
   "source": []
  },
  {
   "cell_type": "markdown",
   "metadata": {},
   "source": [
    "# something more complex, don't need to worry now"
   ]
  },
  {
   "cell_type": "markdown",
   "metadata": {
    "_cell_guid": "6aa2253b-0cf6-4853-4ff5-6143dae71fb1"
   },
   "source": [
    "### Logic Regression 2"
   ]
  },
  {
   "cell_type": "markdown",
   "metadata": {
    "_cell_guid": "65239831-43f2-290b-8e21-b4a9f82e5a54"
   },
   "source": [
    "Algorithm: Logic Regression"
   ]
  },
  {
   "cell_type": "markdown",
   "metadata": {
    "_cell_guid": "a108baea-371d-d93f-7d65-213ecd4337ec"
   },
   "source": [
    "Input: the counts of phrases with two connected words(exclude words which are too common like \"a\" ,\"an\" ,\"the\" and words too uncommon of which counts are too small )"
   ]
  },
  {
   "cell_type": "markdown",
   "metadata": {
    "_cell_guid": "15df5336-f6f9-cd66-b020-6072aff3083b"
   },
   "source": [
    "We delete phrases of which frequency lower than 0.03 or higher than 0.97"
   ]
  },
  {
   "cell_type": "code",
   "execution_count": 10,
   "metadata": {
    "_cell_guid": "dbdf7b4f-4673-49f1-d510-377026c95611"
   },
   "outputs": [],
   "source": [
    "advancedvectorizer = TfidfVectorizer( min_df=0.03, max_df=0.97, max_features = 200000, ngram_range = (2, 2))\n",
    "advancedtrain = advancedvectorizer.fit_transform(trainheadlines)"
   ]
  },
  {
   "cell_type": "code",
   "execution_count": 11,
   "metadata": {
    "_cell_guid": "b6bf747c-021c-eb7f-cd50-2240138ed555"
   },
   "outputs": [
    {
     "name": "stdout",
     "output_type": "stream",
     "text": [
      "(1611, 657)\n"
     ]
    }
   ],
   "source": [
    "print(advancedtrain.shape)"
   ]
  },
  {
   "cell_type": "code",
   "execution_count": 12,
   "metadata": {
    "_cell_guid": "8c225d22-d997-5db8-877e-03022a0785b4"
   },
   "outputs": [],
   "source": [
    "advancedmodel = LogisticRegression()\n",
    "advancedmodel = advancedmodel.fit(advancedtrain, train[\"Label\"])"
   ]
  },
  {
   "cell_type": "code",
   "execution_count": 13,
   "metadata": {
    "_cell_guid": "1b3421b9-b326-4ef5-4235-2e764e5cd3a3"
   },
   "outputs": [],
   "source": [
    "testheadlines = []\n",
    "for row in range(0,len(test.index)):\n",
    "    testheadlines.append(' '.join(str(x) for x in test.iloc[row,2:27]))\n",
    "advancedtest = advancedvectorizer.transform(testheadlines)\n",
    "preds2 = advancedmodel.predict(advancedtest)\n",
    "acc2=accuracy_score(test['Label'], preds2)"
   ]
  },
  {
   "cell_type": "code",
   "execution_count": 14,
   "metadata": {
    "_cell_guid": "422fb025-f985-e010-3e9e-2ee8c4494c3e"
   },
   "outputs": [
    {
     "name": "stdout",
     "output_type": "stream",
     "text": [
      "Logic Regression 2 accuracy:  0.571428571429\n"
     ]
    }
   ],
   "source": [
    "print('Logic Regression 2 accuracy: ', acc2)"
   ]
  },
  {
   "cell_type": "markdown",
   "metadata": {
    "_cell_guid": "8f5a4ca4-75a0-6a24-2c34-61855d2b102a"
   },
   "source": [
    "The accuracy is higher than input of single words."
   ]
  },
  {
   "cell_type": "code",
   "execution_count": 15,
   "metadata": {
    "_cell_guid": "3af2a0fb-a8ef-84f2-2a80-3568d327baec"
   },
   "outputs": [
    {
     "data": {
      "text/html": [
       "<div>\n",
       "<table border=\"1\" class=\"dataframe\">\n",
       "  <thead>\n",
       "    <tr style=\"text-align: right;\">\n",
       "      <th></th>\n",
       "      <th>Coefficient</th>\n",
       "      <th>Words</th>\n",
       "    </tr>\n",
       "  </thead>\n",
       "  <tbody>\n",
       "    <tr>\n",
       "      <th>411</th>\n",
       "      <td>1.264377</td>\n",
       "      <td>set to</td>\n",
       "    </tr>\n",
       "    <tr>\n",
       "      <th>31</th>\n",
       "      <td>1.259669</td>\n",
       "      <td>and other</td>\n",
       "    </tr>\n",
       "    <tr>\n",
       "      <th>391</th>\n",
       "      <td>1.216202</td>\n",
       "      <td>right to</td>\n",
       "    </tr>\n",
       "    <tr>\n",
       "      <th>276</th>\n",
       "      <td>1.166895</td>\n",
       "      <td>likely to</td>\n",
       "    </tr>\n",
       "    <tr>\n",
       "      <th>14</th>\n",
       "      <td>1.128663</td>\n",
       "      <td>after the</td>\n",
       "    </tr>\n",
       "  </tbody>\n",
       "</table>\n",
       "</div>"
      ],
      "text/plain": [
       "     Coefficient      Words\n",
       "411     1.264377     set to\n",
       "31      1.259669  and other\n",
       "391     1.216202   right to\n",
       "276     1.166895  likely to\n",
       "14      1.128663  after the"
      ]
     },
     "execution_count": 15,
     "metadata": {},
     "output_type": "execute_result"
    }
   ],
   "source": [
    "advwords = advancedvectorizer.get_feature_names()\n",
    "advcoeffs = advancedmodel.coef_.tolist()[0]\n",
    "advcoeffdf = pd.DataFrame({'Words' : advwords, \n",
    "                        'Coefficient' : advcoeffs})\n",
    "advcoeffdf = advcoeffdf.sort_values(['Coefficient', 'Words'], ascending=[0, 1])\n",
    "advcoeffdf.head(5)"
   ]
  },
  {
   "cell_type": "code",
   "execution_count": 16,
   "metadata": {
    "_cell_guid": "b1fd8c2b-23fd-7dda-cf8d-0381c3d0736f"
   },
   "outputs": [
    {
     "data": {
      "text/html": [
       "<div>\n",
       "<table border=\"1\" class=\"dataframe\">\n",
       "  <thead>\n",
       "    <tr style=\"text-align: right;\">\n",
       "      <th></th>\n",
       "      <th>Coefficient</th>\n",
       "      <th>Words</th>\n",
       "    </tr>\n",
       "  </thead>\n",
       "  <tbody>\n",
       "    <tr>\n",
       "      <th>131</th>\n",
       "      <td>-1.098193</td>\n",
       "      <td>fire on</td>\n",
       "    </tr>\n",
       "    <tr>\n",
       "      <th>40</th>\n",
       "      <td>-1.128193</td>\n",
       "      <td>around the</td>\n",
       "    </tr>\n",
       "    <tr>\n",
       "      <th>366</th>\n",
       "      <td>-1.144952</td>\n",
       "      <td>phone hacking</td>\n",
       "    </tr>\n",
       "    <tr>\n",
       "      <th>597</th>\n",
       "      <td>-1.146688</td>\n",
       "      <td>up in</td>\n",
       "    </tr>\n",
       "    <tr>\n",
       "      <th>452</th>\n",
       "      <td>-1.393351</td>\n",
       "      <td>the country</td>\n",
       "    </tr>\n",
       "  </tbody>\n",
       "</table>\n",
       "</div>"
      ],
      "text/plain": [
       "     Coefficient          Words\n",
       "131    -1.098193        fire on\n",
       "40     -1.128193     around the\n",
       "366    -1.144952  phone hacking\n",
       "597    -1.146688          up in\n",
       "452    -1.393351    the country"
      ]
     },
     "execution_count": 16,
     "metadata": {},
     "output_type": "execute_result"
    }
   ],
   "source": [
    "advcoeffdf.tail(5)"
   ]
  },
  {
   "cell_type": "markdown",
   "metadata": {
    "_cell_guid": "39b0d7a4-cedc-d51c-11f4-d3a1d454682f"
   },
   "source": [
    "### Logic Regression 3"
   ]
  },
  {
   "cell_type": "markdown",
   "metadata": {
    "_cell_guid": "4cf79ce1-930d-474a-f07b-dd397f9a72eb"
   },
   "source": [
    "Algorithm: Logic Regression"
   ]
  },
  {
   "cell_type": "markdown",
   "metadata": {
    "_cell_guid": "a62cefba-3f14-ce21-49a5-1fdd09556dde"
   },
   "source": [
    "Input: the counts of phrases with three connected words(exclude words which are too common like \"a\" ,\"an\" ,\"the\" and words too uncommon of which counts are too small )"
   ]
  },
  {
   "cell_type": "code",
   "execution_count": 17,
   "metadata": {
    "_cell_guid": "886f33fe-d47f-d545-1b73-29f1e3618e01"
   },
   "outputs": [],
   "source": [
    "advancedvectorizer = TfidfVectorizer( min_df=0.0039, max_df=0.1, max_features = 200000, ngram_range = (3, 3))\n",
    "advancedtrain = advancedvectorizer.fit_transform(trainheadlines)"
   ]
  },
  {
   "cell_type": "code",
   "execution_count": 18,
   "metadata": {
    "_cell_guid": "5437284a-b14e-96cd-e6d5-97c41790d42a"
   },
   "outputs": [
    {
     "name": "stdout",
     "output_type": "stream",
     "text": [
      "(1611, 2282)\n"
     ]
    }
   ],
   "source": [
    "print(advancedtrain.shape)"
   ]
  },
  {
   "cell_type": "code",
   "execution_count": 19,
   "metadata": {
    "_cell_guid": "5e29bfca-0041-5b86-fdff-9c502f4aa1ad"
   },
   "outputs": [],
   "source": [
    "advancedmodel = LogisticRegression()\n",
    "advancedmodel = advancedmodel.fit(advancedtrain, train[\"Label\"])"
   ]
  },
  {
   "cell_type": "code",
   "execution_count": 20,
   "metadata": {
    "_cell_guid": "d5717cfb-3f8c-1af4-665b-6a22e6e9c9ba"
   },
   "outputs": [],
   "source": [
    "testheadlines = []\n",
    "for row in range(0,len(test.index)):\n",
    "    testheadlines.append(' '.join(str(x) for x in test.iloc[row,2:27]))\n",
    "advancedtest = advancedvectorizer.transform(testheadlines)\n",
    "preds3 = advancedmodel.predict(advancedtest)\n",
    "acc3 = accuracy_score(test['Label'], preds3)"
   ]
  },
  {
   "cell_type": "code",
   "execution_count": 21,
   "metadata": {
    "_cell_guid": "b700896c-936b-004d-2d70-50fefee2129c"
   },
   "outputs": [
    {
     "name": "stdout",
     "output_type": "stream",
     "text": [
      "Logic Regression 3 accuracy:  0.555555555556\n"
     ]
    }
   ],
   "source": [
    "print('Logic Regression 3 accuracy: ', acc3)"
   ]
  },
  {
   "cell_type": "markdown",
   "metadata": {
    "_cell_guid": "2a438254-8acb-4db7-4f38-bb07be962dc2"
   },
   "source": [
    "The accuracy is lower than input of phrases with two connected words."
   ]
  },
  {
   "cell_type": "code",
   "execution_count": 22,
   "metadata": {
    "_cell_guid": "66fee024-03b4-5964-f925-cfb3746a4741"
   },
   "outputs": [
    {
     "data": {
      "text/html": [
       "<div>\n",
       "<table border=\"1\" class=\"dataframe\">\n",
       "  <thead>\n",
       "    <tr style=\"text-align: right;\">\n",
       "      <th></th>\n",
       "      <th>Coefficient</th>\n",
       "      <th>Words</th>\n",
       "    </tr>\n",
       "  </thead>\n",
       "  <tbody>\n",
       "    <tr>\n",
       "      <th>2075</th>\n",
       "      <td>1.076893</td>\n",
       "      <td>to the us</td>\n",
       "    </tr>\n",
       "    <tr>\n",
       "      <th>686</th>\n",
       "      <td>0.886762</td>\n",
       "      <td>in china the</td>\n",
       "    </tr>\n",
       "    <tr>\n",
       "      <th>1775</th>\n",
       "      <td>0.853562</td>\n",
       "      <td>the right to</td>\n",
       "    </tr>\n",
       "    <tr>\n",
       "      <th>1070</th>\n",
       "      <td>0.845685</td>\n",
       "      <td>nobel peace prize</td>\n",
       "    </tr>\n",
       "    <tr>\n",
       "      <th>448</th>\n",
       "      <td>0.832537</td>\n",
       "      <td>first time since</td>\n",
       "    </tr>\n",
       "  </tbody>\n",
       "</table>\n",
       "</div>"
      ],
      "text/plain": [
       "      Coefficient              Words\n",
       "2075     1.076893          to the us\n",
       "686      0.886762       in china the\n",
       "1775     0.853562       the right to\n",
       "1070     0.845685  nobel peace prize\n",
       "448      0.832537   first time since"
      ]
     },
     "execution_count": 22,
     "metadata": {},
     "output_type": "execute_result"
    }
   ],
   "source": [
    "advwords = advancedvectorizer.get_feature_names()\n",
    "advcoeffs = advancedmodel.coef_.tolist()[0]\n",
    "advcoeffdf = pd.DataFrame({'Words' : advwords, \n",
    "                        'Coefficient' : advcoeffs})\n",
    "advcoeffdf = advcoeffdf.sort_values(['Coefficient', 'Words'], ascending=[0, 1])\n",
    "advcoeffdf.head(5)"
   ]
  },
  {
   "cell_type": "code",
   "execution_count": 23,
   "metadata": {
    "_cell_guid": "c50f97d8-a6f7-0a60-9edf-42bb8b7aa492"
   },
   "outputs": [
    {
     "data": {
      "text/html": [
       "<div>\n",
       "<table border=\"1\" class=\"dataframe\">\n",
       "  <thead>\n",
       "    <tr style=\"text-align: right;\">\n",
       "      <th></th>\n",
       "      <th>Coefficient</th>\n",
       "      <th>Words</th>\n",
       "    </tr>\n",
       "  </thead>\n",
       "  <tbody>\n",
       "    <tr>\n",
       "      <th>1425</th>\n",
       "      <td>-0.912953</td>\n",
       "      <td>said to be</td>\n",
       "    </tr>\n",
       "    <tr>\n",
       "      <th>838</th>\n",
       "      <td>-0.933243</td>\n",
       "      <td>in west africa</td>\n",
       "    </tr>\n",
       "    <tr>\n",
       "      <th>1317</th>\n",
       "      <td>-0.943155</td>\n",
       "      <td>phone hacking scandal</td>\n",
       "    </tr>\n",
       "    <tr>\n",
       "      <th>152</th>\n",
       "      <td>-0.972078</td>\n",
       "      <td>around the world</td>\n",
       "    </tr>\n",
       "    <tr>\n",
       "      <th>779</th>\n",
       "      <td>-1.154834</td>\n",
       "      <td>in the country</td>\n",
       "    </tr>\n",
       "  </tbody>\n",
       "</table>\n",
       "</div>"
      ],
      "text/plain": [
       "      Coefficient                  Words\n",
       "1425    -0.912953             said to be\n",
       "838     -0.933243         in west africa\n",
       "1317    -0.943155  phone hacking scandal\n",
       "152     -0.972078       around the world\n",
       "779     -1.154834         in the country"
      ]
     },
     "execution_count": 23,
     "metadata": {},
     "output_type": "execute_result"
    }
   ],
   "source": [
    "advcoeffdf.tail(5)"
   ]
  },
  {
   "cell_type": "markdown",
   "metadata": {
    "_cell_guid": "a4229efa-49d5-82fb-5a1d-e1ca4001e0ac"
   },
   "source": [
    "## Naive Bayes"
   ]
  },
  {
   "cell_type": "markdown",
   "metadata": {
    "_cell_guid": "5ccc2e71-28c6-f425-f229-f1395293bffc"
   },
   "source": [
    "### NBayes 1"
   ]
  },
  {
   "cell_type": "code",
   "execution_count": 24,
   "metadata": {
    "_cell_guid": "476ba54c-4b47-6029-e0de-29e6fcb64845"
   },
   "outputs": [],
   "source": [
    "advancedvectorizer = TfidfVectorizer( min_df=0.1, max_df=0.7, max_features = 200000, ngram_range = (1, 1))\n",
    "advancedtrain = advancedvectorizer.fit_transform(trainheadlines)"
   ]
  },
  {
   "cell_type": "code",
   "execution_count": 25,
   "metadata": {
    "_cell_guid": "1ce37cf1-5c09-9fe7-09ec-a23d6d3b749e"
   },
   "outputs": [
    {
     "name": "stdout",
     "output_type": "stream",
     "text": [
      "(1611, 529)\n"
     ]
    }
   ],
   "source": [
    "print(advancedtrain.shape)"
   ]
  },
  {
   "cell_type": "code",
   "execution_count": 26,
   "metadata": {
    "_cell_guid": "4726d110-1821-ea71-dc5c-7a21ad628dd1"
   },
   "outputs": [],
   "source": [
    "advancedmodel = MultinomialNB(alpha=0.01)\n",
    "advancedmodel = advancedmodel.fit(advancedtrain, train[\"Label\"])\n",
    "testheadlines = []\n",
    "for row in range(0,len(test.index)):\n",
    "    testheadlines.append(' '.join(str(x) for x in test.iloc[row,2:27]))\n",
    "advancedtest = advancedvectorizer.transform(testheadlines)\n",
    "preds4 = advancedmodel.predict(advancedtest)\n",
    "acc4=accuracy_score(test['Label'], preds4)"
   ]
  },
  {
   "cell_type": "code",
   "execution_count": 27,
   "metadata": {
    "_cell_guid": "ff1f469d-1c12-5a3d-1aed-148179c26824"
   },
   "outputs": [
    {
     "name": "stdout",
     "output_type": "stream",
     "text": [
      "NBayes 1 accuracy:  0.513227513228\n"
     ]
    }
   ],
   "source": [
    "print('NBayes 1 accuracy: ', acc4)"
   ]
  },
  {
   "cell_type": "code",
   "execution_count": 28,
   "metadata": {
    "_cell_guid": "02a9958e-ab18-bf74-58f1-160c5b47cbff"
   },
   "outputs": [
    {
     "data": {
      "text/html": [
       "<div>\n",
       "<table border=\"1\" class=\"dataframe\">\n",
       "  <thead>\n",
       "    <tr style=\"text-align: right;\">\n",
       "      <th></th>\n",
       "      <th>Coefficient</th>\n",
       "      <th>Words</th>\n",
       "    </tr>\n",
       "  </thead>\n",
       "  <tbody>\n",
       "    <tr>\n",
       "      <th>234</th>\n",
       "      <td>-5.180422</td>\n",
       "      <td>israel</td>\n",
       "    </tr>\n",
       "    <tr>\n",
       "      <th>497</th>\n",
       "      <td>-5.252936</td>\n",
       "      <td>was</td>\n",
       "    </tr>\n",
       "    <tr>\n",
       "      <th>94</th>\n",
       "      <td>-5.312797</td>\n",
       "      <td>china</td>\n",
       "    </tr>\n",
       "    <tr>\n",
       "      <th>318</th>\n",
       "      <td>-5.317049</td>\n",
       "      <td>not</td>\n",
       "    </tr>\n",
       "    <tr>\n",
       "      <th>394</th>\n",
       "      <td>-5.329156</td>\n",
       "      <td>says</td>\n",
       "    </tr>\n",
       "  </tbody>\n",
       "</table>\n",
       "</div>"
      ],
      "text/plain": [
       "     Coefficient   Words\n",
       "234    -5.180422  israel\n",
       "497    -5.252936     was\n",
       "94     -5.312797   china\n",
       "318    -5.317049     not\n",
       "394    -5.329156    says"
      ]
     },
     "execution_count": 28,
     "metadata": {},
     "output_type": "execute_result"
    }
   ],
   "source": [
    "advwords = advancedvectorizer.get_feature_names()\n",
    "advcoeffs = advancedmodel.coef_.tolist()[0]\n",
    "advcoeffdf = pd.DataFrame({'Words' : advwords, \n",
    "                        'Coefficient' : advcoeffs})\n",
    "advcoeffdf = advcoeffdf.sort_values(['Coefficient', 'Words'], ascending=[0, 1])\n",
    "advcoeffdf.head(5)"
   ]
  },
  {
   "cell_type": "code",
   "execution_count": 29,
   "metadata": {
    "_cell_guid": "6223b466-48eb-0a0a-5d36-c082e50b1fe5"
   },
   "outputs": [
    {
     "data": {
      "text/html": [
       "<div>\n",
       "<table border=\"1\" class=\"dataframe\">\n",
       "  <thead>\n",
       "    <tr style=\"text-align: right;\">\n",
       "      <th></th>\n",
       "      <th>Coefficient</th>\n",
       "      <th>Words</th>\n",
       "    </tr>\n",
       "  </thead>\n",
       "  <tbody>\n",
       "    <tr>\n",
       "      <th>204</th>\n",
       "      <td>-6.948273</td>\n",
       "      <td>held</td>\n",
       "    </tr>\n",
       "    <tr>\n",
       "      <th>446</th>\n",
       "      <td>-6.951188</td>\n",
       "      <td>tells</td>\n",
       "    </tr>\n",
       "    <tr>\n",
       "      <th>426</th>\n",
       "      <td>-6.952040</td>\n",
       "      <td>story</td>\n",
       "    </tr>\n",
       "    <tr>\n",
       "      <th>290</th>\n",
       "      <td>-6.970522</td>\n",
       "      <td>monday</td>\n",
       "    </tr>\n",
       "    <tr>\n",
       "      <th>268</th>\n",
       "      <td>-6.970642</td>\n",
       "      <td>lost</td>\n",
       "    </tr>\n",
       "  </tbody>\n",
       "</table>\n",
       "</div>"
      ],
      "text/plain": [
       "     Coefficient   Words\n",
       "204    -6.948273    held\n",
       "446    -6.951188   tells\n",
       "426    -6.952040   story\n",
       "290    -6.970522  monday\n",
       "268    -6.970642    lost"
      ]
     },
     "execution_count": 29,
     "metadata": {},
     "output_type": "execute_result"
    }
   ],
   "source": [
    "advcoeffdf.tail(5)"
   ]
  },
  {
   "cell_type": "markdown",
   "metadata": {
    "_cell_guid": "dcc814d2-014d-5cb9-b106-52ff648d9c18"
   },
   "source": [
    "### NBayes 2"
   ]
  },
  {
   "cell_type": "code",
   "execution_count": 30,
   "metadata": {
    "_cell_guid": "dfe60202-6348-d724-c860-c3b46c66c447"
   },
   "outputs": [],
   "source": [
    "advancedvectorizer = TfidfVectorizer( min_df=0.03, max_df=0.2, max_features = 200000, ngram_range = (2, 2))\n",
    "advancedtrain = advancedvectorizer.fit_transform(trainheadlines)"
   ]
  },
  {
   "cell_type": "code",
   "execution_count": 31,
   "metadata": {
    "_cell_guid": "28b21c32-28de-1bc4-161e-dcf63737caca"
   },
   "outputs": [
    {
     "name": "stdout",
     "output_type": "stream",
     "text": [
      "(1611, 631)\n"
     ]
    }
   ],
   "source": [
    "print(advancedtrain.shape)"
   ]
  },
  {
   "cell_type": "code",
   "execution_count": 32,
   "metadata": {
    "_cell_guid": "23ab2ed6-8e9a-4291-2f9b-6fc2563f33ca"
   },
   "outputs": [],
   "source": [
    "advancedmodel = MultinomialNB(alpha=0.0001)\n",
    "advancedmodel = advancedmodel.fit(advancedtrain, train[\"Label\"])\n",
    "testheadlines = []\n",
    "for row in range(0,len(test.index)):\n",
    "    testheadlines.append(' '.join(str(x) for x in test.iloc[row,2:27]))\n",
    "advancedtest = advancedvectorizer.transform(testheadlines)\n",
    "preds5 = advancedmodel.predict(advancedtest)\n",
    "acc5 = accuracy_score(test['Label'], preds5)"
   ]
  },
  {
   "cell_type": "code",
   "execution_count": 33,
   "metadata": {
    "_cell_guid": "aa7d48c3-60cc-0895-7ed3-ddbf796339ff"
   },
   "outputs": [
    {
     "name": "stdout",
     "output_type": "stream",
     "text": [
      "NBayes 2 accuracy:  0.542328042328\n"
     ]
    }
   ],
   "source": [
    "print('NBayes 2 accuracy: ', acc5)"
   ]
  },
  {
   "cell_type": "code",
   "execution_count": 34,
   "metadata": {
    "_cell_guid": "f49cb3c4-b80b-48a8-69be-ac6c579e2ed4"
   },
   "outputs": [
    {
     "data": {
      "text/html": [
       "<div>\n",
       "<table border=\"1\" class=\"dataframe\">\n",
       "  <thead>\n",
       "    <tr style=\"text-align: right;\">\n",
       "      <th></th>\n",
       "      <th>Coefficient</th>\n",
       "      <th>Words</th>\n",
       "    </tr>\n",
       "  </thead>\n",
       "  <tbody>\n",
       "    <tr>\n",
       "      <th>49</th>\n",
       "      <td>-5.495760</td>\n",
       "      <td>at least</td>\n",
       "    </tr>\n",
       "    <tr>\n",
       "      <th>185</th>\n",
       "      <td>-5.499764</td>\n",
       "      <td>in china</td>\n",
       "    </tr>\n",
       "    <tr>\n",
       "      <th>247</th>\n",
       "      <td>-5.543152</td>\n",
       "      <td>it is</td>\n",
       "    </tr>\n",
       "    <tr>\n",
       "      <th>259</th>\n",
       "      <td>-5.556370</td>\n",
       "      <td>killed in</td>\n",
       "    </tr>\n",
       "    <tr>\n",
       "      <th>487</th>\n",
       "      <td>-5.594222</td>\n",
       "      <td>the united</td>\n",
       "    </tr>\n",
       "  </tbody>\n",
       "</table>\n",
       "</div>"
      ],
      "text/plain": [
       "     Coefficient       Words\n",
       "49     -5.495760    at least\n",
       "185    -5.499764    in china\n",
       "247    -5.543152       it is\n",
       "259    -5.556370   killed in\n",
       "487    -5.594222  the united"
      ]
     },
     "execution_count": 34,
     "metadata": {},
     "output_type": "execute_result"
    }
   ],
   "source": [
    "advwords = advancedvectorizer.get_feature_names()\n",
    "advcoeffs = advancedmodel.coef_.tolist()[0]\n",
    "advcoeffdf = pd.DataFrame({'Words' : advwords, \n",
    "                        'Coefficient' : advcoeffs})\n",
    "advcoeffdf = advcoeffdf.sort_values(['Coefficient', 'Words'], ascending=[0, 1])\n",
    "advcoeffdf.head(5)"
   ]
  },
  {
   "cell_type": "code",
   "execution_count": 35,
   "metadata": {
    "_cell_guid": "087f9b18-c50b-17b5-60b6-2cf2dada7c3c"
   },
   "outputs": [
    {
     "data": {
      "text/html": [
       "<div>\n",
       "<table border=\"1\" class=\"dataframe\">\n",
       "  <thead>\n",
       "    <tr style=\"text-align: right;\">\n",
       "      <th></th>\n",
       "      <th>Coefficient</th>\n",
       "      <th>Words</th>\n",
       "    </tr>\n",
       "  </thead>\n",
       "  <tbody>\n",
       "    <tr>\n",
       "      <th>386</th>\n",
       "      <td>-7.176794</td>\n",
       "      <td>say the</td>\n",
       "    </tr>\n",
       "    <tr>\n",
       "      <th>65</th>\n",
       "      <td>-7.190919</td>\n",
       "      <td>been arrested</td>\n",
       "    </tr>\n",
       "    <tr>\n",
       "      <th>172</th>\n",
       "      <td>-7.212155</td>\n",
       "      <td>if it</td>\n",
       "    </tr>\n",
       "    <tr>\n",
       "      <th>84</th>\n",
       "      <td>-7.218639</td>\n",
       "      <td>children in</td>\n",
       "    </tr>\n",
       "    <tr>\n",
       "      <th>383</th>\n",
       "      <td>-7.323029</td>\n",
       "      <td>said the</td>\n",
       "    </tr>\n",
       "  </tbody>\n",
       "</table>\n",
       "</div>"
      ],
      "text/plain": [
       "     Coefficient          Words\n",
       "386    -7.176794        say the\n",
       "65     -7.190919  been arrested\n",
       "172    -7.212155          if it\n",
       "84     -7.218639    children in\n",
       "383    -7.323029       said the"
      ]
     },
     "execution_count": 35,
     "metadata": {},
     "output_type": "execute_result"
    }
   ],
   "source": [
    "advcoeffdf.tail(5)"
   ]
  },
  {
   "cell_type": "markdown",
   "metadata": {
    "_cell_guid": "4bfcc58e-1ed4-18d5-a321-e58a4744dd8c"
   },
   "source": [
    "## Random Forest"
   ]
  },
  {
   "cell_type": "markdown",
   "metadata": {
    "_cell_guid": "a77b2afd-5654-aaff-74a9-0013fe4e8164"
   },
   "source": [
    "### RF 1"
   ]
  },
  {
   "cell_type": "code",
   "execution_count": 36,
   "metadata": {
    "_cell_guid": "91fe0b03-37a0-eb19-2632-cdc04067b12f"
   },
   "outputs": [],
   "source": [
    "advancedvectorizer = TfidfVectorizer( min_df=0.01, max_df=0.99, max_features = 200000, ngram_range = (1, 1))\n",
    "advancedtrain = advancedvectorizer.fit_transform(trainheadlines)"
   ]
  },
  {
   "cell_type": "code",
   "execution_count": 37,
   "metadata": {
    "_cell_guid": "878756f6-f57d-88cb-fe82-5181c1e40901"
   },
   "outputs": [
    {
     "name": "stdout",
     "output_type": "stream",
     "text": [
      "(1611, 4565)\n"
     ]
    }
   ],
   "source": [
    "print(advancedtrain.shape)"
   ]
  },
  {
   "cell_type": "code",
   "execution_count": 38,
   "metadata": {
    "_cell_guid": "b561af90-db7d-ef58-26a2-5721d5432615"
   },
   "outputs": [],
   "source": [
    "advancedmodel = RandomForestClassifier()\n",
    "advancedmodel = advancedmodel.fit(advancedtrain, train[\"Label\"])\n",
    "testheadlines = []\n",
    "for row in range(0,len(test.index)):\n",
    "    testheadlines.append(' '.join(str(x) for x in test.iloc[row,2:27]))\n",
    "advancedtest = advancedvectorizer.transform(testheadlines)\n",
    "preds6 = advancedmodel.predict(advancedtest)\n",
    "acc6 = accuracy_score(test['Label'], preds6)"
   ]
  },
  {
   "cell_type": "code",
   "execution_count": 39,
   "metadata": {
    "_cell_guid": "91fe3c5f-b005-97f0-da7c-597c29521877"
   },
   "outputs": [
    {
     "name": "stdout",
     "output_type": "stream",
     "text": [
      "RF 1 accuracy:  0.52380952381\n"
     ]
    }
   ],
   "source": [
    "print('RF 1 accuracy: ', acc6)"
   ]
  },
  {
   "cell_type": "markdown",
   "metadata": {
    "_cell_guid": "76a971f3-878d-33e2-249a-a2b063aa5460"
   },
   "source": [
    "### RF 2"
   ]
  },
  {
   "cell_type": "code",
   "execution_count": 40,
   "metadata": {
    "_cell_guid": "1db5461b-1ee9-2196-6725-66a6c2376a19"
   },
   "outputs": [],
   "source": [
    "advancedvectorizer = TfidfVectorizer( min_df=0.03, max_df=0.2, max_features = 200000, ngram_range = (2, 2))\n",
    "advancedtrain = advancedvectorizer.fit_transform(trainheadlines)"
   ]
  },
  {
   "cell_type": "code",
   "execution_count": 41,
   "metadata": {
    "_cell_guid": "e1fb8019-c981-9d18-8f54-2750387ec071"
   },
   "outputs": [
    {
     "name": "stdout",
     "output_type": "stream",
     "text": [
      "(1611, 631)\n"
     ]
    }
   ],
   "source": [
    "print(advancedtrain.shape)"
   ]
  },
  {
   "cell_type": "code",
   "execution_count": 42,
   "metadata": {
    "_cell_guid": "bcddf034-4a10-2026-55ea-dd3d969a297b"
   },
   "outputs": [],
   "source": [
    "advancedmodel = RandomForestClassifier()\n",
    "advancedmodel = advancedmodel.fit(advancedtrain, train[\"Label\"])\n",
    "testheadlines = []\n",
    "for row in range(0,len(test.index)):\n",
    "    testheadlines.append(' '.join(str(x) for x in test.iloc[row,2:27]))\n",
    "advancedtest = advancedvectorizer.transform(testheadlines)\n",
    "preds7 = advancedmodel.predict(advancedtest)\n",
    "acc7 = accuracy_score(test['Label'], preds7)"
   ]
  },
  {
   "cell_type": "code",
   "execution_count": 43,
   "metadata": {
    "_cell_guid": "e395e3a6-7bc8-a434-16af-be13aebbabbd"
   },
   "outputs": [
    {
     "name": "stdout",
     "output_type": "stream",
     "text": [
      "RF 2 accuracy:  0.539682539683\n"
     ]
    }
   ],
   "source": [
    "print('RF 2 accuracy: ', acc7)"
   ]
  },
  {
   "cell_type": "markdown",
   "metadata": {
    "_cell_guid": "0a12329a-12c7-aa90-a138-025087dd76ba"
   },
   "source": [
    "## Gradient Boosting Machines"
   ]
  },
  {
   "cell_type": "markdown",
   "metadata": {
    "_cell_guid": "ea1681ab-166f-20a6-3c29-f34f84438a36"
   },
   "source": [
    "### GBM 1"
   ]
  },
  {
   "cell_type": "code",
   "execution_count": 44,
   "metadata": {
    "_cell_guid": "4ec11f0e-6c50-8149-93c3-acd17d1e7caa"
   },
   "outputs": [],
   "source": [
    "advancedvectorizer = TfidfVectorizer( min_df=0.1, max_df=0.9, max_features = 200000, ngram_range = (1, 1))\n",
    "advancedtrain = advancedvectorizer.fit_transform(trainheadlines)"
   ]
  },
  {
   "cell_type": "code",
   "execution_count": 45,
   "metadata": {
    "_cell_guid": "3c5d312d-555f-f353-606e-2f560631033a"
   },
   "outputs": [
    {
     "name": "stdout",
     "output_type": "stream",
     "text": [
      "(1611, 541)\n"
     ]
    }
   ],
   "source": [
    "print(advancedtrain.shape)"
   ]
  },
  {
   "cell_type": "code",
   "execution_count": 46,
   "metadata": {
    "_cell_guid": "8f9d72ff-fb8e-5d1a-6016-3ebdb76a2ffd"
   },
   "outputs": [],
   "source": [
    "advancedmodel = GradientBoostingClassifier()\n",
    "advancedmodel = advancedmodel.fit(advancedtrain, train[\"Label\"])\n",
    "testheadlines = []\n",
    "for row in range(0,len(test.index)):\n",
    "    testheadlines.append(' '.join(str(x) for x in test.iloc[row,2:27]))\n",
    "advancedtest = advancedvectorizer.transform(testheadlines)\n",
    "preds8 = advancedmodel.predict(advancedtest.toarray())\n",
    "acc8 = accuracy_score(test['Label'], preds8)"
   ]
  },
  {
   "cell_type": "code",
   "execution_count": 47,
   "metadata": {
    "_cell_guid": "ba8ae675-7e71-e24e-69bf-99d5d19590d8"
   },
   "outputs": [
    {
     "name": "stdout",
     "output_type": "stream",
     "text": [
      "GBM 1 accuracy:  0.473544973545\n"
     ]
    }
   ],
   "source": [
    "print('GBM 1 accuracy: ', acc8)"
   ]
  },
  {
   "cell_type": "markdown",
   "metadata": {
    "_cell_guid": "e39653db-00b9-d1e0-d82e-87105e0eba1e"
   },
   "source": [
    "### GBM 2"
   ]
  },
  {
   "cell_type": "code",
   "execution_count": 48,
   "metadata": {
    "_cell_guid": "d35d6a94-69f4-5370-6d0f-5b98c91d2565"
   },
   "outputs": [],
   "source": [
    "advancedvectorizer = TfidfVectorizer( min_df=0.02, max_df=0.175, max_features = 200000, ngram_range = (2, 2))\n",
    "advancedtrain = advancedvectorizer.fit_transform(trainheadlines)"
   ]
  },
  {
   "cell_type": "code",
   "execution_count": 49,
   "metadata": {
    "_cell_guid": "b83bc122-5059-665a-28c1-85145787155e"
   },
   "outputs": [
    {
     "name": "stdout",
     "output_type": "stream",
     "text": [
      "(1611, 1169)\n"
     ]
    }
   ],
   "source": [
    "print(advancedtrain.shape)"
   ]
  },
  {
   "cell_type": "code",
   "execution_count": 50,
   "metadata": {
    "_cell_guid": "e98ca989-15e6-b785-f282-4e59f849cd1f"
   },
   "outputs": [],
   "source": [
    "advancedmodel = GradientBoostingClassifier()\n",
    "advancedmodel = advancedmodel.fit(advancedtrain, train[\"Label\"])\n",
    "testheadlines = []\n",
    "for row in range(0,len(test.index)):\n",
    "    testheadlines.append(' '.join(str(x) for x in test.iloc[row,2:27]))\n",
    "advancedtest = advancedvectorizer.transform(testheadlines)\n",
    "preds9 = advancedmodel.predict(advancedtest.toarray())\n",
    "acc9 = accuracy_score(test['Label'], preds9)"
   ]
  },
  {
   "cell_type": "code",
   "execution_count": 51,
   "metadata": {
    "_cell_guid": "6df5f34f-a315-c1c4-fdbe-c54127468d5e"
   },
   "outputs": [
    {
     "name": "stdout",
     "output_type": "stream",
     "text": [
      "GBM 2 accuracy:  0.547619047619\n"
     ]
    }
   ],
   "source": [
    "print('GBM 2 accuracy: ', acc9)"
   ]
  },
  {
   "cell_type": "markdown",
   "metadata": {
    "_cell_guid": "b7bd5500-e077-8225-31b5-a9c3f1015ca5"
   },
   "source": [
    "## Stochastic Gradient Descent Classifier"
   ]
  },
  {
   "cell_type": "markdown",
   "metadata": {
    "_cell_guid": "8f139d81-25c5-ba11-8924-e68b6e2e55f6"
   },
   "source": [
    "### SGDClassifier 1"
   ]
  },
  {
   "cell_type": "code",
   "execution_count": 52,
   "metadata": {
    "_cell_guid": "d071bb2f-df6a-1657-1af8-5d31ee8e4a19"
   },
   "outputs": [],
   "source": [
    "advancedvectorizer = TfidfVectorizer( min_df=0.2, max_df=0.8, max_features = 200000, ngram_range = (1, 1))\n",
    "advancedtrain = advancedvectorizer.fit_transform(trainheadlines)"
   ]
  },
  {
   "cell_type": "code",
   "execution_count": 53,
   "metadata": {
    "_cell_guid": "24d0156a-2705-fece-001e-0426da57d383"
   },
   "outputs": [
    {
     "name": "stdout",
     "output_type": "stream",
     "text": [
      "(1611, 202)\n"
     ]
    }
   ],
   "source": [
    "print(advancedtrain.shape)"
   ]
  },
  {
   "cell_type": "code",
   "execution_count": 54,
   "metadata": {
    "_cell_guid": "30e4b846-af7e-1eda-dade-f1550d6e043b"
   },
   "outputs": [],
   "source": [
    "advancedmodel = SGDClassifier(loss='modified_huber', n_iter=5, random_state=0, shuffle=True)\n",
    "advancedmodel = advancedmodel.fit(advancedtrain, train[\"Label\"])\n",
    "testheadlines = []\n",
    "for row in range(0,len(test.index)):\n",
    "    testheadlines.append(' '.join(str(x) for x in test.iloc[row,2:27]))\n",
    "advancedtest = advancedvectorizer.transform(testheadlines)\n",
    "preds10 = advancedmodel.predict(advancedtest.toarray())\n",
    "acc10 = accuracy_score(test['Label'], preds10)"
   ]
  },
  {
   "cell_type": "code",
   "execution_count": 55,
   "metadata": {
    "_cell_guid": "79a91d72-1cd5-4308-9b0e-9810314cdd1a"
   },
   "outputs": [
    {
     "name": "stdout",
     "output_type": "stream",
     "text": [
      "SGDClassifier 1:  0.505291005291\n"
     ]
    }
   ],
   "source": [
    "print('SGDClassifier 1: ', acc10)"
   ]
  },
  {
   "cell_type": "markdown",
   "metadata": {
    "_cell_guid": "0f46cdfe-20b2-9bc6-103a-1f44e2172789"
   },
   "source": [
    "### SGDClassifier 2"
   ]
  },
  {
   "cell_type": "code",
   "execution_count": 56,
   "metadata": {
    "_cell_guid": "8ccd7ace-7326-4dfe-b93d-a8377e1a3ba6"
   },
   "outputs": [],
   "source": [
    "advancedvectorizer = TfidfVectorizer( min_df=0.03, max_df=0.2, max_features = 200000, ngram_range = (2, 2))\n",
    "advancedtrain = advancedvectorizer.fit_transform(trainheadlines)"
   ]
  },
  {
   "cell_type": "code",
   "execution_count": 57,
   "metadata": {
    "_cell_guid": "c012b95d-8575-ef34-d699-d240ade631f0"
   },
   "outputs": [
    {
     "name": "stdout",
     "output_type": "stream",
     "text": [
      "(1611, 631)\n"
     ]
    }
   ],
   "source": [
    "print(advancedtrain.shape)"
   ]
  },
  {
   "cell_type": "code",
   "execution_count": 58,
   "metadata": {
    "_cell_guid": "5e4f2994-e199-976d-f54b-0e676b6b11be"
   },
   "outputs": [],
   "source": [
    "advancedmodel = SGDClassifier(loss='modified_huber', n_iter=5, random_state=0, shuffle=True)\n",
    "advancedmodel = advancedmodel.fit(advancedtrain, train[\"Label\"])\n",
    "testheadlines = []\n",
    "for row in range(0,len(test.index)):\n",
    "    testheadlines.append(' '.join(str(x) for x in test.iloc[row,2:27]))\n",
    "advancedtest = advancedvectorizer.transform(testheadlines)\n",
    "preds11 = advancedmodel.predict(advancedtest.toarray())\n",
    "acc11 = accuracy_score(test['Label'], preds11)"
   ]
  },
  {
   "cell_type": "code",
   "execution_count": 59,
   "metadata": {
    "_cell_guid": "a9d8499e-ae6a-6197-c86f-c31bf73f3f98"
   },
   "outputs": [
    {
     "name": "stdout",
     "output_type": "stream",
     "text": [
      "SGDClassifier 2:  0.542328042328\n"
     ]
    }
   ],
   "source": [
    "print('SGDClassifier 2: ', acc11)"
   ]
  },
  {
   "cell_type": "markdown",
   "metadata": {
    "_cell_guid": "d6aa0178-e7f3-6427-f88f-aa6e436fc87d"
   },
   "source": [
    "## Naive Bayes SVM"
   ]
  },
  {
   "cell_type": "code",
   "execution_count": 60,
   "metadata": {
    "_cell_guid": "cd1391ca-1b70-13c0-3a62-151fc84f6069"
   },
   "outputs": [],
   "source": [
    "class NBSVM(six.with_metaclass(ABCMeta, BaseEstimator, ClassifierMixin)):\n",
    "\n",
    "    def __init__(self, alpha=1.0, C=1.0, max_iter=10000):\n",
    "        self.alpha = alpha\n",
    "        self.max_iter = max_iter\n",
    "        self.C = C\n",
    "        self.svm_ = [] # fuggly\n",
    "\n",
    "    def fit(self, X, y):\n",
    "        X, y = check_X_y(X, y, 'csr')\n",
    "        _, n_features = X.shape\n",
    "\n",
    "        labelbin = LabelBinarizer()\n",
    "        Y = labelbin.fit_transform(y)\n",
    "        self.classes_ = labelbin.classes_\n",
    "        if Y.shape[1] == 1:\n",
    "            Y = np.concatenate((1 - Y, Y), axis=1)\n",
    "\n",
    "        # LabelBinarizer().fit_transform() returns arrays with dtype=np.int64.\n",
    "        # so we don't have to cast X to floating point\n",
    "        Y = Y.astype(np.float64)\n",
    "\n",
    "        # Count raw events from data\n",
    "        n_effective_classes = Y.shape[1]\n",
    "        self.class_count_ = np.zeros(n_effective_classes, dtype=np.float64)\n",
    "        self.ratios_ = np.full((n_effective_classes, n_features), self.alpha,\n",
    "                                 dtype=np.float64)\n",
    "        self._compute_ratios(X, Y)\n",
    "\n",
    "        # flugglyness\n",
    "        for i in range(n_effective_classes):\n",
    "            X_i = X.multiply(self.ratios_[i])\n",
    "            svm = LinearSVC(C=self.C, max_iter=self.max_iter)\n",
    "            Y_i = Y[:,i]\n",
    "            svm.fit(X_i, Y_i)\n",
    "            self.svm_.append(svm) \n",
    "\n",
    "        return self\n",
    "\n",
    "    def predict(self, X):\n",
    "        n_effective_classes = self.class_count_.shape[0]\n",
    "        n_examples = X.shape[0]\n",
    "\n",
    "        D = np.zeros((n_effective_classes, n_examples))\n",
    "\n",
    "        for i in range(n_effective_classes):\n",
    "            X_i = X.multiply(self.ratios_[i])\n",
    "            D[i] = self.svm_[i].decision_function(X_i)\n",
    "        \n",
    "        return self.classes_[np.argmax(D, axis=0)]\n",
    "        \n",
    "    def _compute_ratios(self, X, Y):\n",
    "        \"\"\"Count feature occurrences and compute ratios.\"\"\"\n",
    "        if np.any((X.data if issparse(X) else X) < 0):\n",
    "            raise ValueError(\"Input X must be non-negative\")\n",
    "\n",
    "        self.ratios_ += safe_sparse_dot(Y.T, X)  # ratio + feature_occurrance_c\n",
    "        normalize(self.ratios_, norm='l1', axis=1, copy=False)\n",
    "        row_calc = lambda r: np.log(np.divide(r, (1 - r)))\n",
    "        self.ratios_ = np.apply_along_axis(row_calc, axis=1, arr=self.ratios_)\n",
    "        check_array(self.ratios_)\n",
    "        self.ratios_ = sparse.csr_matrix(self.ratios_)\n",
    "\n",
    "        #p_c /= np.linalg.norm(p_c, ord=1)\n",
    "        #ratios[c] = np.log(p_c / (1 - p_c))\n",
    "\n",
    "\n",
    "def f1_class(pred, truth, class_val):\n",
    "    n = len(truth)\n",
    "\n",
    "    truth_class = 0\n",
    "    pred_class = 0\n",
    "    tp = 0\n",
    "\n",
    "    for ii in range(0, n):\n",
    "        if truth[ii] == class_val:\n",
    "            truth_class += 1\n",
    "            if truth[ii] == pred[ii]:\n",
    "                tp += 1\n",
    "                pred_class += 1\n",
    "                continue;\n",
    "        if pred[ii] == class_val:\n",
    "            pred_class += 1\n",
    "\n",
    "    precision = tp / float(pred_class)\n",
    "    recall = tp / float(truth_class)\n",
    "\n",
    "    return (2.0 * precision * recall) / (precision + recall)\n",
    "\n",
    "\n",
    "def semeval_senti_f1(pred, truth, pos=2, neg=0): \n",
    "\n",
    "    f1_pos = f1_class(pred, truth, pos)\n",
    "    f1_neg = f1_class(pred, truth, neg)\n",
    "\n",
    "    return (f1_pos + f1_neg) / 2.0;\n",
    "\n",
    "\n",
    "def main(train_file, test_file, ngram=(1, 3)):\n",
    "    print('loading...')\n",
    "    train = pd.read_csv(train_file, delimiter='\\t', encoding='utf-8', header=0,\n",
    "                        names=['text', 'label'])\n",
    "\n",
    "    # to shuffle:\n",
    "    #train.iloc[np.random.permutation(len(df))]\n",
    "\n",
    "    test = pd.read_csv(test_file, delimiter='\\t', encoding='utf-8', header=0,\n",
    "                        names=['text', 'label'])\n",
    "\n",
    "    print('vectorizing...')\n",
    "    vect = CountVectorizer()\n",
    "    classifier = NBSVM()\n",
    "\n",
    "    # create pipeline\n",
    "    clf = Pipeline([('vect', vect), ('nbsvm', classifier)])\n",
    "    params = {\n",
    "        'vect__token_pattern': r\"\\S+\",\n",
    "        'vect__ngram_range': ngram, \n",
    "        'vect__binary': True\n",
    "    }\n",
    "    clf.set_params(**params)\n",
    "\n",
    "    #X_train = vect.fit_transform(train['text'])\n",
    "    #X_test = vect.transform(test['text'])\n",
    "\n",
    "    print('fitting...')\n",
    "    clf.fit(train['text'], train['label'])\n",
    "\n",
    "    print('classifying...')\n",
    "    pred = clf.predict(test['text'])\n",
    "   \n",
    "    print('testing...')\n",
    "    acc = accuracy_score(test['label'], pred)\n",
    "    f1 = semeval_senti_f1(pred, test['label'])\n",
    "    print('NBSVM: acc=%f, f1=%f' % (acc, f1))"
   ]
  },
  {
   "cell_type": "markdown",
   "metadata": {
    "_cell_guid": "7f0e000a-ca1a-5611-0ca8-c8bc40eafecb"
   },
   "source": [
    "### NBSVM 1"
   ]
  },
  {
   "cell_type": "code",
   "execution_count": 61,
   "metadata": {
    "_cell_guid": "e054e5ea-c8be-cb98-90a1-2512b3478b6e"
   },
   "outputs": [
    {
     "name": "stdout",
     "output_type": "stream",
     "text": [
      "(1611, 535)\n"
     ]
    }
   ],
   "source": [
    "advancedvectorizer = TfidfVectorizer( min_df=0.1, max_df=0.8, max_features = 200000, ngram_range = (1, 1))\n",
    "advancedtrain = advancedvectorizer.fit_transform(trainheadlines)\n",
    "print(advancedtrain.shape)"
   ]
  },
  {
   "cell_type": "code",
   "execution_count": 62,
   "metadata": {
    "_cell_guid": "b57a2b30-d69f-cf0a-05d0-8a065d5a758b"
   },
   "outputs": [],
   "source": [
    "advancedmodel = NBSVM(C=0.01)\n",
    "advancedmodel = advancedmodel.fit(advancedtrain, train[\"Label\"])\n",
    "testheadlines = []\n",
    "for row in range(0,len(test.index)):\n",
    "    testheadlines.append(' '.join(str(x) for x in test.iloc[row,2:27]))\n",
    "advancedtest = advancedvectorizer.transform(testheadlines)\n",
    "preds12 = advancedmodel.predict(advancedtest)\n",
    "acc12 = accuracy_score(test['Label'], preds12)"
   ]
  },
  {
   "cell_type": "code",
   "execution_count": 63,
   "metadata": {
    "_cell_guid": "6acdade4-665e-5c06-95af-3e5ddcfd33d6"
   },
   "outputs": [
    {
     "name": "stdout",
     "output_type": "stream",
     "text": [
      "NBSVM 1:  0.478835978836\n"
     ]
    }
   ],
   "source": [
    "print('NBSVM 1: ', acc12)"
   ]
  },
  {
   "cell_type": "markdown",
   "metadata": {
    "_cell_guid": "aca410f2-118d-f973-6b14-a63048444f26"
   },
   "source": [
    "### NBSVM 2"
   ]
  },
  {
   "cell_type": "code",
   "execution_count": 64,
   "metadata": {
    "_cell_guid": "663e5e98-7ccd-29a4-40a8-10a46327c06b"
   },
   "outputs": [
    {
     "name": "stdout",
     "output_type": "stream",
     "text": [
      "(1611, 613)\n"
     ]
    }
   ],
   "source": [
    "advancedvectorizer = TfidfVectorizer( min_df=0.031, max_df=0.2, max_features = 200000, ngram_range = (2, 2))\n",
    "advancedtrain = advancedvectorizer.fit_transform(trainheadlines)\n",
    "print(advancedtrain.shape)"
   ]
  },
  {
   "cell_type": "code",
   "execution_count": 65,
   "metadata": {
    "_cell_guid": "0c67fed4-8110-2a52-bb33-1da6f294b592"
   },
   "outputs": [],
   "source": [
    "advancedmodel = NBSVM(C=0.01)\n",
    "advancedmodel = advancedmodel.fit(advancedtrain, train[\"Label\"])\n",
    "testheadlines = []\n",
    "for row in range(0,len(test.index)):\n",
    "    testheadlines.append(' '.join(str(x) for x in test.iloc[row,2:27]))\n",
    "advancedtest = advancedvectorizer.transform(testheadlines)\n",
    "preds13 = advancedmodel.predict(advancedtest)\n",
    "acc13 = accuracy_score(test['Label'], preds13)"
   ]
  },
  {
   "cell_type": "code",
   "execution_count": 66,
   "metadata": {
    "_cell_guid": "803861e3-d740-c2ed-2b2e-57221ba9b8c8"
   },
   "outputs": [
    {
     "name": "stdout",
     "output_type": "stream",
     "text": [
      "NBSVM 2:  0.595238095238\n"
     ]
    }
   ],
   "source": [
    "print('NBSVM 2: ', acc13)"
   ]
  },
  {
   "cell_type": "markdown",
   "metadata": {
    "_cell_guid": "682e897f-169c-8694-d05d-66e9fc844158"
   },
   "source": [
    "## Deep Learning"
   ]
  },
  {
   "cell_type": "markdown",
   "metadata": {
    "_cell_guid": "1de5a061-52d5-2578-9cb0-2602499ad87b"
   },
   "source": [
    "### MLP"
   ]
  },
  {
   "cell_type": "code",
   "execution_count": 67,
   "metadata": {
    "_cell_guid": "ac32628f-8080-5d53-e3a2-3d6986431f15"
   },
   "outputs": [
    {
     "name": "stdout",
     "output_type": "stream",
     "text": [
      "(1611, 401)\n"
     ]
    }
   ],
   "source": [
    "batch_size = 32\n",
    "nb_classes = 2\n",
    "advancedvectorizer = TfidfVectorizer( min_df=0.04, max_df=0.3, max_features = 200000, ngram_range = (2, 2))\n",
    "advancedtrain = advancedvectorizer.fit_transform(trainheadlines)\n",
    "testheadlines = []\n",
    "for row in range(0,len(test.index)):\n",
    "    testheadlines.append(' '.join(str(x) for x in test.iloc[row,2:27]))\n",
    "advancedtest = advancedvectorizer.transform(testheadlines)\n",
    "print(advancedtrain.shape)"
   ]
  },
  {
   "cell_type": "code",
   "execution_count": 68,
   "metadata": {
    "_cell_guid": "eca75f7e-4fe5-0be4-85ee-47fecf3ad4d8"
   },
   "outputs": [
    {
     "name": "stdout",
     "output_type": "stream",
     "text": [
      "X_train shape: (1611, 401)\n",
      "X_test shape: (378, 401)\n",
      "Training...\n"
     ]
    },
    {
     "name": "stderr",
     "output_type": "stream",
     "text": [
      "/opt/conda/lib/python3.6/site-packages/Keras-1.2.2-py3.6.egg/keras/models.py:654: UserWarning: The \"show_accuracy\" argument is deprecated, instead you should pass the \"accuracy\" metric to the model at compile time:\n",
      "`model.compile(optimizer, loss, metrics=[\"accuracy\"])`\n",
      "  warnings.warn('The \"show_accuracy\" argument is deprecated, '\n"
     ]
    },
    {
     "name": "stdout",
     "output_type": "stream",
     "text": [
      "Train on 1369 samples, validate on 242 samples\n",
      "Epoch 1/2\n",
      "1369/1369 [==============================] - 0s - loss: 0.6953 - val_loss: 0.6879\n",
      "Epoch 2/2\n",
      "1369/1369 [==============================] - 0s - loss: 0.6685 - val_loss: 0.6850\n",
      "Generating test predictions...\n"
     ]
    }
   ],
   "source": [
    "X_train = advancedtrain.toarray()\n",
    "X_test = advancedtest.toarray()\n",
    "\n",
    "print('X_train shape:', X_train.shape)\n",
    "print('X_test shape:', X_test.shape)\n",
    "y_train = np.array(train[\"Label\"])\n",
    "y_test = np.array(test[\"Label\"])\n",
    "\n",
    "Y_train = np_utils.to_categorical(y_train, nb_classes)\n",
    "Y_test = np_utils.to_categorical(y_test, nb_classes)\n",
    "\n",
    "\n",
    "# pre-processing: divide by max and substract mean\n",
    "scale = np.max(X_train)\n",
    "X_train /= scale\n",
    "X_test /= scale\n",
    "\n",
    "mean = np.mean(X_train)\n",
    "X_train -= mean\n",
    "X_test -= mean\n",
    "\n",
    "input_dim = X_train.shape[1]\n",
    "\n",
    "# Here's a Deep Dumb MLP (DDMLP)\n",
    "model = Sequential()\n",
    "model.add(Dense(256, input_dim=input_dim))\n",
    "model.add(Activation('relu'))\n",
    "model.add(Dropout(0.4))\n",
    "model.add(Dense(128))\n",
    "model.add(Activation('relu'))\n",
    "model.add(Dropout(0.4))\n",
    "model.add(Dense(nb_classes))\n",
    "model.add(Activation('softmax'))\n",
    "\n",
    "# we'll use categorical xent for the loss, and RMSprop as the optimizer\n",
    "model.compile(loss='categorical_crossentropy', optimizer='rmsprop')\n",
    "\n",
    "print(\"Training...\")\n",
    "model.fit(X_train, Y_train, nb_epoch=2, batch_size=16, validation_split=0.15, show_accuracy=True)\n",
    "\n",
    "print(\"Generating test predictions...\")\n",
    "preds14 = model.predict_classes(X_test, verbose=0)\n",
    "acc14 = accuracy_score(test[\"Label\"], preds14)"
   ]
  },
  {
   "cell_type": "code",
   "execution_count": 69,
   "metadata": {
    "_cell_guid": "39345ebd-2cf2-8332-6fb2-d00bc801af57"
   },
   "outputs": [
    {
     "name": "stdout",
     "output_type": "stream",
     "text": [
      "prediction accuracy:  0.547619047619\n"
     ]
    }
   ],
   "source": [
    "print('prediction accuracy: ', acc14)"
   ]
  },
  {
   "cell_type": "markdown",
   "metadata": {
    "_cell_guid": "143c5d6d-4259-c945-f1dd-b07a4c388526"
   },
   "source": [
    "### LSTM"
   ]
  },
  {
   "cell_type": "code",
   "execution_count": 70,
   "metadata": {
    "_cell_guid": "db232b70-f3a0-0952-e7ab-9c0b768e8025"
   },
   "outputs": [],
   "source": [
    "max_features = 10000\n",
    "EMBEDDING_DIM = 100\n",
    "VALIDATION_SPLIT = 0.1\n",
    "maxlen = 200\n",
    "batch_size = 32\n",
    "nb_classes = 2"
   ]
  },
  {
   "cell_type": "code",
   "execution_count": 71,
   "metadata": {
    "_cell_guid": "e5f6e70a-325d-5a94-0c16-c852f951d475"
   },
   "outputs": [],
   "source": [
    "# vectorize the text samples into a 2D integer tensor\n",
    "tokenizer = Tokenizer(nb_words=max_features)\n",
    "tokenizer.fit_on_texts(trainheadlines)\n",
    "sequences_train = tokenizer.texts_to_sequences(trainheadlines)\n",
    "sequences_test = tokenizer.texts_to_sequences(testheadlines)"
   ]
  },
  {
   "cell_type": "code",
   "execution_count": 72,
   "metadata": {
    "_cell_guid": "a9224d6a-3bca-ef84-9817-a72b41241f54"
   },
   "outputs": [
    {
     "name": "stdout",
     "output_type": "stream",
     "text": [
      "Pad sequences (samples x time)\n",
      "X_train shape: (1611, 200)\n",
      "X_test shape: (378, 200)\n"
     ]
    }
   ],
   "source": [
    "print('Pad sequences (samples x time)')\n",
    "X_train = sequence.pad_sequences(sequences_train, maxlen=maxlen)\n",
    "X_test = sequence.pad_sequences(sequences_test, maxlen=maxlen)\n",
    "\n",
    "Y_train = np_utils.to_categorical(y_train, nb_classes)\n",
    "Y_test = np_utils.to_categorical(y_test, nb_classes)\n",
    "\n",
    "\n",
    "print('X_train shape:', X_train.shape)\n",
    "print('X_test shape:', X_test.shape)"
   ]
  },
  {
   "cell_type": "code",
   "execution_count": 73,
   "metadata": {
    "_cell_guid": "29359f0d-8d42-2038-c04f-2cd5bc87bc93"
   },
   "outputs": [
    {
     "name": "stdout",
     "output_type": "stream",
     "text": [
      "Build model...\n",
      "Train...\n"
     ]
    },
    {
     "name": "stderr",
     "output_type": "stream",
     "text": [
      "/opt/conda/lib/python3.6/site-packages/tensorflow/python/ops/gradients_impl.py:91: UserWarning: Converting sparse IndexedSlices to a dense Tensor of unknown shape. This may consume a large amount of memory.\n",
      "  \"Converting sparse IndexedSlices to a dense Tensor of unknown shape. \"\n"
     ]
    },
    {
     "name": "stdout",
     "output_type": "stream",
     "text": [
      "Train on 1611 samples, validate on 378 samples\n",
      "Epoch 1/3\n",
      "1611/1611 [==============================] - 50s - loss: 0.6942 - acc: 0.5208 - val_loss: 0.6935 - val_acc: 0.5079\n",
      "Epoch 2/3\n",
      "1611/1611 [==============================] - 51s - loss: 0.6722 - acc: 0.5971 - val_loss: 0.6904 - val_acc: 0.5106\n",
      "Epoch 3/3\n",
      "1611/1611 [==============================] - 50s - loss: 0.5941 - acc: 0.7492 - val_loss: 0.6831 - val_acc: 0.5661\n",
      "378/378 [==============================] - 3s     \n",
      "Test score: 0.683092702633\n",
      "Test accuracy: 0.566137566138\n",
      "Generating test predictions...\n"
     ]
    }
   ],
   "source": [
    "print('Build model...')\n",
    "model = Sequential()\n",
    "model.add(Embedding(max_features, 128, dropout=0.2))\n",
    "model.add(LSTM(128, dropout_W=0.2, dropout_U=0.2)) \n",
    "model.add(Dense(nb_classes))\n",
    "model.add(Activation('softmax'))\n",
    "\n",
    "model.compile(loss='binary_crossentropy',\n",
    "              optimizer='adam',\n",
    "              metrics=['accuracy'])\n",
    "\n",
    "print('Train...')\n",
    "model.fit(X_train, Y_train, batch_size=batch_size, nb_epoch=3,\n",
    "          validation_data=(X_test, Y_test))\n",
    "score, acc = model.evaluate(X_test, Y_test,\n",
    "                            batch_size=batch_size)\n",
    "print('Test score:', score)\n",
    "print('Test accuracy:', acc)\n",
    "\n",
    "\n",
    "print(\"Generating test predictions...\")\n",
    "preds15 = model.predict_classes(X_test, verbose=0)\n",
    "acc15 = accuracy_score(test['Label'], preds15)"
   ]
  },
  {
   "cell_type": "code",
   "execution_count": 74,
   "metadata": {
    "_cell_guid": "365d4d4b-57cd-c678-6e62-133aa32586fb"
   },
   "outputs": [
    {
     "name": "stdout",
     "output_type": "stream",
     "text": [
      "prediction accuracy:  0.566137566138\n"
     ]
    }
   ],
   "source": [
    "print('prediction accuracy: ', acc15)"
   ]
  },
  {
   "cell_type": "markdown",
   "metadata": {
    "_cell_guid": "8afb0d07-7d0d-dd18-b19c-be603f301b52"
   },
   "source": [
    "## CNN"
   ]
  },
  {
   "cell_type": "code",
   "execution_count": 75,
   "metadata": {
    "_cell_guid": "7271a1d1-cde0-a26c-de99-edfb7dfbf918"
   },
   "outputs": [],
   "source": [
    "nb_filter = 120\n",
    "filter_length = 2\n",
    "hidden_dims = 120\n",
    "nb_epoch = 2"
   ]
  },
  {
   "cell_type": "code",
   "execution_count": 76,
   "metadata": {
    "_cell_guid": "c071e2fc-2106-4bc5-2e2f-dde4a84dabdf"
   },
   "outputs": [
    {
     "name": "stdout",
     "output_type": "stream",
     "text": [
      "Build model...\n"
     ]
    }
   ],
   "source": [
    "print('Build model...')\n",
    "model = Sequential()\n",
    "model.add(Embedding(max_features, 128, dropout=0.2))\n",
    "# we add a Convolution1D, which will learn nb_filter\n",
    "# word group filters of size filter_length:\n",
    "model.add(Convolution1D(nb_filter=nb_filter,\n",
    "                        filter_length=filter_length,\n",
    "                        border_mode='valid',\n",
    "                        activation='relu',\n",
    "                        subsample_length=1))\n",
    "\n",
    "def max_1d(X):\n",
    "    return K.max(X, axis=1)\n",
    "\n",
    "model.add(Lambda(max_1d, output_shape=(nb_filter,)))\n",
    "model.add(Dense(hidden_dims)) \n",
    "model.add(Dropout(0.2)) \n",
    "model.add(Activation('relu'))\n",
    "model.add(Dense(nb_classes))\n",
    "model.add(Activation('sigmoid'))\n",
    "\n",
    "model.compile(loss='binary_crossentropy',\n",
    "              optimizer='adam',\n",
    "              metrics=['accuracy'])"
   ]
  },
  {
   "cell_type": "code",
   "execution_count": 77,
   "metadata": {
    "_cell_guid": "61e07990-43ef-ff27-3b36-dca146f8b4a3"
   },
   "outputs": [
    {
     "name": "stdout",
     "output_type": "stream",
     "text": [
      "Train...\n"
     ]
    },
    {
     "name": "stderr",
     "output_type": "stream",
     "text": [
      "/opt/conda/lib/python3.6/site-packages/tensorflow/python/ops/gradients_impl.py:91: UserWarning: Converting sparse IndexedSlices to a dense Tensor of unknown shape. This may consume a large amount of memory.\n",
      "  \"Converting sparse IndexedSlices to a dense Tensor of unknown shape. \"\n"
     ]
    },
    {
     "name": "stdout",
     "output_type": "stream",
     "text": [
      "Train on 1611 samples, validate on 378 samples\n",
      "Epoch 1/1\n",
      "1611/1611 [==============================] - 14s - loss: 0.6900 - acc: 0.5317 - val_loss: 0.6974 - val_acc: 0.5079\n",
      "352/378 [==========================>...] - ETA: 0sTest score: 0.69742725829\n",
      "Test accuracy: 0.507936509829\n",
      "Generating test predictions...\n"
     ]
    }
   ],
   "source": [
    "print('Train...')\n",
    "model.fit(X_train, Y_train, batch_size=32, nb_epoch=1,\n",
    "          validation_data=(X_test, Y_test))\n",
    "score, acc = model.evaluate(X_test, Y_test,\n",
    "                            batch_size=batch_size)\n",
    "print('Test score:', score)\n",
    "print('Test accuracy:', acc)\n",
    "\n",
    "\n",
    "print(\"Generating test predictions...\")\n",
    "preds16 = model.predict_classes(X_test, verbose=0)\n",
    "acc16 = accuracy_score(test['Label'], preds16)"
   ]
  },
  {
   "cell_type": "code",
   "execution_count": 78,
   "metadata": {
    "_cell_guid": "49e9abbe-d224-b757-c17b-bd4cfa5da818"
   },
   "outputs": [
    {
     "name": "stdout",
     "output_type": "stream",
     "text": [
      "prediction accuracy:  0.507936507937\n"
     ]
    }
   ],
   "source": [
    "print('prediction accuracy: ', acc16)"
   ]
  },
  {
   "cell_type": "code",
   "execution_count": 79,
   "metadata": {
    "_cell_guid": "21b86295-1a3b-a1b8-78cf-b032b9d74eaa"
   },
   "outputs": [],
   "source": []
  },
  {
   "cell_type": "code",
   "execution_count": 79,
   "metadata": {
    "_cell_guid": "91aa05fb-b8fe-fe99-d191-c08b8dc5620c"
   },
   "outputs": [],
   "source": []
  },
  {
   "cell_type": "code",
   "execution_count": 79,
   "metadata": {
    "_cell_guid": "60fa6ce4-1658-11d2-c0ad-3b43a542fff0"
   },
   "outputs": [],
   "source": []
  },
  {
   "cell_type": "code",
   "execution_count": 79,
   "metadata": {
    "_cell_guid": "03273578-b025-4e87-6088-a993fce31e2f"
   },
   "outputs": [],
   "source": []
  }
 ],
 "metadata": {
  "_change_revision": 1261,
  "_is_fork": false,
  "kernelspec": {
   "display_name": "Python 3",
   "language": "python",
   "name": "python3"
  },
  "language_info": {
   "codemirror_mode": {
    "name": "ipython",
    "version": 3
   },
   "file_extension": ".py",
   "mimetype": "text/x-python",
   "name": "python",
   "nbconvert_exporter": "python",
   "pygments_lexer": "ipython3",
   "version": "3.7.3"
  }
 },
 "nbformat": 4,
 "nbformat_minor": 1
}

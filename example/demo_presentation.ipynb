{
 "cells": [
  {
   "cell_type": "markdown",
   "metadata": {},
   "source": [
    "## Standard Process"
   ]
  },
  {
   "cell_type": "markdown",
   "metadata": {},
   "source": [
    "### Deep Learning Model"
   ]
  },
  {
   "cell_type": "code",
   "execution_count": 1,
   "metadata": {
    "scrolled": true
   },
   "outputs": [
    {
     "name": "stderr",
     "output_type": "stream",
     "text": [
      "Using TensorFlow backend.\n",
      "/Users/i513009/opt/anaconda3/lib/python3.7/site-packages/keras_preprocessing/text.py:178: UserWarning: The `nb_words` argument in `Tokenizer` has been renamed `num_words`.\n",
      "  warnings.warn('The `nb_words` argument in `Tokenizer` '\n",
      "/Users/i513009/Desktop/cse583/final_project/Stock-Market-Prediction-with-News/example/deep_learning.py:92: UserWarning: The `dropout` argument is no longer support in `Embedding`. You can apply a `keras.layers.SpatialDropout1D` layer right after the `Embedding` layer to get the same behavior.\n",
      "  model.add(Embedding(max_features, 128, dropout=0.2))\n",
      "/Users/i513009/Desktop/cse583/final_project/Stock-Market-Prediction-with-News/example/deep_learning.py:93: UserWarning: Update your `LSTM` call to the Keras 2 API: `LSTM(128, dropout=0.2, recurrent_dropout=0.2)`\n",
      "  model.add(LSTM(128, dropout_W=0.2, dropout_U=0.2))\n",
      "/Users/i513009/Desktop/cse583/final_project/Stock-Market-Prediction-with-News/example/deep_learning.py:102: UserWarning: The `nb_epoch` argument in `fit` has been renamed `epochs`.\n",
      "  validation_data=(X_test, Y_test))\n",
      "/Users/i513009/opt/anaconda3/lib/python3.7/site-packages/tensorflow_core/python/framework/indexed_slices.py:424: UserWarning: Converting sparse IndexedSlices to a dense Tensor of unknown shape. This may consume a large amount of memory.\n",
      "  \"Converting sparse IndexedSlices to a dense Tensor of unknown shape. \"\n"
     ]
    },
    {
     "name": "stdout",
     "output_type": "stream",
     "text": [
      "Train on 1611 samples, validate on 378 samples\n",
      "Epoch 1/3\n",
      "1611/1611 [==============================] - 13s 8ms/step - loss: 0.6918 - accuracy: 0.5369 - val_loss: 0.6924 - val_accuracy: 0.5079\n",
      "Epoch 2/3\n",
      "1611/1611 [==============================] - 13s 8ms/step - loss: 0.6136 - accuracy: 0.6741 - val_loss: 0.6859 - val_accuracy: 0.5529\n",
      "Epoch 3/3\n",
      "1611/1611 [==============================] - 13s 8ms/step - loss: 0.2882 - accuracy: 0.9112 - val_loss: 0.9499 - val_accuracy: 0.5317\n",
      "Deep Learning Prediction Result [0]\n"
     ]
    }
   ],
   "source": [
    "from deep_learning import DeepLearning\n",
    "DL = DeepLearning()\n",
    "# Train Deep Learning Model\n",
    "DL.train_dl_model()\n",
    "# Make new prediction using Deep Learning Model\n",
    "print(\"Deep Learning Prediction Result\", DL.new_data_prediction())"
   ]
  },
  {
   "cell_type": "markdown",
   "metadata": {},
   "source": [
    "### Naive Bayes Model"
   ]
  },
  {
   "cell_type": "code",
   "execution_count": 2,
   "metadata": {},
   "outputs": [
    {
     "name": "stdout",
     "output_type": "stream",
     "text": [
      "Naive Bayes Prediction Result [1]\n"
     ]
    }
   ],
   "source": [
    "from naive_bayes_model_new import NaiveBayesModel\n",
    "NB = NaiveBayesModel()\n",
    "# Train naive bayes model\n",
    "NB.train_nb_model()\n",
    "# Make prediction for new data\n",
    "print(\"Naive Bayes Prediction Result\", NB.new_data_prediction())"
   ]
  },
  {
   "cell_type": "markdown",
   "metadata": {},
   "source": [
    "## Detailed Demo"
   ]
  },
  {
   "cell_type": "code",
   "execution_count": 3,
   "metadata": {},
   "outputs": [],
   "source": [
    "import demo"
   ]
  },
  {
   "cell_type": "markdown",
   "metadata": {},
   "source": [
    "### Read Data"
   ]
  },
  {
   "cell_type": "code",
   "execution_count": 4,
   "metadata": {},
   "outputs": [
    {
     "name": "stdout",
     "output_type": "stream",
     "text": [
      "Russia Banned From Global Sports for 4 Years Over Doping Investigators want motorists' videos of UPS truck shooting Serial rapist McCann given 33 life sentences One of the last surviving pilots who fought in the Battle of Britain during World War Two has died aged 101 Texas cop arrested after he allegedly strip-searched six women in 11 days, police say ‘Benson,’ ‘Star Trek’ actor René Auberjonois has died at 79 High school adds laundry room to help struggling students, combat absences Harvey Weinstein violated the terms of his release, prosecutors say NFL star Khalil Mack pays off 300 holiday layaway accounts at a Walmart in his hometown South Florida cops in shootout that killed UPS driver, 3 others placed on administrative leave: reports Tiny phones hidden in Nike sneakers intercepted at Oklahoma detention facility Supreme Court leaves Kentucky's ultrasound law in place NHS gives Amazon free use of health data under Alexa advice deal Drunken raccoon staggers through German Christmas market, passes out China claims detained Uighurs have been freed China tells government offices to remove all foreign computer equipment Puppeteer of Big Bird and Oscar the Grouch has passed away. Russian Su-35 jets scrambled to stop Israel over Syria - reports Georgia reporter groped on live television by participant in running event FBI says it presumes base shooting was act of terrorism Gary Sinise brings 1,700 family members of fallen military heroes to Orlando on 'Snowball Express' Paul Volcker, the Carter-Reagan Fed chairman who beat inflation, dies at 92 Alabama boy, 5, killed in crossfire during family dispute Miss Myanmar Is The First Openly Gay Contestant At Miss Universe\n"
     ]
    }
   ],
   "source": [
    "file_name = '../Data/dailynews.csv'\n",
    "raw_text = demo.load_data(file_name)\n",
    "print(raw_text)"
   ]
  },
  {
   "cell_type": "markdown",
   "metadata": {},
   "source": [
    "### Clean Data"
   ]
  },
  {
   "cell_type": "code",
   "execution_count": 5,
   "metadata": {},
   "outputs": [
    {
     "name": "stdout",
     "output_type": "stream",
     "text": [
      "russia banned from global sports for years over doping investigators want motorists videos ups truck shooting serial rapist mccann given life sentences one the last surviving pilots who fought the battle britain during world war two has died aged 101 texas cop arrested after allegedly strip searched six women days police say benson star trek actor rené auberjonois has died high school adds laundry room help struggling students combat absences harvey weinstein violated the terms his release prosecutors say nfl star khalil mack pays off 300 holiday layaway accounts walmart his hometown south florida cops shootout that killed ups driver others placed administrative leave reports tiny phones hidden nike sneakers intercepted oklahoma detention facility supreme court leaves kentucky ultrasound law place nhs gives amazon free use health data under alexa advice deal drunken raccoon staggers through german christmas market passes out china claims detained uighurs have been freed china tells government offices remove all foreign computer equipment puppeteer big bird and oscar the grouch has passed away russian jets scrambled stop israel over syria reports georgia reporter groped live television participant running event fbi says presumes base shooting was act terrorism gary sinise brings 700 family members fallen military heroes orlando snowball express paul volcker the carter reagan fed chairman who beat inflation dies alabama boy killed crossfire during family dispute miss myanmar the first openly gay contestant miss universe\n"
     ]
    }
   ],
   "source": [
    "clean_text = demo.clean_data(raw_text)\n",
    "print(clean_text)"
   ]
  },
  {
   "cell_type": "markdown",
   "metadata": {},
   "source": [
    "### Visulization"
   ]
  },
  {
   "cell_type": "code",
   "execution_count": 6,
   "metadata": {},
   "outputs": [
    {
     "data": {
      "text/plain": [
       "<Figure size 800x800 with 1 Axes>"
      ]
     },
     "metadata": {},
     "output_type": "display_data"
    }
   ],
   "source": [
    "wordcloud = demo.visualization(clean_text)\n",
    "import matplotlib.pyplot as plt\n",
    "plt.figure(figsize=(8, 8), facecolor=None)\n",
    "plt.imshow(wordcloud, interpolation='bilinear')\n",
    "plt.axis(\"off\")\n",
    "plt.margins(x=0, y=0)\n",
    "plt.show()"
   ]
  },
  {
   "cell_type": "code",
   "execution_count": 7,
   "metadata": {},
   "outputs": [
    {
     "data": {
      "text/plain": [
       "array([[0.        , 0.        , 0.        , 0.        , 0.        ,\n",
       "        0.        , 0.        , 0.        , 0.        , 0.        ,\n",
       "        0.        , 0.        , 0.        , 0.        , 0.        ,\n",
       "        0.        , 0.        , 0.        , 0.        , 0.        ,\n",
       "        0.        , 0.        , 0.        , 0.        , 0.        ,\n",
       "        0.        , 0.        , 0.        , 0.        , 0.        ,\n",
       "        0.        , 0.        , 0.        , 0.        , 0.        ,\n",
       "        0.        , 0.        , 0.        , 0.        , 0.        ,\n",
       "        0.40824829, 0.        , 0.        , 0.        , 0.        ,\n",
       "        0.        , 0.        , 0.        , 0.        , 0.        ,\n",
       "        0.        , 0.        , 0.        , 0.        , 0.        ,\n",
       "        0.        , 0.        , 0.        , 0.        , 0.        ,\n",
       "        0.        , 0.        , 0.        , 0.        , 0.        ,\n",
       "        0.        , 0.        , 0.        , 0.        , 0.        ,\n",
       "        0.        , 0.        , 0.        , 0.        , 0.        ,\n",
       "        0.        , 0.        , 0.        , 0.        , 0.        ,\n",
       "        0.        , 0.        , 0.        , 0.        , 0.        ,\n",
       "        0.        , 0.        , 0.        , 0.        , 0.        ,\n",
       "        0.        , 0.        , 0.        , 0.        , 0.        ,\n",
       "        0.        , 0.        , 0.        , 0.40824829, 0.        ,\n",
       "        0.        , 0.        , 0.        , 0.        , 0.        ,\n",
       "        0.        , 0.        , 0.        , 0.        , 0.        ,\n",
       "        0.        , 0.        , 0.        , 0.        , 0.        ,\n",
       "        0.        , 0.        , 0.        , 0.        , 0.        ,\n",
       "        0.        , 0.        , 0.        , 0.        , 0.        ,\n",
       "        0.        , 0.        , 0.        , 0.        , 0.        ,\n",
       "        0.        , 0.        , 0.        , 0.        , 0.        ,\n",
       "        0.        , 0.        , 0.        , 0.        , 0.        ,\n",
       "        0.        , 0.        , 0.        , 0.        , 0.        ,\n",
       "        0.        , 0.        , 0.        , 0.        , 0.        ,\n",
       "        0.        , 0.        , 0.        , 0.        , 0.        ,\n",
       "        0.        , 0.        , 0.        , 0.        , 0.        ,\n",
       "        0.        , 0.        , 0.        , 0.        , 0.        ,\n",
       "        0.        , 0.        , 0.        , 0.        , 0.        ,\n",
       "        0.        , 0.        , 0.        , 0.        , 0.        ,\n",
       "        0.        , 0.        , 0.        , 0.        , 0.        ,\n",
       "        0.        , 0.        , 0.        , 0.        , 0.        ,\n",
       "        0.        , 0.        , 0.        , 0.        , 0.        ,\n",
       "        0.        , 0.        , 0.        , 0.        , 0.        ,\n",
       "        0.        , 0.        , 0.        , 0.        , 0.        ,\n",
       "        0.        , 0.        , 0.        , 0.        , 0.        ,\n",
       "        0.        , 0.        , 0.        , 0.        , 0.        ,\n",
       "        0.        , 0.        , 0.        , 0.        , 0.        ,\n",
       "        0.        , 0.        , 0.        , 0.        , 0.        ,\n",
       "        0.        , 0.        , 0.        , 0.        , 0.        ,\n",
       "        0.        , 0.        , 0.        , 0.        , 0.        ,\n",
       "        0.        , 0.        , 0.        , 0.        , 0.        ,\n",
       "        0.        , 0.        , 0.        , 0.        , 0.        ,\n",
       "        0.        , 0.        , 0.        , 0.        , 0.        ,\n",
       "        0.        , 0.        , 0.        , 0.        , 0.        ,\n",
       "        0.        , 0.        , 0.        , 0.        , 0.        ,\n",
       "        0.        , 0.40824829, 0.        , 0.        , 0.        ,\n",
       "        0.        , 0.        , 0.        , 0.        , 0.        ,\n",
       "        0.        , 0.        , 0.        , 0.        , 0.        ,\n",
       "        0.        , 0.        , 0.        , 0.        , 0.        ,\n",
       "        0.        , 0.40824829, 0.        , 0.        , 0.        ,\n",
       "        0.        , 0.        , 0.        , 0.        , 0.40824829,\n",
       "        0.        , 0.        , 0.        , 0.        , 0.        ,\n",
       "        0.        , 0.        , 0.        , 0.        , 0.        ,\n",
       "        0.        , 0.        , 0.        , 0.        , 0.        ,\n",
       "        0.        , 0.        , 0.        , 0.        , 0.        ,\n",
       "        0.        , 0.        , 0.        , 0.        , 0.        ,\n",
       "        0.        , 0.        , 0.        , 0.        , 0.        ,\n",
       "        0.        , 0.        , 0.        , 0.        , 0.        ,\n",
       "        0.        , 0.        , 0.        , 0.        , 0.        ,\n",
       "        0.        , 0.        , 0.        , 0.        , 0.        ,\n",
       "        0.        , 0.        , 0.        , 0.        , 0.        ,\n",
       "        0.        , 0.        , 0.        , 0.        , 0.        ,\n",
       "        0.        , 0.        , 0.        , 0.        , 0.        ,\n",
       "        0.        , 0.        , 0.        , 0.        , 0.        ,\n",
       "        0.        , 0.        , 0.        , 0.        , 0.        ,\n",
       "        0.        , 0.        , 0.        , 0.        , 0.        ,\n",
       "        0.        , 0.        , 0.        , 0.        , 0.        ,\n",
       "        0.        , 0.        , 0.        , 0.        , 0.        ,\n",
       "        0.        , 0.        , 0.        , 0.        , 0.        ,\n",
       "        0.        , 0.        , 0.        , 0.        , 0.        ,\n",
       "        0.        , 0.        , 0.        , 0.        , 0.        ,\n",
       "        0.        , 0.        , 0.        , 0.        , 0.        ,\n",
       "        0.        , 0.        , 0.        , 0.        , 0.        ,\n",
       "        0.40824829, 0.        , 0.        , 0.        , 0.        ,\n",
       "        0.        ]])"
      ]
     },
     "execution_count": 7,
     "metadata": {},
     "output_type": "execute_result"
    }
   ],
   "source": [
    "tfidf_model_name = \"../Model/tfidf_DL.pkl\"\n",
    "X_tfidf = demo.vectorization(tfidf_model_name,clean_text)\n",
    "X_tfidf"
   ]
  },
  {
   "cell_type": "code",
   "execution_count": 8,
   "metadata": {},
   "outputs": [
    {
     "name": "stdout",
     "output_type": "stream",
     "text": [
      "Deep Learning Result:  [0]\n"
     ]
    }
   ],
   "source": [
    "model_name1 = '../Model/dl_model.json'\n",
    "model_name2 = '../Model/dl_model.h5'\n",
    "\n",
    "result = demo.prediction_deep_learning(model_name1, model_name2, X_tfidf)\n",
    "print('Deep Learning Result: ', result)"
   ]
  }
 ],
 "metadata": {
  "kernelspec": {
   "display_name": "Python 3",
   "language": "python",
   "name": "python3"
  },
  "language_info": {
   "codemirror_mode": {
    "name": "ipython",
    "version": 3
   },
   "file_extension": ".py",
   "mimetype": "text/x-python",
   "name": "python",
   "nbconvert_exporter": "python",
   "pygments_lexer": "ipython3",
   "version": "3.7.4"
  }
 },
 "nbformat": 4,
 "nbformat_minor": 2
}

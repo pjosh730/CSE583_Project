{
 "cells": [
  {
   "cell_type": "markdown",
   "metadata": {},
   "source": [
    "Naive Bayes model is the idea of using Bayes theorem (posterior probability = prior probability * likelihood) to estimate categorical outcomes;\n",
    "\n",
    "The Naive bayes model assumes: ALL features included in the model are independent\n",
    "\n",
    "In our project, we can use our knowledge about the news data to predict whether or not DJIA of a specific company increses or decreases based on naives model \n",
    "\n",
    "The first portion of the code describes some preprocessing of our data: i.e. tokenizing (breaking up sentences into smaller chunks), stemming and TD-IDF vectorizer (a type of word embedding, which is to sort words into vectors that have different weights). "
   ]
  },
  {
   "cell_type": "code",
   "execution_count": 54,
   "metadata": {},
   "outputs": [],
   "source": [
    "# Import necessary libraries \n",
    "import re\n",
    "import nltk\n",
    "import pandas as pd\n",
    "import numpy as np\n",
    "\n",
    "from sklearn.feature_extraction.text import TfidfVectorizer, CountVectorizer\n",
    "from wordcloud import WordCloud\n",
    "import matplotlib.pyplot as plt\n",
    "from sklearn.model_selection import train_test_split\n",
    "from sklearn.naive_bayes import MultinomialNB # this is the library that assumes the likelihood function to have a multinomial distribution\n",
    "from sklearn.metrics import accuracy_score\n",
    "\n",
    "from bs4 import BeautifulSoup\n",
    "from nltk.corpus import stopwords\n",
    "from nltk.tokenize import sent_tokenize, word_tokenize\n",
    "from nltk.stem.porter import PorterStemmer\n",
    "\n",
    "english_stemmer=nltk.stem.SnowballStemmer('english')"
   ]
  },
  {
   "cell_type": "code",
   "execution_count": 39,
   "metadata": {},
   "outputs": [],
   "source": [
    "# import the data; then split the data between testing and training sets based on date\n",
    "df = pd.read_csv('../Data/Combined_News_DJIA.csv')\n",
    "train = df[df['Date'] < '2015-01-01']\n",
    "test = df[df['Date'] > '2014-12-31']\n"
   ]
  },
  {
   "cell_type": "code",
   "execution_count": 60,
   "metadata": {},
   "outputs": [],
   "source": [
    "# Data cleaning \n",
    "trainheadlines = []\n",
    "for row in range(0,len(train.index)):\n",
    "    trainheadlines.append(' '.join(str(x) for x in train.iloc[row,2:27]))\n",
    "string_train_head  = ''.join(trainheadlines)\n",
    "testheadlines = []\n",
    "for row in range(0,len(test.index)):\n",
    "    testheadlines.append(' '.join(str(x) for x in test.iloc[row,2:27]))\n",
    "string_test_head = ''.join(testheadlines)\n"
   ]
  },
  {
   "cell_type": "code",
   "execution_count": 61,
   "metadata": {},
   "outputs": [
    {
     "data": {
      "text/plain": [
       "str"
      ]
     },
     "execution_count": 61,
     "metadata": {},
     "output_type": "execute_result"
    }
   ],
   "source": [
    "len(trainheadlines)\n",
    "len(testheadlines)\n",
    "\n",
    "trainheadlines[0]\n",
    "type(string_train_head)"
   ]
  },
  {
   "cell_type": "code",
   "execution_count": 63,
   "metadata": {
    "scrolled": true
   },
   "outputs": [
    {
     "name": "stderr",
     "output_type": "stream",
     "text": [
      "[nltk_data] Downloading package stopwords to\n",
      "[nltk_data]     /Users/ruiyuzeng/nltk_data...\n",
      "[nltk_data]   Package stopwords is already up-to-date!\n"
     ]
    },
    {
     "name": "stdout",
     "output_type": "stream",
     "text": [
      "['b', \"''\", 'Georgia', \"'downs\", 'two', 'Russian', 'warplanes', \"'\", 'countries', 'move']\n",
      "['Most', 'cases', 'cancer', 'result', 'sheer', 'bad', 'luck', 'rather', 'unhealthy', 'lifestyles']\n"
     ]
    }
   ],
   "source": [
    "# Eliminate stopwords\n",
    "import nltk\n",
    "nltk.download('stopwords')\n",
    "stopWords = set(stopwords.words('english'))\n",
    "\n",
    "train_token = word_tokenize(string_train_head)\n",
    "test_token = word_tokenize(string_test_head)\n",
    "\n",
    "train_filtered = []\n",
    "for t in train_token:\n",
    "    if t not in stopWords:\n",
    "        train_filtered.append(t)\n",
    "\n",
    "print(train_filtered[0:10]) # print an example wordlist without stopwords \n",
    "\n",
    "test_filtered = []\n",
    "for d in test_token:\n",
    "    if d not in stopWords:\n",
    "        test_filtered.append(d)\n",
    "\n",
    "print(test_filtered[0:10]) # print an example wordlist without stopwords \n",
    "    \n"
   ]
  },
  {
   "cell_type": "code",
   "execution_count": 64,
   "metadata": {},
   "outputs": [
    {
     "name": "stdout",
     "output_type": "stream",
     "text": [
      "['b', \"''\", 'georgia', \"'down\", 'two', 'russian', 'warplan', \"'\", 'countri', 'move']\n",
      "['most', 'case', 'cancer', 'result', 'sheer', 'bad', 'luck', 'rather', 'unhealthi', 'lifestyl']\n"
     ]
    }
   ],
   "source": [
    "# Stemming; the PorterStemmer does not seem to distinguish between verb and nouns \n",
    "ps = PorterStemmer()\n",
    "stemmed_train = []\n",
    "stemmed_test = []\n",
    "\n",
    "for train in train_filtered:\n",
    "    stemmed_train.append(ps.stem(train))\n",
    "\n",
    "for test in test_filtered:\n",
    "    stemmed_test.append(ps.stem(test))\n",
    "    \n",
    "print(stemmed_train[0:10])\n",
    "print(stemmed_test[0:10])"
   ]
  },
  {
   "cell_type": "code",
   "execution_count": 52,
   "metadata": {
    "scrolled": true
   },
   "outputs": [
    {
     "name": "stdout",
     "output_type": "stream",
     "text": [
      "(1611, 529)\n",
      "(378, 529)\n"
     ]
    }
   ],
   "source": [
    "# Word embedding for training and testing set \n",
    "tfidf = TfidfVectorizer(min_df=0.1, max_df=0.7, max_features = 200000, ngram_range = (1, 1))\n",
    "tfidf_train = tfidf.fit_transform(trainheadlines) \n",
    "tfidf_test = tfidf.transform(testheadlines) # \n",
    "print(tfidf_train.shape)\n",
    "print(tfidf_test.shape)"
   ]
  },
  {
   "cell_type": "code",
   "execution_count": 55,
   "metadata": {},
   "outputs": [],
   "source": [
    "advancedmodel = MultinomialNB(alpha=0.01)\n",
    "advancedmodel = advancedmodel.fit(tfidf_train, train[\"Label\"])\n",
    "preds = advancedmodel.predict(tfidf_test)\n",
    "acc=accuracy_score(test['Label'], preds)"
   ]
  },
  {
   "cell_type": "code",
   "execution_count": 56,
   "metadata": {},
   "outputs": [
    {
     "data": {
      "text/plain": [
       "0.5132275132275133"
      ]
     },
     "execution_count": 56,
     "metadata": {},
     "output_type": "execute_result"
    }
   ],
   "source": [
    "acc"
   ]
  },
  {
   "cell_type": "code",
   "execution_count": null,
   "metadata": {},
   "outputs": [],
   "source": []
  }
 ],
 "metadata": {
  "kernelspec": {
   "display_name": "Python 3",
   "language": "python",
   "name": "python3"
  },
  "language_info": {
   "codemirror_mode": {
    "name": "ipython",
    "version": 3
   },
   "file_extension": ".py",
   "mimetype": "text/x-python",
   "name": "python",
   "nbconvert_exporter": "python",
   "pygments_lexer": "ipython3",
   "version": "3.7.3"
  }
 },
 "nbformat": 4,
 "nbformat_minor": 2
}
